{
 "cells": [
  {
   "cell_type": "markdown",
   "id": "28bb2b81",
   "metadata": {},
   "source": [
    "# Lughn Algorithm\n",
    "\n",
    "Luhn algorithm is used to verify credit cards. Accordingly, write the code that shows whether a credit card number entered by the user is correct or not.\n",
    "Luhn Algorithm:\n",
    "\n",
    "First, write the 16 digits of a bank card number spaced. Underline the first number first. Then do the same for the other numbers, skipping one. Then multiply all the numbers you underlined by two. For example, our card number\n",
    "\n",
    "Let it be <ins>4</ins> 4 <ins>3</ins> 7 <ins>1</ins> 2 <ins>1</ins> 4 <ins>5</ins> 6 <ins>1</ins> 8 <ins>9</ins> 1 <ins>7</ins> 3. \n",
    "\n",
    "When we get twice the numbers we marked\n",
    "We get 8 6 2 2 10 2 18 14.\n",
    "\n",
    "Now add all the numbers together. What you need to pay attention to at this time is that if your number has two digits, you must add the digits separately. So you should consider 1+8 instead of 18. In this case, our total will be 8 + 6 + 2 + 2 + 1 + 0 + 2 + 1 + 8 + 1 + 4 + 4 + 7 + 2 + 4 + 6 + 8 + 1 + 3= 70. The fact that 70 is divisible by 10 shows that the card is valid and no mistake has been made. If you made a mistake, it would not be possible to divide it completely.\n",
    "\n",
    "American Express cards only have 15 digits. In this case we need to change our calculation slightly. This time, we will first mark the second digit from the left in our card number. We will continue to mark by skipping again. The process continues in the same way. \n",
    "For example, let's say our card number is \n",
    "\n",
    "3 <ins>7</ins> 8 <ins>2</ins> 8 <ins>2</ins> 2 <ins>4</ins> 6 <ins>3</ins> 1 <ins>0</ins> 0 <ins>0</ins> 5.\n",
    "\n",
    "Sum of signed digits: (1 + 4) + 4 + 4 + 8 + 6 + 0 + 0 = 27\n",
    "\n",
    "The sum of the unchecked: 3 + 8 + 8 + 2 + 6 + 1 + 0 + 5 = 33.\n",
    "\n",
    "The sum of 2 sets of numbers is 60, which is also a multiple of 10. This is an indication that we have not made a mistake once again. Let's give one last example. Our example this time includes the Diners Club card. These cards have 14 digits and start with 300 or 305. For example, let's say our number is 3 0 5 6 9 3 0 9 0 2 5 9 0 4. Since the number 14 is even, we will apply the same technique as we did with the 16-digit card. We marked the numbers in a skipping fashion, starting from the beginning. Now we will double these and add all the resulting numbers. If you follow the process, you will reach the number 50, which indicates that the card number you entered is correct.\n",
    "\n",
    "Method:\n",
    "1. Ask the user for their credit card number.\n",
    "\n",
    "2. If the credit card number is 16 digits, visa/master; If it is 15 digits, let American Express verify the card. If a different number is entered, it will give an error.\n",
    "\n",
    "3. The program should produce an output such as \"The credit card you entered is a valid American Express card\" or \"The credit card you entered is invalid.\"\n",
    "\n",
    "4. You can test your program with the card numbers on the following site:\n",
    "https://docs.adyen.com/development-resources/testing/test-card-numbers\n",
    "\n",
    "5. Pay attention to clean code and DRY Don't Repeat Yourself principles in your programming.\n",
    "\n",
    "Good luck! Don't hesitate to get your hands dirty. If you start, you will finish!"
   ]
  },
  {
   "cell_type": "code",
   "execution_count": null,
   "id": "24bedf29",
   "metadata": {},
   "outputs": [],
   "source": []
  }
 ],
 "metadata": {
  "kernelspec": {
   "display_name": "Python 3 (ipykernel)",
   "language": "python",
   "name": "python3"
  },
  "language_info": {
   "codemirror_mode": {
    "name": "ipython",
    "version": 3
   },
   "file_extension": ".py",
   "mimetype": "text/x-python",
   "name": "python",
   "nbconvert_exporter": "python",
   "pygments_lexer": "ipython3",
   "version": "3.11.5"
  },
  "nbTranslate": {
   "displayLangs": [
    "en",
    "tr"
   ],
   "hotkey": "alt-t",
   "langInMainMenu": true,
   "sourceLang": "tr",
   "targetLang": "en",
   "useGoogleTranslate": true
  }
 },
 "nbformat": 4,
 "nbformat_minor": 5
}

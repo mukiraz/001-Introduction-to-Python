{
 "cells": [
  {
   "cell_type": "markdown",
   "id": "partial-cleaner",
   "metadata": {},
   "source": [
    "# Range() Fonksiyonu"
   ]
  },
  {
   "cell_type": "markdown",
   "id": "spiritual-style",
   "metadata": {},
   "source": [
    "Döngüleri işlemeden önce, range() fonksiyonunu tanımak doğru olacaktır."
   ]
  },
  {
   "cell_type": "markdown",
   "id": "compact-moscow",
   "metadata": {},
   "source": [
    "Pythondaki bu hazır fonksiyon bizim verdiğimiz değerlere göre *range* isimli bir yapı oluşturur ve bu yapı listelere oldukça benzer. Bu yapı başlangıç, bitiş ve opsiyonel olarak artırma değeri alarak listelere benzeyen bir sayı dizisi oluşturur."
   ]
  },
  {
   "cell_type": "code",
   "execution_count": 1,
   "id": "colored-mathematics",
   "metadata": {},
   "outputs": [
    {
     "data": {
      "text/plain": [
       "range(0, 10)"
      ]
     },
     "execution_count": 1,
     "metadata": {},
     "output_type": "execute_result"
    }
   ],
   "source": [
    "range(0,10) # 0'dan 10' a kadar (dahil değil) sayı dizisi oluşturur. "
   ]
  },
  {
   "cell_type": "code",
   "execution_count": 2,
   "id": "smart-showcase",
   "metadata": {},
   "outputs": [
    {
     "name": "stdout",
     "output_type": "stream",
     "text": [
      "0 1 2 3 4 5 6 7 8 9\n"
     ]
    }
   ],
   "source": [
    "print(*range(0,10)) # Yazdırmak için başına \"*\" koymamız gerekiyor."
   ]
  },
  {
   "cell_type": "code",
   "execution_count": 4,
   "id": "toxic-amendment",
   "metadata": {},
   "outputs": [
    {
     "name": "stdout",
     "output_type": "stream",
     "text": [
      "[0, 1, 2, 3, 4, 5, 6, 7, 8, 9]\n"
     ]
    }
   ],
   "source": [
    "liste = list(range(0,10)) # list fonksiyonuyla listeye dönüştürebilir.\n",
    "print(liste)"
   ]
  },
  {
   "cell_type": "code",
   "execution_count": 6,
   "id": "novel-exercise",
   "metadata": {},
   "outputs": [
    {
     "name": "stdout",
     "output_type": "stream",
     "text": [
      "5 6 7 8 9\n"
     ]
    }
   ],
   "source": [
    "print(*range(5,10)) #5 ve 10 (dahil değil) arasında ardışık sayı üretelim."
   ]
  },
  {
   "cell_type": "code",
   "execution_count": 7,
   "id": "velvet-option",
   "metadata": {},
   "outputs": [
    {
     "name": "stdout",
     "output_type": "stream",
     "text": [
      "0 1 2 3 4 5 6 7 8 9\n"
     ]
    }
   ],
   "source": [
    "print(*range(10)) # Başlangıç değeri vermediğimiz durumda 0'dan başlar "
   ]
  },
  {
   "cell_type": "code",
   "execution_count": 8,
   "id": "personal-saudi",
   "metadata": {},
   "outputs": [
    {
     "name": "stdout",
     "output_type": "stream",
     "text": [
      "5 7 9 11 13 15 17 19 21 23 25 27 29\n"
     ]
    }
   ],
   "source": [
    "print(*range(5,30,2)) # 5'ten 30'a kadar olan sayıları 2 atlayarak oluşturur."
   ]
  },
  {
   "cell_type": "code",
   "execution_count": 9,
   "id": "guided-convert",
   "metadata": {},
   "outputs": [
    {
     "name": "stdout",
     "output_type": "stream",
     "text": [
      "5 10 15 20 25 30 35 40 45 50 55 60 65 70 75 80 85 90 95\n"
     ]
    }
   ],
   "source": [
    "print(*range(5,100,5)) # 5'ten 100'e kadar olan ve 5 ile bölünebilen sayılar"
   ]
  },
  {
   "cell_type": "code",
   "execution_count": 10,
   "id": "sophisticated-division",
   "metadata": {},
   "outputs": [
    {
     "name": "stdout",
     "output_type": "stream",
     "text": [
      "\n"
     ]
    }
   ],
   "source": [
    "print(*range(20,0)) # 20'den geri gelen sayıları oluşturmaz."
   ]
  },
  {
   "cell_type": "code",
   "execution_count": 11,
   "id": "failing-associate",
   "metadata": {},
   "outputs": [
    {
     "name": "stdout",
     "output_type": "stream",
     "text": [
      "20 19 18 17 16 15 14 13 12 11 10 9 8 7 6 5 4 3 2 1\n"
     ]
    }
   ],
   "source": [
    "print(*range(20,0,-1)) # 20'den geri gelen sayıları oluşturur."
   ]
  },
  {
   "cell_type": "code",
   "execution_count": null,
   "id": "adequate-platform",
   "metadata": {},
   "outputs": [],
   "source": [
    "range()"
   ]
  }
 ],
 "metadata": {
  "kernelspec": {
   "display_name": "Python 3 (ipykernel)",
   "language": "python",
   "name": "python3"
  },
  "language_info": {
   "codemirror_mode": {
    "name": "ipython",
    "version": 3
   },
   "file_extension": ".py",
   "mimetype": "text/x-python",
   "name": "python",
   "nbconvert_exporter": "python",
   "pygments_lexer": "ipython3",
   "version": "3.11.4"
  }
 },
 "nbformat": 4,
 "nbformat_minor": 5
}

{
 "cells": [
  {
   "cell_type": "markdown",
   "id": "f0cdee78",
   "metadata": {
    "lang": "en"
   },
   "source": [
    "# Input Function\n",
    "\n",
    "In this section, we will learn the *input()* function, which allows us to receive data input from the user.\n",
    "\n",
    "\n",
    "### input() Function\n",
    "\n",
    "When we want the user to input information while our program is running, we can use the *input()* function. This function will allow our program to work interactively with the user."
   ]
  },
  {
   "cell_type": "code",
   "execution_count": 1,
   "id": "a64abda0",
   "metadata": {},
   "outputs": [
    {
     "name": "stdout",
     "output_type": "stream",
     "text": [
      "value\n"
     ]
    },
    {
     "data": {
      "text/plain": [
       "'value'"
      ]
     },
     "execution_count": 1,
     "metadata": {},
     "output_type": "execute_result"
    }
   ],
   "source": [
    "input()"
   ]
  },
  {
   "cell_type": "markdown",
   "id": "22a95dc2",
   "metadata": {
    "lang": "en"
   },
   "source": [
    "#### Assigning the Value Received from the User to the Variable\n",
    "\n",
    "The information entered by the user can be assigned to a variable and used within the program. For this;"
   ]
  },
  {
   "cell_type": "code",
   "execution_count": 23,
   "id": "304911c0",
   "metadata": {},
   "outputs": [
    {
     "name": "stdout",
     "output_type": "stream",
     "text": [
      "Hello World\n"
     ]
    }
   ],
   "source": [
    "a = input()"
   ]
  },
  {
   "cell_type": "code",
   "execution_count": 10,
   "id": "b29fbe39",
   "metadata": {},
   "outputs": [
    {
     "data": {
      "text/plain": [
       "str"
      ]
     },
     "execution_count": 10,
     "metadata": {},
     "output_type": "execute_result"
    }
   ],
   "source": [
    "type(a)"
   ]
  },
  {
   "cell_type": "markdown",
   "id": "f6125672",
   "metadata": {
    "lang": "en"
   },
   "source": [
    "We assigned the *Hello World* information entered by the user above to the *a* variable. When the type of the *a* variable is checked, it is seen that it is *string*.\n",
    "\n",
    "Let's try printing to the screen using the *print()* function;"
   ]
  },
  {
   "cell_type": "code",
   "execution_count": 9,
   "id": "ef70e8cf",
   "metadata": {},
   "outputs": [
    {
     "name": "stdout",
     "output_type": "stream",
     "text": [
      "Hello World\n"
     ]
    }
   ],
   "source": [
    "print(a)"
   ]
  },
  {
   "cell_type": "markdown",
   "id": "0ee6dcfd",
   "metadata": {
    "lang": "en"
   },
   "source": [
    "#### Printing Data to the Screen with *input()*\n",
    "\n",
    "We may want to show a description to the user when asking him to enter data. We do not need to use additional *print()* for this process. We can do this in the *input()* function."
   ]
  },
  {
   "cell_type": "code",
   "execution_count": 11,
   "id": "1d629163",
   "metadata": {},
   "outputs": [
    {
     "name": "stdout",
     "output_type": "stream",
     "text": [
      "Lütfen Firma İsmini Giriniz: ACME\n"
     ]
    }
   ],
   "source": [
    "company = input('Lütfen Firma İsmini Giriniz: ')"
   ]
  },
  {
   "cell_type": "code",
   "execution_count": 12,
   "id": "57ca0727",
   "metadata": {},
   "outputs": [
    {
     "name": "stdout",
     "output_type": "stream",
     "text": [
      "ACME\n"
     ]
    }
   ],
   "source": [
    "print(company)"
   ]
  },
  {
   "cell_type": "markdown",
   "id": "6a4a12fa",
   "metadata": {
    "lang": "en"
   },
   "source": [
    "#### Mathematical Operations with *input()*\n",
    "\n",
    "The data received from the user via the *input()* function will be of *string* data type. If mathematical operations are to be performed, this situation must be taken into consideration."
   ]
  },
  {
   "cell_type": "code",
   "execution_count": 6,
   "id": "0420f645",
   "metadata": {
    "lang": "tr"
   },
   "outputs": [
    {
     "name": "stdout",
     "output_type": "stream",
     "text": [
      "Please Enter the Glass Unit Price: 55\n"
     ]
    }
   ],
   "source": [
    "glass_price = input('Please Enter the Glass Unit Price: ')"
   ]
  },
  {
   "cell_type": "code",
   "execution_count": 7,
   "id": "ce719ed9",
   "metadata": {},
   "outputs": [
    {
     "data": {
      "text/plain": [
       "str"
      ]
     },
     "execution_count": 7,
     "metadata": {},
     "output_type": "execute_result"
    }
   ],
   "source": [
    "type(glass_price)"
   ]
  },
  {
   "cell_type": "code",
   "execution_count": 13,
   "id": "05c54da3",
   "metadata": {},
   "outputs": [
    {
     "name": "stdout",
     "output_type": "stream",
     "text": [
      "\n",
      "Total price:\n",
      "                 55 $\n",
      "\n",
      "\n"
     ]
    }
   ],
   "source": [
    "total_price = int(glass_price)\n",
    "\n",
    "bill_text = \"\"\"\n",
    "Total price:\n",
    "                 {0} $\n",
    "\n",
    "\"\"\"\n",
    "\n",
    "print(bill_text.format(total_price))"
   ]
  },
  {
   "cell_type": "markdown",
   "id": "81f210c7",
   "metadata": {
    "lang": "en"
   },
   "source": [
    "Let's do another example;"
   ]
  },
  {
   "cell_type": "code",
   "execution_count": 14,
   "id": "8c37950c",
   "metadata": {
    "lang": "tr",
    "scrolled": true
   },
   "outputs": [
    {
     "name": "stdout",
     "output_type": "stream",
     "text": [
      "Enter the amount you want to upload: 25\n"
     ]
    }
   ],
   "source": [
    "current_wallet = 1.5\n",
    "cash_amount = input(\"Enter the amount you want to upload: \")\n",
    "\n",
    "current_wallet = current_wallet + int(cash_amount)"
   ]
  },
  {
   "cell_type": "markdown",
   "id": "91f0ff7a",
   "metadata": {
    "lang": "en"
   },
   "source": [
    "*22.5* was entered as the user login. This is a *float* value. We made a mistake in the conversion. We edit our code;"
   ]
  },
  {
   "cell_type": "code",
   "execution_count": 15,
   "id": "dfd971a9",
   "metadata": {},
   "outputs": [
    {
     "name": "stdout",
     "output_type": "stream",
     "text": [
      "Yüklemek istediğiniz tutarı giriniz: 22.5\n",
      "\n",
      "Güncel Bakiyeniz:\n",
      "                 24.0 EU\n",
      "\n",
      "\n"
     ]
    }
   ],
   "source": [
    "current_wallet = 1.5\n",
    "cash_amount = input(\"Yüklemek istediğiniz tutarı giriniz: \")\n",
    "\n",
    "current_wallet += float(cash_amount)\n",
    "\n",
    "bill_text = \"\"\"\n",
    "Güncel Bakiyeniz:\n",
    "                 {0} EU\n",
    "\n",
    "\"\"\"\n",
    "\n",
    "\n",
    "print(bill_text.format(current_wallet))"
   ]
  },
  {
   "cell_type": "code",
   "execution_count": null,
   "id": "53dd86b6",
   "metadata": {},
   "outputs": [],
   "source": []
  }
 ],
 "metadata": {
  "kernelspec": {
   "display_name": "Python 3 (ipykernel)",
   "language": "python",
   "name": "python3"
  },
  "language_info": {
   "codemirror_mode": {
    "name": "ipython",
    "version": 3
   },
   "file_extension": ".py",
   "mimetype": "text/x-python",
   "name": "python",
   "nbconvert_exporter": "python",
   "pygments_lexer": "ipython3",
   "version": "3.11.4"
  },
  "nbTranslate": {
   "displayLangs": [
    "*"
   ],
   "hotkey": "alt-t",
   "langInMainMenu": true,
   "sourceLang": "tr",
   "targetLang": "en",
   "useGoogleTranslate": true
  }
 },
 "nbformat": 4,
 "nbformat_minor": 5
}

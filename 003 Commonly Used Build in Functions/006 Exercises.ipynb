{
 "cells": [
  {
   "cell_type": "markdown",
   "id": "629109d9",
   "metadata": {},
   "source": [
    "# Exercises"
   ]
  },
  {
   "cell_type": "markdown",
   "id": "52a6a991",
   "metadata": {},
   "source": [
    "## Exercise - 1\n",
    "Modify the first line of code in the editor, using the sep and end keywords, to match the expected output. Use the two print() functions in the editor.\n",
    "\n",
    "Don't change anything in the second print() invocation.\n",
    "Expected output:"
   ]
  },
  {
   "cell_type": "raw",
   "id": "06e13007",
   "metadata": {},
   "source": [
    "Programming***Essentials***in...Python"
   ]
  },
  {
   "cell_type": "code",
   "execution_count": null,
   "id": "e19f17e0",
   "metadata": {},
   "outputs": [],
   "source": [
    "print(\"Programming\",\"Essentials\",\"in\")\n",
    "print(\"Python\")"
   ]
  },
  {
   "cell_type": "markdown",
   "id": "021231d3",
   "metadata": {},
   "source": [
    "## Exercise - 2\n",
    "\n",
    "* Minimize the number of print() function invocations by inserting the \\n sequence into the strings\n",
    "* Make the arrow twice as large (but keep the proportions)\n",
    "* Duplicate the arrow, placing both arrows side by side; note: a string may be multiplied by using the following trick: \"string\" * 2 will produce \"stringstring\" (we'll tell you more about it soon)\n",
    "* Remove any of the quotes, and look carefully at Python's response; pay attention to where Python sees an error - is this the place where the error really exists?\n",
    "* Do the same with some of the parentheses;\n",
    "* Change any of the print words into something else, differing only in case (e.g., Print) - what happens now?\n",
    "* Replace some of the quotes with apostrophes; watch what happens carefully."
   ]
  },
  {
   "cell_type": "code",
   "execution_count": null,
   "id": "d200c323",
   "metadata": {},
   "outputs": [],
   "source": [
    "print(\"    *\")\n",
    "print(\"   * *\")\n",
    "print(\"  *   *\")\n",
    "print(\" *     *\")\n",
    "print(\"***   ***\")\n",
    "print(\"  *   *\")\n",
    "print(\"  *   *\")\n",
    "print(\"  *****\")"
   ]
  }
 ],
 "metadata": {
  "kernelspec": {
   "display_name": "Python 3 (ipykernel)",
   "language": "python",
   "name": "python3"
  },
  "language_info": {
   "codemirror_mode": {
    "name": "ipython",
    "version": 3
   },
   "file_extension": ".py",
   "mimetype": "text/x-python",
   "name": "python",
   "nbconvert_exporter": "python",
   "pygments_lexer": "ipython3",
   "version": "3.11.5"
  },
  "nbTranslate": {
   "displayLangs": [
    "en",
    "tr"
   ],
   "hotkey": "alt-t",
   "langInMainMenu": true,
   "sourceLang": "tr",
   "targetLang": "en",
   "useGoogleTranslate": true
  }
 },
 "nbformat": 4,
 "nbformat_minor": 5
}

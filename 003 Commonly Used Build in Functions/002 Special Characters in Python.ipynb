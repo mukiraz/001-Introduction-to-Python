{
 "cells": [
  {
   "cell_type": "markdown",
   "id": "b30d367f",
   "metadata": {},
   "source": [
    "# Special characters in Python"
   ]
  },
  {
   "cell_type": "markdown",
   "id": "7b0853a3",
   "metadata": {},
   "source": [
    "Special characters in Python are characters that have a special meaning to the Python interpreter. They are used to control the flow of a program, to represent different types of data, and to perform other special tasks.\n",
    "\n",
    "Some common special characters in Python include:\n",
    "\n",
    "* **Newline character (`\\n`):** The newline character starts a new line in the output.\n",
    "* **Tab character (`\\t`):** The tab character creates a tab in the output.\n",
    "* **Carriage return character (`\\r`):** The carriage return character moves the cursor to the beginning of the current line.\n",
    "* **Backspace character (`\\b`):** The backspace character deletes the previous character.\n",
    "* **Single quote (`'`) and double quote (`\"`):** Single and double quotes are used to enclose strings.\n",
    "* **Backslash (`\\`)**: The backslash character is used to escape special characters. For example, to print a newline character, you would use the sequence `\\n`.\n",
    "\n",
    "In addition to these common special characters, there are many other special characters that can be used in Python. For a complete list of special characters, please see the Python documentation.\n",
    "\n",
    "Here are some examples of how to use special characters in Python:"
   ]
  },
  {
   "cell_type": "code",
   "execution_count": 4,
   "id": "d030fec0",
   "metadata": {},
   "outputs": [
    {
     "name": "stdout",
     "output_type": "stream",
     "text": [
      "Hello, world!\n",
      "\n",
      "apple\n",
      "banana\n",
      "orange\n",
      "Hello\tworld!\n",
      "This is a string with an escaped newline: \n",
      "\n",
      "This is a raw string \\n\n"
     ]
    }
   ],
   "source": [
    "# Print a string to the console on a new line\n",
    "print(\"Hello, world!\\n\")\n",
    "\n",
    "# Print a list of items to the console, with each item on a new line\n",
    "items = [\"apple\", \"banana\", \"orange\"]\n",
    "for item in items:\n",
    "    print(item)\n",
    "\n",
    "# Create a string that contains a tab character\n",
    "my_string = \"Hello\\tworld!\"\n",
    "\n",
    "# Print the string to the console\n",
    "print(my_string)\n",
    "\n",
    "# Escape a special character\n",
    "print(\"This is a string with an escaped newline: \\n\")\n",
    "\n",
    "# Print a raw string\n",
    "print(r\"This is a raw string \\n\")"
   ]
  },
  {
   "cell_type": "markdown",
   "id": "a4d881f5",
   "metadata": {},
   "source": [
    "Raw strings are strings that are not interpreted by the Python interpreter. This means that special characters in raw strings will not be escaped.\n",
    "\n",
    "Special characters are a powerful tool that can be used to control the flow of a program, to represent different types of data, and to perform other special tasks. It is a good idea to learn how to use special characters effectively, as it will make your code more readable and maintainable."
   ]
  },
  {
   "cell_type": "code",
   "execution_count": null,
   "id": "2036e6f9",
   "metadata": {},
   "outputs": [],
   "source": []
  }
 ],
 "metadata": {
  "kernelspec": {
   "display_name": "Python 3 (ipykernel)",
   "language": "python",
   "name": "python3"
  },
  "language_info": {
   "codemirror_mode": {
    "name": "ipython",
    "version": 3
   },
   "file_extension": ".py",
   "mimetype": "text/x-python",
   "name": "python",
   "nbconvert_exporter": "python",
   "pygments_lexer": "ipython3",
   "version": "3.11.4"
  },
  "nbTranslate": {
   "displayLangs": [
    "tr"
   ],
   "hotkey": "alt-t",
   "langInMainMenu": true,
   "sourceLang": "en",
   "targetLang": "tr",
   "useGoogleTranslate": true
  }
 },
 "nbformat": 4,
 "nbformat_minor": 5
}

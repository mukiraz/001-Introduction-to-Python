{
 "cells": [
  {
   "cell_type": "markdown",
   "id": "86b37acf",
   "metadata": {},
   "source": [
    "# Print Function"
   ]
  },
  {
   "cell_type": "markdown",
   "id": "8aee0b03",
   "metadata": {},
   "source": [
    "In this section, we will learn the print() function and formatting methods we use to print data types on the screen."
   ]
  },
  {
   "cell_type": "markdown",
   "id": "9210a712",
   "metadata": {},
   "source": [
    "The print() function in Python is a built-in function that prints its arguments to the standard output device (usually the console). The print() function can take any number of arguments, and they will be printed to the standard output device in the order that they are passed to the function.\n",
    "\n",
    "To use the print() function, simply call the function with the arguments that you want to print. For example, the following code will print the string \"Hello, world!\" to the console:"
   ]
  },
  {
   "cell_type": "code",
   "execution_count": 1,
   "id": "8f5c6ff9",
   "metadata": {},
   "outputs": [
    {
     "name": "stdout",
     "output_type": "stream",
     "text": [
      "Hello, world!\n"
     ]
    }
   ],
   "source": [
    "print(\"Hello, world!\")"
   ]
  },
  {
   "cell_type": "code",
   "execution_count": 3,
   "id": "22dcc43a",
   "metadata": {},
   "outputs": [
    {
     "name": "stdout",
     "output_type": "stream",
     "text": [
      "45\n"
     ]
    }
   ],
   "source": [
    "print(45) # integer - tam sayı"
   ]
  },
  {
   "cell_type": "code",
   "execution_count": 4,
   "id": "5bf8dc7e",
   "metadata": {},
   "outputs": [
    {
     "name": "stdout",
     "output_type": "stream",
     "text": [
      "3.14\n"
     ]
    }
   ],
   "source": [
    "print(3.14) # float ondalıklı sayı"
   ]
  },
  {
   "cell_type": "markdown",
   "id": "3b51acf7",
   "metadata": {},
   "source": [
    "You can also use the print() function to print variables. For example, the following code will print the value of the variable name to the console:"
   ]
  },
  {
   "cell_type": "code",
   "execution_count": 5,
   "id": "1754a57b",
   "metadata": {},
   "outputs": [
    {
     "name": "stdout",
     "output_type": "stream",
     "text": [
      "19\n"
     ]
    }
   ],
   "source": [
    "a = 4\n",
    "b = 15\n",
    "print(a+b)"
   ]
  },
  {
   "cell_type": "code",
   "execution_count": 6,
   "id": "5d56f0ad",
   "metadata": {},
   "outputs": [
    {
     "name": "stdout",
     "output_type": "stream",
     "text": [
      "Murat\n"
     ]
    }
   ],
   "source": [
    "name = \"Murat\"\n",
    "\n",
    "print(name)"
   ]
  },
  {
   "cell_type": "markdown",
   "id": "62b9482f",
   "metadata": {},
   "source": [
    "You can also use the print() function to print multiple values on the same line. To do this, simply separate the values with commas. For example, the following code will print the strings \"Murat\", \"Ugur\" and \"KIRAZ\" to the console on the same line:"
   ]
  },
  {
   "cell_type": "code",
   "execution_count": 7,
   "id": "ac4ba161",
   "metadata": {},
   "outputs": [
    {
     "name": "stdout",
     "output_type": "stream",
     "text": [
      "Murat Uğur KİRAZ\n"
     ]
    }
   ],
   "source": [
    "print(\"Murat\",\"Uğur\",\"KİRAZ\")"
   ]
  },
  {
   "cell_type": "code",
   "execution_count": 8,
   "id": "41e1a84c",
   "metadata": {},
   "outputs": [
    {
     "name": "stdout",
     "output_type": "stream",
     "text": [
      "Murat 12 545 66767 3.56\n"
     ]
    }
   ],
   "source": [
    "print(\"Murat\",12,545,66767,3.56)"
   ]
  },
  {
   "cell_type": "markdown",
   "id": "d1d6d6e0",
   "metadata": {},
   "source": [
    "You can also use the print() function to print multiple values on separate lines. To do this, simply end each line with a newline character (\\n). For example, the following code will print the strings \"Hello, world!\" and \"I am Murat.\" to the console on separate lines:"
   ]
  },
  {
   "cell_type": "code",
   "execution_count": 11,
   "id": "77ff5bf0",
   "metadata": {},
   "outputs": [
    {
     "name": "stdout",
     "output_type": "stream",
     "text": [
      "Hello, world!\n",
      "I am Murat.\n"
     ]
    }
   ],
   "source": [
    "print(\"Hello, world!\")\n",
    "print(\"I am Murat.\")"
   ]
  },
  {
   "cell_type": "markdown",
   "id": "a9b40111",
   "metadata": {},
   "source": [
    "The print() function is a very powerful tool for printing output to the console in Python. It can be used to print simple or complex output, and it is very easy to use.\n",
    "\n",
    "Here are some additional examples of how to use the print() function:"
   ]
  },
  {
   "cell_type": "code",
   "execution_count": 13,
   "id": "ea6ccce9",
   "metadata": {},
   "outputs": [
    {
     "name": "stdout",
     "output_type": "stream",
     "text": [
      "Hello, Murat! You are 20 years old.\n",
      "[1, 2, 3, 4, 5]\n",
      "{'name': 'Murat', 'age': 20}\n",
      "\n"
     ]
    }
   ],
   "source": [
    "# Print a formatted string\n",
    "print(\"Hello, {}! You are {} years old.\".format(\"Murat\", 20))\n",
    "\n",
    "# Print a list\n",
    "print([1, 2, 3, 4, 5])\n",
    "\n",
    "# Print a dictionary\n",
    "print({\"name\": \"Murat\", \"age\": 20})\n",
    "\n",
    "# Print a newline character\n",
    "print()"
   ]
  },
  {
   "cell_type": "markdown",
   "id": "d78c4ce8",
   "metadata": {},
   "source": [
    "The print() function is a very versatile tool for printing output to the console in Python. It can be used to print simple or complex output, and it is very easy to use."
   ]
  },
  {
   "cell_type": "markdown",
   "id": "482731bf",
   "metadata": {},
   "source": [
    "## Parameters of print Function in Python"
   ]
  },
  {
   "cell_type": "markdown",
   "id": "548b8da4",
   "metadata": {},
   "source": [
    "The **help()** function in Python is a built-in function that provides help documentation for Python objects. It can be used to get help on modules, functions, classes, methods, keywords, and other Python objects.\n",
    "\n",
    "Let's see **print()** function with **help()** function."
   ]
  },
  {
   "cell_type": "code",
   "execution_count": 14,
   "id": "ef1a1c0e",
   "metadata": {},
   "outputs": [
    {
     "name": "stdout",
     "output_type": "stream",
     "text": [
      "Help on built-in function print in module builtins:\n",
      "\n",
      "print(*args, sep=' ', end='\\n', file=None, flush=False)\n",
      "    Prints the values to a stream, or to sys.stdout by default.\n",
      "    \n",
      "    sep\n",
      "      string inserted between values, default a space.\n",
      "    end\n",
      "      string appended after the last value, default a newline.\n",
      "    file\n",
      "      a file-like object (stream); defaults to the current sys.stdout.\n",
      "    flush\n",
      "      whether to forcibly flush the stream.\n",
      "\n"
     ]
    }
   ],
   "source": [
    "help(print)"
   ]
  },
  {
   "cell_type": "markdown",
   "id": "1d48ae7a",
   "metadata": {},
   "source": [
    "We will see more details about **parameters** in a function."
   ]
  },
  {
   "cell_type": "markdown",
   "id": "ec316467",
   "metadata": {},
   "source": [
    "The print() function in Python has the following parameters:\n",
    "\n",
    "- **args:** Any object or objects to be printed. Will be converted to string before printed.\n",
    "- **sep:** The separator between multiple printed objects. Default is ' ' (space).\n",
    "- **end:** The character or string printed at the end after the object. Default is '\\n' (newline character).\n",
    "- **file:** Specifies the file where the output goes. By default, sys.stdout will be used which prints objects on the screen.\n",
    "- **flush:** Controls whether or not the stream is flushed immediately. If True, the stream will be flushed immediately. If False, the stream will be flushed later."
   ]
  },
  {
   "cell_type": "markdown",
   "id": "91a00754",
   "metadata": {},
   "source": [
    "### *args parameter"
   ]
  },
  {
   "cell_type": "markdown",
   "id": "409d635b",
   "metadata": {},
   "source": [
    "The args parameter, or *arguments* parameter can be any object or objects that you want to print. *args is a special notation in python. It means that you can set multiple values by using comma between them. The objects will be converted to strings before they are printed."
   ]
  },
  {
   "cell_type": "code",
   "execution_count": 15,
   "id": "17244207",
   "metadata": {},
   "outputs": [
    {
     "name": "stdout",
     "output_type": "stream",
     "text": [
      "3 4 5 6 7 8 9\n"
     ]
    }
   ],
   "source": [
    "print(3,4,5,6,7,8,9)"
   ]
  },
  {
   "cell_type": "code",
   "execution_count": 16,
   "id": "b905c3b7",
   "metadata": {},
   "outputs": [
    {
     "name": "stdout",
     "output_type": "stream",
     "text": [
      "3 4 5 6 7\n"
     ]
    }
   ],
   "source": [
    "print(3,4,5,6,7)"
   ]
  },
  {
   "cell_type": "markdown",
   "id": "47e5833c",
   "metadata": {},
   "source": [
    "### sep parameter"
   ]
  },
  {
   "cell_type": "markdown",
   "id": "52d23540",
   "metadata": {},
   "source": [
    "The sep parameter specifies the separator between multiple printed objects. By default, the separator is a space character (' '). "
   ]
  },
  {
   "cell_type": "code",
   "execution_count": 17,
   "id": "4c64729a",
   "metadata": {},
   "outputs": [
    {
     "name": "stdout",
     "output_type": "stream",
     "text": [
      "3;4;5;6;7;8;9\n"
     ]
    }
   ],
   "source": [
    "print(3,4,5,6,7,8,9, sep=\";\")"
   ]
  },
  {
   "cell_type": "code",
   "execution_count": 18,
   "id": "caae7f48",
   "metadata": {},
   "outputs": [
    {
     "name": "stdout",
     "output_type": "stream",
     "text": [
      "3-4-5-6-7-8-9\n"
     ]
    }
   ],
   "source": [
    "print(3,4,5,6,7,8,9, sep=\"-\")"
   ]
  },
  {
   "cell_type": "code",
   "execution_count": 19,
   "id": "ec84a928",
   "metadata": {},
   "outputs": [
    {
     "name": "stdout",
     "output_type": "stream",
     "text": [
      "3,4,5,6,7,8,9\n"
     ]
    }
   ],
   "source": [
    "print(3,4,5,6,7,8,9, sep=\",\")"
   ]
  },
  {
   "cell_type": "code",
   "execution_count": 21,
   "id": "ad68eba7",
   "metadata": {},
   "outputs": [
    {
     "name": "stdout",
     "output_type": "stream",
     "text": [
      "3\n",
      "4\n",
      "5\n",
      "6\n",
      "7\n",
      "8\n",
      "9\n"
     ]
    }
   ],
   "source": [
    "print(3,4,5,6,7,8,9, sep=\"\\n\")"
   ]
  },
  {
   "cell_type": "markdown",
   "id": "0ef05fa8",
   "metadata": {},
   "source": [
    "### end parameter\n",
    "\n",
    "The end parameter specifies the character or string that is printed at the end after the object. By default, the end parameter is a newline character ('\\n').\n",
    "\n",
    "The \\n character in Python is a newline character. It is used to start a new line in the output."
   ]
  },
  {
   "cell_type": "code",
   "execution_count": 24,
   "id": "5d66c575",
   "metadata": {},
   "outputs": [
    {
     "name": "stdout",
     "output_type": "stream",
     "text": [
      "Hello world\n",
      "Hello world\n",
      "Hello world,Hello worldHello world..."
     ]
    }
   ],
   "source": [
    "print(\"Hello world\")\n",
    "print(\"Hello world\", end=\"\\n\") # This is the defauld value indeed. Makes the same thing with the code above\n",
    "print(\"Hello world\", end=\",\") # Because we override the \\n (new line) character, after this part each print func. will be in the same line\n",
    "print(\"Hello world\", end=\"\")\n",
    "print(\"Hello world\", end=\"...\")"
   ]
  },
  {
   "cell_type": "markdown",
   "id": "47158665",
   "metadata": {},
   "source": [
    "### file parameter"
   ]
  },
  {
   "cell_type": "markdown",
   "id": "0fabba29",
   "metadata": {},
   "source": [
    "The file parameter specifies the file where the output goes. By default, the file parameter is sys.stdout, which prints the output to the console. For example, the following code will print the string \"Hello, world!\" to the file output.txt:"
   ]
  },
  {
   "cell_type": "code",
   "execution_count": 25,
   "id": "2f958608",
   "metadata": {},
   "outputs": [],
   "source": [
    "with open(\"output.txt\", \"w\") as f:\n",
    "    print(\"Hello, world!\", file=f)"
   ]
  },
  {
   "cell_type": "markdown",
   "id": "7458d649",
   "metadata": {},
   "source": [
    "### flush parameter"
   ]
  },
  {
   "cell_type": "markdown",
   "id": "894c3092",
   "metadata": {},
   "source": [
    "The flush parameter controls whether or not the stream is flushed immediately. If True, the stream will be flushed immediately. If False, the stream will be flushed later. By default, the flush parameter is False.\n",
    "\n",
    "Flushing the stream immediately means that the output will be written to the file or console immediately. This can be useful if you need to make sure that the output is written to the file or console before you continue executing your code.\n",
    "\n",
    "For example, the following code will print the string \"Hello, world!\" to the file output.txt and flush the stream immediately:"
   ]
  },
  {
   "cell_type": "code",
   "execution_count": 26,
   "id": "b9644a7b",
   "metadata": {},
   "outputs": [],
   "source": [
    "with open(\"output.txt\", \"w\") as f:\n",
    "    print(\"Hello, world!\", file=f, flush=True)"
   ]
  },
  {
   "cell_type": "markdown",
   "id": "ac6297d1",
   "metadata": {},
   "source": [
    "### Using Star (*) in print function"
   ]
  },
  {
   "cell_type": "markdown",
   "id": "b20c084f",
   "metadata": {},
   "source": [
    "If we put a * sign at the beginning of a string and send it to the print function, it will be divided into string characters and each character will be treated as a separate string and printed on the screen."
   ]
  },
  {
   "cell_type": "code",
   "execution_count": 27,
   "id": "6e168218",
   "metadata": {},
   "outputs": [
    {
     "name": "stdout",
     "output_type": "stream",
     "text": [
      "P y t h o n\n"
     ]
    }
   ],
   "source": [
    "print(*\"Python\")"
   ]
  },
  {
   "cell_type": "code",
   "execution_count": 28,
   "id": "4596f3b6",
   "metadata": {},
   "outputs": [
    {
     "name": "stdout",
     "output_type": "stream",
     "text": [
      "P\n",
      "y\n",
      "t\n",
      "h\n",
      "o\n",
      "n\n"
     ]
    }
   ],
   "source": [
    "print(*\"Python\",sep = \"\\n\")"
   ]
  },
  {
   "cell_type": "code",
   "execution_count": 29,
   "id": "88cbcc9d",
   "metadata": {},
   "outputs": [
    {
     "name": "stdout",
     "output_type": "stream",
     "text": [
      "1 2 3\n"
     ]
    }
   ],
   "source": [
    "print(*[1,2,3])"
   ]
  },
  {
   "cell_type": "code",
   "execution_count": 30,
   "id": "7b6991eb",
   "metadata": {},
   "outputs": [
    {
     "name": "stdout",
     "output_type": "stream",
     "text": [
      "0 1 2 3 4\n"
     ]
    }
   ],
   "source": [
    "print(*range(5))"
   ]
  }
 ],
 "metadata": {
  "kernelspec": {
   "display_name": "Python 3 (ipykernel)",
   "language": "python",
   "name": "python3"
  },
  "language_info": {
   "codemirror_mode": {
    "name": "ipython",
    "version": 3
   },
   "file_extension": ".py",
   "mimetype": "text/x-python",
   "name": "python",
   "nbconvert_exporter": "python",
   "pygments_lexer": "ipython3",
   "version": "3.11.4"
  },
  "nbTranslate": {
   "displayLangs": [
    "*"
   ],
   "hotkey": "alt-t",
   "langInMainMenu": true,
   "sourceLang": "en",
   "targetLang": "fr",
   "useGoogleTranslate": true
  }
 },
 "nbformat": 4,
 "nbformat_minor": 5
}

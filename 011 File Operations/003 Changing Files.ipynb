{
 "cells": [
  {
   "cell_type": "markdown",
   "id": "6fc37f44",
   "metadata": {
    "lang": "en"
   },
   "source": [
    "# Making Changes to Files"
   ]
  },
  {
   "cell_type": "markdown",
   "id": "671ebf97",
   "metadata": {
    "lang": "en"
   },
   "source": [
    "### seek() and write()\n",
    "\n",
    "If we go to a certain place in a file with the seek() function and use the write() function, the values ​​we write will overwrite the previous values. For this, we will use the \"r+\" mode, which allows us to do both reading and writing. First, let's see the information in our file."
   ]
  },
  {
   "cell_type": "code",
   "execution_count": 1,
   "id": "underlying-immune",
   "metadata": {},
   "outputs": [
    {
     "name": "stdout",
     "output_type": "stream",
     "text": [
      "Murat Uğur KİRAZ\n",
      "Mehmet ÇALIŞKAN\n",
      "Murat Uğur KİRAZ\n",
      "Mehmet ÇALIŞKAN\n",
      "\n"
     ]
    }
   ],
   "source": [
    "with open(\"file.txt\",\"r+\",encoding = \"utf-8\") as file:\n",
    "    print(file.read())"
   ]
  },
  {
   "cell_type": "code",
   "execution_count": 2,
   "id": "equivalent-bicycle",
   "metadata": {},
   "outputs": [],
   "source": [
    "with open(\"file.txt\",\"r+\",encoding = \"utf-8\") as file: \n",
    "    file.seek(10) # 10. byte\n",
    "    file.write(\"Deneme\")"
   ]
  },
  {
   "cell_type": "code",
   "execution_count": 3,
   "id": "norwegian-morning",
   "metadata": {},
   "outputs": [
    {
     "name": "stdout",
     "output_type": "stream",
     "text": [
      "Murat UğuDenemeAZ\n",
      "Mehmet ÇALIŞKAN\n",
      "Murat Uğur KİRAZ\n",
      "Mehmet ÇALIŞKAN\n",
      "\n"
     ]
    }
   ],
   "source": [
    "with open(\"file.txt\",\"r+\",encoding = \"utf-8\") as file:\n",
    "    print(file.read())"
   ]
  },
  {
   "cell_type": "markdown",
   "id": "958d5641",
   "metadata": {
    "lang": "en"
   },
   "source": [
    "### Making Changes at the End of the File\n",
    "\n",
    "Let's start with the easiest of these processes. To make changes at the end of the files, let's open our file with \"a\" mode and add only the end of the file with write()."
   ]
  },
  {
   "cell_type": "code",
   "execution_count": 4,
   "id": "strange-scenario",
   "metadata": {},
   "outputs": [],
   "source": [
    "with open(\"file.txt\",\"a\",encoding = \"utf-8\") as file:\n",
    "    file.write(\"Ahmet Mümtaz TAYLAN\\n\") "
   ]
  },
  {
   "cell_type": "code",
   "execution_count": 8,
   "id": "frozen-evans",
   "metadata": {
    "scrolled": true
   },
   "outputs": [
    {
     "name": "stdout",
     "output_type": "stream",
     "text": [
      "Murat UğuDenemeAZ\n",
      "Mehmet ÇALIŞKAN\n",
      "Murat Uğur KİRAZ\n",
      "Mehmet ÇALIŞKAN\n",
      "Ahmet Mümtaz TAYLAN\n",
      "Mert Erarslan\n",
      "ALi ATAY\n",
      "\n"
     ]
    }
   ],
   "source": [
    "with open(\"file.txt\",\"r\",encoding = \"utf-8\") as file:\n",
    "    print(file.read())"
   ]
  },
  {
   "cell_type": "code",
   "execution_count": 9,
   "id": "compressed-trial",
   "metadata": {},
   "outputs": [
    {
     "name": "stdout",
     "output_type": "stream",
     "text": [
      "Murat UğuDenemeAZ\n",
      "Mehmet ÇALIŞKAN\n",
      "Murat Uğur KİRAZ\n",
      "Mehmet ÇALIŞKAN\n",
      "Ahmet Mümtaz TAYLAN\n",
      "Mert Erarslan\n",
      "ALi ATAY\n",
      "ALi ATAY\n",
      "\n"
     ]
    }
   ],
   "source": [
    "with open(\"file.txt\",\"a\",encoding = \"utf-8\") as file:\n",
    "    file.write(\"ALi ATAY\\n\") \n",
    "\n",
    "with open(\"file.txt\",\"r\",encoding = \"utf-8\") as file:\n",
    "    print(file.read())"
   ]
  },
  {
   "cell_type": "code",
   "execution_count": 10,
   "id": "willing-ratio",
   "metadata": {},
   "outputs": [],
   "source": [
    "file.close()"
   ]
  },
  {
   "cell_type": "markdown",
   "id": "07b62e5d",
   "metadata": {
    "lang": "en"
   },
   "source": [
    "### Making Changes at the Beginning of the File\n",
    "\n",
    "What can we do to add a line to the beginning of our \"bilgiler.txt\" file? To do this, we need to take our entire file as a string and then add our line to the beginning of the string. Then, we can use the write() function directly by going to the beginning of the file with the **seek()** function. Let's do it now."
   ]
  },
  {
   "cell_type": "code",
   "execution_count": 11,
   "id": "married-clause",
   "metadata": {
    "scrolled": true
   },
   "outputs": [
    {
     "name": "stdout",
     "output_type": "stream",
     "text": [
      "Murat UğuDenemeAZ\n",
      "Mehmet ÇALIŞKAN\n",
      "Murat Uğur KİRAZ\n",
      "Mehmet ÇALIŞKAN\n",
      "Ahmet Mümtaz TAYLAN\n",
      "Mert Erarslan\n",
      "ALi ATAY\n",
      "ALi ATAY\n",
      "\n"
     ]
    }
   ],
   "source": [
    "with open(\"file.txt\",\"r+\",encoding = \"utf-8\") as file:\n",
    "    icerik = file.read()\n",
    "    print(icerik)"
   ]
  },
  {
   "cell_type": "code",
   "execution_count": 12,
   "id": "rubber-demographic",
   "metadata": {},
   "outputs": [],
   "source": [
    "with open(\"file.txt\",\"r+\",encoding = \"utf-8\") as file:\n",
    "    icerik = file.read()\n",
    "    \n",
    "    icerik = \"Mustafa ÖZ\\n\" + icerik\n",
    "    file.seek(0)\n",
    "    file.write(icerik)"
   ]
  },
  {
   "cell_type": "code",
   "execution_count": 13,
   "id": "satellite-chase",
   "metadata": {},
   "outputs": [
    {
     "name": "stdout",
     "output_type": "stream",
     "text": [
      "Mustafa ÖZ\n",
      "Murat UğuDenemeAZ\n",
      "Mehmet ÇALIŞKAN\n",
      "Murat Uğur KİRAZ\n",
      "Mehmet ÇALIŞKAN\n",
      "Ahmet Mümtaz TAYLAN\n",
      "Mert Erarslan\n",
      "ALi ATAY\n",
      "ALi ATAY\n",
      "\n"
     ]
    }
   ],
   "source": [
    "with open(\"file.txt\",\"r+\",encoding = \"utf-8\") as file:\n",
    "    icerik = file.read()\n",
    "    print(icerik)"
   ]
  },
  {
   "cell_type": "markdown",
   "id": "3c343f6e",
   "metadata": {
    "lang": "en"
   },
   "source": [
    "### Making Changes in the Middle of the File\n",
    "\n",
    "To add any line in the middle of the files, we will first use the **readlines()** function, which allows us to get each line as a list. Then, we will add an element anywhere in this list and write this list to the file with the **for** loop."
   ]
  },
  {
   "cell_type": "code",
   "execution_count": 14,
   "id": "civil-soviet",
   "metadata": {},
   "outputs": [
    {
     "name": "stdout",
     "output_type": "stream",
     "text": [
      "['Mustafa ÖZ\\n', 'Murat UğuDenemeAZ\\n', 'Mehmet ÇALIŞKAN\\n', 'Murat Uğur KİRAZ\\n', 'Mehmet ÇALIŞKAN\\n', 'Ahmet Mümtaz TAYLAN\\n', 'Mert Erarslan\\n', 'ALi ATAY\\n', 'ALi ATAY\\n']\n"
     ]
    }
   ],
   "source": [
    "with open(\"file.txt\",\"r+\",encoding = \"utf-8\") as file:\n",
    "    print(file.readlines())"
   ]
  },
  {
   "cell_type": "markdown",
   "id": "224f168f",
   "metadata": {
    "lang": "en"
   },
   "source": [
    "For example, we want to add another line under the line __\"Ahmet Mümtaz TAYLAN\"__. To do this, we will add a row to the **3rd index of this list** with the insert() method. Then, we will go to the beginning of the file and write this list one by one with a for loop."
   ]
  },
  {
   "cell_type": "code",
   "execution_count": 17,
   "id": "sunrise-german",
   "metadata": {},
   "outputs": [],
   "source": [
    "with open(\"file.txt\",\"r+\",encoding = \"utf-8\") as file:\n",
    "    liste = file.readlines()\n",
    "    liste.insert(6,\"Mustafa KARA\\n\")\n",
    "    file.seek(0)\n",
    "    for satır in liste:\n",
    "        file.write(satır)"
   ]
  },
  {
   "cell_type": "code",
   "execution_count": 18,
   "id": "drawn-wisconsin",
   "metadata": {},
   "outputs": [
    {
     "name": "stdout",
     "output_type": "stream",
     "text": [
      "Mustafa ÖZ\n",
      "Murat UğuDenemeAZ\n",
      "Mehmet ÇALIŞKAN\n",
      "Murat Uğur KİRAZ\n",
      "Mehmet ÇALIŞKAN\n",
      "Ahmet Mümtaz TAYLAN\n",
      "Mustafa KARA\n",
      "Mert Erarslan\n",
      "ALi ATAY\n",
      "ALi ATAY\n",
      "\n"
     ]
    }
   ],
   "source": [
    "with open(\"file.txt\",\"r+\",encoding = \"utf-8\") as file:\n",
    "    data = file.read()\n",
    "    print(data)"
   ]
  },
  {
   "cell_type": "markdown",
   "id": "b935ef14",
   "metadata": {
    "lang": "en"
   },
   "source": [
    "Python has a practical function other than the **for** loop to write the values ​​in the list to a file. The **writelines** function will write the list we give to the file."
   ]
  },
  {
   "cell_type": "code",
   "execution_count": 19,
   "id": "incredible-comfort",
   "metadata": {},
   "outputs": [],
   "source": [
    "with open(\"file.txt\",\"r+\",encoding = \"utf-8\") as file:\n",
    "    names = file.readlines()\n",
    "    names.insert(7,\"Serkan KESKİN\\n\")\n",
    "    file.seek(0)\n",
    "    file.writelines(names)"
   ]
  },
  {
   "cell_type": "code",
   "execution_count": 20,
   "id": "anticipated-investment",
   "metadata": {},
   "outputs": [
    {
     "name": "stdout",
     "output_type": "stream",
     "text": [
      "Mustafa ÖZ\n",
      "Murat UğuDenemeAZ\n",
      "Mehmet ÇALIŞKAN\n",
      "Murat Uğur KİRAZ\n",
      "Mehmet ÇALIŞKAN\n",
      "Ahmet Mümtaz TAYLAN\n",
      "Mustafa KARA\n",
      "Serkan KESKİN\n",
      "Mert Erarslan\n",
      "ALi ATAY\n",
      "ALi ATAY\n",
      "\n"
     ]
    }
   ],
   "source": [
    "with open(\"file.txt\",\"r+\",encoding = \"utf-8\") as file:\n",
    "    data = file.read()\n",
    "    print(data)"
   ]
  }
 ],
 "metadata": {
  "kernelspec": {
   "display_name": "Python 3 (ipykernel)",
   "language": "python",
   "name": "python3"
  },
  "language_info": {
   "codemirror_mode": {
    "name": "ipython",
    "version": 3
   },
   "file_extension": ".py",
   "mimetype": "text/x-python",
   "name": "python",
   "nbconvert_exporter": "python",
   "pygments_lexer": "ipython3",
   "version": "3.11.5"
  },
  "nbTranslate": {
   "displayLangs": [],
   "hotkey": "alt-t",
   "langInMainMenu": true,
   "sourceLang": "tr",
   "targetLang": "en",
   "useGoogleTranslate": true
  }
 },
 "nbformat": 4,
 "nbformat_minor": 5
}

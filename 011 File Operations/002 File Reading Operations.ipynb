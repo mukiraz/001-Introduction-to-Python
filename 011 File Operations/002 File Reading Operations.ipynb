{
 "cells": [
  {
   "cell_type": "markdown",
   "id": "edc1a65c",
   "metadata": {
    "lang": "en"
   },
   "source": [
    "# File Reading Operations"
   ]
  },
  {
   "cell_type": "markdown",
   "id": "639371f3",
   "metadata": {
    "lang": "en"
   },
   "source": [
    "To read files and retrieve data, we need to open them with \"r\" mode. If the file we opened with \"r\" mode does not exist, a \"FileNotFoundError\" error will be returned. Now let's open the \"file.txt\" file in our directory."
   ]
  },
  {
   "cell_type": "code",
   "execution_count": 9,
   "id": "amended-pastor",
   "metadata": {},
   "outputs": [],
   "source": [
    "file = open(\"file.txt\",\"r\", encoding=\"utf-8\")"
   ]
  },
  {
   "cell_type": "code",
   "execution_count": 10,
   "id": "motivated-wiring",
   "metadata": {},
   "outputs": [],
   "source": [
    "file.close()"
   ]
  },
  {
   "cell_type": "code",
   "execution_count": 11,
   "id": "alternate-bruce",
   "metadata": {},
   "outputs": [
    {
     "ename": "FileNotFoundError",
     "evalue": "[Errno 2] No such file or directory: 'bilgiler2.txt'",
     "output_type": "error",
     "traceback": [
      "\u001b[1;31m---------------------------------------------------------------------------\u001b[0m",
      "\u001b[1;31mFileNotFoundError\u001b[0m                         Traceback (most recent call last)",
      "\u001b[1;32m<ipython-input-11-5146f3773503>\u001b[0m in \u001b[0;36m<module>\u001b[1;34m\u001b[0m\n\u001b[1;32m----> 1\u001b[1;33m \u001b[0mfile\u001b[0m \u001b[1;33m=\u001b[0m \u001b[0mopen\u001b[0m\u001b[1;33m(\u001b[0m\u001b[1;34m\"bilgiler2.txt\"\u001b[0m\u001b[1;33m,\u001b[0m\u001b[1;34m\"r\"\u001b[0m\u001b[1;33m,\u001b[0m\u001b[0mencoding\u001b[0m\u001b[1;33m=\u001b[0m\u001b[1;34m\"utf-8\"\u001b[0m\u001b[1;33m)\u001b[0m  \u001b[1;31m# bu kod hata verir\u001b[0m\u001b[1;33m\u001b[0m\u001b[1;33m\u001b[0m\u001b[0m\n\u001b[0m",
      "\u001b[1;31mFileNotFoundError\u001b[0m: [Errno 2] No such file or directory: 'bilgiler2.txt'"
     ]
    }
   ],
   "source": [
    "file = open(\"file2.txt\",\"r\",encoding=\"utf-8\")  # that code gives error"
   ]
  },
  {
   "cell_type": "code",
   "execution_count": 1,
   "id": "persistent-bleeding",
   "metadata": {},
   "outputs": [
    {
     "name": "stdout",
     "output_type": "stream",
     "text": [
      "The file did not found....\n"
     ]
    }
   ],
   "source": [
    "try:\n",
    "    file = open(\"file2.txt\",\"r\",encoding= \"utf-8\")\n",
    "except FileNotFoundError:\n",
    "    print(\"The file did not found....\")"
   ]
  },
  {
   "cell_type": "markdown",
   "id": "ab0837f1",
   "metadata": {
    "lang": "en"
   },
   "source": [
    "### Reading with a for loop"
   ]
  },
  {
   "cell_type": "code",
   "execution_count": 13,
   "id": "offshore-activation",
   "metadata": {},
   "outputs": [
    {
     "name": "stdout",
     "output_type": "stream",
     "text": [
      "Murat Uğur KİRAZ\n",
      "\n",
      "Mehmet ÇALIŞKAN\n",
      "\n",
      "Murat Uğur KİRAZ\n",
      "\n",
      "Mehmet ÇALIŞKAN\n",
      "\n"
     ]
    }
   ],
   "source": [
    "file = open(\"file.txt\",\"r\",encoding= \"utf-8\") # Dosyayı okuma kipiyle açıyoruz. Türkçe karaktere dikkat.\n",
    "\n",
    "for i in file: # Tıpkı listeler gibi dosyanın her bir satırı üzerinde geziniyoruz.\n",
    "    print(i) # Her bir satırı ekrana basıyoruz.\n",
    "file.close()"
   ]
  },
  {
   "cell_type": "markdown",
   "id": "acff3f8b",
   "metadata": {
    "lang": "en"
   },
   "source": [
    "### read() function\n",
    "\n",
    "The read() function will read our entire file if we do not give any value to it."
   ]
  },
  {
   "cell_type": "code",
   "execution_count": 4,
   "id": "centered-cincinnati",
   "metadata": {},
   "outputs": [
    {
     "name": "stdout",
     "output_type": "stream",
     "text": [
      "Dosya İçeriği:\n",
      "Mehmet ÇALIŞKANMurat Uğur KİRAZ\n",
      "Mehmet ÇALIŞKAN\n",
      "\n"
     ]
    }
   ],
   "source": [
    "file = open(\"bilgiler.txt\",\"r\",encoding=\"utf-8\")\n",
    "\n",
    "data = file.read() \n",
    "\n",
    "print(\"Dosya İçeriği:\\n\", data, sep=\"\")\n",
    "\n",
    "file.close()"
   ]
  },
  {
   "cell_type": "markdown",
   "id": "3800493e",
   "metadata": {
    "lang": "en"
   },
   "source": [
    "When we read a file with the read() function, our file cursor goes to the __end of the file__ and the read() function now returns an empty string on the second reading."
   ]
  },
  {
   "cell_type": "code",
   "execution_count": null,
   "id": "e3325b49",
   "metadata": {},
   "outputs": [],
   "source": [
    "file = open(\"bilgiler.txt\",\"r\",encoding=\"utf-8\")\n",
    "\n",
    "data = file.read() \n",
    "\n",
    "print(\"1. Okuma : Dosya İçeriği:\\n\", data ,sep =\"\")\n",
    "\n",
    "data = file.read()\n",
    "\n",
    "\n",
    "print(\"2. Read : File Includes:\\n\",icerik2,sep =\"\")\n",
    "\n",
    "file.close()"
   ]
  },
  {
   "cell_type": "markdown",
   "id": "5bc17623",
   "metadata": {
    "lang": "en"
   },
   "source": [
    "### readline() function\n",
    "\n",
    "The readline() function reads only one line of the file each time it is called. Our file cursor continues by skipping one line each time."
   ]
  },
  {
   "cell_type": "code",
   "execution_count": 16,
   "id": "complimentary-estonia",
   "metadata": {},
   "outputs": [],
   "source": [
    "file = open(\"file.txt\",\"r\",encoding=\"utf-8\")"
   ]
  },
  {
   "cell_type": "code",
   "execution_count": 17,
   "id": "approved-prefix",
   "metadata": {},
   "outputs": [
    {
     "name": "stdout",
     "output_type": "stream",
     "text": [
      "Murat Uğur KİRAZ\n",
      "\n"
     ]
    }
   ],
   "source": [
    "print(file.readline())"
   ]
  },
  {
   "cell_type": "code",
   "execution_count": 18,
   "id": "parliamentary-saturn",
   "metadata": {},
   "outputs": [
    {
     "name": "stdout",
     "output_type": "stream",
     "text": [
      "Mehmet ÇALIŞKAN\n",
      "\n"
     ]
    }
   ],
   "source": [
    "print(file.readline())"
   ]
  },
  {
   "cell_type": "code",
   "execution_count": 19,
   "id": "intense-armenia",
   "metadata": {},
   "outputs": [
    {
     "name": "stdout",
     "output_type": "stream",
     "text": [
      "Murat Uğur KİRAZ\n",
      "\n"
     ]
    }
   ],
   "source": [
    "print(file.readline())"
   ]
  },
  {
   "cell_type": "code",
   "execution_count": 20,
   "id": "european-declaration",
   "metadata": {},
   "outputs": [
    {
     "name": "stdout",
     "output_type": "stream",
     "text": [
      "Mehmet ÇALIŞKAN\n",
      "\n"
     ]
    }
   ],
   "source": [
    "print(file.readline())"
   ]
  },
  {
   "cell_type": "code",
   "execution_count": 22,
   "id": "golden-approval",
   "metadata": {},
   "outputs": [
    {
     "name": "stdout",
     "output_type": "stream",
     "text": [
      "\n"
     ]
    }
   ],
   "source": [
    "print(file.readline()) # Okuyacak herhangi bir şey kalmayınca readline fonksiyonu boş string döner."
   ]
  },
  {
   "cell_type": "code",
   "execution_count": 23,
   "id": "floating-radio",
   "metadata": {},
   "outputs": [],
   "source": [
    "file.close()"
   ]
  },
  {
   "cell_type": "markdown",
   "id": "79ebc99d",
   "metadata": {
    "lang": "en"
   },
   "source": [
    "### readlines() function\n",
    "\n",
    "The readlines() function returns all lines of the file as a list."
   ]
  },
  {
   "cell_type": "code",
   "execution_count": 24,
   "id": "sticky-positive",
   "metadata": {},
   "outputs": [],
   "source": [
    "file = open(\"file.txt\",\"r\",encoding=\"utf-8\")"
   ]
  },
  {
   "cell_type": "code",
   "execution_count": 25,
   "id": "sensitive-label",
   "metadata": {},
   "outputs": [
    {
     "data": {
      "text/plain": [
       "['Murat Uğur KİRAZ\\n',\n",
       " 'Mehmet ÇALIŞKAN\\n',\n",
       " 'Murat Uğur KİRAZ\\n',\n",
       " 'Mehmet ÇALIŞKAN\\n']"
      ]
     },
     "execution_count": 25,
     "metadata": {},
     "output_type": "execute_result"
    }
   ],
   "source": [
    "file.readlines()"
   ]
  },
  {
   "cell_type": "code",
   "execution_count": 26,
   "id": "african-break",
   "metadata": {},
   "outputs": [],
   "source": [
    "file.close()"
   ]
  }
 ],
 "metadata": {
  "kernelspec": {
   "display_name": "Python 3 (ipykernel)",
   "language": "python",
   "name": "python3"
  },
  "language_info": {
   "codemirror_mode": {
    "name": "ipython",
    "version": 3
   },
   "file_extension": ".py",
   "mimetype": "text/x-python",
   "name": "python",
   "nbconvert_exporter": "python",
   "pygments_lexer": "ipython3",
   "version": "3.11.5"
  },
  "nbTranslate": {
   "displayLangs": [
    "*"
   ],
   "hotkey": "alt-t",
   "langInMainMenu": true,
   "sourceLang": "tr",
   "targetLang": "en",
   "useGoogleTranslate": true
  }
 },
 "nbformat": 4,
 "nbformat_minor": 5
}

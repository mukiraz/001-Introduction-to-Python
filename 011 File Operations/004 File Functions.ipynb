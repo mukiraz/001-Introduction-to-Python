{
 "cells": [
  {
   "cell_type": "markdown",
   "id": "76b935b8",
   "metadata": {
    "lang": "en"
   },
   "source": [
    "# File Functions"
   ]
  },
  {
   "cell_type": "markdown",
   "id": "0d6ff721",
   "metadata": {
    "lang": "en"
   },
   "source": [
    "### Automatically Close Files\n",
    "\n",
    "When the process is completed on the files, the files must be closed. But closing files can be forgotten. For this, Python has a feature that automatically closes files when we are done with them. The format is below.\n",
    "\n",
    "\n",
    "                    with open(file_name,file_mode) as file:\n",
    "                        File operations"
   ]
  },
  {
   "cell_type": "code",
   "execution_count": 1,
   "id": "designing-center",
   "metadata": {},
   "outputs": [
    {
     "name": "stdout",
     "output_type": "stream",
     "text": [
      "Mustafa ÖZ\n",
      "\n",
      "Murat UğuDenemeAZ\n",
      "\n",
      "Mehmet ÇALIŞKAN\n",
      "\n",
      "Murat Uğur KİRAZ\n",
      "\n",
      "Mehmet ÇALIŞKAN\n",
      "\n",
      "Ahmet Mümtaz TAYLAN\n",
      "\n",
      "Mustafa KARA\n",
      "\n",
      "Serkan KESKİN\n",
      "\n",
      "Mert Erarslan\n",
      "\n",
      "ALi ATAY\n",
      "\n",
      "ALi ATAY\n",
      "\n"
     ]
    }
   ],
   "source": [
    "with open(\"file.txt\",\"r\",encoding = \"utf-8\") as file:\n",
    "    for i in file:\n",
    "        print(i)"
   ]
  },
  {
   "cell_type": "markdown",
   "id": "dae68475",
   "metadata": {
    "lang": "en"
   },
   "source": [
    "If we perform file operations within this block, our file will be automatically closed when the operation is completed."
   ]
  },
  {
   "cell_type": "markdown",
   "id": "8fc7f2ce",
   "metadata": {
    "lang": "en"
   },
   "source": [
    "### Rewinding Files\n",
    "\n",
    "If you want to move the file cursor to any part of the file, the **seek()** function in Python is used. If you want to find out which byte the file cursor is in, the **tell()** function is used."
   ]
  },
  {
   "cell_type": "code",
   "execution_count": 3,
   "id": "polished-fourth",
   "metadata": {},
   "outputs": [
    {
     "name": "stdout",
     "output_type": "stream",
     "text": [
      "0\n"
     ]
    }
   ],
   "source": [
    "with open(\"file.txt\",\"r\",encoding = \"utf-8\") as file:\n",
    "    print(file.tell())"
   ]
  },
  {
   "cell_type": "markdown",
   "id": "3467e209",
   "metadata": {
    "lang": "en"
   },
   "source": [
    "Since no operation was performed on the file, the **tell()** function said that it was at the very beginning of the file (at the 0th byte). Let's move it to the 30th byte of the file with the **seek()** function."
   ]
  },
  {
   "cell_type": "code",
   "execution_count": 5,
   "id": "matched-crystal",
   "metadata": {},
   "outputs": [
    {
     "name": "stdout",
     "output_type": "stream",
     "text": [
      "30\n"
     ]
    }
   ],
   "source": [
    "with open(\"file.txt\",\"r\",encoding = \"utf-8\") as file:\n",
    "    file.seek(30) # We have gone to 20th character\n",
    "    print(file.tell())"
   ]
  },
  {
   "cell_type": "markdown",
   "id": "22837ad8",
   "metadata": {
    "lang": "en"
   },
   "source": [
    "To go to a certain byte (character) of a file and read only a certain number of characters, we can give a number value to the **read()** function and read only that number of fields."
   ]
  },
  {
   "cell_type": "code",
   "execution_count": 7,
   "id": "proved-genesis",
   "metadata": {},
   "outputs": [
    {
     "name": "stdout",
     "output_type": "stream",
     "text": [
      "fa ÖZ\n",
      "Murat UğuDenem\n",
      "28\n"
     ]
    }
   ],
   "source": [
    "with open(\"file.txt\",\"r\",encoding = \"utf-8\") as file:\n",
    "    file.seek(5) # We go to 5th character\n",
    "    data = file.read(20)  # we read 10 characters\n",
    "    print(data)\n",
    "    print(file.tell())"
   ]
  },
  {
   "cell_type": "code",
   "execution_count": 8,
   "id": "posted-vehicle",
   "metadata": {},
   "outputs": [
    {
     "name": "stdout",
     "output_type": "stream",
     "text": [
      "fa ÖZ\n",
      "Mura\n",
      "Mustaf\n"
     ]
    }
   ],
   "source": [
    "with open(\"file.txt\",\"r\",encoding = \"utf-8\") as file:\n",
    "    file.seek(5) # We go to 5th character\n",
    "    data = file.read(10)  # we read 10 characters\n",
    "    print(data)\n",
    "    file.seek(0)\n",
    "    data2 = file.read(6)\n",
    "    print(data)"
   ]
  }
 ],
 "metadata": {
  "kernelspec": {
   "display_name": "Python 3 (ipykernel)",
   "language": "python",
   "name": "python3"
  },
  "language_info": {
   "codemirror_mode": {
    "name": "ipython",
    "version": 3
   },
   "file_extension": ".py",
   "mimetype": "text/x-python",
   "name": "python",
   "nbconvert_exporter": "python",
   "pygments_lexer": "ipython3",
   "version": "3.11.5"
  },
  "nbTranslate": {
   "displayLangs": [],
   "hotkey": "alt-t",
   "langInMainMenu": true,
   "sourceLang": "tr",
   "targetLang": "en",
   "useGoogleTranslate": true
  }
 },
 "nbformat": 4,
 "nbformat_minor": 5
}

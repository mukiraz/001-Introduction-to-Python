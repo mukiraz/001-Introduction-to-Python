{
 "cells": [
  {
   "cell_type": "markdown",
   "id": "a807c6f8",
   "metadata": {
    "lang": "en"
   },
   "source": [
    "# File Opening Operations"
   ]
  },
  {
   "cell_type": "markdown",
   "id": "38e78c05",
   "metadata": {
    "lang": "en"
   },
   "source": [
    "In Python, the `open()` function is used to open files. It takes two main arguments: the file name (or path) and the access mode. The access mode specifies how the file should be opened, whether for reading, writing, or both. Here are the most commonly used file access modes:\n",
    "\n",
    "1. **Read Modes:**\n",
    "   - `'r'`: Open for reading (default). If the file does not exist, an `IOError` will be raised.\n",
    "\n",
    "   - `'rb'`: Open for reading as a binary file.\n",
    "\n",
    "   - `'r+'`: Open for reading and writing.\n",
    "\n",
    "   - `'rt'`: Open for reading text. This is the default mode when `'r'` is used.\n",
    "\n",
    "2. **Write Modes:**\n",
    "   - `'w'`: Open for writing. If the file already exists, it truncates the file. If the file does not exist, it creates a new one.\n",
    "\n",
    "   - `'wb'`: Open for writing as a binary file.\n",
    "\n",
    "   - `'w+'`: Open for reading and writing. Similar to `'r+'`, but it truncates the file if it exists or creates a new one.\n",
    "\n",
    "   - `'wt'`: Open for writing text. This is the default mode when `'w'` is used.\n",
    "\n",
    "3. **Append Modes:**\n",
    "   - `'a'`: Open for writing. If the file exists, it appends the data to the end of the file.\n",
    "\n",
    "   - `'ab'`: Open for writing as a binary file.\n",
    "\n",
    "   - `'a+'`: Open for reading and writing. It appends data to the end of the file.\n",
    "\n",
    "   - `'at'`: Open for writing text. This is the default mode when `'a'` is used.\n",
    "\n",
    "4. **Exclusive Creation:**\n",
    "   - `'x'`: Exclusive creation. If the file exists, the operation will fail.\n",
    "\n",
    "   - `'xb'`: Exclusive creation for a binary file.\n",
    "\n",
    "   - `'xt'`: Exclusive creation for a text file.\n",
    "\n",
    "5. **Binary and Text Modes:**\n",
    "   - `'b'`: Binary mode. It can be added to any of the above modes to specify that the file should be treated as a binary file.\n",
    "\n",
    "   - `'t'`: Text mode. It can be added to any of the above modes to specify that the file should be treated as a text file.\n",
    "\n",
    "When opening a file, you can combine these modes as needed. For example, `'rb'` opens a file for reading in binary mode, and `'w+'` opens a file for both reading and writing, truncating the file if it exists."
   ]
  },
  {
   "cell_type": "code",
   "execution_count": 1,
   "id": "excess-lindsay",
   "metadata": {},
   "outputs": [
    {
     "data": {
      "text/plain": [
       "<_io.TextIOWrapper name='bilgiler.txt' mode='w' encoding='cp1254'>"
      ]
     },
     "execution_count": 1,
     "metadata": {},
     "output_type": "execute_result"
    }
   ],
   "source": [
    "open(\"file.txt\",\"w\")"
   ]
  },
  {
   "cell_type": "code",
   "execution_count": 2,
   "id": "purple-bolivia",
   "metadata": {},
   "outputs": [],
   "source": [
    "file = open(\"file.txt\",\"w\")"
   ]
  },
  {
   "cell_type": "markdown",
   "id": "504adbe9",
   "metadata": {
    "lang": "en"
   },
   "source": [
    "#### Closing Files\n",
    "\n",
    "When we operate on a file, closing that file is important to avoid unnecessary use of system resources. Because even if our program finishes, there is no guarantee that the file will be closed. That's why we have to close the file when we're done."
   ]
  },
  {
   "cell_type": "code",
   "execution_count": 3,
   "id": "noted-improvement",
   "metadata": {},
   "outputs": [],
   "source": [
    "file.close()"
   ]
  },
  {
   "cell_type": "markdown",
   "id": "ba0cd8c4",
   "metadata": {
    "lang": "en"
   },
   "source": [
    "If we want to open a file in another directory rather than the current directory, we must specifically specify the path to the directory."
   ]
  },
  {
   "cell_type": "code",
   "execution_count": 8,
   "id": "antique-cabin",
   "metadata": {},
   "outputs": [],
   "source": [
    "file=open(\"C:/Users/mukir/OneDrive/Desktop/file.txt\",\"w\",encoding=\"utf-8\")"
   ]
  },
  {
   "cell_type": "code",
   "execution_count": 9,
   "id": "capable-liability",
   "metadata": {},
   "outputs": [
    {
     "data": {
      "text/plain": [
       "16"
      ]
     },
     "execution_count": 9,
     "metadata": {},
     "output_type": "execute_result"
    }
   ],
   "source": [
    "file.write(\"Murat Uğur KİRAZ\")"
   ]
  },
  {
   "cell_type": "code",
   "execution_count": 10,
   "id": "exceptional-respect",
   "metadata": {},
   "outputs": [],
   "source": [
    "file.close()"
   ]
  },
  {
   "cell_type": "markdown",
   "id": "de167916",
   "metadata": {
    "lang": "en"
   },
   "source": [
    "We can write anything to our file with the Write function. However, since the \"w\" mode recreates the file each time, the information will be lost when we open the file again."
   ]
  },
  {
   "cell_type": "code",
   "execution_count": 11,
   "id": "soviet-trick",
   "metadata": {},
   "outputs": [],
   "source": [
    "file = open(\"C:/Users/mukir/OneDrive/Desktop/file.txt\",\"w\",encoding=\"utf-8\")\n",
    "file.close()"
   ]
  },
  {
   "cell_type": "markdown",
   "id": "9edfc403",
   "metadata": {
    "lang": "en"
   },
   "source": [
    "#### Writing to Files with \"a\" Mode\n",
    "\n",
    "When we open a file with the \"a\" mode, which is short for the word \"append\", the file is created if it does not exist. If such a file exists, the file is not recreated and the file cursor moves to the end of the file, allowing us to add to the file."
   ]
  },
  {
   "cell_type": "code",
   "execution_count": 12,
   "id": "northern-chicago",
   "metadata": {},
   "outputs": [],
   "source": [
    "file = open(\"file.txt\",\"a\",encoding=\"utf-8\")"
   ]
  },
  {
   "cell_type": "code",
   "execution_count": 13,
   "id": "analyzed-protocol",
   "metadata": {},
   "outputs": [
    {
     "data": {
      "text/plain": [
       "16"
      ]
     },
     "execution_count": 13,
     "metadata": {},
     "output_type": "execute_result"
    }
   ],
   "source": [
    "file.write(\"Murat Uğur KİRAZ\")"
   ]
  },
  {
   "cell_type": "code",
   "execution_count": 14,
   "id": "permanent-encoding",
   "metadata": {},
   "outputs": [],
   "source": [
    "file.close()"
   ]
  },
  {
   "cell_type": "markdown",
   "id": "infectious-deputy",
   "metadata": {},
   "source": [
    "Dosyayı tekrar açalım."
   ]
  },
  {
   "cell_type": "code",
   "execution_count": 1,
   "id": "constitutional-timeline",
   "metadata": {},
   "outputs": [],
   "source": [
    "file = open(\"file.txt\",\"a\",encoding=\"utf-8\")\n"
   ]
  },
  {
   "cell_type": "code",
   "execution_count": 2,
   "id": "drawn-maryland",
   "metadata": {},
   "outputs": [
    {
     "data": {
      "text/plain": [
       "15"
      ]
     },
     "execution_count": 2,
     "metadata": {},
     "output_type": "execute_result"
    }
   ],
   "source": [
    "file.write(\"George Melone\") # We added at the end of the file"
   ]
  },
  {
   "cell_type": "code",
   "execution_count": 17,
   "id": "concerned-parts",
   "metadata": {},
   "outputs": [],
   "source": [
    "file.close()"
   ]
  },
  {
   "cell_type": "markdown",
   "id": "f75cb571",
   "metadata": {
    "lang": "en"
   },
   "source": [
    "However, if we want to write the names here one under the other in the files, we must use the \"\n",
    "\" character."
   ]
  },
  {
   "cell_type": "code",
   "execution_count": 18,
   "id": "chronic-tender",
   "metadata": {},
   "outputs": [],
   "source": [
    "file = open(\"file.txt\",\"a\",encoding=\"utf-8\")"
   ]
  },
  {
   "cell_type": "code",
   "execution_count": 3,
   "id": "fluid-cooper",
   "metadata": {},
   "outputs": [
    {
     "data": {
      "text/plain": [
       "17"
      ]
     },
     "execution_count": 3,
     "metadata": {},
     "output_type": "execute_result"
    }
   ],
   "source": [
    "file.write(\"Murat Uğur KİRAZ\\n\")"
   ]
  },
  {
   "cell_type": "code",
   "execution_count": 4,
   "id": "limiting-horizontal",
   "metadata": {},
   "outputs": [
    {
     "data": {
      "text/plain": [
       "16"
      ]
     },
     "execution_count": 4,
     "metadata": {},
     "output_type": "execute_result"
    }
   ],
   "source": [
    "file.write(\"George Melone\\n\")"
   ]
  },
  {
   "cell_type": "code",
   "execution_count": 5,
   "id": "creative-division",
   "metadata": {},
   "outputs": [],
   "source": [
    "file.close()"
   ]
  }
 ],
 "metadata": {
  "kernelspec": {
   "display_name": "Python 3 (ipykernel)",
   "language": "python",
   "name": "python3"
  },
  "language_info": {
   "codemirror_mode": {
    "name": "ipython",
    "version": 3
   },
   "file_extension": ".py",
   "mimetype": "text/x-python",
   "name": "python",
   "nbconvert_exporter": "python",
   "pygments_lexer": "ipython3",
   "version": "3.11.5"
  },
  "nbTranslate": {
   "displayLangs": [
    "en",
    "tr"
   ],
   "hotkey": "alt-t",
   "langInMainMenu": true,
   "sourceLang": "tr",
   "targetLang": "en",
   "useGoogleTranslate": true
  }
 },
 "nbformat": 4,
 "nbformat_minor": 5
}

{
 "cells": [
  {
   "cell_type": "markdown",
   "id": "e2c657fe",
   "metadata": {
    "lang": "en"
   },
   "source": [
    "# Dictionaries"
   ]
  },
  {
   "cell_type": "markdown",
   "id": "5a88f4be",
   "metadata": {
    "lang": "en"
   },
   "source": [
    "Another useful data type built into Python is the dictionary.\n",
    "\n",
    "Unlike arrays, which are indexed by arrays of numbers, dictionaries are indexed by keys, which can be of any immutable type; characters and numbers can always be keys. Tuples can be used as keys only if they contain strings, numbers, or tuples; If a tuple contains any mutable object directly or indirectly, it cannot be used as a key. You cannot use lists as keys, because lists can be modified in-place using index assignments, slice assignments, or methods such as append() or extend().\n",
    "\n",
    "It is best to think of a dictionary as a set of key:value pairs, provided that the keys are unique (within a dictionary). The {} bracket creates an empty dictionary. Let's not forget that the *{} expression also creates a cluster. If there is a key: value pair in {}, this structure is created as a dictionary, otherwise it is created as a set in Python.* Placing a comma-separated list of key: value pairs in parentheses {}, adds the first key:value pairs to the dictionary; this is also the way dictionaries are written on output.\n",
    "\n",
    "Dictionaries, or \"dictionaries\" as they are called in English, act just like real-life dictionaries.\n",
    "\n",
    "For example, when we take an English-Turkish dictionary and search for the word **book** (key or key), the corresponding value appears as **book** (value or value). We can also think of dictionaries this way."
   ]
  },
  {
   "cell_type": "markdown",
   "id": "d39b839c",
   "metadata": {
    "lang": "en"
   },
   "source": [
    "## Creating a Dictionary"
   ]
  },
  {
   "cell_type": "code",
   "execution_count": 21,
   "id": "f8769567",
   "metadata": {
    "lang": "en"
   },
   "outputs": [],
   "source": [
    "# Let's place our key values with curly brackets and a colon (:).\n",
    "dictionary1 = {\"zero\":0,\"one\":1,\"two\":2,\"three\":3}"
   ]
  },
  {
   "cell_type": "markdown",
   "id": "69a4aee4",
   "metadata": {
    "lang": "en"
   },
   "source": [
    "Generally, when creating a dictionary in Python, key-value pairs are written one under the other so that they can be seen more easily."
   ]
  },
  {
   "cell_type": "code",
   "execution_count": 22,
   "id": "1060a3b4",
   "metadata": {
    "lang": "en"
   },
   "outputs": [
    {
     "name": "stdout",
     "output_type": "stream",
     "text": [
      "{'zero': 0, 'one': 1, 'two': 2, 'three': 3}\n"
     ]
    }
   ],
   "source": [
    "dictionary1 = {\n",
    "    \"zero\":0,\n",
    "    \"one\":1,\n",
    "    \"two\":2,\n",
    "    \"three\":3}\n",
    "\n",
    "print(dictionary1)"
   ]
  },
  {
   "cell_type": "code",
   "execution_count": 23,
   "id": "1742e8d2",
   "metadata": {
    "lang": "en"
   },
   "outputs": [],
   "source": [
    "# To create empty dictionary\n",
    "dictionary2 = {}"
   ]
  },
  {
   "cell_type": "code",
   "execution_count": 24,
   "id": "pleased-verse",
   "metadata": {},
   "outputs": [
    {
     "data": {
      "text/plain": [
       "dict"
      ]
     },
     "execution_count": 24,
     "metadata": {},
     "output_type": "execute_result"
    }
   ],
   "source": [
    "type(dictionary2)"
   ]
  },
  {
   "cell_type": "code",
   "execution_count": 25,
   "id": "1a4f8fe1",
   "metadata": {
    "lang": "en"
   },
   "outputs": [
    {
     "data": {
      "text/plain": [
       "set"
      ]
     },
     "execution_count": 25,
     "metadata": {},
     "output_type": "execute_result"
    }
   ],
   "source": [
    "# If key-value pairs are not entered in {}, the type of this array will be set\n",
    "dictionary2 = {1,2,3,4}\n",
    "type(dictionary2)"
   ]
  },
  {
   "cell_type": "code",
   "execution_count": 26,
   "id": "d52bd477",
   "metadata": {
    "lang": "en"
   },
   "outputs": [
    {
     "data": {
      "text/plain": [
       "dict"
      ]
     },
     "execution_count": 26,
     "metadata": {},
     "output_type": "execute_result"
    }
   ],
   "source": [
    "# We can also create an empty dictionary with the dict() function.\n",
    "dictionary2 = dict()\n",
    "type(dictionary2)"
   ]
  },
  {
   "cell_type": "markdown",
   "id": "fce4ee2e",
   "metadata": {
    "lang": "en"
   },
   "source": [
    "We use value as any object (list, tuple, string) etc. We can define."
   ]
  },
  {
   "cell_type": "code",
   "execution_count": 27,
   "id": "8e2a9338",
   "metadata": {
    "lang": "en"
   },
   "outputs": [
    {
     "name": "stdout",
     "output_type": "stream",
     "text": [
      "{'digits': [0, 1, 2, 3, 4, 5, 6, 7, 8, 9], 'letters': ['a', 'b', 'c', 'd', 'e', 'f', 'g', 'h', 'i', 'j', 'k', 'l', 'm', 'n', 'o', 'p', 'q', 'r', 's', 't', 'u', 'w', 'x', 'v', ' y', 'z']}\n"
     ]
    }
   ],
   "source": [
    "# Let's create a list of numbers.\n",
    "digits = [0,1,2,3,4,5,6,7,8,9]\n",
    "\n",
    "# Let's create a list of letters.\n",
    "letters = [\"a\",\"b\",\"c\",\"d\",\"e\",\"f\",\"g\",\"h\",\"i\",\"j\",\"k\",\"l\" ,\"m\",\"n\",\"o\",\"p\",\"q\",\"r\",\"s\",\"t\",\"u\",\"w\",\"x\",\"v\",\" y\",\"z\"]\n",
    "\n",
    "len(letters)\n",
    "# Let's create a dictionary with numbers and letters keys.\n",
    "\n",
    "characters = {\n",
    "    \"digits\": digits,\n",
    "    \"letters\": letters\n",
    "}\n",
    "\n",
    "print(characters)"
   ]
  },
  {
   "cell_type": "markdown",
   "id": "d578856e",
   "metadata": {
    "lang": "en"
   },
   "source": [
    "### Nested Dictionaries"
   ]
  },
  {
   "cell_type": "markdown",
   "id": "cc82fe60",
   "metadata": {
    "lang": "en"
   },
   "source": [
    "Just like lists, nested dictionaries can be created."
   ]
  },
  {
   "cell_type": "code",
   "execution_count": 28,
   "id": "71099202",
   "metadata": {
    "lang": "en"
   },
   "outputs": [],
   "source": [
    "# Nested dictionary\n",
    "\n",
    "a = {\"numbers\":{\n",
    "    \"one\":1,\n",
    "    \"two\":2,\n",
    "    \"three\":3},\n",
    "     \"fruits\":{\n",
    "         \"cherry\":\"summer\",\n",
    "         \"orange\":\"winter\",\n",
    "         \"strawberry\":\"summer\"}}"
   ]
  },
  {
   "cell_type": "code",
   "execution_count": 29,
   "id": "oriented-consistency",
   "metadata": {},
   "outputs": [
    {
     "data": {
      "text/plain": [
       "1"
      ]
     },
     "execution_count": 29,
     "metadata": {},
     "output_type": "execute_result"
    }
   ],
   "source": [
    "a[\"numbers\"][\"one\"]"
   ]
  },
  {
   "cell_type": "code",
   "execution_count": 30,
   "id": "neither-bacon",
   "metadata": {},
   "outputs": [
    {
     "data": {
      "text/plain": [
       "'summer'"
      ]
     },
     "execution_count": 30,
     "metadata": {},
     "output_type": "execute_result"
    }
   ],
   "source": [
    "a[\"fruits\"][\"cherry\"]"
   ]
  },
  {
   "cell_type": "markdown",
   "id": "ca809406",
   "metadata": {
    "lang": "en"
   },
   "source": [
    "## Accessing Dictionary Values ​​and Adding Values ​​to the Dictionary"
   ]
  },
  {
   "cell_type": "markdown",
   "id": "8e793a49",
   "metadata": {
    "lang": "en"
   },
   "source": [
    "We know that when accessing list, tuple or set elements, they can be accessed with an index number."
   ]
  },
  {
   "cell_type": "code",
   "execution_count": 31,
   "id": "b2bee3b9",
   "metadata": {
    "lang": "en"
   },
   "outputs": [
    {
     "data": {
      "text/plain": [
       "'apricot'"
      ]
     },
     "execution_count": 31,
     "metadata": {},
     "output_type": "execute_result"
    }
   ],
   "source": [
    "# Let's create a list and access its 3rd element.\n",
    "fruits = [\"apple\", \"banana\", \"peach\", \"apricot\", \"plum\", \"mango\"]\n",
    "fruits[3]"
   ]
  },
  {
   "cell_type": "markdown",
   "id": "b8b0322d",
   "metadata": {
    "lang": "en"
   },
   "source": [
    "If we want to access a value in the dictionary data type, we need to give the key value."
   ]
  },
  {
   "cell_type": "code",
   "execution_count": 32,
   "id": "b76b48a1",
   "metadata": {
    "lang": "en"
   },
   "outputs": [
    {
     "data": {
      "text/plain": [
       "1"
      ]
     },
     "execution_count": 32,
     "metadata": {},
     "output_type": "execute_result"
    }
   ],
   "source": [
    "digits2 = {\n",
    "    \"zero\":0,\n",
    "    \"one\":1,\n",
    "    \"two\":2,\n",
    "    \"three\":3,\n",
    "    \"four\":4,\n",
    "    \"five\":5,\n",
    "    \"six\":6,\n",
    "    \"seven\":7,\n",
    "    \"eight\":8,\n",
    "    \"nine\":9,\n",
    "    \"ten\":10\n",
    "}\n",
    "\n",
    "digits2[\"one\"]"
   ]
  },
  {
   "cell_type": "code",
   "execution_count": 33,
   "id": "coordinate-accountability",
   "metadata": {},
   "outputs": [
    {
     "data": {
      "text/plain": [
       "10"
      ]
     },
     "execution_count": 33,
     "metadata": {},
     "output_type": "execute_result"
    }
   ],
   "source": [
    "digits2[\"ten\"]"
   ]
  },
  {
   "cell_type": "code",
   "execution_count": 34,
   "id": "18ebfa98",
   "metadata": {
    "lang": "en"
   },
   "outputs": [
    {
     "ename": "KeyError",
     "evalue": "'eleven'",
     "output_type": "error",
     "traceback": [
      "\u001b[1;31m---------------------------------------------------------------------------\u001b[0m",
      "\u001b[1;31mKeyError\u001b[0m                                  Traceback (most recent call last)",
      "Cell \u001b[1;32mIn[34], line 3\u001b[0m\n\u001b[0;32m      1\u001b[0m \u001b[38;5;66;03m# If we enter a key that is not in the dictionary, the program will give us an error.\u001b[39;00m\n\u001b[1;32m----> 3\u001b[0m digits2[\u001b[38;5;124m\"\u001b[39m\u001b[38;5;124meleven\u001b[39m\u001b[38;5;124m\"\u001b[39m]\n",
      "\u001b[1;31mKeyError\u001b[0m: 'eleven'"
     ]
    }
   ],
   "source": [
    "# If we enter a key that is not in the dictionary, the program will give us an error.\n",
    "\n",
    "digits2[\"eleven\"] #It will throw an error"
   ]
  },
  {
   "cell_type": "markdown",
   "id": "e6dd34ed",
   "metadata": {
    "lang": "en"
   },
   "source": [
    "If we want to add a new element to the dictionary, it will be necessary to enter a new key and value pair into the variable."
   ]
  },
  {
   "cell_type": "code",
   "execution_count": 35,
   "id": "d24d6da8",
   "metadata": {
    "lang": "en"
   },
   "outputs": [
    {
     "name": "stdout",
     "output_type": "stream",
     "text": [
      "{'zero': 0, 'one': 1, 'two': 2, 'three': 3, 'four': 4, 'five': 5, 'six': 6, 'seven': 7, 'eight': 8, 'nine': 9, 'ten': 10, 'eleven': 11}\n"
     ]
    },
    {
     "data": {
      "text/plain": [
       "'\\nThe newly added key and value are not added to the end of the dictionary.\\nAnother feature of dictionaries is that they are a non-sequential datatype, unlike other datatypes.\\n\\n'"
      ]
     },
     "execution_count": 35,
     "metadata": {},
     "output_type": "execute_result"
    }
   ],
   "source": [
    "digits2[\"eleven\"] = 11\n",
    "print(digits2)\n",
    "\"\"\"\n",
    "The newly added key and value are not added to the end of the dictionary.\n",
    "Another feature of dictionaries is that they are a non-sequential datatype, unlike other datatypes.\n",
    "\n",
    "\"\"\""
   ]
  },
  {
   "cell_type": "markdown",
   "id": "71c56996",
   "metadata": {
    "lang": "en"
   },
   "source": [
    "We created the \"characters\" variable above. Now let's access the elements in this variable."
   ]
  },
  {
   "cell_type": "code",
   "execution_count": 36,
   "id": "unexpected-omaha",
   "metadata": {},
   "outputs": [
    {
     "data": {
      "text/plain": [
       "'d'"
      ]
     },
     "execution_count": 36,
     "metadata": {},
     "output_type": "execute_result"
    }
   ],
   "source": [
    "characters[\"letters\"][3]"
   ]
  },
  {
   "cell_type": "code",
   "execution_count": 19,
   "id": "pregnant-backing",
   "metadata": {},
   "outputs": [
    {
     "data": {
      "text/plain": [
       "4"
      ]
     },
     "execution_count": 19,
     "metadata": {},
     "output_type": "execute_result"
    }
   ],
   "source": [
    "characters[\"digits\"][4]"
   ]
  }
 ],
 "metadata": {
  "kernelspec": {
   "display_name": "Python 3 (ipykernel)",
   "language": "python",
   "name": "python3"
  },
  "language_info": {
   "codemirror_mode": {
    "name": "ipython",
    "version": 3
   },
   "file_extension": ".py",
   "mimetype": "text/x-python",
   "name": "python",
   "nbconvert_exporter": "python",
   "pygments_lexer": "ipython3",
   "version": "3.11.4"
  },
  "nbTranslate": {
   "displayLangs": [
    "*"
   ],
   "hotkey": "alt-t",
   "langInMainMenu": true,
   "sourceLang": "tr",
   "targetLang": "en",
   "useGoogleTranslate": true
  }
 },
 "nbformat": 4,
 "nbformat_minor": 5
}

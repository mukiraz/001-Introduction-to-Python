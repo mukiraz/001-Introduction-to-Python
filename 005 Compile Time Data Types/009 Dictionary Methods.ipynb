{
 "cells": [
  {
   "cell_type": "markdown",
   "id": "07544666",
   "metadata": {
    "lang": "en"
   },
   "source": [
    "# Dictionary Methods"
   ]
  },
  {
   "cell_type": "markdown",
   "id": "southern-organic",
   "metadata": {
    "lang": "tr"
   },
   "source": [
    "### dict.clear()"
   ]
  },
  {
   "cell_type": "markdown",
   "id": "90200695",
   "metadata": {
    "lang": "en"
   },
   "source": [
    "Clears all dictionary elements."
   ]
  },
  {
   "cell_type": "code",
   "execution_count": 21,
   "id": "1a8e8b16",
   "metadata": {
    "lang": "en"
   },
   "outputs": [
    {
     "name": "stdout",
     "output_type": "stream",
     "text": [
      "{'zero': 0, 'one': 1, 'two': 2, 'three': 3, 'four': 4, 'five': 5, 'six': 6, 'seven': 7, 'eight': 8, 'nine': 9, 'ten': 10}\n",
      "{}\n"
     ]
    }
   ],
   "source": [
    "digits = {\n",
    "    \"zero\":0,\n",
    "    \"one\":1,\n",
    "    \"two\":2,\n",
    "    \"three\":3,\n",
    "    \"four\":4,\n",
    "    \"five\":5,\n",
    "    \"six\":6,\n",
    "    \"seven\":7,\n",
    "    \"eight\":8,\n",
    "    \"nine\":9,\n",
    "    \"ten\":10\n",
    "}\n",
    "\n",
    "print(digits)\n",
    "digits.clear()\n",
    "\n",
    "print(digits)"
   ]
  },
  {
   "cell_type": "markdown",
   "id": "racial-johnson",
   "metadata": {},
   "source": [
    "### dict.copy()"
   ]
  },
  {
   "cell_type": "markdown",
   "id": "c39f0d4f",
   "metadata": {
    "lang": "en"
   },
   "source": [
    "Copies dictionary elements."
   ]
  },
  {
   "cell_type": "code",
   "execution_count": 22,
   "id": "eb4af85e",
   "metadata": {
    "lang": "en"
   },
   "outputs": [
    {
     "name": "stdout",
     "output_type": "stream",
     "text": [
      "{'zero': 0, 'one': 1, 'two': 2, 'three': 3, 'four': 4, 'five': 5, 'six': 6, 'seven': 7, 'eight': 8, 'nine': 9, 'ten': 10}\n"
     ]
    }
   ],
   "source": [
    "digits = {\n",
    "    \"zero\":0,\n",
    "    \"one\":1,\n",
    "    \"two\":2,\n",
    "    \"three\":3,\n",
    "    \"four\":4,\n",
    "    \"five\":5,\n",
    "    \"six\":6,\n",
    "    \"seven\":7,\n",
    "    \"eight\":8,\n",
    "    \"nine\":9,\n",
    "    \"ten\":10\n",
    "}\n",
    "\n",
    "x = digits.copy()\n",
    "\n",
    "print(x)"
   ]
  },
  {
   "cell_type": "markdown",
   "id": "consistent-meter",
   "metadata": {
    "lang": "tr"
   },
   "source": [
    "### dict.fromkeys(keys, value)"
   ]
  },
  {
   "cell_type": "markdown",
   "id": "e3f6fc93",
   "metadata": {
    "lang": "en"
   },
   "source": [
    "Creates a dictionary of specified keys."
   ]
  },
  {
   "cell_type": "code",
   "execution_count": 23,
   "id": "574f9825",
   "metadata": {
    "lang": "en"
   },
   "outputs": [
    {
     "name": "stdout",
     "output_type": "stream",
     "text": [
      "{'key1': 0, 'key2': 0, 'key3': 0}\n"
     ]
    }
   ],
   "source": [
    "x = ('key1', 'key2', 'key3')\n",
    "y = 0\n",
    "\n",
    "thisdict = dict.fromkeys(x, y)\n",
    "\n",
    "print(thisdict)"
   ]
  },
  {
   "cell_type": "markdown",
   "id": "95a3689b",
   "metadata": {
    "lang": "en"
   },
   "source": [
    "If no value is entered for value, value values ​​will be \"None\"."
   ]
  },
  {
   "cell_type": "code",
   "execution_count": 24,
   "id": "18ebf8f1",
   "metadata": {
    "lang": "en"
   },
   "outputs": [
    {
     "name": "stdout",
     "output_type": "stream",
     "text": [
      "{'key1': None, 'key2': None, 'key3': None}\n"
     ]
    }
   ],
   "source": [
    "x = ('key1', 'key2', 'key3')\n",
    "thisdict = dict.fromkeys(x)\n",
    "\n",
    "print(thisdict)"
   ]
  },
  {
   "cell_type": "markdown",
   "id": "induced-fields",
   "metadata": {},
   "source": [
    "### dict.get()"
   ]
  },
  {
   "cell_type": "markdown",
   "id": "a50ebb64",
   "metadata": {
    "lang": "en"
   },
   "source": [
    "Returns the value of a dictionary given its key."
   ]
  },
  {
   "cell_type": "code",
   "execution_count": 25,
   "id": "b9f8d50a",
   "metadata": {
    "lang": "en"
   },
   "outputs": [
    {
     "name": "stdout",
     "output_type": "stream",
     "text": [
      "Mustang\n"
     ]
    }
   ],
   "source": [
    "car = {\n",
    "  \"brand\": \"Ford\",\n",
    "  \"model\": \"Mustang\",\n",
    "  \"year\": 1964\n",
    "}\n",
    "\n",
    "x = car.get(\"model\")\n",
    "\n",
    "print(x)"
   ]
  },
  {
   "cell_type": "markdown",
   "id": "naughty-belgium",
   "metadata": {},
   "source": [
    "### dict.items()"
   ]
  },
  {
   "cell_type": "markdown",
   "id": "6f83f051",
   "metadata": {
    "lang": "en"
   },
   "source": [
    "Returns a list containing a tuple for each key-value pair. We will use this feature frequently in the future regarding loops."
   ]
  },
  {
   "cell_type": "code",
   "execution_count": 26,
   "id": "b308de38",
   "metadata": {
    "lang": "en"
   },
   "outputs": [
    {
     "name": "stdout",
     "output_type": "stream",
     "text": [
      "dict_items([('brand', 'Ford'), ('model', 'Mustang'), ('year', 1964)])\n"
     ]
    }
   ],
   "source": [
    "car = {\n",
    "  \"brand\": \"Ford\",\n",
    "  \"model\": \"Mustang\",\n",
    "  \"year\": 1964\n",
    "}\n",
    "\n",
    "x = car.items()\n",
    "\n",
    "print(x)"
   ]
  },
  {
   "cell_type": "code",
   "execution_count": 27,
   "id": "e1c81506",
   "metadata": {
    "lang": "en"
   },
   "outputs": [
    {
     "name": "stdout",
     "output_type": "stream",
     "text": [
      "brand : Ford\n",
      "model : Mustang\n",
      "year : 1964\n"
     ]
    }
   ],
   "source": [
    "car = {\n",
    "  \"brand\": \"Ford\",\n",
    "  \"model\": \"Mustang\",\n",
    "  \"year\": 1964\n",
    "}\n",
    "\n",
    "for k,v in car.items():\n",
    "    print(k,\":\",v)"
   ]
  },
  {
   "cell_type": "markdown",
   "id": "d421ad33",
   "metadata": {
    "lang": "en"
   },
   "source": [
    "**Note:** When the value of an item in the dictionary changes, the view object is also updated."
   ]
  },
  {
   "cell_type": "code",
   "execution_count": 28,
   "id": "cd12e2ca",
   "metadata": {
    "lang": "en"
   },
   "outputs": [
    {
     "name": "stdout",
     "output_type": "stream",
     "text": [
      "dict_items([('brand', 'Ford'), ('model', 'Mustang'), ('year', 2018)])\n"
     ]
    }
   ],
   "source": [
    "car = {\n",
    "  \"brand\": \"Ford\",\n",
    "  \"model\": \"Mustang\",\n",
    "  \"year\": 1964\n",
    "}\n",
    "\n",
    "x = car.items()\n",
    "\n",
    "car[\"year\"] = 2018\n",
    "\n",
    "print(x)"
   ]
  },
  {
   "cell_type": "markdown",
   "id": "given-library",
   "metadata": {},
   "source": [
    "### dict.keys()"
   ]
  },
  {
   "cell_type": "markdown",
   "id": "5c69b24d",
   "metadata": {
    "lang": "en"
   },
   "source": [
    "Returns a list containing the keys of the dictionary"
   ]
  },
  {
   "cell_type": "code",
   "execution_count": 29,
   "id": "e2917fb4",
   "metadata": {
    "lang": "en"
   },
   "outputs": [
    {
     "name": "stdout",
     "output_type": "stream",
     "text": [
      "dict_keys(['brand', 'model', 'year'])\n"
     ]
    }
   ],
   "source": [
    "car = {\n",
    "  \"brand\": \"Ford\",\n",
    "  \"model\": \"Mustang\",\n",
    "  \"year\": 1964\n",
    "}\n",
    "\n",
    "x = car.keys()\n",
    "\n",
    "print(x)"
   ]
  },
  {
   "cell_type": "markdown",
   "id": "controlling-flooring",
   "metadata": {},
   "source": [
    "### dict.pop()"
   ]
  },
  {
   "cell_type": "markdown",
   "id": "0554283b",
   "metadata": {
    "lang": "en"
   },
   "source": [
    "Its key removes the specified item."
   ]
  },
  {
   "cell_type": "code",
   "execution_count": 30,
   "id": "7c1f8173",
   "metadata": {
    "lang": "en"
   },
   "outputs": [
    {
     "name": "stdout",
     "output_type": "stream",
     "text": [
      "{'brand': 'Ford', 'year': 1964}\n"
     ]
    }
   ],
   "source": [
    "car = {\n",
    "  \"brand\": \"Ford\",\n",
    "  \"model\": \"Mustang\",\n",
    "  \"year\": 1964\n",
    "}\n",
    "\n",
    "car.pop(\"model\")\n",
    "\n",
    "print(car)"
   ]
  },
  {
   "cell_type": "markdown",
   "id": "a3797543",
   "metadata": {
    "lang": "en"
   },
   "source": [
    "**Note:** The value of the removed element is the return value of the pop() method:"
   ]
  },
  {
   "cell_type": "code",
   "execution_count": 31,
   "id": "b6e4167a",
   "metadata": {
    "lang": "en"
   },
   "outputs": [
    {
     "name": "stdout",
     "output_type": "stream",
     "text": [
      "{'brand': 'Ford', 'year': 1964}\n",
      "Mustang\n"
     ]
    }
   ],
   "source": [
    "car = {\n",
    "  \"brand\": \"Ford\",\n",
    "  \"model\": \"Mustang\",\n",
    "  \"year\": 1964\n",
    "}\n",
    "\n",
    "x = car.pop(\"model\")\n",
    "\n",
    "print(car)\n",
    "print(x)"
   ]
  },
  {
   "cell_type": "markdown",
   "id": "cross-phase",
   "metadata": {},
   "source": [
    "### dict.popitem()"
   ]
  },
  {
   "cell_type": "markdown",
   "id": "12497d07",
   "metadata": {
    "lang": "en"
   },
   "source": [
    "Removes the last added key/value pair"
   ]
  },
  {
   "cell_type": "code",
   "execution_count": 32,
   "id": "7bd694f1",
   "metadata": {
    "lang": "en"
   },
   "outputs": [
    {
     "name": "stdout",
     "output_type": "stream",
     "text": [
      "{'brand': 'Ford', 'model': 'Mustang'}\n"
     ]
    }
   ],
   "source": [
    "car = {\n",
    "  \"brand\": \"Ford\",\n",
    "  \"model\": \"Mustang\",\n",
    "  \"year\": 1964\n",
    "}\n",
    "\n",
    "car.popitem()\n",
    "\n",
    "print(car)"
   ]
  },
  {
   "cell_type": "markdown",
   "id": "ff6b31bd",
   "metadata": {
    "lang": "en"
   },
   "source": [
    "**Note:** The value of the removed item is the return value of the popitem() method:"
   ]
  },
  {
   "cell_type": "code",
   "execution_count": 33,
   "id": "cf9ce12c",
   "metadata": {
    "lang": "en"
   },
   "outputs": [
    {
     "name": "stdout",
     "output_type": "stream",
     "text": [
      "('year', 1964)\n"
     ]
    }
   ],
   "source": [
    "car = {\n",
    "  \"brand\": \"Ford\",\n",
    "  \"model\": \"Mustang\",\n",
    "  \"year\": 1964\n",
    "}\n",
    "\n",
    "x=car.popitem()\n",
    "\n",
    "print(x)"
   ]
  },
  {
   "cell_type": "markdown",
   "id": "ultimate-honduras",
   "metadata": {},
   "source": [
    "### dict.setdefault(key,value)"
   ]
  },
  {
   "cell_type": "markdown",
   "id": "38b24331",
   "metadata": {
    "lang": "en"
   },
   "source": [
    "It allows us to assign a new key value pair to a dictionary and returns a value. If no value is given, it assigns it to None."
   ]
  },
  {
   "cell_type": "code",
   "execution_count": 34,
   "id": "e3bcd361",
   "metadata": {
    "lang": "en"
   },
   "outputs": [
    {
     "name": "stdout",
     "output_type": "stream",
     "text": [
      "{'brand': 'Ford', 'model': 'Mustang', 'year': 1964, 'color': 'white'}\n",
      "white\n"
     ]
    }
   ],
   "source": [
    "car = {\n",
    "  \"brand\": \"Ford\",\n",
    "  \"model\": \"Mustang\",\n",
    "  \"year\": 1964\n",
    "}\n",
    "\n",
    "x = car.setdefault(\"color\", \"white\")\n",
    "\n",
    "print(car)\n",
    "print(x)"
   ]
  },
  {
   "cell_type": "code",
   "execution_count": 35,
   "id": "5aacb3cc",
   "metadata": {
    "lang": "en"
   },
   "outputs": [
    {
     "name": "stdout",
     "output_type": "stream",
     "text": [
      "{'brand': 'Ford', 'model': 'Mustang', 'year': 1964, 'color': None}\n"
     ]
    }
   ],
   "source": [
    "car = {\n",
    "  \"brand\": \"Ford\",\n",
    "  \"model\": \"Mustang\",\n",
    "  \"year\": 1964\n",
    "}\n",
    "\n",
    "car.setdefault(\"color\")\n",
    "\n",
    "print(car)"
   ]
  },
  {
   "cell_type": "markdown",
   "id": "beautiful-video",
   "metadata": {},
   "source": [
    "### dict.update()"
   ]
  },
  {
   "cell_type": "markdown",
   "id": "8e5a0e26",
   "metadata": {
    "lang": "en"
   },
   "source": [
    "It allows us to assign a new key value pair to a dictionary and does not return a value. If no value is given, it assigns it to None."
   ]
  },
  {
   "cell_type": "code",
   "execution_count": 36,
   "id": "ab775108",
   "metadata": {
    "lang": "en"
   },
   "outputs": [
    {
     "name": "stdout",
     "output_type": "stream",
     "text": [
      "{'brand': 'Ford', 'model': 'Mustang', 'year': 1964, 'color': 'white'}\n"
     ]
    }
   ],
   "source": [
    "car = {\n",
    "  \"brand\": \"Ford\",\n",
    "  \"model\": \"Mustang\",\n",
    "  \"year\": 1964\n",
    "}\n",
    "\n",
    "car.update({\"color\":\"white\"})\n",
    "\n",
    "print(car)"
   ]
  },
  {
   "cell_type": "code",
   "execution_count": 37,
   "id": "2d2ec426",
   "metadata": {
    "lang": "en"
   },
   "outputs": [
    {
     "name": "stdout",
     "output_type": "stream",
     "text": [
      "{'brand': 'Ford', 'model': 'Mustang', 'year': 1964, 'color': 'white'}\n"
     ]
    }
   ],
   "source": [
    "car2 = {\n",
    "  \"brand\": \"Ford\",\n",
    "  \"model\": \"Mustang\",\n",
    "  \"year\": 1964\n",
    "}\n",
    "\n",
    "car2[\"color\"] = \"white\"\n",
    "\n",
    "print(car2)"
   ]
  },
  {
   "cell_type": "code",
   "execution_count": 38,
   "id": "284e3534",
   "metadata": {
    "lang": "en"
   },
   "outputs": [
    {
     "name": "stdout",
     "output_type": "stream",
     "text": [
      "None\n"
     ]
    }
   ],
   "source": [
    "car = {\n",
    "  \"brand\": \"Ford\",\n",
    "  \"model\": \"Mustang\",\n",
    "  \"year\": 1964\n",
    "}\n",
    "\n",
    "x = car.update({\"color\":\"white\"})\n",
    "\n",
    "print(x)"
   ]
  },
  {
   "cell_type": "markdown",
   "id": "afraid-raise",
   "metadata": {},
   "source": [
    "### dict.values()"
   ]
  },
  {
   "cell_type": "markdown",
   "id": "5af43283",
   "metadata": {
    "lang": "en"
   },
   "source": [
    "The values() method returns the dictionary's values ​​as a list."
   ]
  },
  {
   "cell_type": "code",
   "execution_count": 39,
   "id": "77009237",
   "metadata": {
    "lang": "en"
   },
   "outputs": [
    {
     "name": "stdout",
     "output_type": "stream",
     "text": [
      "dict_values([1, 2, 3])\n"
     ]
    },
    {
     "data": {
      "text/plain": [
       "dict_values"
      ]
     },
     "execution_count": 39,
     "metadata": {},
     "output_type": "execute_result"
    }
   ],
   "source": [
    "new_dictionary = {\"one\":1,\"two\":2,\"three\":3}\n",
    "\n",
    "x = new_dictionary.values()\n",
    "\n",
    "print(x)\n",
    "type(x)"
   ]
  }
 ],
 "metadata": {
  "kernelspec": {
   "display_name": "Python 3 (ipykernel)",
   "language": "python",
   "name": "python3"
  },
  "language_info": {
   "codemirror_mode": {
    "name": "ipython",
    "version": 3
   },
   "file_extension": ".py",
   "mimetype": "text/x-python",
   "name": "python",
   "nbconvert_exporter": "python",
   "pygments_lexer": "ipython3",
   "version": "3.11.4"
  },
  "nbTranslate": {
   "displayLangs": [
    "*"
   ],
   "hotkey": "alt-t",
   "langInMainMenu": true,
   "sourceLang": "tr",
   "targetLang": "en",
   "useGoogleTranslate": true
  }
 },
 "nbformat": 4,
 "nbformat_minor": 5
}

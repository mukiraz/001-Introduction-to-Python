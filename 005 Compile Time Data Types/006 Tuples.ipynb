{
 "cells": [
  {
   "cell_type": "markdown",
   "id": "91e006f4",
   "metadata": {
    "lang": "en"
   },
   "source": [
    "# Tuples"
   ]
  },
  {
   "cell_type": "markdown",
   "id": "6c868acf",
   "metadata": {
    "lang": "en"
   },
   "source": [
    "Tuples, are very similar to lists. But while list elements can be modified, tuple elements cannot. For this reason, we prefer to store list values that we do not want to be changed in our programs in a bucket."
   ]
  },
  {
   "cell_type": "markdown",
   "id": "6a189201",
   "metadata": {
    "lang": "en"
   },
   "source": [
    "### When Do We Use Tuples?"
   ]
  },
  {
   "cell_type": "markdown",
   "id": "62f2fca1",
   "metadata": {
    "lang": "en"
   },
   "source": [
    "Lists are used more than tuples in Python. However, if there is information in your program that you do not want to be changed (such as Android application constants), you can store it in the bundle. They also run a little faster than lists because they are a Read Only datatype."
   ]
  },
  {
   "cell_type": "markdown",
   "id": "30a9cdba",
   "metadata": {
    "lang": "en"
   },
   "source": [
    "## Creating Tuples"
   ]
  },
  {
   "cell_type": "code",
   "execution_count": 1,
   "id": "5e0a143e",
   "metadata": {
    "lang": "en"
   },
   "outputs": [
    {
     "data": {
      "text/plain": [
       "(1, 2, 3, 4, 5, 6, 7, 8, 9)"
      ]
     },
     "execution_count": 1,
     "metadata": {},
     "output_type": "execute_result"
    }
   ],
   "source": [
    "# While lists are created with parentheses [], we create tuples with regular parentheses ().\n",
    "t = (1,2,3,4,5,6,7,8,9)\n",
    "t"
   ]
  },
  {
   "cell_type": "code",
   "execution_count": 2,
   "id": "53d15657",
   "metadata": {
    "lang": "en"
   },
   "outputs": [
    {
     "data": {
      "text/plain": [
       "tuple"
      ]
     },
     "execution_count": 2,
     "metadata": {},
     "output_type": "execute_result"
    }
   ],
   "source": [
    "# We can find out its type with the help of the type() function.\n",
    "type(t)"
   ]
  },
  {
   "cell_type": "code",
   "execution_count": 3,
   "id": "697de5a7",
   "metadata": {
    "lang": "en"
   },
   "outputs": [],
   "source": [
    "# we create empty tuple :) but it is illogical :))) because we cannot add data.\n",
    "t = ()"
   ]
  },
  {
   "cell_type": "code",
   "execution_count": 4,
   "id": "7580ba02",
   "metadata": {
    "lang": "en"
   },
   "outputs": [
    {
     "data": {
      "text/plain": [
       "tuple"
      ]
     },
     "execution_count": 4,
     "metadata": {},
     "output_type": "execute_result"
    }
   ],
   "source": [
    "# let's find out the type of the bundle\n",
    "type(t)"
   ]
  },
  {
   "cell_type": "code",
   "execution_count": 5,
   "id": "1b12ab53",
   "metadata": {
    "lang": "en"
   },
   "outputs": [
    {
     "data": {
      "text/plain": [
       "tuple"
      ]
     },
     "execution_count": 5,
     "metadata": {},
     "output_type": "execute_result"
    }
   ],
   "source": [
    "# a tuple can also be created with the tuple() function.\n",
    "t = tuple()\n",
    "type(t)"
   ]
  },
  {
   "cell_type": "code",
   "execution_count": 6,
   "id": "7c5a965f",
   "metadata": {
    "lang": "en"
   },
   "outputs": [
    {
     "data": {
      "text/plain": [
       "('H', 'e', 'l', 'l', 'o')"
      ]
     },
     "execution_count": 6,
     "metadata": {},
     "output_type": "execute_result"
    }
   ],
   "source": [
    "# A string can be converted to a tuple using the tuple() function.\n",
    "s = \"Hello\"\n",
    "lst = tuple(s)\n",
    "lst"
   ]
  },
  {
   "cell_type": "code",
   "execution_count": 7,
   "id": "c4e42353",
   "metadata": {
    "lang": "en"
   },
   "outputs": [
    {
     "data": {
      "text/plain": [
       "(0, 1, 2, 3, 4, 5, 6, 7, 8, 9, 10)"
      ]
     },
     "execution_count": 7,
     "metadata": {},
     "output_type": "execute_result"
    }
   ],
   "source": [
    "# We can convert a list into a tuple as follows.\n",
    "l = [0, 1, 2, 3, 4, 5, 6, 7, 8, 9, 10]\n",
    "t = tuple(l)\n",
    "t"
   ]
  },
  {
   "cell_type": "markdown",
   "id": "cd96c566",
   "metadata": {
    "lang": "en"
   },
   "source": [
    "## Indexing and Sharding Tuples"
   ]
  },
  {
   "cell_type": "code",
   "execution_count": 8,
   "id": "697f5451",
   "metadata": {
    "lang": "en"
   },
   "outputs": [
    {
     "data": {
      "text/plain": [
       "0"
      ]
     },
     "execution_count": 8,
     "metadata": {},
     "output_type": "execute_result"
    }
   ],
   "source": [
    "# 0th element of the tuple\n",
    "t[0]"
   ]
  },
  {
   "cell_type": "code",
   "execution_count": 9,
   "id": "10f6e6cc",
   "metadata": {
    "lang": "en"
   },
   "outputs": [
    {
     "data": {
      "text/plain": [
       "0"
      ]
     },
     "execution_count": 9,
     "metadata": {},
     "output_type": "execute_result"
    }
   ],
   "source": [
    "# 5th element of the tuple\n",
    "t[0]"
   ]
  },
  {
   "cell_type": "code",
   "execution_count": 10,
   "id": "7f254a3b",
   "metadata": {
    "lang": "en"
   },
   "outputs": [
    {
     "data": {
      "text/plain": [
       "(2, 3, 4)"
      ]
     },
     "execution_count": 10,
     "metadata": {},
     "output_type": "execute_result"
    }
   ],
   "source": [
    "# From index 2 to index 5\n",
    "t[2:5]"
   ]
  },
  {
   "cell_type": "code",
   "execution_count": 11,
   "id": "2c559ea5",
   "metadata": {
    "lang": "en"
   },
   "outputs": [
    {
     "data": {
      "text/plain": [
       "(5, 6, 7, 8, 9, 10)"
      ]
     },
     "execution_count": 11,
     "metadata": {},
     "output_type": "execute_result"
    }
   ],
   "source": [
    "#Retrieves from the 5th element\n",
    "t[5:]"
   ]
  },
  {
   "cell_type": "code",
   "execution_count": 12,
   "id": "370b4ecc",
   "metadata": {
    "lang": "en"
   },
   "outputs": [
    {
     "data": {
      "text/plain": [
       "(10, 9, 8, 7, 6, 5, 4, 3, 2, 1, 0)"
      ]
     },
     "execution_count": 12,
     "metadata": {},
     "output_type": "execute_result"
    }
   ],
   "source": [
    "# Invert the tuple\n",
    "t[::-1]"
   ]
  },
  {
   "cell_type": "code",
   "execution_count": 13,
   "id": "fe7b6972",
   "metadata": {
    "lang": "en"
   },
   "outputs": [
    {
     "data": {
      "text/plain": [
       "(0, 2, 4, 6, 8, 10)"
      ]
     },
     "execution_count": 13,
     "metadata": {},
     "output_type": "execute_result"
    }
   ],
   "source": [
    "# Retrieves tuple elements by skipping by 2\n",
    "t[::2]"
   ]
  },
  {
   "cell_type": "markdown",
   "id": "1878cb03",
   "metadata": {
    "lang": "en"
   },
   "source": [
    "## Immutability Feature"
   ]
  },
  {
   "cell_type": "markdown",
   "id": "f8d7d6c5",
   "metadata": {
    "lang": "en"
   },
   "source": [
    "The tuples could not be changed. Let's see this now."
   ]
  },
  {
   "cell_type": "code",
   "execution_count": 14,
   "id": "2161aaee",
   "metadata": {
    "lang": "en",
    "scrolled": true
   },
   "outputs": [
    {
     "ename": "TypeError",
     "evalue": "'tuple' object does not support item assignment",
     "output_type": "error",
     "traceback": [
      "\u001b[1;31m---------------------------------------------------------------------------\u001b[0m",
      "\u001b[1;31mTypeError\u001b[0m                                 Traceback (most recent call last)",
      "Cell \u001b[1;32mIn[14], line 3\u001b[0m\n\u001b[0;32m      1\u001b[0m a_different_tuple \u001b[38;5;241m=\u001b[39m (\u001b[38;5;241m1\u001b[39m, \u001b[38;5;241m2\u001b[39m, \u001b[38;5;241m3\u001b[39m, \u001b[38;5;241m4\u001b[39m, \u001b[38;5;241m5\u001b[39m, \u001b[38;5;241m6\u001b[39m, \u001b[38;5;241m7\u001b[39m, \u001b[38;5;241m8\u001b[39m, \u001b[38;5;241m9\u001b[39m)\n\u001b[0;32m      2\u001b[0m \u001b[38;5;66;03m# Let's try to change the 2nd index of the tuple. ### This code throws an error.\u001b[39;00m\n\u001b[1;32m----> 3\u001b[0m a_different_tuple[\u001b[38;5;241m2\u001b[39m] \u001b[38;5;241m=\u001b[39m \u001b[38;5;241m5\u001b[39m\n",
      "\u001b[1;31mTypeError\u001b[0m: 'tuple' object does not support item assignment"
     ]
    }
   ],
   "source": [
    "a_different_tuple = (1, 2, 3, 4, 5, 6, 7, 8, 9)\n",
    "# Let's try to change the 2nd index of the tuple. ### This code throws an error.\n",
    "a_different_tuple[2] = 5"
   ]
  },
  {
   "cell_type": "code",
   "execution_count": 15,
   "id": "abcfc95b",
   "metadata": {
    "lang": "tr"
   },
   "outputs": [
    {
     "ename": "AttributeError",
     "evalue": "'tuple' object has no attribute 'append'",
     "output_type": "error",
     "traceback": [
      "\u001b[1;31m---------------------------------------------------------------------------\u001b[0m",
      "\u001b[1;31mAttributeError\u001b[0m                            Traceback (most recent call last)",
      "Cell \u001b[1;32mIn[15], line 2\u001b[0m\n\u001b[0;32m      1\u001b[0m \u001b[38;5;66;03m# let's try to add a new element to the tuple ###This code gives an error.\u001b[39;00m\n\u001b[1;32m----> 2\u001b[0m a_different_tuple\u001b[38;5;241m.\u001b[39mappend(\u001b[38;5;241m2\u001b[39m)\n",
      "\u001b[1;31mAttributeError\u001b[0m: 'tuple' object has no attribute 'append'"
     ]
    }
   ],
   "source": [
    "# let's try to add a new element to the tuple ###This code gives an error.\n",
    "a_different_tuple.append(2)"
   ]
  },
  {
   "cell_type": "code",
   "execution_count": 16,
   "id": "734477dc",
   "metadata": {
    "lang": "en"
   },
   "outputs": [
    {
     "ename": "AttributeError",
     "evalue": "'tuple' object has no attribute 'pop'",
     "output_type": "error",
     "traceback": [
      "\u001b[1;31m---------------------------------------------------------------------------\u001b[0m",
      "\u001b[1;31mAttributeError\u001b[0m                            Traceback (most recent call last)",
      "Cell \u001b[1;32mIn[16], line 2\u001b[0m\n\u001b[0;32m      1\u001b[0m \u001b[38;5;66;03m# Let's try to delete the last data in the tuple.\u001b[39;00m\n\u001b[1;32m----> 2\u001b[0m a_different_tuple\u001b[38;5;241m.\u001b[39mpop()\n",
      "\u001b[1;31mAttributeError\u001b[0m: 'tuple' object has no attribute 'pop'"
     ]
    }
   ],
   "source": [
    "# Let's try to delete the last data in the tuple.\n",
    "a_different_tuple.pop()"
   ]
  }
 ],
 "metadata": {
  "kernelspec": {
   "display_name": "Python 3 (ipykernel)",
   "language": "python",
   "name": "python3"
  },
  "language_info": {
   "codemirror_mode": {
    "name": "ipython",
    "version": 3
   },
   "file_extension": ".py",
   "mimetype": "text/x-python",
   "name": "python",
   "nbconvert_exporter": "python",
   "pygments_lexer": "ipython3",
   "version": "3.11.4"
  },
  "nbTranslate": {
   "displayLangs": [],
   "hotkey": "alt-t",
   "langInMainMenu": true,
   "sourceLang": "tr",
   "targetLang": "en",
   "useGoogleTranslate": true
  }
 },
 "nbformat": 4,
 "nbformat_minor": 5
}

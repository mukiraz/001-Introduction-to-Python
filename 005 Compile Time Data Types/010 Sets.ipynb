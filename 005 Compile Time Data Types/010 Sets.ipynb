{
 "cells": [
  {
   "cell_type": "markdown",
   "id": "d896d851",
   "metadata": {
    "lang": "en"
   },
   "source": [
    "## Sets"
   ]
  },
  {
   "cell_type": "markdown",
   "id": "a90c6684",
   "metadata": {
    "lang": "en"
   },
   "source": [
    "It is a data type that contains multiple data types such as list, dictionary and tuple. You can perform all kinds of operations (union, intersection, etc.) regarding sets described in mathematics with this data type.\n",
    "\n",
    "As we remember from mathematics lessons, a set is an unordered collection that does not contain repeating elements. Key uses include membership testing and removal of duplicate listings. Set objects also support mathematical operations such as union, intersection, difference, and symmetric difference.\n",
    "\n",
    "{} brackets or the set() function can be used to create sets.\n",
    "\n",
    "**Note:** The set() function is used to create an empty set. {} does not create an empty set, it creates an empty *dictionary*."
   ]
  },
  {
   "cell_type": "code",
   "execution_count": 1,
   "id": "b52c0945",
   "metadata": {
    "lang": "en"
   },
   "outputs": [
    {
     "name": "stdout",
     "output_type": "stream",
     "text": [
      "{'apple', 'peach', 'banana', 'orange'}\n"
     ]
    }
   ],
   "source": [
    "basket = {'apple', 'orange', 'apple', 'peach', 'orange', 'banana'}\n",
    "# The apple object appears twice in the basket list. hence it will not get one of the object \"apple\".\n",
    "print(basket)"
   ]
  },
  {
   "cell_type": "markdown",
   "id": "3f9a3213",
   "metadata": {
    "lang": "en"
   },
   "source": [
    "We can use operators on arrays here too."
   ]
  },
  {
   "cell_type": "code",
   "execution_count": 2,
   "id": "08c53604",
   "metadata": {
    "lang": "tr"
   },
   "outputs": [
    {
     "data": {
      "text/plain": [
       "True"
      ]
     },
     "execution_count": 2,
     "metadata": {},
     "output_type": "execute_result"
    }
   ],
   "source": [
    "\"banana\" in basket"
   ]
  },
  {
   "cell_type": "code",
   "execution_count": 3,
   "id": "73321951",
   "metadata": {},
   "outputs": [
    {
     "data": {
      "text/plain": [
       "True"
      ]
     },
     "execution_count": 3,
     "metadata": {},
     "output_type": "execute_result"
    }
   ],
   "source": [
    "\"orange\" in basket"
   ]
  },
  {
   "cell_type": "markdown",
   "id": "88bd767c",
   "metadata": {
    "lang": "en"
   },
   "source": [
    "**Note:** If we send a string expression to the set() function, it parses each character and makes a set."
   ]
  },
  {
   "cell_type": "code",
   "execution_count": 6,
   "id": "18ea9d03",
   "metadata": {
    "lang": "en"
   },
   "outputs": [
    {
     "data": {
      "text/plain": [
       "{'i', 'm', 'p', 's'}"
      ]
     },
     "execution_count": 6,
     "metadata": {},
     "output_type": "execute_result"
    }
   ],
   "source": [
    "m = set(\"missisippi\")\n",
    "m"
   ]
  },
  {
   "cell_type": "markdown",
   "id": "54731b3a",
   "metadata": {
    "lang": "en"
   },
   "source": [
    "**Note:** If we want to include a 1-element string expression in the set, we use {} brackets."
   ]
  },
  {
   "cell_type": "code",
   "execution_count": 7,
   "id": "a01f214e",
   "metadata": {},
   "outputs": [
    {
     "data": {
      "text/plain": [
       "{'missisippi'}"
      ]
     },
     "execution_count": 7,
     "metadata": {},
     "output_type": "execute_result"
    }
   ],
   "source": [
    "m = {\"missisippi\"}\n",
    "m"
   ]
  }
 ],
 "metadata": {
  "kernelspec": {
   "display_name": "Python 3 (ipykernel)",
   "language": "python",
   "name": "python3"
  },
  "language_info": {
   "codemirror_mode": {
    "name": "ipython",
    "version": 3
   },
   "file_extension": ".py",
   "mimetype": "text/x-python",
   "name": "python",
   "nbconvert_exporter": "python",
   "pygments_lexer": "ipython3",
   "version": "3.11.4"
  },
  "nbTranslate": {
   "displayLangs": [
    "*"
   ],
   "hotkey": "alt-t",
   "langInMainMenu": true,
   "sourceLang": "tr",
   "targetLang": "en",
   "useGoogleTranslate": true
  }
 },
 "nbformat": 4,
 "nbformat_minor": 5
}

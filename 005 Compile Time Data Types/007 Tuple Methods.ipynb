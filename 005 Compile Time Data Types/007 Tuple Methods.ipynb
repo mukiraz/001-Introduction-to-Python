{
 "cells": [
  {
   "cell_type": "markdown",
   "id": "68024c6a",
   "metadata": {
    "lang": "en"
   },
   "source": [
    "## Basic Methods of Tuples"
   ]
  },
  {
   "cell_type": "markdown",
   "id": "69bfdb0d",
   "metadata": {},
   "source": [
    "### tuple.index()"
   ]
  },
  {
   "cell_type": "markdown",
   "id": "23878a82",
   "metadata": {
    "lang": "en"
   },
   "source": [
    "We can find the index of the element we inserted into it with the **index()** method."
   ]
  },
  {
   "cell_type": "code",
   "execution_count": 2,
   "id": "93ea3d68",
   "metadata": {},
   "outputs": [
    {
     "data": {
      "text/plain": [
       "5"
      ]
     },
     "execution_count": 2,
     "metadata": {},
     "output_type": "execute_result"
    }
   ],
   "source": [
    "t = (0,1,2,3,4,5,6,7,8,9,10)\n",
    "t.index(5)"
   ]
  },
  {
   "cell_type": "markdown",
   "id": "3c9ef467",
   "metadata": {},
   "source": [
    "###  tuple.count()"
   ]
  },
  {
   "cell_type": "markdown",
   "id": "aca443ae",
   "metadata": {
    "lang": "en"
   },
   "source": [
    "With the **count()** method, we can find how many times the value we entered appears in the bundle."
   ]
  },
  {
   "cell_type": "code",
   "execution_count": 3,
   "id": "6b2c3784",
   "metadata": {},
   "outputs": [
    {
     "data": {
      "text/plain": [
       "11"
      ]
     },
     "execution_count": 3,
     "metadata": {},
     "output_type": "execute_result"
    }
   ],
   "source": [
    "new_tuple = (1,2,3,1,2,1,4,5,1,3,9,1,2,3,5,1,2,1,4,1,2,5,1,4,8,9,6,1,4,1)\n",
    "new_tuple.count(1)"
   ]
  },
  {
   "cell_type": "code",
   "execution_count": null,
   "id": "df24aa40",
   "metadata": {},
   "outputs": [],
   "source": []
  }
 ],
 "metadata": {
  "kernelspec": {
   "display_name": "Python 3 (ipykernel)",
   "language": "python",
   "name": "python3"
  },
  "language_info": {
   "codemirror_mode": {
    "name": "ipython",
    "version": 3
   },
   "file_extension": ".py",
   "mimetype": "text/x-python",
   "name": "python",
   "nbconvert_exporter": "python",
   "pygments_lexer": "ipython3",
   "version": "3.11.4"
  },
  "nbTranslate": {
   "displayLangs": [],
   "hotkey": "alt-t",
   "langInMainMenu": true,
   "sourceLang": "tr",
   "targetLang": "en",
   "useGoogleTranslate": true
  }
 },
 "nbformat": 4,
 "nbformat_minor": 5
}

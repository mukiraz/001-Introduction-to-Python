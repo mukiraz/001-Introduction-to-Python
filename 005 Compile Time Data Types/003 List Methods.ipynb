{
 "cells": [
  {
   "cell_type": "markdown",
   "id": "0323cfed",
   "metadata": {
    "lang": "en"
   },
   "source": [
    "# Basic List Methods and Operations\n",
    "\n",
    "In this section, we will learn the basic operations we can perform on lists and some basic methods."
   ]
  },
  {
   "cell_type": "markdown",
   "id": "assigned-restriction",
   "metadata": {},
   "source": [
    "### list.append(x)"
   ]
  },
  {
   "cell_type": "markdown",
   "id": "4d027d7a",
   "metadata": {
    "lang": "en"
   },
   "source": [
    "Adds an item to the end of the list"
   ]
  },
  {
   "cell_type": "code",
   "execution_count": 1,
   "id": "planned-piano",
   "metadata": {},
   "outputs": [
    {
     "data": {
      "text/plain": [
       "[1, 2, 3, 4, 5, 6, 7]"
      ]
     },
     "execution_count": 1,
     "metadata": {},
     "output_type": "execute_result"
    }
   ],
   "source": [
    "list1 = [1,2,3,4,5,6]\n",
    "list1.append(7)\n",
    "list1"
   ]
  },
  {
   "cell_type": "markdown",
   "id": "c820a3b8",
   "metadata": {
    "lang": "en"
   },
   "source": [
    "### list.extend( repeatable )"
   ]
  },
  {
   "cell_type": "markdown",
   "id": "80b10ea1",
   "metadata": {
    "lang": "en"
   },
   "source": [
    "Adds a new list to an existing list."
   ]
  },
  {
   "cell_type": "code",
   "execution_count": 2,
   "id": "33199a0a",
   "metadata": {
    "lang": "en"
   },
   "outputs": [
    {
     "name": "stdout",
     "output_type": "stream",
     "text": [
      "['apple', 'banana', 'cherry', 'Ford', 'BMW', 'Volvo']\n",
      "['Ford', 'BMW', 'Volvo']\n"
     ]
    }
   ],
   "source": [
    "fruits = ['apple', 'banana', 'cherry']\n",
    "\n",
    "cars = ['Ford', 'BMW', 'Volvo']\n",
    "\n",
    "fruits.extend(cars)\n",
    "print(fruits)\n",
    "print(cars)"
   ]
  },
  {
   "cell_type": "markdown",
   "id": "equivalent-virginia",
   "metadata": {},
   "source": [
    "### list.insert(i, x)"
   ]
  },
  {
   "cell_type": "markdown",
   "id": "961e674a",
   "metadata": {
    "lang": "en"
   },
   "source": [
    "Adds element x to the ith index number."
   ]
  },
  {
   "cell_type": "code",
   "execution_count": 3,
   "id": "85f7de48",
   "metadata": {
    "lang": "en"
   },
   "outputs": [
    {
     "data": {
      "text/plain": [
       "['apple', 'peach', 'banana', 'cherry']"
      ]
     },
     "execution_count": 3,
     "metadata": {},
     "output_type": "execute_result"
    }
   ],
   "source": [
    "fruits = ['apple', 'banana', 'cherry']\n",
    "fruits.insert(1,\"peach\")\n",
    "fruits"
   ]
  },
  {
   "cell_type": "markdown",
   "id": "turned-output",
   "metadata": {},
   "source": [
    "### list.remove(x)"
   ]
  },
  {
   "cell_type": "markdown",
   "id": "1af31cd7",
   "metadata": {
    "lang": "en"
   },
   "source": [
    "Removes x from the list"
   ]
  },
  {
   "cell_type": "code",
   "execution_count": 4,
   "id": "afebb669",
   "metadata": {
    "lang": "en"
   },
   "outputs": [
    {
     "data": {
      "text/plain": [
       "['apple', 'cherry']"
      ]
     },
     "execution_count": 4,
     "metadata": {},
     "output_type": "execute_result"
    }
   ],
   "source": [
    "fruits = ['apple', 'banana', 'cherry']\n",
    "\n",
    "fruits.remove(\"banana\")\n",
    "\n",
    "fruits"
   ]
  },
  {
   "cell_type": "markdown",
   "id": "assured-richmond",
   "metadata": {},
   "source": [
    "### list.pop([i])"
   ]
  },
  {
   "cell_type": "markdown",
   "id": "5741972a",
   "metadata": {
    "lang": "en"
   },
   "source": [
    "This method discards the element at the last index of the list if we do not give a value to it, if we do so, it discards the element at the index corresponding to the value we give, from the list and prints the discarded element on the screen."
   ]
  },
  {
   "cell_type": "code",
   "execution_count": 7,
   "id": "d9b0c5c2",
   "metadata": {
    "lang": "en"
   },
   "outputs": [
    {
     "data": {
      "text/plain": [
       "[1, 2, 3, 4]"
      ]
     },
     "execution_count": 7,
     "metadata": {},
     "output_type": "execute_result"
    }
   ],
   "source": [
    "l = [1,2,3,4,5]\n",
    "l.pop()\n",
    "l"
   ]
  },
  {
   "cell_type": "code",
   "execution_count": 8,
   "id": "focal-williams",
   "metadata": {},
   "outputs": [
    {
     "data": {
      "text/plain": [
       "[1, 2, 3, 5, 6, 7, 8, 9]"
      ]
     },
     "execution_count": 8,
     "metadata": {},
     "output_type": "execute_result"
    }
   ],
   "source": [
    "l = [1,2,3,4,5,6,7,8,9]\n",
    "l.pop(3)\n",
    "l"
   ]
  },
  {
   "cell_type": "markdown",
   "id": "naval-contents",
   "metadata": {},
   "source": [
    "### list.clear()"
   ]
  },
  {
   "cell_type": "markdown",
   "id": "f91baeb5",
   "metadata": {
    "lang": "en"
   },
   "source": [
    "Deletes all elements in the list."
   ]
  },
  {
   "cell_type": "code",
   "execution_count": 11,
   "id": "fb388aa2",
   "metadata": {
    "lang": "en"
   },
   "outputs": [
    {
     "name": "stdout",
     "output_type": "stream",
     "text": [
      "[1, 2, 3, 4, 5, 6, 7, 8, 9]\n",
      "[]\n"
     ]
    }
   ],
   "source": [
    "l = [1,2,3,4,5,6,7,8,9]\n",
    "print(l)\n",
    "l.clear()\n",
    "print(l)"
   ]
  },
  {
   "cell_type": "markdown",
   "id": "bacterial-effects",
   "metadata": {},
   "source": [
    "### list.index(x[, start[, end]])"
   ]
  },
  {
   "cell_type": "markdown",
   "id": "61d259c4",
   "metadata": {
    "lang": "en"
   },
   "source": [
    "Returns the index number of the x element"
   ]
  },
  {
   "cell_type": "code",
   "execution_count": null,
   "id": "7d9fa51f",
   "metadata": {
    "lang": "en"
   },
   "outputs": [],
   "source": [
    "fruits = ['apple', 'banana', 'cherry']\n",
    "fruits.index(\"cherry\",1,5)"
   ]
  },
  {
   "cell_type": "markdown",
   "id": "headed-encoding",
   "metadata": {},
   "source": [
    "### list.count(x)"
   ]
  },
  {
   "cell_type": "markdown",
   "id": "a9b887b8",
   "metadata": {
    "lang": "en"
   },
   "source": [
    "Counts the number of times the value x appears in the list"
   ]
  },
  {
   "cell_type": "code",
   "execution_count": 12,
   "id": "intelligent-ottawa",
   "metadata": {
    "scrolled": true
   },
   "outputs": [
    {
     "data": {
      "text/plain": [
       "10"
      ]
     },
     "execution_count": 12,
     "metadata": {},
     "output_type": "execute_result"
    }
   ],
   "source": [
    "l = [1, 2, 1 ,2, 3, 5, 1, 2, 3, 1, 4, 5, 6, 8, 1, 2, 4, 1, 2, 3, 5, 4, 1, 2, 3, 6 ,5, 1, 2, 3, 1, 2, 5, 4, 1, 5]\n",
    "l.count(1)"
   ]
  },
  {
   "cell_type": "markdown",
   "id": "clear-italian",
   "metadata": {},
   "source": [
    "### list.sort(*, key=None, reverse=False)"
   ]
  },
  {
   "cell_type": "markdown",
   "id": "4986a660",
   "metadata": {
    "lang": "en"
   },
   "source": [
    "The sort method allows us to sort the elements of the list."
   ]
  },
  {
   "cell_type": "code",
   "execution_count": 13,
   "id": "8659bf81",
   "metadata": {
    "lang": "en"
   },
   "outputs": [
    {
     "data": {
      "text/plain": [
       "['a',\n",
       " 'aaaa',\n",
       " 'aaaaa',\n",
       " 'b',\n",
       " 'eeeee',\n",
       " 'fffff',\n",
       " 'ggggg',\n",
       " 'hhh',\n",
       " 'hhhhh',\n",
       " 'kkkkk',\n",
       " 'ooooo',\n",
       " 'qqqqq',\n",
       " 'rrr',\n",
       " 'rrrrr',\n",
       " 'zzzzz']"
      ]
     },
     "execution_count": 13,
     "metadata": {},
     "output_type": "execute_result"
    }
   ],
   "source": [
    "#Alphabetical\n",
    "l = [\"a\", \"b\", \"fffff\", \"ggggg\", \"hhh\", \"rrr\", \"eeeee\", \"hhhhh\", \"aaaa\", \"kkkkk\", \"zzzzz\", \"ooooo\" ,\"qqqqq\", \"rrrrr\", \"aaaaa\"]\n",
    "l.sort()\n",
    "l"
   ]
  },
  {
   "cell_type": "code",
   "execution_count": 14,
   "id": "b0a42242",
   "metadata": {
    "lang": "en"
   },
   "outputs": [
    {
     "data": {
      "text/plain": [
       "[23, 51, 82, 149, 237, 344, 568, 3349]"
      ]
     },
     "execution_count": 14,
     "metadata": {},
     "output_type": "execute_result"
    }
   ],
   "source": [
    "#Numbers\n",
    "l = [344, 51, 568, 3349, 237, 82, 23, 149]\n",
    "l.sort() # Sorts from smallest to largest.\n",
    "l"
   ]
  },
  {
   "cell_type": "code",
   "execution_count": 15,
   "id": "external-bench",
   "metadata": {},
   "outputs": [
    {
     "data": {
      "text/plain": [
       "[3349, 568, 344, 237, 149, 82, 51, 23]"
      ]
     },
     "execution_count": 15,
     "metadata": {},
     "output_type": "execute_result"
    }
   ],
   "source": [
    "l.sort(reverse = True) # Büyükten küçüğe sıralar.\n",
    "l"
   ]
  },
  {
   "cell_type": "markdown",
   "id": "republican-eugene",
   "metadata": {},
   "source": [
    "### list.reverse()"
   ]
  },
  {
   "cell_type": "markdown",
   "id": "87c07ff1",
   "metadata": {
    "lang": "en"
   },
   "source": [
    "The Reverse method allows us to order the elements of the list in reverse order. Actually it is list[::-1] operation"
   ]
  },
  {
   "cell_type": "code",
   "execution_count": 16,
   "id": "immediate-circle",
   "metadata": {},
   "outputs": [
    {
     "data": {
      "text/plain": [
       "['aaaaa',\n",
       " 'rrrrr',\n",
       " 'qqqqq',\n",
       " 'ooooo',\n",
       " 'zzzzz',\n",
       " 'kkkkk',\n",
       " 'aaaa',\n",
       " 'hhhhh',\n",
       " 'eeeee',\n",
       " 'rrr',\n",
       " 'hhh',\n",
       " 'ggggg',\n",
       " 'fffff',\n",
       " 'b',\n",
       " 'a']"
      ]
     },
     "execution_count": 16,
     "metadata": {},
     "output_type": "execute_result"
    }
   ],
   "source": [
    "l = [\"a\", \"b\", \"fffff\", \"ggggg\", \"hhh\", \"rrr\", \"eeeee\", \"hhhhh\", \"aaaa\", \"kkkkk\", \"zzzzz\", \"ooooo\", \"qqqqq\", \"rrrrr\", \"aaaaa\"]\n",
    "l.reverse()\n",
    "l"
   ]
  },
  {
   "cell_type": "code",
   "execution_count": 30,
   "id": "psychological-daughter",
   "metadata": {},
   "outputs": [
    {
     "data": {
      "text/plain": [
       "['aaaaa',\n",
       " 'rrrrr',\n",
       " 'qqqqq',\n",
       " 'ooooo',\n",
       " 'zzzzz',\n",
       " 'kkkkk',\n",
       " 'aaaa',\n",
       " 'hhhhh',\n",
       " 'eeeee',\n",
       " 'rrr',\n",
       " 'hhh',\n",
       " 'ggggg',\n",
       " 'fffff',\n",
       " 'b',\n",
       " 'a']"
      ]
     },
     "execution_count": 30,
     "metadata": {},
     "output_type": "execute_result"
    }
   ],
   "source": [
    "l = [\"a\", \"b\", \"fffff\", \"ggggg\", \"hhh\", \"rrr\", \"eeeee\", \"hhhhh\", \"aaaa\", \"kkkkk\", \"zzzzz\", \"ooooo\", \"qqqqq\", \"rrrrr\", \"aaaaa\"]\n",
    "l[::-1]"
   ]
  },
  {
   "cell_type": "markdown",
   "id": "antique-brunei",
   "metadata": {},
   "source": [
    "### list.copy()"
   ]
  },
  {
   "cell_type": "markdown",
   "id": "b6621a27",
   "metadata": {
    "lang": "en"
   },
   "source": [
    "Copies the list :)"
   ]
  },
  {
   "cell_type": "code",
   "execution_count": 17,
   "id": "eddd5f3a",
   "metadata": {
    "lang": "en"
   },
   "outputs": [
    {
     "data": {
      "text/plain": [
       "['apple', 'banana', 'cherry']"
      ]
     },
     "execution_count": 17,
     "metadata": {},
     "output_type": "execute_result"
    }
   ],
   "source": [
    "fruits = ['apple', 'banana', 'cherry']\n",
    "x = fruits.copy()\n",
    "x"
   ]
  },
  {
   "cell_type": "markdown",
   "id": "e6816cb2",
   "metadata": {},
   "source": [
    "### len(s)"
   ]
  },
  {
   "cell_type": "markdown",
   "id": "dceb4a92",
   "metadata": {
    "lang": "en"
   },
   "source": [
    "Returns the length of the array."
   ]
  },
  {
   "cell_type": "code",
   "execution_count": 18,
   "id": "47436b33",
   "metadata": {
    "lang": "en"
   },
   "outputs": [],
   "source": [
    "character_array = \"Murat Ugur KIRAZ\""
   ]
  },
  {
   "cell_type": "code",
   "execution_count": 19,
   "id": "532f5998",
   "metadata": {},
   "outputs": [
    {
     "data": {
      "text/plain": [
       "16"
      ]
     },
     "execution_count": 19,
     "metadata": {},
     "output_type": "execute_result"
    }
   ],
   "source": [
    "len(character_array)"
   ]
  },
  {
   "cell_type": "markdown",
   "id": "750433f8",
   "metadata": {},
   "source": [
    "### min(s)"
   ]
  },
  {
   "cell_type": "markdown",
   "id": "b89423fe",
   "metadata": {
    "lang": "en"
   },
   "source": [
    "Returns the smallest element in the array s"
   ]
  },
  {
   "cell_type": "code",
   "execution_count": 22,
   "id": "e09941ff",
   "metadata": {},
   "outputs": [
    {
     "data": {
      "text/plain": [
       "'a'"
      ]
     },
     "execution_count": 22,
     "metadata": {},
     "output_type": "execute_result"
    }
   ],
   "source": [
    "min(l)"
   ]
  }
 ],
 "metadata": {
  "kernelspec": {
   "display_name": "Python 3 (ipykernel)",
   "language": "python",
   "name": "python3"
  },
  "language_info": {
   "codemirror_mode": {
    "name": "ipython",
    "version": 3
   },
   "file_extension": ".py",
   "mimetype": "text/x-python",
   "name": "python",
   "nbconvert_exporter": "python",
   "pygments_lexer": "ipython3",
   "version": "3.11.4"
  },
  "nbTranslate": {
   "displayLangs": [],
   "hotkey": "alt-t",
   "langInMainMenu": true,
   "sourceLang": "tr",
   "targetLang": "en",
   "useGoogleTranslate": true
  }
 },
 "nbformat": 4,
 "nbformat_minor": 5
}

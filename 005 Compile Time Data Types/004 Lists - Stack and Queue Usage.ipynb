{
 "cells": [
  {
   "cell_type": "markdown",
   "id": "4d7a8c80",
   "metadata": {
    "lang": "en"
   },
   "source": [
    "## Stack Structures in Python"
   ]
  },
  {
   "cell_type": "markdown",
   "id": "fd3c2ac3",
   "metadata": {
    "lang": "en"
   },
   "source": [
    "We can use lists as stacks.\n",
    "\n",
    "List methods make it very easy to use a list as a stack; where the last item added is the first item taken (“last in, first out”). We use the append() function to add an item to the top of the stack. We use the pop() function to get an element from the top of the stack."
   ]
  },
  {
   "cell_type": "code",
   "execution_count": 1,
   "id": "9845ea8c",
   "metadata": {
    "lang": "en"
   },
   "outputs": [
    {
     "data": {
      "text/plain": [
       "[3, 4, 5, 6, 7]"
      ]
     },
     "execution_count": 1,
     "metadata": {},
     "output_type": "execute_result"
    }
   ],
   "source": [
    "#Let's create a variable called list_stack with  elements 3,4,5. Add 6 and 7 to this list (stack) with the append function.\n",
    "# Let's add the elements. Let's look at the list_stack variable.\n",
    "list_stack = [3, 4, 5]\n",
    "list_stack.append(6)\n",
    "list_stack.append(7)\n",
    "list_stack"
   ]
  },
  {
   "cell_type": "code",
   "execution_count": 2,
   "id": "5f841e2a",
   "metadata": {
    "lang": "en"
   },
   "outputs": [
    {
     "data": {
      "text/plain": [
       "[3, 4, 5, 6]"
      ]
     },
     "execution_count": 2,
     "metadata": {},
     "output_type": "execute_result"
    }
   ],
   "source": [
    "#Now let's remove the last element using the pop() function.\n",
    "list_stack.pop()\n",
    "list_stack"
   ]
  },
  {
   "cell_type": "code",
   "execution_count": 3,
   "id": "3cfd05b6",
   "metadata": {
    "lang": "en"
   },
   "outputs": [
    {
     "data": {
      "text/plain": [
       "[3, 4, 5]"
      ]
     },
     "execution_count": 3,
     "metadata": {},
     "output_type": "execute_result"
    }
   ],
   "source": [
    "# Now let's remove the last element using the pop() function.\n",
    "list_stack.pop()\n",
    "list_stack"
   ]
  },
  {
   "cell_type": "markdown",
   "id": "fd0ab9a6",
   "metadata": {
    "lang": "en"
   },
   "source": [
    "## Queue Structures in Python"
   ]
  },
  {
   "cell_type": "markdown",
   "id": "d4fc5861",
   "metadata": {
    "lang": "en"
   },
   "source": [
    "It is also possible to use a list as a queue, where the first element inserted is the first element retrieved (\"first in, first out\"); but lists in python are not efficient for this purpose. Lists are thought of as stacks. That is, the append() and pop() methods for adding and removing data to a list are fast, but adding or removing data from the beginning of a list is slow (because all other elements must be shifted one by one)."
   ]
  },
  {
   "cell_type": "markdown",
   "id": "8546610e",
   "metadata": {
    "lang": "en"
   },
   "source": [
    "To solve this problem, python developers developed collections.deque library. With this library, append() and pop() methods can be quickly applied to the list designed to work sequentially."
   ]
  },
  {
   "cell_type": "code",
   "execution_count": 5,
   "id": "3ed76c52",
   "metadata": {
    "lang": "en"
   },
   "outputs": [
    {
     "name": "stdout",
     "output_type": "stream",
     "text": [
      "deque(['foo', 'baz', 'bar'])\n",
      "deque(['baz', 'bar'])\n"
     ]
    },
    {
     "data": {
      "text/plain": [
       "collections.deque"
      ]
     },
     "execution_count": 5,
     "metadata": {},
     "output_type": "execute_result"
    }
   ],
   "source": [
    "# collections (library containing data structures) from here we say impoer dqueue.\n",
    "from collections import deque\n",
    "# Let's create our queue.\n",
    "list_queue = deque([\"foo\", \"baz\"])\n",
    "# Here the append function adds the data to the end of the list.\n",
    "list_queue.append(\"bar\")\n",
    "# Let's print our list.\n",
    "print(list_queue)\n",
    "# Let's remove the first element.\n",
    "list_queue.popleft()\n",
    "# Let's print our list.\n",
    "print(list_queue)\n",
    "\n",
    "type(list_queue)"
   ]
  },
  {
   "cell_type": "code",
   "execution_count": null,
   "id": "9e444eb5",
   "metadata": {},
   "outputs": [],
   "source": []
  }
 ],
 "metadata": {
  "kernelspec": {
   "display_name": "Python 3 (ipykernel)",
   "language": "python",
   "name": "python3"
  },
  "language_info": {
   "codemirror_mode": {
    "name": "ipython",
    "version": 3
   },
   "file_extension": ".py",
   "mimetype": "text/x-python",
   "name": "python",
   "nbconvert_exporter": "python",
   "pygments_lexer": "ipython3",
   "version": "3.11.4"
  },
  "nbTranslate": {
   "displayLangs": [],
   "hotkey": "alt-t",
   "langInMainMenu": true,
   "sourceLang": "tr",
   "targetLang": "en",
   "useGoogleTranslate": true
  }
 },
 "nbformat": 4,
 "nbformat_minor": 5
}

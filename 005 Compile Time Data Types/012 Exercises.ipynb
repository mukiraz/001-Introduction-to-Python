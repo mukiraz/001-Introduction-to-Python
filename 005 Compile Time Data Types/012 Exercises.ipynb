{
 "cells": [
  {
   "cell_type": "markdown",
   "id": "07c79cba",
   "metadata": {},
   "source": [
    "# Egzersizler\n",
    "## Egzersiz 1\n",
    "\n",
    "Elimizde 5 rakamdan oluşan bir liste var: 1, 2, 3, 4 ve 5.\n",
    "\n",
    "Adım 1: Kullanıcıdan ortadaki sayıyı kullanıcı tarafından girilen bir tam sayıyla değiştirmesini isteyen bir kod satırı yazın.\n",
    "\n",
    "Adım 2: Listedeki son öğeyi kaldıran bir kod satırı yazın.\n",
    "\n",
    "Adım 3: Mevcut listenin uzunluğunu yazdıran bir kod satırı yazın."
   ]
  },
  {
   "cell_type": "code",
   "execution_count": null,
   "id": "d6fc8e05",
   "metadata": {},
   "outputs": [],
   "source": [
    "l = [1, 2, 3, 4, 5]  # This is an existing list of numbers.\n",
    "\n",
    "# Adım 1: Kullanıcıdan ortadaki sayıyı kullanıcı tarafından girilen bir tam sayıyla değiştirmesini isteyen bir kod satırı yazın.\n",
    "\n",
    "# Adım 2: Listedeki son öğeyi kaldıran bir kod satırı yazın.\n",
    "\n",
    "# Adım 3: Mevcut listenin uzunluğunu yazdıran bir kod satırı yazın.\n",
    "\n",
    "print(l)"
   ]
  },
  {
   "cell_type": "markdown",
   "id": "3a5f873d",
   "metadata": {},
   "source": [
    "## Egzersiz 2\n",
    "Beatles, 1960'ların en popüler müzik gruplarından biriydi ve tarihin en çok satan grubuydu. Bazıları onları rock döneminin en etkili eylemi olarak görüyor. Gerçekten de Time dergisinin 20. yüzyılın en etkili 100 kişisi derlemesinde yer aldılar.\n",
    "\n",
    "Grup birçok kadro değişikliğine uğradı ve 1962'de John Lennon, Paul McCartney, George Harrison ve Richard Starkey'den (daha çok Ringo Starr olarak bilinir) oluşan kadroyla sonuçlandı.\n",
    "\n",
    "Bu değişiklikleri yansıtan ve liste kavramıyla pratik yapmanızı sağlayan bir program yazın. Göreviniz:\n",
    "\n",
    "1. adım 1: Beatles adında boş bir liste oluşturun;\n",
    "2. adım 2: grubun şu üyelerini listeye eklemek için apend() yöntemini kullanın: John Lennon, Paul McCartney ve George Harrison;\n",
    "3. adım 3: Kullanıcı tarafından şu üyeleri listeye eklemek için for döngüsünü ve apend() yöntemini kullanın: Stu Sutcliffe ve Pete Best;\n",
    "4. adım 4: Stu Sutcliffe ve Pete Best'i listeden kaldırmak için del komutunu kullanın;\n",
    "5. adım 5: Ringo Starr'ı listenin başına eklemek için insert() yöntemini kullanın."
   ]
  },
  {
   "cell_type": "code",
   "execution_count": null,
   "id": "d67dd66a",
   "metadata": {},
   "outputs": [],
   "source": [
    "# step 1\n",
    "print(\"Step 1:\", beatles)\n",
    "\n",
    "# step 2\n",
    "print(\"Step 2:\", beatles)\n",
    "\n",
    "# step 3\n",
    "print(\"Step 3:\", beatles)\n",
    "\n",
    "# step 4\n",
    "print(\"Step 4:\", beatles)\n",
    "\n",
    "# step 5\n",
    "print(\"Step 5:\", beatles)\n",
    "\n",
    "\n",
    "# testing list legth\n",
    "print(\"The Fab\", len(beatles))"
   ]
  },
  {
   "cell_type": "markdown",
   "id": "b5725457",
   "metadata": {},
   "source": [
    "### Egzersiz 3\n",
    "Aşağıdaki my_list değişkeninde sayılar vardır.\n",
    "\n",
    "Tekrarlanan sayıları kaldıran kodu yazınız."
   ]
  },
  {
   "cell_type": "code",
   "execution_count": null,
   "id": "36130754",
   "metadata": {},
   "outputs": [],
   "source": [
    "my_list = [1, 2, 4, 4, 1, 4, 2, 6, 2, 9]\n",
    "#\n",
    "# Kodunuzu buraya yazın.\n",
    "#\n",
    "print(\"Yalnızca benzersiz öğeler içeren liste::\")\n",
    "print(my_list)"
   ]
  },
  {
   "cell_type": "code",
   "execution_count": 2,
   "id": "fbc48549",
   "metadata": {},
   "outputs": [],
   "source": [
    "nums = []\n",
    "vals = nums[:]\n",
    "vals.append(1)"
   ]
  },
  {
   "cell_type": "code",
   "execution_count": 3,
   "id": "076d8f11",
   "metadata": {},
   "outputs": [
    {
     "data": {
      "text/plain": [
       "[]"
      ]
     },
     "execution_count": 3,
     "metadata": {},
     "output_type": "execute_result"
    }
   ],
   "source": [
    "nums"
   ]
  },
  {
   "cell_type": "code",
   "execution_count": 4,
   "id": "0c089dea",
   "metadata": {},
   "outputs": [
    {
     "data": {
      "text/plain": [
       "[1]"
      ]
     },
     "execution_count": 4,
     "metadata": {},
     "output_type": "execute_result"
    }
   ],
   "source": [
    "vals"
   ]
  },
  {
   "cell_type": "code",
   "execution_count": null,
   "id": "a53cbee2",
   "metadata": {},
   "outputs": [],
   "source": []
  }
 ],
 "metadata": {
  "kernelspec": {
   "display_name": "Python 3 (ipykernel)",
   "language": "python",
   "name": "python3"
  },
  "language_info": {
   "codemirror_mode": {
    "name": "ipython",
    "version": 3
   },
   "file_extension": ".py",
   "mimetype": "text/x-python",
   "name": "python",
   "nbconvert_exporter": "python",
   "pygments_lexer": "ipython3",
   "version": "3.11.5"
  },
  "nbTranslate": {
   "displayLangs": [
    "en",
    "tr"
   ],
   "hotkey": "alt-t",
   "langInMainMenu": true,
   "sourceLang": "tr",
   "targetLang": "en",
   "useGoogleTranslate": true
  }
 },
 "nbformat": 4,
 "nbformat_minor": 5
}

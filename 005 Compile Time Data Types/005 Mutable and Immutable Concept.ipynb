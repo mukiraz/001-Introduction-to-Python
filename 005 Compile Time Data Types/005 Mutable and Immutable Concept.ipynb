{
 "cells": [
  {
   "cell_type": "markdown",
   "id": "208e2503",
   "metadata": {},
   "source": [
    "# Mutable (Değiştirilebilir) ve Immutable (Değiştirilemeyen) kavramları\n",
    "Python'da, veri tipleri iki ana kategoriye ayrılır: mutable (değiştirilebilir) ve immutable (değiştirilemez). \n",
    "\n",
    "**1. Mutable (Değiştirilebilir):**\n",
    "\n",
    "Oluşturulduktan sonra içerikleri değiştirilebilen veri tipleridir. Yani, bir kez oluşturulduktan sonra bu nesneler üzerinde değişiklikler yapabilirsiniz. Örnek olarak, listeler (lists) ve sözlükler (dictionaries) mutable veri tiplerine örnektir."
   ]
  },
  {
   "cell_type": "code",
   "execution_count": 1,
   "id": "85b47b85",
   "metadata": {},
   "outputs": [
    {
     "name": "stdout",
     "output_type": "stream",
     "text": [
      "[4, 2, 3]\n"
     ]
    }
   ],
   "source": [
    "my_list = [1, 2, 3]\n",
    "my_list[0] = 4  # Liste öğesini değiştirebilirsiniz.\n",
    "print(my_list)  # Sonuç: [4, 2, 3]"
   ]
  },
  {
   "cell_type": "markdown",
   "id": "4ed6c6f2",
   "metadata": {},
   "source": [
    "Mutable veri tipleri, bellekte aynı referansa sahip oldukları için birçok operasyonun gerçekleştirilmesini kolaylaştırır. Ancak, bu özellik bazen beklenmeyen sonuçlara yol açabilir, özellikle referansı paylaşan farklı değişkenler arasında değişikliklerin istenmeyen etkileri olabilir."
   ]
  },
  {
   "cell_type": "markdown",
   "id": "de705a6d",
   "metadata": {},
   "source": [
    "**2. Immutable (Değiştirilemez):**\n",
    "\n",
    "Immutable veri tipleri, oluşturulduktan sonra içerikleri değiştirilemeyen veri tipleridir. Bu tür nesneler, bir kez oluşturulduktan sonra değiştirilemezler. Örnek olarak, sayılar (integers), karakter dizileri (strings) ve tuple'lar immutable veri tiplerine örnektir. İşte bir string örneği:"
   ]
  },
  {
   "cell_type": "code",
   "execution_count": 2,
   "id": "5ad34b46",
   "metadata": {},
   "outputs": [
    {
     "ename": "TypeError",
     "evalue": "'str' object does not support item assignment",
     "output_type": "error",
     "traceback": [
      "\u001b[1;31m---------------------------------------------------------------------------\u001b[0m",
      "\u001b[1;31mTypeError\u001b[0m                                 Traceback (most recent call last)",
      "Cell \u001b[1;32mIn[2], line 2\u001b[0m\n\u001b[0;32m      1\u001b[0m my_string \u001b[38;5;241m=\u001b[39m \u001b[38;5;124m\"\u001b[39m\u001b[38;5;124mHello\u001b[39m\u001b[38;5;124m\"\u001b[39m\n\u001b[1;32m----> 2\u001b[0m my_string[\u001b[38;5;241m0\u001b[39m] \u001b[38;5;241m=\u001b[39m \u001b[38;5;124m\"\u001b[39m\u001b[38;5;124mJ\u001b[39m\u001b[38;5;124m\"\u001b[39m\n",
      "\u001b[1;31mTypeError\u001b[0m: 'str' object does not support item assignment"
     ]
    }
   ],
   "source": [
    "my_string = \"Hello\"\n",
    "my_string[0] = \"J\"  # Bu kod bloğu hata verir."
   ]
  },
  {
   "cell_type": "markdown",
   "id": "328b237e",
   "metadata": {},
   "source": [
    "Immutable veri tipleri, güvenli ve öngörülebilir kod yazmayı teşvik eder. Bu tür veri tipleri üzerinde yapılan işlemler, yeni bir nesne oluşturarak orijinal nesnenin değerini değiştirmez. Bu nedenle, immutable nesneler arasında referans paylaşımı daha az sorunlu olabilir.\n",
    "\n",
    "Bu konunun detayı fonksiyonlarda anlatılacaktır."
   ]
  },
  {
   "cell_type": "code",
   "execution_count": null,
   "id": "c3d40d97",
   "metadata": {},
   "outputs": [],
   "source": []
  }
 ],
 "metadata": {
  "kernelspec": {
   "display_name": "Python 3 (ipykernel)",
   "language": "python",
   "name": "python3"
  },
  "language_info": {
   "codemirror_mode": {
    "name": "ipython",
    "version": 3
   },
   "file_extension": ".py",
   "mimetype": "text/x-python",
   "name": "python",
   "nbconvert_exporter": "python",
   "pygments_lexer": "ipython3",
   "version": "3.11.5"
  },
  "nbTranslate": {
   "displayLangs": [
    "en",
    "tr"
   ],
   "hotkey": "alt-t",
   "langInMainMenu": true,
   "sourceLang": "tr",
   "targetLang": "en",
   "useGoogleTranslate": true
  }
 },
 "nbformat": 4,
 "nbformat_minor": 5
}

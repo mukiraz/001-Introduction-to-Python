{
 "cells": [
  {
   "cell_type": "markdown",
   "id": "e126ac2b",
   "metadata": {
    "lang": "en"
   },
   "source": [
    "# Lists"
   ]
  },
  {
   "cell_type": "markdown",
   "id": "63ac2797",
   "metadata": {
    "lang": "en"
   },
   "source": [
    "Lists are similar to strings in their structure. Its usage area is very wide.\n",
    "\n",
    "Lists can be split and indexed just like strings. Like string methods (capitalize(), index(), find()), there are also methods for lists.\n",
    "\n",
    "However, while we cannot change the **n**th element of strings, we can change the nth element of lists.\n",
    "\n",
    "We can store elements of any data type in a list."
   ]
  },
  {
   "cell_type": "markdown",
   "id": "fe42b585",
   "metadata": {
    "lang": "en"
   },
   "source": [
    "## List Creation"
   ]
  },
  {
   "cell_type": "code",
   "execution_count": 1,
   "id": "8df6a076",
   "metadata": {
    "lang": "en"
   },
   "outputs": [
    {
     "data": {
      "text/plain": [
       "[]"
      ]
     },
     "execution_count": 1,
     "metadata": {},
     "output_type": "execute_result"
    }
   ],
   "source": [
    "# Empty list . It can also be created with the list() function.\n",
    "empty_list = list()\n",
    "empty_list"
   ]
  },
  {
   "cell_type": "code",
   "execution_count": 2,
   "id": "06f65c80",
   "metadata": {
    "lang": "en"
   },
   "outputs": [
    {
     "data": {
      "text/plain": [
       "[]"
      ]
     },
     "execution_count": 2,
     "metadata": {},
     "output_type": "execute_result"
    }
   ],
   "source": [
    "# Empty list can be created with square brackets [].\n",
    "empty_list = []\n",
    "empty_list"
   ]
  },
  {
   "cell_type": "code",
   "execution_count": 3,
   "id": "c142a824",
   "metadata": {
    "lang": "en"
   },
   "outputs": [
    {
     "data": {
      "text/plain": [
       "[1, 2, 3, 4, 5, 6, 7]"
      ]
     },
     "execution_count": 3,
     "metadata": {},
     "output_type": "execute_result"
    }
   ],
   "source": [
    "# Creating a full list\n",
    "list = [1,2,3,4,5,6,7]\n",
    "list"
   ]
  },
  {
   "cell_type": "code",
   "execution_count": 4,
   "id": "c4ea4ebd",
   "metadata": {
    "lang": "en"
   },
   "outputs": [
    {
     "data": {
      "text/plain": [
       "[1, 44, 3, 4, 5, 6, 7]"
      ]
     },
     "execution_count": 4,
     "metadata": {},
     "output_type": "execute_result"
    }
   ],
   "source": [
    "# Changing an element in the list\n",
    "list[1] = 44\n",
    "list"
   ]
  },
  {
   "cell_type": "code",
   "execution_count": 8,
   "id": "43791c2e",
   "metadata": {
    "lang": "en"
   },
   "outputs": [
    {
     "data": {
      "text/plain": [
       "[4, 5, 65, 6.25, 'pen', 3.14, 5.324]"
      ]
     },
     "execution_count": 8,
     "metadata": {},
     "output_type": "execute_result"
    }
   ],
   "source": [
    "# We can store values of different data types in a list variable.\n",
    "list2 = [4,5,65,6.25,\"pen\",3.14,5.324]\n",
    "list2"
   ]
  },
  {
   "cell_type": "code",
   "execution_count": 2,
   "id": "5aca2975",
   "metadata": {
    "lang": "en"
   },
   "outputs": [
    {
     "data": {
      "text/plain": [
       "['H', 'e', 'l', 'l', 'o']"
      ]
     },
     "execution_count": 2,
     "metadata": {},
     "output_type": "execute_result"
    }
   ],
   "source": [
    "# A string can be converted to a list using the list() function.\n",
    "s = \"Hello\"\n",
    "lst = list(s)\n",
    "lst"
   ]
  },
  {
   "cell_type": "code",
   "execution_count": 3,
   "id": "1f8605c0",
   "metadata": {
    "lang": "en"
   },
   "outputs": [
    {
     "ename": "TypeError",
     "evalue": "'int' object is not iterable",
     "output_type": "error",
     "traceback": [
      "\u001b[1;31m---------------------------------------------------------------------------\u001b[0m",
      "\u001b[1;31mTypeError\u001b[0m                                 Traceback (most recent call last)",
      "Cell \u001b[1;32mIn[3], line 3\u001b[0m\n\u001b[0;32m      1\u001b[0m \u001b[38;5;66;03m# But number type values ​​cannot be converted to a list. The code below will throw an error.\u001b[39;00m\n\u001b[0;32m      2\u001b[0m s \u001b[38;5;241m=\u001b[39m \u001b[38;5;241m12364\u001b[39m\n\u001b[1;32m----> 3\u001b[0m lst \u001b[38;5;241m=\u001b[39m \u001b[38;5;28mlist\u001b[39m(s)\n\u001b[0;32m      4\u001b[0m lst\n",
      "\u001b[1;31mTypeError\u001b[0m: 'int' object is not iterable"
     ]
    }
   ],
   "source": [
    "# But number type values cannot be converted to a list. The code below will throw an error.\n",
    "s = 12364\n",
    "lst = list(s)\n",
    "lst"
   ]
  },
  {
   "cell_type": "markdown",
   "id": "773dd185",
   "metadata": {
    "lang": "en"
   },
   "source": [
    "## Indexing and Sharding Lists"
   ]
  },
  {
   "cell_type": "markdown",
   "id": "86572c52",
   "metadata": {
    "lang": "en"
   },
   "source": [
    "We have seen indexing and fragmentation operations on strings. Indexing and partitioning operations for lists are the same as for strings."
   ]
  },
  {
   "cell_type": "code",
   "execution_count": 5,
   "id": "d1f18830",
   "metadata": {
    "lang": "en"
   },
   "outputs": [],
   "source": [
    "# Let's recreate our #list variable.\n",
    "list=[1,2,3,4,5,6,7,8,9]"
   ]
  },
  {
   "cell_type": "code",
   "execution_count": 6,
   "id": "cc45c3a9",
   "metadata": {
    "lang": "en"
   },
   "outputs": [
    {
     "data": {
      "text/plain": [
       "1"
      ]
     },
     "execution_count": 6,
     "metadata": {},
     "output_type": "execute_result"
    }
   ],
   "source": [
    "# 0th element of the list\n",
    "list[0]"
   ]
  },
  {
   "cell_type": "code",
   "execution_count": 7,
   "id": "59c866f7",
   "metadata": {
    "lang": "en"
   },
   "outputs": [
    {
     "data": {
      "text/plain": [
       "5"
      ]
     },
     "execution_count": 7,
     "metadata": {},
     "output_type": "execute_result"
    }
   ],
   "source": [
    "# 4th element of the list\n",
    "list[4]"
   ]
  },
  {
   "cell_type": "code",
   "execution_count": 8,
   "id": "b0cac482",
   "metadata": {
    "lang": "en"
   },
   "outputs": [
    {
     "data": {
      "text/plain": [
       "9"
      ]
     },
     "execution_count": 8,
     "metadata": {},
     "output_type": "execute_result"
    }
   ],
   "source": [
    "# Last element of the list\n",
    "list[-1]"
   ]
  },
  {
   "cell_type": "code",
   "execution_count": 9,
   "id": "4bd71c93",
   "metadata": {
    "lang": "en"
   },
   "outputs": [
    {
     "data": {
      "text/plain": [
       "9"
      ]
     },
     "execution_count": 9,
     "metadata": {},
     "output_type": "execute_result"
    }
   ],
   "source": [
    "# Last element of the list\n",
    "list[len(list)-1]"
   ]
  },
  {
   "cell_type": "code",
   "execution_count": 10,
   "id": "a2c50742",
   "metadata": {
    "lang": "en"
   },
   "outputs": [
    {
     "data": {
      "text/plain": [
       "[1, 2, 3, 4, 5]"
      ]
     },
     "execution_count": 10,
     "metadata": {},
     "output_type": "execute_result"
    }
   ],
   "source": [
    "# From the beginning to the 5th index (not included)\n",
    "list[:5]"
   ]
  },
  {
   "cell_type": "code",
   "execution_count": 11,
   "id": "2a18f71e",
   "metadata": {
    "lang": "en"
   },
   "outputs": [
    {
     "data": {
      "text/plain": [
       "[3, 4]"
      ]
     },
     "execution_count": 11,
     "metadata": {},
     "output_type": "execute_result"
    }
   ],
   "source": [
    "# From index 2 to index 4\n",
    "list[2:4]"
   ]
  },
  {
   "cell_type": "code",
   "execution_count": 12,
   "id": "94cedce2",
   "metadata": {
    "lang": "en"
   },
   "outputs": [
    {
     "data": {
      "text/plain": [
       "[6, 7, 8, 9]"
      ]
     },
     "execution_count": 12,
     "metadata": {},
     "output_type": "execute_result"
    }
   ],
   "source": [
    "#Retrieves from the 5th element\n",
    "list[5:]"
   ]
  },
  {
   "cell_type": "code",
   "execution_count": 13,
   "id": "932fcf52",
   "metadata": {
    "lang": "en"
   },
   "outputs": [
    {
     "data": {
      "text/plain": [
       "[1, 3, 5, 7, 9]"
      ]
     },
     "execution_count": 13,
     "metadata": {},
     "output_type": "execute_result"
    }
   ],
   "source": [
    "#gets list elements by skipping by 2\n",
    "list[::2]"
   ]
  },
  {
   "cell_type": "code",
   "execution_count": 14,
   "id": "818c6b7d",
   "metadata": {
    "lang": "en"
   },
   "outputs": [
    {
     "data": {
      "text/plain": [
       "[9, 8, 7, 6, 5, 4, 3, 2, 1]"
      ]
     },
     "execution_count": 14,
     "metadata": {},
     "output_type": "execute_result"
    }
   ],
   "source": [
    "# invert the list\n",
    "list[::-1]"
   ]
  },
  {
   "cell_type": "markdown",
   "id": "3ff93f9f",
   "metadata": {
    "lang": "en"
   },
   "source": [
    "### Nested Lists\n",
    "\n",
    "It is possible to contain another list inside a list. These are called nested lists in Python. This type of feature is very useful in tree structures or matrix structures in Python."
   ]
  },
  {
   "cell_type": "code",
   "execution_count": null,
   "id": "64f8330a",
   "metadata": {
    "lang": "en"
   },
   "outputs": [],
   "source": [
    "#3 Let's create a list.\n",
    "\n",
    "list1 = [1, 2, 3]\n",
    "list2 = [4, 5, 6]\n",
    "list3 = [7, 8, 9]\n",
    "\n",
    "newlist = [list1, list2, list3]\n",
    "newlist"
   ]
  },
  {
   "cell_type": "code",
   "execution_count": null,
   "id": "1fcc5f8f",
   "metadata": {
    "lang": "en"
   },
   "outputs": [],
   "source": [
    "# 0th element of 1st element\n",
    "newlist[1][0]"
   ]
  },
  {
   "cell_type": "markdown",
   "id": "6bf1916e",
   "metadata": {
    "lang": "en"
   },
   "source": [
    "## Array Operations"
   ]
  },
  {
   "cell_type": "markdown",
   "id": "f12c0a29",
   "metadata": {
    "lang": "en"
   },
   "source": [
    "# in operator"
   ]
  },
  {
   "cell_type": "markdown",
   "id": "8ab25eec",
   "metadata": {
    "lang": "en"
   },
   "source": [
    "It is a Boolean expression, that is, true-false. It is used as **x in s**. It returns true if the element x is in the array s, otherwise false."
   ]
  },
  {
   "cell_type": "code",
   "execution_count": null,
   "id": "9f4aefe1",
   "metadata": {
    "lang": "en"
   },
   "outputs": [],
   "source": [
    "list_ = [1,2,3,4,5,6,7,8,9]\n",
    "\n",
    "1 in list_"
   ]
  },
  {
   "cell_type": "code",
   "execution_count": null,
   "id": "a70f7104",
   "metadata": {
    "lang": "en"
   },
   "outputs": [],
   "source": [
    "10 in list"
   ]
  },
  {
   "cell_type": "markdown",
   "id": "b0210b1a",
   "metadata": {
    "lang": "en"
   },
   "source": [
    "### not in operator"
   ]
  },
  {
   "cell_type": "markdown",
   "id": "b38a7744",
   "metadata": {
    "lang": "en"
   },
   "source": [
    "As we know, the note operator was affecting. We can use it as x not in s. It returns true if the element x is not in the array s, and false if it is inside the array s."
   ]
  },
  {
   "cell_type": "code",
   "execution_count": 16,
   "id": "3376b611",
   "metadata": {
    "lang": "en"
   },
   "outputs": [
    {
     "data": {
      "text/plain": [
       "False"
      ]
     },
     "execution_count": 16,
     "metadata": {},
     "output_type": "execute_result"
    }
   ],
   "source": [
    "list_ = [1,2,3,4,5,6,7,8,9]\n",
    "\n",
    "1 not in list_"
   ]
  },
  {
   "cell_type": "code",
   "execution_count": 17,
   "id": "b24c36a0",
   "metadata": {
    "lang": "tr"
   },
   "outputs": [
    {
     "data": {
      "text/plain": [
       "True"
      ]
     },
     "execution_count": 17,
     "metadata": {},
     "output_type": "execute_result"
    }
   ],
   "source": [
    "10 not in list_"
   ]
  },
  {
   "cell_type": "markdown",
   "id": "fa7111e7",
   "metadata": {
    "lang": "en"
   },
   "source": [
    "### + operator"
   ]
  },
  {
   "cell_type": "markdown",
   "id": "b9005e50",
   "metadata": {
    "lang": "en"
   },
   "source": [
    "Bitifies two arrays"
   ]
  },
  {
   "cell_type": "code",
   "execution_count": 19,
   "id": "2cead2b3",
   "metadata": {
    "lang": "en"
   },
   "outputs": [
    {
     "data": {
      "text/plain": [
       "[1, 2, 3, 4, 5, 6, 'Murat', 'Ugur', 'KIRAZ']"
      ]
     },
     "execution_count": 19,
     "metadata": {},
     "output_type": "execute_result"
    }
   ],
   "source": [
    "list1 = [1,2,3,4,5,6]\n",
    "list2 = [\"Murat\", \"Ugur\", \"KIRAZ\"]\n",
    "new_list = list1 + list2\n",
    "new_list"
   ]
  },
  {
   "cell_type": "markdown",
   "id": "ddb3b565",
   "metadata": {
    "lang": "en"
   },
   "source": [
    "### * operator"
   ]
  },
  {
   "cell_type": "markdown",
   "id": "5c67e203",
   "metadata": {
    "lang": "en"
   },
   "source": [
    "Its notation is \"s*n\". Copies the array n s times and adds it to the same list"
   ]
  },
  {
   "cell_type": "code",
   "execution_count": 20,
   "id": "5ca3fec9",
   "metadata": {
    "lang": "tr"
   },
   "outputs": [
    {
     "data": {
      "text/plain": [
       "[1, 2, 3, 4, 5, 6, 1, 2, 3, 4, 5, 6, 1, 2, 3, 4, 5, 6]"
      ]
     },
     "execution_count": 20,
     "metadata": {},
     "output_type": "execute_result"
    }
   ],
   "source": [
    "3 * list1"
   ]
  },
  {
   "cell_type": "code",
   "execution_count": 21,
   "id": "ceab384a",
   "metadata": {
    "lang": "tr"
   },
   "outputs": [
    {
     "data": {
      "text/plain": [
       "[1, 2, 3, 4, 5, 6, 1, 2, 3, 4, 5, 6, 1, 2, 3, 4, 5, 6]"
      ]
     },
     "execution_count": 21,
     "metadata": {},
     "output_type": "execute_result"
    }
   ],
   "source": [
    "list1 * 3"
   ]
  },
  {
   "cell_type": "markdown",
   "id": "63b87d74",
   "metadata": {},
   "source": [
    "### s[i]"
   ]
  },
  {
   "cell_type": "markdown",
   "id": "e69bcefb",
   "metadata": {
    "lang": "en"
   },
   "source": [
    "Returns the ith index numbered element of the array"
   ]
  },
  {
   "cell_type": "code",
   "execution_count": 22,
   "id": "b01014f6",
   "metadata": {},
   "outputs": [
    {
     "data": {
      "text/plain": [
       "4"
      ]
     },
     "execution_count": 22,
     "metadata": {},
     "output_type": "execute_result"
    }
   ],
   "source": [
    "list1[3]"
   ]
  },
  {
   "cell_type": "markdown",
   "id": "19b5dd82",
   "metadata": {
    "lang": "en"
   },
   "source": [
    "Important If we give an index number that does not exist, we will get an error."
   ]
  },
  {
   "cell_type": "code",
   "execution_count": 23,
   "id": "de1ed84c",
   "metadata": {},
   "outputs": [
    {
     "ename": "IndexError",
     "evalue": "list index out of range",
     "output_type": "error",
     "traceback": [
      "\u001b[1;31m---------------------------------------------------------------------------\u001b[0m",
      "\u001b[1;31mIndexError\u001b[0m                                Traceback (most recent call last)",
      "Cell \u001b[1;32mIn[23], line 1\u001b[0m\n\u001b[1;32m----> 1\u001b[0m list1[\u001b[38;5;241m35\u001b[39m]\n",
      "\u001b[1;31mIndexError\u001b[0m: list index out of range"
     ]
    }
   ],
   "source": [
    "list1[35] # This code gives error."
   ]
  },
  {
   "cell_type": "markdown",
   "id": "43b80a7f",
   "metadata": {},
   "source": [
    "### s[i:j]"
   ]
  },
  {
   "cell_type": "markdown",
   "id": "3668a3e5",
   "metadata": {
    "lang": "en"
   },
   "source": [
    "Returns the elements between index numbers i-j of the array."
   ]
  },
  {
   "cell_type": "code",
   "execution_count": 24,
   "id": "de9ae955",
   "metadata": {},
   "outputs": [
    {
     "data": {
      "text/plain": [
       "[4, 5, 6]"
      ]
     },
     "execution_count": 24,
     "metadata": {},
     "output_type": "execute_result"
    }
   ],
   "source": [
    "list1[3:6]"
   ]
  },
  {
   "cell_type": "markdown",
   "id": "a78ab2f2",
   "metadata": {},
   "source": [
    "### s[i:j:k]"
   ]
  },
  {
   "cell_type": "markdown",
   "id": "f916532f",
   "metadata": {
    "lang": "en"
   },
   "source": [
    "It gives the elements between index numbers i-j of the array according to k iteration."
   ]
  },
  {
   "cell_type": "code",
   "execution_count": 25,
   "id": "69eb5a29",
   "metadata": {},
   "outputs": [
    {
     "data": {
      "text/plain": [
       "[2, 4, 6]"
      ]
     },
     "execution_count": 25,
     "metadata": {},
     "output_type": "execute_result"
    }
   ],
   "source": [
    "list1[1:6:2]"
   ]
  }
 ],
 "metadata": {
  "kernelspec": {
   "display_name": "Python 3 (ipykernel)",
   "language": "python",
   "name": "python3"
  },
  "language_info": {
   "codemirror_mode": {
    "name": "ipython",
    "version": 3
   },
   "file_extension": ".py",
   "mimetype": "text/x-python",
   "name": "python",
   "nbconvert_exporter": "python",
   "pygments_lexer": "ipython3",
   "version": "3.11.4"
  },
  "nbTranslate": {
   "displayLangs": [],
   "hotkey": "alt-t",
   "langInMainMenu": true,
   "sourceLang": "tr",
   "targetLang": "en",
   "useGoogleTranslate": true
  }
 },
 "nbformat": 4,
 "nbformat_minor": 5
}

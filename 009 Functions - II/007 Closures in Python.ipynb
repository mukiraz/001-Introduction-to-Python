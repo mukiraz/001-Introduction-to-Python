{
 "cells": [
  {
   "cell_type": "markdown",
   "id": "parliamentary-sender",
   "metadata": {},
   "source": [
    "# Closures in Pyton"
   ]
  },
  {
   "cell_type": "markdown",
   "id": "extreme-yukon",
   "metadata": {},
   "source": [
    "\"Closures\" in Python is a concept encountered when dealing with nested functions and the surrounding context of functions. An inner function can access the local variables and context of an outer function and can still exist even after the outer function has completed its execution.\n",
    "\n",
    "Closures typically have the following characteristics:\n",
    "\n",
    "**1. Nested Functions:** An inner function is defined inside another function. This inner function can be used within the outer function.\n",
    "\n",
    "**2. Outer Function Context:** The inner function can access the context of the outer function, including the local variables and parameters of the outer function.\n",
    "\n",
    "**3. Return of Inner Function:** The outer function can return or assign the inner function to another object, allowing the inner function to be accessible and callable from the outside."
   ]
  },
  {
   "cell_type": "code",
   "execution_count": 1,
   "id": "preceding-crack",
   "metadata": {},
   "outputs": [
    {
     "name": "stdout",
     "output_type": "stream",
     "text": [
      "8\n"
     ]
    }
   ],
   "source": [
    "def outer_function(x):\n",
    "    def inner_function(y):\n",
    "        return x + y\n",
    "    return inner_function\n",
    "\n",
    "# Calling the outer function to obtain the inner function.\n",
    "function_1 = outer_function(5)\n",
    "\n",
    "# Calling the inner function, preserving the value of x.\n",
    "result = function_1(3)\n",
    "print(result)  # Output: 8"
   ]
  },
  {
   "cell_type": "markdown",
   "id": "bulgarian-parent",
   "metadata": {},
   "source": [
    "In this example, an inner function named \"inner_function\" is defined within an outer function named \"outer_function.\" The inner function can access the context of the outer function (the x variable) and perform operations using that context. The outer function returns the inner function, and as a result, we assign the inner function to a variable named \"function_1.\" Then, we can call \"function_1\" to use the inner function while preserving the value of x.\n",
    "\n",
    "Note that in a normal closure, the closed function fully inherits all variables from the surrounding environment, in this structure the closed function only has read access to the inherited variables, but cannot make assignments to them."
   ]
  },
  {
   "cell_type": "code",
   "execution_count": 3,
   "id": "maritime-admission",
   "metadata": {},
   "outputs": [
    {
     "ename": "NameError",
     "evalue": "name 'content' is not defined",
     "output_type": "error",
     "traceback": [
      "\u001b[1;31m---------------------------------------------------------------------------\u001b[0m",
      "\u001b[1;31mNameError\u001b[0m                                 Traceback (most recent call last)",
      "Cell \u001b[1;32mIn[3], line 8\u001b[0m\n\u001b[0;32m      5\u001b[0m         \u001b[38;5;28;01mreturn\u001b[39;00m y\n\u001b[0;32m      6\u001b[0m     \u001b[38;5;28;01mreturn\u001b[39;00m content\n\u001b[1;32m----> 8\u001b[0m content_1 \u001b[38;5;241m=\u001b[39m generate_content(\u001b[38;5;241m1\u001b[39m)\n\u001b[0;32m      9\u001b[0m content_1(\u001b[38;5;241m5\u001b[39m)\n",
      "Cell \u001b[1;32mIn[3], line 6\u001b[0m, in \u001b[0;36mgenerate_content\u001b[1;34m(x)\u001b[0m\n\u001b[0;32m      4\u001b[0m     x\u001b[38;5;241m+\u001b[39m\u001b[38;5;241m=\u001b[39my\n\u001b[0;32m      5\u001b[0m     \u001b[38;5;28;01mreturn\u001b[39;00m y\n\u001b[1;32m----> 6\u001b[0m \u001b[38;5;28;01mreturn\u001b[39;00m content\n",
      "\u001b[1;31mNameError\u001b[0m: name 'content' is not defined"
     ]
    }
   ],
   "source": [
    "def generate_content(x):\n",
    "    def get_content(y):\n",
    "    # Increasing x is not allowed\n",
    "        x = x + y\n",
    "        return y\n",
    "    return content\n",
    "\n",
    "content_1 = generate_content(1)\n",
    "content_1(5) # UnboundLocalError: local variable 'x' referenced before assignment"
   ]
  },
  {
   "cell_type": "markdown",
   "id": "residential-europe",
   "metadata": {},
   "source": [
    "Python 3 introduces nonlocal expression to perform complete closure with nested functions."
   ]
  },
  {
   "cell_type": "code",
   "execution_count": 5,
   "id": "lesser-outdoors",
   "metadata": {},
   "outputs": [
    {
     "data": {
      "text/plain": [
       "6"
      ]
     },
     "execution_count": 5,
     "metadata": {},
     "output_type": "execute_result"
    }
   ],
   "source": [
    "def generate_content(x):\n",
    "    def get_content(y):\n",
    "        nonlocal x\n",
    "        # now allows x to be assigned\n",
    "        x += y\n",
    "        return x\n",
    "    return get_content\n",
    "\n",
    "content_1 = generate_content(1)\n",
    "content_1(5)"
   ]
  }
 ],
 "metadata": {
  "kernelspec": {
   "display_name": "Python 3 (ipykernel)",
   "language": "python",
   "name": "python3"
  },
  "language_info": {
   "codemirror_mode": {
    "name": "ipython",
    "version": 3
   },
   "file_extension": ".py",
   "mimetype": "text/x-python",
   "name": "python",
   "nbconvert_exporter": "python",
   "pygments_lexer": "ipython3",
   "version": "3.11.5"
  },
  "nbTranslate": {
   "displayLangs": [
    "*"
   ],
   "hotkey": "alt-t",
   "langInMainMenu": true,
   "sourceLang": "en",
   "targetLang": "fr",
   "useGoogleTranslate": true
  }
 },
 "nbformat": 4,
 "nbformat_minor": 5
}

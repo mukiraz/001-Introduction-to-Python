{
 "cells": [
  {
   "cell_type": "markdown",
   "id": "4c423568",
   "metadata": {
    "lang": "en"
   },
   "source": [
    "# Lambda Functions"
   ]
  },
  {
   "cell_type": "markdown",
   "id": "dafaf2d3",
   "metadata": {
    "lang": "en"
   },
   "source": [
    "The lambda keyword creates an inline function that contains a single expression. The value of this expression is what the function returns when called."
   ]
  },
  {
   "cell_type": "markdown",
   "id": "260f1853",
   "metadata": {
    "lang": "en"
   },
   "source": [
    "Let's consider the function below."
   ]
  },
  {
   "cell_type": "code",
   "execution_count": 2,
   "id": "confused-apparatus",
   "metadata": {},
   "outputs": [],
   "source": [
    "def say_hello():\n",
    "    return \"Hello\""
   ]
  },
  {
   "cell_type": "markdown",
   "id": "80a042ee",
   "metadata": {
    "lang": "en"
   },
   "source": [
    "When the above function is called, it returns a string expression."
   ]
  },
  {
   "cell_type": "code",
   "execution_count": 3,
   "id": "preceding-square",
   "metadata": {},
   "outputs": [
    {
     "name": "stdout",
     "output_type": "stream",
     "text": [
      "Hello\n"
     ]
    }
   ],
   "source": [
    "print(say_hello())"
   ]
  },
  {
   "cell_type": "markdown",
   "id": "6259305e",
   "metadata": {
    "lang": "en"
   },
   "source": [
    "This can be written as a lambda function like this:"
   ]
  },
  {
   "cell_type": "code",
   "execution_count": 4,
   "id": "random-cooler",
   "metadata": {},
   "outputs": [],
   "source": [
    "greet_me = lambda: \"Hello\""
   ]
  },
  {
   "cell_type": "code",
   "execution_count": 5,
   "id": "mineral-tunisia",
   "metadata": {},
   "outputs": [
    {
     "name": "stdout",
     "output_type": "stream",
     "text": [
      "Hello\n"
     ]
    }
   ],
   "source": [
    "print(greet_me())"
   ]
  },
  {
   "cell_type": "markdown",
   "id": "0001e78f",
   "metadata": {
    "lang": "en"
   },
   "source": [
    "This creates an inline function with the name **greet_me()** that returns Hello. Note that **return** is not written when creating a function with **Lambda**. The value is returned automatically.\n",
    "Once assigned to a variable, it can be used like a normal function.\n",
    "\n",
    "lambda can also take arguments and parameters."
   ]
  },
  {
   "cell_type": "code",
   "execution_count": 6,
   "id": "external-drink",
   "metadata": {},
   "outputs": [],
   "source": [
    "remove_space_and_get_uppercase = lambda str_value: str_value.strip().upper()"
   ]
  },
  {
   "cell_type": "code",
   "execution_count": 8,
   "id": "instructional-intermediate",
   "metadata": {},
   "outputs": [
    {
     "name": "stdout",
     "output_type": "stream",
     "text": [
      "HELLO\n"
     ]
    }
   ],
   "source": [
    "print(remove_space_and_get_uppercase(\"     Hello     \"))"
   ]
  },
  {
   "cell_type": "markdown",
   "id": "da0cfabd",
   "metadata": {
    "lang": "en"
   },
   "source": [
    "They can also take an arbitrary number of arguments/keyword arguments like regular functions."
   ]
  },
  {
   "cell_type": "code",
   "execution_count": 9,
   "id": "blessed-evidence",
   "metadata": {},
   "outputs": [
    {
     "name": "stdout",
     "output_type": "stream",
     "text": [
      "hello ('wold',) {'world': 'world'}\n"
     ]
    }
   ],
   "source": [
    "say_hello = lambda x, *args, **kwargs: print(x, args, kwargs)\n",
    "say_hello('hello', 'wold', world='world')"
   ]
  },
  {
   "cell_type": "markdown",
   "id": "4d07f74b",
   "metadata": {
    "lang": "en"
   },
   "source": [
    "### Calling other functions (with/without arguments) from within a lambda function"
   ]
  },
  {
   "cell_type": "code",
   "execution_count": 10,
   "id": "irish-tissue",
   "metadata": {},
   "outputs": [
    {
     "name": "stdout",
     "output_type": "stream",
     "text": [
      "hello world\n"
     ]
    }
   ],
   "source": [
    "def func(message):\n",
    "    print(message)\n",
    "say_hello = lambda x = \"hello world\": func(x)\n",
    "say_hello()"
   ]
  },
  {
   "cell_type": "markdown",
   "id": "a353a812",
   "metadata": {
    "lang": "en"
   },
   "source": [
    "**lambda** can contain only one expression, and multiple expressions can be executed using a helper function."
   ]
  },
  {
   "cell_type": "markdown",
   "id": "8899ed73",
   "metadata": {
    "lang": "en"
   },
   "source": [
    "**NOTE**\n",
    "\n",
    "According to <a href=\"https://www.python.org/dev/peps/pep-0008/#programming-recommendations\">PEP-8 </a> (official Python style guide) assigning lambda to variables is not recommended.\n",
    "\n",
    "***say_hello and remove_space_and_get_uppercase functions were created this way to give an example. Do not create it this way while programming!!!!**"
   ]
  },
  {
   "cell_type": "markdown",
   "id": "b3b216de",
   "metadata": {
    "lang": "en"
   },
   "source": [
    "# YES!"
   ]
  },
  {
   "cell_type": "code",
   "execution_count": 14,
   "id": "proper-aaron",
   "metadata": {},
   "outputs": [],
   "source": [
    "def f(x): return 2*x"
   ]
  },
  {
   "cell_type": "markdown",
   "id": "a42830ff",
   "metadata": {
    "lang": "en"
   },
   "source": [
    "# NO!"
   ]
  },
  {
   "cell_type": "code",
   "execution_count": 15,
   "id": "correct-pilot",
   "metadata": {},
   "outputs": [],
   "source": [
    "f = lambda x: 2*x"
   ]
  },
  {
   "cell_type": "markdown",
   "id": "4bb74369",
   "metadata": {
    "lang": "en"
   },
   "source": [
    "The first form means that the name of the resulting function object is specifically 'f' rather than the generic '<lambda>'. This is generally more useful for tracebacks and string representations.\n",
    "    \n",
    "Using an assignment statement eliminates the only benefit a lambda expression can offer over an explicit def expression (i.e. it can be nested inside a larger expression)\n",
    "    \n",
    "<a href=\"https://realpython.com/python-traceback/\">traceback</a> A traceback is a report of function calls made at a specific point in your code."
   ]
  },
  {
   "cell_type": "markdown",
   "id": "d4e18141",
   "metadata": {
    "lang": "en"
   },
   "source": [
    "We can use lambda expression for small functions. **lambda expressions** can be used especially when it is cumbersome to write a short function with a **def** expression."
   ]
  },
  {
   "cell_type": "markdown",
   "id": "b14cc288",
   "metadata": {
    "lang": "en"
   },
   "source": [
    "### How Should We Use Lambda Functions?\n",
    "\n",
    "The power of Lambda is better demonstrated when you use them as an anonymous function inside another function.\n",
    "\n",
    "Let's say you have a function definition that takes an argument, and that argument will be multiplied by an unknown number:"
   ]
  },
  {
   "cell_type": "code",
   "execution_count": 11,
   "id": "0e9fa1ed",
   "metadata": {
    "lang": "en"
   },
   "outputs": [
    {
     "name": "stdout",
     "output_type": "stream",
     "text": [
      "<function myfunc.<locals>.<lambda> at 0x00000196AD5009A0>\n",
      "22\n"
     ]
    }
   ],
   "source": [
    "def myfunc(n):\n",
    "    return lambda a : a *n\n",
    "\n",
    "mydoubler = myfunc(2) # Here we defined an object named mydoubler. This object is actually a function.\n",
    "                      # In this function, we sent the value 2 to parameter n\n",
    "\n",
    "# Let's look at the mydoubler object.\n",
    "\n",
    "print(mydoubler) # <function myfunc.<locals>.<lambda> at 0x000001F7DC1D7C40>\n",
    "\n",
    "print(mydoubler(11)) # Here, we sent the value 11 to the a parameter. We get the output 2* 11 = 22"
   ]
  },
  {
   "cell_type": "markdown",
   "id": "cb90dd5d",
   "metadata": {
    "lang": "en"
   },
   "source": [
    "### Examples"
   ]
  },
  {
   "cell_type": "code",
   "execution_count": 12,
   "id": "therapeutic-italian",
   "metadata": {},
   "outputs": [],
   "source": [
    "get_sum = lambda x,y,z : x + y + z"
   ]
  },
  {
   "cell_type": "code",
   "execution_count": 13,
   "id": "behind-swiss",
   "metadata": {},
   "outputs": [
    {
     "name": "stdout",
     "output_type": "stream",
     "text": [
      "6\n"
     ]
    }
   ],
   "source": [
    "print(get_sum(1,2,3))"
   ]
  },
  {
   "cell_type": "code",
   "execution_count": 14,
   "id": "official-moses",
   "metadata": {},
   "outputs": [],
   "source": [
    "reverse_string =  lambda s : s[::-1]"
   ]
  },
  {
   "cell_type": "code",
   "execution_count": 15,
   "id": "collaborative-universal",
   "metadata": {},
   "outputs": [
    {
     "name": "stdout",
     "output_type": "stream",
     "text": [
      "taruM\n"
     ]
    }
   ],
   "source": [
    "print(reverse_string(\"Murat\"))"
   ]
  },
  {
   "cell_type": "code",
   "execution_count": 16,
   "id": "fleet-recording",
   "metadata": {},
   "outputs": [],
   "source": [
    "is_even_number = lambda number :  number % 2 == 0 "
   ]
  },
  {
   "cell_type": "code",
   "execution_count": 17,
   "id": "registered-dialogue",
   "metadata": {},
   "outputs": [
    {
     "name": "stdout",
     "output_type": "stream",
     "text": [
      "True\n"
     ]
    }
   ],
   "source": [
    "print(is_even_number(32))"
   ]
  }
 ],
 "metadata": {
  "kernelspec": {
   "display_name": "Python 3 (ipykernel)",
   "language": "python",
   "name": "python3"
  },
  "language_info": {
   "codemirror_mode": {
    "name": "ipython",
    "version": 3
   },
   "file_extension": ".py",
   "mimetype": "text/x-python",
   "name": "python",
   "nbconvert_exporter": "python",
   "pygments_lexer": "ipython3",
   "version": "3.11.5"
  },
  "nbTranslate": {
   "displayLangs": [
    "*"
   ],
   "hotkey": "alt-t",
   "langInMainMenu": true,
   "sourceLang": "tr",
   "targetLang": "en",
   "useGoogleTranslate": true
  }
 },
 "nbformat": 4,
 "nbformat_minor": 5
}

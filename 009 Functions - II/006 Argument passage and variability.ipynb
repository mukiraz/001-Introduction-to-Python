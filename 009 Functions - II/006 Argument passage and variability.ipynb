{
 "cells": [
  {
   "cell_type": "markdown",
   "id": "gorgeous-implementation",
   "metadata": {},
   "source": [
    "# Argüman geçişi ve değişkenlik"
   ]
  },
  {
   "cell_type": "markdown",
   "id": "f1788e7b",
   "metadata": {
    "lang": "en"
   },
   "source": [
    "First, let's remember the concepts of argument and parameter:\n",
    "\n",
    "Argument (real parameter): actual variable passed to a function;\n",
    "\n",
    "Parameter (formal parameter): receiving variable used in a function.\n",
    "\n",
    "In Python, we don't actually assign values ​​to variables, instead we bind (i.e. assign, append) variables (considered as names) to objects.\n",
    "\n",
    "Some objects we send to functions in Python may be changed within the function. Such objects are called mutable or mutable objects.\n",
    "\n",
    "\n",
    "**Immutable:** Integers, tuples, decimal numbers, boolean expressions, etc. All operations create copies.\n",
    "\n",
    "**Mutable:** Lists, dictionaries, sets, etc. Operations may or may not change.\n",
    "Let's examine the example below."
   ]
  },
  {
   "cell_type": "code",
   "execution_count": 6,
   "id": "checked-environment",
   "metadata": {},
   "outputs": [
    {
     "name": "stdout",
     "output_type": "stream",
     "text": [
      "print form 'foo' func. --> [999, 5, 6]\n",
      "print form 'foo' func. --> [999, 6, 7, 8, 9, 5, 4, 5, 6, 5]\n",
      "list_a --> [999, 5, 6]\n",
      "list_b --> [999, 6, 7, 8, 9, 5, 4, 5, 6, 5]\n"
     ]
    }
   ],
   "source": [
    "def foo(x): # here, x is a parameter\n",
    "    x[0] = 999 # This changes the list labeled by both x and y.\n",
    "    print(f\"print form 'foo' func. --> {x}\")\n",
    "list_a = [4, 5, 6]\n",
    "list_b = [5,6,7,8,9,5,4,5,6,5]\n",
    "\n",
    "foo(list_a) # Call foo with list_a as argument.\n",
    "foo(list_b)\n",
    "# Çıktı: [999, 5, 6] # List tagged by x has mutated\n",
    "print(f\"list_a --> {list_a}\")\n",
    "# Çıktı: [999, 5, 6] # The list tagged by list_a has also mutated\n",
    "print(f\"list_b --> {list_b}\")"
   ]
  },
  {
   "cell_type": "markdown",
   "id": "opening-blond",
   "metadata": {},
   "source": [
    "Reassigning the parameter does not cause the argument to be reassigned."
   ]
  },
  {
   "cell_type": "code",
   "execution_count": 1,
   "id": "occasional-stake",
   "metadata": {},
   "outputs": [
    {
     "name": "stdout",
     "output_type": "stream",
     "text": [
      "[1, 2, 8]\n",
      "[9, 5, 6]\n"
     ]
    }
   ],
   "source": [
    "def foo(x): # Here x is the parameter, when we say foo (y) we assign y to x\n",
    "    x[0] = 9 # This changes the list labeled by both x and y. y=[9, 5, 6]\n",
    "    x = [1, 2, 3] # x now tags a different list (y is unaffected)\n",
    "    x[2] = 8 # This changes the list of x, not the list of y [1, 2, 8]\n",
    "    return x\n",
    "y = [4,5,6] # y is the argument, x is the parameter\n",
    "print(foo(y)) # \n",
    "print(y)\n",
    "# Output: [9, 5, 6]"
   ]
  },
  {
   "cell_type": "code",
   "execution_count": 5,
   "id": "4ae9facd",
   "metadata": {},
   "outputs": [
    {
     "name": "stdout",
     "output_type": "stream",
     "text": [
      "[1, 2, 8]\n",
      "(4, 5, 6)\n"
     ]
    }
   ],
   "source": [
    "def foo(y):\n",
    "    x = [1, 2, 3] # inside the function we never used y parameter\n",
    "    x[2] = 8 \n",
    "    return x\n",
    "y = (4, 5, 6) # Here we will send y variable to foo function\n",
    "print(foo(y)) # y variable is a tuple and it is not mutable\n",
    "print(y)"
   ]
  },
  {
   "cell_type": "code",
   "execution_count": 7,
   "id": "immune-mainland",
   "metadata": {},
   "outputs": [
    {
     "name": "stdout",
     "output_type": "stream",
     "text": [
      "[3, 1, 9, 5]\n",
      "[3, 1, 9, 5]\n",
      "sorted\n",
      "x: [1, 3, 5, 9]\n",
      "y: [1, 3, 5, 9]\n",
      "4 added\n",
      "x: [1, 3, 5, 9, 4]\n",
      "y: [1, 3, 5, 9]\n",
      "z added\n",
      "x: [1, 3, 5, 9, 4]\n",
      "y: [1, 3, 5, 9]\n",
      "z: [1, 3, 5, 9, 4]\n",
      "x sorted again\n",
      "x: [1, 3, 4, 5, 6, 9]\n",
      "y: [1, 3, 5, 9]\n",
      "z: [1, 3, 5, 9, 4, 6]\n",
      "[1, 3, 4, 5, 6, 9]\n",
      "[1, 3, 5, 9]\n"
     ]
    }
   ],
   "source": [
    "x = [3, 1, 9]\n",
    "y = x\n",
    "x.append(5) # replaces the list labeled x and y, both x and y depend on [3, 1, 9]\n",
    "print(x) # Output:[3, 1, 9, 5]\n",
    "print(y) # Output:[3, 1, 9, 5]\n",
    "\n",
    "\n",
    "x.sort() # Replaces the list labeled x and y (in-place sorting)\n",
    "print(\"sorted\")\n",
    "print(\"x:\",x)\n",
    "print(\"y:\",y)\n",
    "x = x + [4] # Does not modify the list (only creates a copy for x, not y)\n",
    "print(\"4 added\")\n",
    "print(\"x:\",x)\n",
    "print(\"y:\",y)\n",
    "z = x # z, x ([1, 3, 9, 4])\n",
    "print(\"z added\")\n",
    "print(\"x:\",x)\n",
    "print(\"y:\",y)\n",
    "print(\"z:\",z)\n",
    "x += [6] # Modifies the list labeled with both x and z (uses the expand function).\n",
    "x = sorted(x) # Does not modify the list (just creates a copy for x).\n",
    "print(\"x sorted again\")\n",
    "print(\"x:\",x)\n",
    "print(\"y:\",y)\n",
    "print(\"z:\",z)\n",
    "print(x) # Output:[1, 3, 4, 5, 6, 9]\n",
    "# Output: [1, 3, 4, 5, 6, 9]\n",
    "print(y) # Output:[1, 3, 5, 9]\n"
   ]
  },
  {
   "cell_type": "code",
   "execution_count": null,
   "id": "assigned-juice",
   "metadata": {},
   "outputs": [],
   "source": []
  }
 ],
 "metadata": {
  "kernelspec": {
   "display_name": "Python 3 (ipykernel)",
   "language": "python",
   "name": "python3"
  },
  "language_info": {
   "codemirror_mode": {
    "name": "ipython",
    "version": 3
   },
   "file_extension": ".py",
   "mimetype": "text/x-python",
   "name": "python",
   "nbconvert_exporter": "python",
   "pygments_lexer": "ipython3",
   "version": "3.11.5"
  },
  "nbTranslate": {
   "displayLangs": [
    "*"
   ],
   "hotkey": "alt-t",
   "langInMainMenu": true,
   "sourceLang": "tr",
   "targetLang": "en",
   "useGoogleTranslate": true
  }
 },
 "nbformat": 4,
 "nbformat_minor": 5
}

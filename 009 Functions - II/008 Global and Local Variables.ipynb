{
 "cells": [
  {
   "cell_type": "markdown",
   "id": "ab8fc892",
   "metadata": {
    "lang": "en"
   },
   "source": [
    "# Variable Scope and Binding\n",
    "## Nonlocal Variables\n",
    "Python 3 added a new keyword called nonlocal. The nonlocal keyword adds a scope override to the inner scope.\n",
    "You can read all about it at <a href=\"https://www.python.org/dev/peps/pep-3104/\"> PEP 3104</a>. This is best explained with a few code examples. One of the most common examples is creating an incrementable function:"
   ]
  },
  {
   "cell_type": "code",
   "execution_count": 1,
   "id": "informative-authority",
   "metadata": {},
   "outputs": [
    {
     "ename": "UnboundLocalError",
     "evalue": "cannot access local variable 'num' where it is not associated with a value",
     "output_type": "error",
     "traceback": [
      "\u001b[1;31m---------------------------------------------------------------------------\u001b[0m",
      "\u001b[1;31mUnboundLocalError\u001b[0m                         Traceback (most recent call last)",
      "Cell \u001b[1;32mIn[1], line 9\u001b[0m\n\u001b[0;32m      6\u001b[0m     \u001b[38;5;28;01mreturn\u001b[39;00m get_increse\n\u001b[0;32m      8\u001b[0m number \u001b[38;5;241m=\u001b[39m counter()\n\u001b[1;32m----> 9\u001b[0m \u001b[38;5;28mprint\u001b[39m(number())\n",
      "Cell \u001b[1;32mIn[1], line 4\u001b[0m, in \u001b[0;36mcounter.<locals>.get_increse\u001b[1;34m()\u001b[0m\n\u001b[0;32m      3\u001b[0m \u001b[38;5;28;01mdef\u001b[39;00m \u001b[38;5;21mget_increse\u001b[39m():\n\u001b[1;32m----> 4\u001b[0m     num \u001b[38;5;241m+\u001b[39m\u001b[38;5;241m=\u001b[39m \u001b[38;5;241m1\u001b[39m\n\u001b[0;32m      5\u001b[0m     \u001b[38;5;28;01mreturn\u001b[39;00m num\n",
      "\u001b[1;31mUnboundLocalError\u001b[0m: cannot access local variable 'num' where it is not associated with a value"
     ]
    }
   ],
   "source": [
    "def counter():\n",
    "    num = 0\n",
    "    def get_increse():\n",
    "        num += 1 # here will get an error\n",
    "        return num\n",
    "    return get_increse\n",
    "\n",
    "number = counter()\n",
    "print(number())"
   ]
  },
  {
   "cell_type": "markdown",
   "id": "69fbb9b6",
   "metadata": {
    "lang": "en"
   },
   "source": [
    "If you try to run this code, you will get an UnboundLocalError because the num variable is referenced before being assigned to the innermost function. Let's add nonlocal to the inner function:"
   ]
  },
  {
   "cell_type": "code",
   "execution_count": 2,
   "id": "false-egyptian",
   "metadata": {},
   "outputs": [
    {
     "name": "stdout",
     "output_type": "stream",
     "text": [
      "1\n"
     ]
    }
   ],
   "source": [
    "def counter():\n",
    "    num = 0\n",
    "    def get_increse():\n",
    "        nonlocal num\n",
    "        num += 1\n",
    "        return num\n",
    "    return get_increse\n",
    "\n",
    "number = counter()\n",
    "print(number())"
   ]
  },
  {
   "cell_type": "markdown",
   "id": "58591cd9",
   "metadata": {
    "lang": "en"
   },
   "source": [
    "Essentially nonlocal allows you to assign to variables in an outer scope, but not in a global scope. So you can't use nonlocal in our counter function because then it will try to assign a global scope. It gives syntax error."
   ]
  },
  {
   "cell_type": "code",
   "execution_count": 3,
   "id": "blond-channel",
   "metadata": {},
   "outputs": [
    {
     "ename": "SyntaxError",
     "evalue": "no binding for nonlocal 'num' found (3460029626.py, line 2)",
     "output_type": "error",
     "traceback": [
      "\u001b[1;36m  Cell \u001b[1;32mIn[3], line 2\u001b[1;36m\u001b[0m\n\u001b[1;33m    nonlocal num # Hataya neden olur. nonlocal genel bir kapsamda atamanıza izin vermez.\u001b[0m\n\u001b[1;37m    ^\u001b[0m\n\u001b[1;31mSyntaxError\u001b[0m\u001b[1;31m:\u001b[0m no binding for nonlocal 'num' found\n"
     ]
    }
   ],
   "source": [
    "def counter():\n",
    "    nonlocal num # It causes an error. nonlocal does not allow you to assign it in a global scope.\n",
    "    num = 0\n",
    "    def get_increse():        \n",
    "        num += 1\n",
    "        return num\n",
    "    return get_increse\n",
    "\n",
    "number = counter()\n",
    "print(number())"
   ]
  },
  {
   "cell_type": "markdown",
   "id": "architectural-magnet",
   "metadata": {},
   "source": [
    "## Global Variables"
   ]
  },
  {
   "cell_type": "markdown",
   "id": "1b5f0114",
   "metadata": {
    "lang": "en"
   },
   "source": [
    "In Python, variables inside functions are considered local if and only if they appear on the left side of an assignment statement or other binding occurrence; otherwise such binding is sought in closed functions up to general scope. This is true even if the assignment statement is never executed."
   ]
  },
  {
   "cell_type": "code",
   "execution_count": 4,
   "id": "junior-macintosh",
   "metadata": {},
   "outputs": [
    {
     "name": "stdout",
     "output_type": "stream",
     "text": [
      "Hi\n"
     ]
    }
   ],
   "source": [
    "x = 'Hi'\n",
    "def read_2_x():\n",
    "    print(x) # x was just referenced, so it was considered global\n",
    "read_2_x()"
   ]
  },
  {
   "cell_type": "code",
   "execution_count": 1,
   "id": "outstanding-child",
   "metadata": {},
   "outputs": [
    {
     "name": "stdout",
     "output_type": "stream",
     "text": [
      "kkk\n"
     ]
    },
    {
     "ename": "NameError",
     "evalue": "name 'y' is not defined",
     "output_type": "error",
     "traceback": [
      "\u001b[1;31m---------------------------------------------------------------------------\u001b[0m",
      "\u001b[1;31mNameError\u001b[0m                                 Traceback (most recent call last)",
      "Cell \u001b[1;32mIn[1], line 5\u001b[0m\n\u001b[0;32m      3\u001b[0m     \u001b[38;5;28mprint\u001b[39m(y) \u001b[38;5;66;03m# x was just referenced, so it was considered global\u001b[39;00m\n\u001b[0;32m      4\u001b[0m read_2_y() \u001b[38;5;66;03m# NameError: public name 'y' is not defined\u001b[39;00m\n\u001b[1;32m----> 5\u001b[0m \u001b[38;5;28mprint\u001b[39m(y)\n",
      "\u001b[1;31mNameError\u001b[0m: name 'y' is not defined"
     ]
    }
   ],
   "source": [
    "def read_2_y():\n",
    "    y = \"kkk\"\n",
    "    print(y) # x was just referenced, so it was considered global\n",
    "read_2_y() # NameError: public name 'y' is not defined\n",
    "print(y)"
   ]
  },
  {
   "cell_type": "code",
   "execution_count": 6,
   "id": "moved-bryan",
   "metadata": {},
   "outputs": [
    {
     "name": "stdout",
     "output_type": "stream",
     "text": [
      "Hey\n"
     ]
    }
   ],
   "source": [
    "def read_2_y():\n",
    "    y = 'Hey' # y is local\n",
    "    print(y) # will find local y\n",
    "read_2_y() # it prints \"Hey\""
   ]
  },
  {
   "cell_type": "code",
   "execution_count": 2,
   "id": "imposed-latitude",
   "metadata": {},
   "outputs": [
    {
     "ename": "NameError",
     "evalue": "name 'y' is not defined",
     "output_type": "error",
     "traceback": [
      "\u001b[1;31m---------------------------------------------------------------------------\u001b[0m",
      "\u001b[1;31mNameError\u001b[0m                                 Traceback (most recent call last)",
      "Cell \u001b[1;32mIn[2], line 1\u001b[0m\n\u001b[1;32m----> 1\u001b[0m \u001b[38;5;28mprint\u001b[39m(y)\n",
      "\u001b[1;31mNameError\u001b[0m: name 'y' is not defined"
     ]
    }
   ],
   "source": [
    "print(y) # It gives a Name Error because y is not in the global"
   ]
  },
  {
   "cell_type": "markdown",
   "id": "d3c3f148",
   "metadata": {
    "lang": "en"
   },
   "source": [
    "Normally, an assignment within a scope will shadow all external variables with the same name:"
   ]
  },
  {
   "cell_type": "code",
   "execution_count": 3,
   "id": "veterinary-wales",
   "metadata": {},
   "outputs": [
    {
     "name": "stdout",
     "output_type": "stream",
     "text": [
      "Hi\n",
      "Bye\n",
      "Hello\n",
      "Bye\n",
      "Hi\n",
      "Chiao\n"
     ]
    }
   ],
   "source": [
    "x = 'Hi'\n",
    "def change_local_x():    \n",
    "    x = 'Bye'\n",
    "    print(x)\n",
    "    def change_local():\n",
    "        global y\n",
    "        x = \"Hello\"\n",
    "        y = \"Chiao\"\n",
    "        print(x)\n",
    "    change_local()\n",
    "    print(x)\n",
    "\n",
    "print(x)\n",
    "change_local_x() # prints Bye\n",
    "print(x) # prints Hi\n",
    "print(y) # prints Chiao\n",
    "\n",
    "#Hi\n",
    "#Bye\n",
    "#Hello\n",
    "#Hello\n",
    "#Hi"
   ]
  },
  {
   "cell_type": "markdown",
   "id": "6e7eac6d",
   "metadata": {
    "lang": "en"
   },
   "source": [
    "Declaring a name as **global** means that any assignment of the name for the rest of the scope will occur at the top level of the module:"
   ]
  },
  {
   "cell_type": "code",
   "execution_count": 24,
   "id": "dimensional-nitrogen",
   "metadata": {},
   "outputs": [
    {
     "name": "stdout",
     "output_type": "stream",
     "text": [
      "Bye\n",
      "Bye\n"
     ]
    }
   ],
   "source": [
    "x = 'Hi'\n",
    "def change_global_x():\n",
    "    global x\n",
    "    x = 'Bye'\n",
    "    print(x)\n",
    "change_global_x() # prints Bye\n",
    "print(x) # prints Bye"
   ]
  },
  {
   "cell_type": "markdown",
   "id": "c43dc6e0",
   "metadata": {
    "lang": "en"
   },
   "source": [
    "The global keyword means that assignments will be at the top level of the module, not at the top level of the program.\n",
    "Other modules will need the usual dotted access to variables within the module.\n",
    "To summarize: to know whether variable x is local to a function, you have to read the entire function:\n",
    "1. If you found global x, x is a global variable\n",
    "2. If you found non-local x, x belongs to a container function and is neither local nor global\n",
    "3. x = 5 or if you found x or any other binding in range(3) then x is a local variable\n",
    "4. Otherwise, x belongs to some surrounding scope (function scope, global scope or builtins)"
   ]
  },
  {
   "cell_type": "markdown",
   "id": "manufactured-bailey",
   "metadata": {},
   "source": [
    "## Yerel Değişkenler"
   ]
  },
  {
   "cell_type": "markdown",
   "id": "minor-dividend",
   "metadata": {},
   "source": [
    "Bir değişken bir fonksiyonun içine bağlıysa, varsayılan olarak yalnızca işlev içinden erişilebilir:"
   ]
  },
  {
   "cell_type": "code",
   "execution_count": 4,
   "id": "reasonable-security",
   "metadata": {},
   "outputs": [
    {
     "name": "stdout",
     "output_type": "stream",
     "text": [
      "5\n"
     ]
    }
   ],
   "source": [
    "def foo():\n",
    "    a = 5\n",
    "    print(a) # sorun yok\n",
    "foo() \n",
    "print(a) # gives error"
   ]
  },
  {
   "cell_type": "markdown",
   "id": "2caea484",
   "metadata": {
    "lang": "en"
   },
   "source": [
    "Control flow constructs have no effect on scope (except for), but accessing variable that has not yet been assigned is an error:"
   ]
  },
  {
   "cell_type": "markdown",
   "id": "66056ad8",
   "metadata": {
    "lang": "en"
   },
   "source": [
    "## variables in if-while scope\n",
    "Variables defined in **if and while** blocks are **a global variable** instead of a local variable."
   ]
  },
  {
   "cell_type": "code",
   "execution_count": 1,
   "id": "spread-criminal",
   "metadata": {},
   "outputs": [
    {
     "name": "stdout",
     "output_type": "stream",
     "text": [
      "10\n",
      "10\n"
     ]
    }
   ],
   "source": [
    "if True:\n",
    "    t = 10\n",
    "    print(t)\n",
    "\n",
    "print(t)"
   ]
  },
  {
   "cell_type": "code",
   "execution_count": 2,
   "id": "progressive-partner",
   "metadata": {},
   "outputs": [
    {
     "name": "stdout",
     "output_type": "stream",
     "text": [
      "10\n",
      "10\n"
     ]
    }
   ],
   "source": [
    "while True:\n",
    "    deger =  10\n",
    "    print(deger)\n",
    "    break\n",
    "\n",
    "print(deger)"
   ]
  },
  {
   "cell_type": "code",
   "execution_count": 3,
   "id": "patent-superintendent",
   "metadata": {},
   "outputs": [
    {
     "name": "stdout",
     "output_type": "stream",
     "text": [
      "10\n"
     ]
    }
   ],
   "source": [
    "x = 5\n",
    "y = 3\n",
    "z = 2\n",
    "def toplama(x,y,z):\n",
    "    return x+y+z\n",
    "\n",
    "print(toplama(x,y,z))"
   ]
  },
  {
   "cell_type": "code",
   "execution_count": 1,
   "id": "indonesian-slide",
   "metadata": {},
   "outputs": [
    {
     "name": "stdout",
     "output_type": "stream",
     "text": [
      "9\n"
     ]
    }
   ],
   "source": [
    "for i in range(10):\n",
    "    y = 0\n",
    "    y += i\n",
    "    \n",
    "print(y)"
   ]
  },
  {
   "cell_type": "code",
   "execution_count": 2,
   "id": "682fa86e",
   "metadata": {},
   "outputs": [
    {
     "name": "stdout",
     "output_type": "stream",
     "text": [
      "9\n"
     ]
    }
   ],
   "source": [
    "count = 0\n",
    "while count < 10:\n",
    "    y = 0\n",
    "    y += count\n",
    "    count += 1\n",
    "    \n",
    "print(y)"
   ]
  },
  {
   "cell_type": "markdown",
   "id": "45eb25fd",
   "metadata": {
    "lang": "en"
   },
   "source": [
    "### Let's combine all the concepts"
   ]
  },
  {
   "cell_type": "code",
   "execution_count": 2,
   "id": "5a648c02",
   "metadata": {},
   "outputs": [
    {
     "name": "stdout",
     "output_type": "stream",
     "text": [
      "global scope\n",
      "local_worked: local func scope\n",
      "After local_func: outer func scope\n",
      "nonlocal_worked: outer func scope changed\n",
      "After nonlocal_func: outer func scope changed\n",
      "global_worked: global scope changed\n",
      "After global_func: outer func scope changed\n",
      "Global: global scope changed\n"
     ]
    }
   ],
   "source": [
    "x = \"global scope\"\n",
    "def outer_func():\n",
    "    x = \"outer func scope\"\n",
    "    def local_func():\n",
    "        x = \"local func scope\"\n",
    "        print(\"local_worked:\", x)\n",
    "        \n",
    "    def nonlocal_func():\n",
    "        nonlocal x\n",
    "        x = \"outer func scope changed\"\n",
    "        print(\"nonlocal_worked:\", x)\n",
    "\n",
    "    def global_func():\n",
    "        global x\n",
    "        x = \"global scope changed\"\n",
    "        print(\"global_worked:\", x)\n",
    "\n",
    "    local_func()\n",
    "    print(\"After local_func:\", x)\n",
    "    nonlocal_func()\n",
    "    print(\"After nonlocal_func:\", x)\n",
    "    global_func()\n",
    "    print(\"After global_func:\", x)\n",
    "    \n",
    "print(x)\n",
    "outer_func()\n",
    "print(\"Global:\", x)"
   ]
  }
 ],
 "metadata": {
  "kernelspec": {
   "display_name": "Python 3 (ipykernel)",
   "language": "python",
   "name": "python3"
  },
  "language_info": {
   "codemirror_mode": {
    "name": "ipython",
    "version": 3
   },
   "file_extension": ".py",
   "mimetype": "text/x-python",
   "name": "python",
   "nbconvert_exporter": "python",
   "pygments_lexer": "ipython3",
   "version": "3.11.5"
  },
  "nbTranslate": {
   "displayLangs": [],
   "hotkey": "alt-t",
   "langInMainMenu": true,
   "sourceLang": "tr",
   "targetLang": "en",
   "useGoogleTranslate": true
  }
 },
 "nbformat": 4,
 "nbformat_minor": 5
}

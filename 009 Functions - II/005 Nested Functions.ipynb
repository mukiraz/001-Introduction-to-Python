{
 "cells": [
  {
   "cell_type": "markdown",
   "id": "5ca359dd",
   "metadata": {
    "lang": "en"
   },
   "source": [
    "# Nested Functions"
   ]
  },
  {
   "cell_type": "markdown",
   "id": "f760b979",
   "metadata": {
    "lang": "en"
   },
   "source": [
    "Functions in Python are first-class objects. They can be defined in any context."
   ]
  },
  {
   "cell_type": "code",
   "execution_count": 7,
   "id": "artistic-violence",
   "metadata": {},
   "outputs": [
    {
     "name": "stdout",
     "output_type": "stream",
     "text": [
      "[1, 2, 3, 5, 8, 13, 21, 34, 55, 89, 144, 233, 377, 610, 987, 1597, 2584, 4181, 6765, 10946]\n"
     ]
    }
   ],
   "source": [
    "def fibonacci(n):\n",
    "    def digit(a,b):\n",
    "        return b, a + b\n",
    "    a, b = 0, 1\n",
    "    list=[]\n",
    "    for i in range(n):\n",
    "        a, b = digit(a, b)\n",
    "        list.append(b)\n",
    "    return list\n",
    "\n",
    "print(fibonacci(20))"
   ]
  },
  {
   "cell_type": "markdown",
   "id": "a2c813ff",
   "metadata": {
    "lang": "en"
   },
   "source": [
    "Functions capture scopes and can be passed like any other object type"
   ]
  },
  {
   "cell_type": "code",
   "execution_count": 11,
   "id": "cultural-beads",
   "metadata": {},
   "outputs": [
    {
     "name": "stdout",
     "output_type": "stream",
     "text": [
      "15\n",
      "16\n"
     ]
    }
   ],
   "source": [
    "def get_sum(n):\n",
    "    def adder(x):\n",
    "        return n + x\n",
    "    return adder\n",
    "\n",
    "add5 = get_sum(5)\n",
    "add6 = get_sum(6)\n",
    "print(add5(10)) #Çıktı: 15\n",
    "\n",
    "print(add6(10)) #Çıktı: 16"
   ]
  },
  {
   "cell_type": "code",
   "execution_count": 12,
   "id": "402dc585",
   "metadata": {},
   "outputs": [],
   "source": [
    "def add_repetitive(func, k, x):\n",
    "    for i in range(k):\n",
    "        x = func(x)\n",
    "    return x"
   ]
  },
  {
   "cell_type": "code",
   "execution_count": 13,
   "id": "e274425f",
   "metadata": {},
   "outputs": [
    {
     "name": "stdout",
     "output_type": "stream",
     "text": [
      "26\n"
     ]
    }
   ],
   "source": [
    "print(add_repetitive(add5, 5, 1)) #Çıktı: 26"
   ]
  }
 ],
 "metadata": {
  "kernelspec": {
   "display_name": "Python 3 (ipykernel)",
   "language": "python",
   "name": "python3"
  },
  "language_info": {
   "codemirror_mode": {
    "name": "ipython",
    "version": 3
   },
   "file_extension": ".py",
   "mimetype": "text/x-python",
   "name": "python",
   "nbconvert_exporter": "python",
   "pygments_lexer": "ipython3",
   "version": "3.11.5"
  },
  "nbTranslate": {
   "displayLangs": [
    "*"
   ],
   "hotkey": "alt-t",
   "langInMainMenu": true,
   "sourceLang": "tr",
   "targetLang": "en",
   "useGoogleTranslate": true
  }
 },
 "nbformat": 4,
 "nbformat_minor": 5
}

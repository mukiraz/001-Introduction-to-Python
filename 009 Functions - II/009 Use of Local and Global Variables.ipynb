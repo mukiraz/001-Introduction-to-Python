{
 "cells": [
  {
   "cell_type": "markdown",
   "id": "7cfd4205",
   "metadata": {
    "lang": "en"
   },
   "source": [
    "# Use of Local and Global Variables\n",
    "### What is local and global scope?\n",
    "All Python variables accessible at some point in the code are either in local scope or global scope.\n",
    "\n",
    "The explanation is that the local scope contains all variables defined in the current function, and the global scope contains variables defined outside the current function."
   ]
  },
  {
   "cell_type": "code",
   "execution_count": 1,
   "id": "popular-ottawa",
   "metadata": {},
   "outputs": [
    {
     "name": "stdout",
     "output_type": "stream",
     "text": [
      "2\n",
      "1\n"
     ]
    }
   ],
   "source": [
    "foo = 1 # global\n",
    "def func():\n",
    "    bar = 2 # local\n",
    "    \n",
    "    print(bar) # Prints variable bar from local scope\n",
    "    print(foo) # Prints variable foo from global scope\n",
    "\n",
    "func()"
   ]
  },
  {
   "cell_type": "markdown",
   "id": "af0ab411",
   "metadata": {
    "lang": "en"
   },
   "source": [
    "It can be examined which variables are in which scope. The built-in functions locals() and globals() return all scopes as a dictionary."
   ]
  },
  {
   "cell_type": "code",
   "execution_count": 3,
   "id": "unavailable-dealing",
   "metadata": {},
   "outputs": [
    {
     "name": "stdout",
     "output_type": "stream",
     "text": [
      "dict_keys(['__name__', '__doc__', '__package__', '__loader__', '__spec__', '__builtin__', '__builtins__', '_ih', '_oh', '_dh', 'In', 'Out', 'get_ipython', 'exit', 'quit', 'open', '_', '__', '___', '_i', '_ii', '_iii', '_i1', 'foo', 'func', '_i2', '_i3'])\n",
      "\n",
      "dict_keys(['bar'])\n"
     ]
    }
   ],
   "source": [
    "def func():\n",
    "    bar = 2\n",
    "    print(globals().keys()) # prints all variable names in global scope\n",
    "    print()\n",
    "    print(locals().keys()) # prints all variable names in local scope\n",
    "func()"
   ]
  },
  {
   "cell_type": "markdown",
   "id": "5ac740e9",
   "metadata": {
    "lang": "en"
   },
   "source": [
    "### What happens in case of name conflicts?"
   ]
  },
  {
   "cell_type": "code",
   "execution_count": 4,
   "id": "clear-negative",
   "metadata": {},
   "outputs": [
    {
     "name": "stdout",
     "output_type": "stream",
     "text": [
      "2\n",
      "1\n"
     ]
    }
   ],
   "source": [
    "foo = 1\n",
    "def func():\n",
    "    foo = 2 # creates a new variable foo in local scope, global foo is not affected\n",
    "    print(foo) # prints foo (2)\n",
    "    # The global variable foo still exists, unchanged:\n",
    "    print(globals()['foo']) # prints 1\n",
    "func()"
   ]
  },
  {
   "cell_type": "markdown",
   "id": "bbaa8beb",
   "metadata": {
    "lang": "en"
   },
   "source": [
    "To modify a global variable, use the global keyword:"
   ]
  },
  {
   "cell_type": "code",
   "execution_count": 6,
   "id": "portable-tutorial",
   "metadata": {},
   "outputs": [
    {
     "name": "stdout",
     "output_type": "stream",
     "text": [
      "1\n",
      "2\n",
      "2\n"
     ]
    }
   ],
   "source": [
    "foo = 1\n",
    "def func():\n",
    "    # global foo\n",
    "    global foo \n",
    "    foo = 2 # this replaces global foo instead of creating a local variable\n",
    "    print(foo)\n",
    "print(foo) # prints 1\n",
    "func()\n",
    "print(foo) # prints 1"
   ]
  },
  {
   "cell_type": "markdown",
   "id": "dafd0876",
   "metadata": {
    "lang": "en"
   },
   "source": [
    "**Scope is defined for the entire body of the function!**\n",
    "\n",
    "This means that a variable will never be global for half the function and then local, or vice versa."
   ]
  },
  {
   "cell_type": "code",
   "execution_count": 13,
   "id": "martial-miller",
   "metadata": {},
   "outputs": [
    {
     "name": "stdout",
     "output_type": "stream",
     "text": [
      "5\n",
      "5\n"
     ]
    }
   ],
   "source": [
    "foo = 1\n",
    "def func():\n",
    "    global foo\n",
    "    foo = 5\n",
    "    print(foo)\n",
    "func()\n",
    "print(foo)"
   ]
  }
 ],
 "metadata": {
  "kernelspec": {
   "display_name": "Python 3 (ipykernel)",
   "language": "python",
   "name": "python3"
  },
  "language_info": {
   "codemirror_mode": {
    "name": "ipython",
    "version": 3
   },
   "file_extension": ".py",
   "mimetype": "text/x-python",
   "name": "python",
   "nbconvert_exporter": "python",
   "pygments_lexer": "ipython3",
   "version": "3.11.5"
  },
  "nbTranslate": {
   "displayLangs": [
    "*"
   ],
   "hotkey": "alt-t",
   "langInMainMenu": true,
   "sourceLang": "tr",
   "targetLang": "en",
   "useGoogleTranslate": true
  }
 },
 "nbformat": 4,
 "nbformat_minor": 5
}

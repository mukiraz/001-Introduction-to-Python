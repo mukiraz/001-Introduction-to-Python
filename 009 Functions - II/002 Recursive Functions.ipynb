{
 "cells": [
  {
   "cell_type": "markdown",
   "id": "ccec51e7",
   "metadata": {
    "lang": "en"
   },
   "source": [
    "# Recursive Functions"
   ]
  },
  {
   "cell_type": "markdown",
   "id": "99d32ad8",
   "metadata": {
    "lang": "en"
   },
   "source": [
    "A recursive function is a function that calls itself in its definition. For example, the mathematical function defined by factorial (n) = n *(n-1)* (n-2) *...* 3 *2* 1 can be programmed as a factorial"
   ]
  },
  {
   "cell_type": "code",
   "execution_count": 1,
   "id": "serial-kazakhstan",
   "metadata": {
    "lang": "tr"
   },
   "outputs": [],
   "source": [
    "def factorial(n: int):\n",
    "    \"\"\"\n",
    "    This function calculates the factorial.\n",
    "    \n",
    "    \"\"\"\n",
    "    if n == 0:\n",
    "        return 1\n",
    "    else:\n",
    "        return n * factorial(n-1)"
   ]
  },
  {
   "cell_type": "code",
   "execution_count": 2,
   "id": "molecular-little",
   "metadata": {},
   "outputs": [
    {
     "name": "stdout",
     "output_type": "stream",
     "text": [
      "120\n"
     ]
    }
   ],
   "source": [
    "print(factorial(5))"
   ]
  },
  {
   "cell_type": "markdown",
   "id": "945833b4",
   "metadata": {
    "lang": "en"
   },
   "source": [
    "Note that the above function is recursive because the second return is factorial (n-1), where the function calls itself in its definition.\n",
    "Some recursive functions can be implemented using lambda, the factorial function using lambda would be:"
   ]
  },
  {
   "cell_type": "code",
   "execution_count": 3,
   "id": "compact-wheel",
   "metadata": {
    "lang": "tr"
   },
   "outputs": [],
   "source": [
    "factorial_2 = lambda n: 1 if n == 0 else n * factorial_2(n-1)"
   ]
  },
  {
   "cell_type": "code",
   "execution_count": 4,
   "id": "hidden-necessity",
   "metadata": {},
   "outputs": [
    {
     "name": "stdout",
     "output_type": "stream",
     "text": [
      "120\n"
     ]
    }
   ],
   "source": [
    "print(factorial_2(5))"
   ]
  },
  {
   "cell_type": "markdown",
   "id": "4e5f3a4d",
   "metadata": {
    "lang": "en"
   },
   "source": [
    "The function gives the same output as above."
   ]
  },
  {
   "cell_type": "markdown",
   "id": "cb887bfe",
   "metadata": {
    "lang": "en"
   },
   "source": [
    "### Finding the nth element of the Fibonacci series"
   ]
  },
  {
   "cell_type": "code",
   "execution_count": 7,
   "id": "hawaiian-gardening",
   "metadata": {},
   "outputs": [],
   "source": [
    "def fibonacci(n):    \n",
    "     if n <= 2:        \n",
    "        return 1    \n",
    "     else:        \n",
    "        return fibonacci(n-1) + fibonacci(n-2)"
   ]
  },
  {
   "cell_type": "code",
   "execution_count": 13,
   "id": "funded-fraction",
   "metadata": {},
   "outputs": [
    {
     "name": "stdout",
     "output_type": "stream",
     "text": [
      "21\n"
     ]
    }
   ],
   "source": [
    "print(fibonacci(8))"
   ]
  },
  {
   "cell_type": "markdown",
   "id": "bbc6a58f",
   "metadata": {
    "lang": "en"
   },
   "source": [
    "### Finding the nth element of the Fibonacci series-2"
   ]
  },
  {
   "cell_type": "code",
   "execution_count": 16,
   "id": "sustainable-drill",
   "metadata": {},
   "outputs": [],
   "source": [
    "def fibonacci_2(n, old=1, now=1):    \n",
    "     if n <= 2:        \n",
    "        return now    \n",
    "     else:        \n",
    "        return fibonacci_2(n-1, now, old+now)"
   ]
  },
  {
   "cell_type": "code",
   "execution_count": 17,
   "id": "damaged-shooting",
   "metadata": {},
   "outputs": [
    {
     "name": "stdout",
     "output_type": "stream",
     "text": [
      "8\n"
     ]
    }
   ],
   "source": [
    "print(fibonacci_2(6))"
   ]
  },
  {
   "cell_type": "markdown",
   "id": "9fde4c7d",
   "metadata": {
    "lang": "en"
   },
   "source": [
    "### Finding the sum of numbers from 1 to n"
   ]
  },
  {
   "cell_type": "code",
   "execution_count": 18,
   "id": "dedicated-andorra",
   "metadata": {},
   "outputs": [
    {
     "name": "stdout",
     "output_type": "stream",
     "text": [
      "55\n"
     ]
    }
   ],
   "source": [
    "def get_sum_n(number):\n",
    "    if number == 1:\n",
    "        return  1\n",
    "    else:\n",
    "        return number + get_sum_n(number - 1)\n",
    "\n",
    "print(get_sum_n(10))"
   ]
  },
  {
   "cell_type": "markdown",
   "id": "1d76ee51",
   "metadata": {
    "lang": "en"
   },
   "source": [
    "### Character Printing"
   ]
  },
  {
   "cell_type": "code",
   "execution_count": 19,
   "id": "uniform-footage",
   "metadata": {},
   "outputs": [
    {
     "name": "stdout",
     "output_type": "stream",
     "text": [
      "h\n",
      "o\n",
      "n\n",
      "None\n"
     ]
    }
   ],
   "source": [
    "def write_char(word, length):\n",
    "    if length == len(word) - 1:\n",
    "        print(word[length])\n",
    "    else:\n",
    "        print(word[length])\n",
    "        write_char(word, length + 1)\n",
    "        \n",
    "word = \"Python\"\n",
    "print(write_char(word, 3))"
   ]
  }
 ],
 "metadata": {
  "kernelspec": {
   "display_name": "Python 3 (ipykernel)",
   "language": "python",
   "name": "python3"
  },
  "language_info": {
   "codemirror_mode": {
    "name": "ipython",
    "version": 3
   },
   "file_extension": ".py",
   "mimetype": "text/x-python",
   "name": "python",
   "nbconvert_exporter": "python",
   "pygments_lexer": "ipython3",
   "version": "3.11.5"
  },
  "nbTranslate": {
   "displayLangs": [
    "*"
   ],
   "hotkey": "alt-t",
   "langInMainMenu": true,
   "sourceLang": "tr",
   "targetLang": "en",
   "useGoogleTranslate": true
  }
 },
 "nbformat": 4,
 "nbformat_minor": 5
}

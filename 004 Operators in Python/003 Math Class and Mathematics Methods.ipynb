{
 "cells": [
  {
   "cell_type": "markdown",
   "id": "93ec5ed0",
   "metadata": {
    "lang": "en"
   },
   "source": [
    "# Numerical Methods"
   ]
  },
  {
   "cell_type": "markdown",
   "id": "ca7c1502",
   "metadata": {
    "lang": "en"
   },
   "source": [
    "## Numerical Methods\n",
    "\n",
    "In order to use numerical methods in Python, we need to add the math library. This process will be explained in detail in the \"modules\" topic. It is enough to know that we obtain numerical functions here with \"import math\".\n",
    "\n",
    "\n",
    "There are many functions to perform operations like this. You can access these functions at https://docs.python.org/3/library/math.html. Now let's examine some of these functions with you."
   ]
  },
  {
   "cell_type": "markdown",
   "id": "wrong-formula",
   "metadata": {},
   "source": [
    "### math.ceil()"
   ]
  },
  {
   "cell_type": "markdown",
   "id": "7adce28c",
   "metadata": {
    "lang": "en"
   },
   "source": [
    "Rounds the decimal number up to ceiling."
   ]
  },
  {
   "cell_type": "code",
   "execution_count": 2,
   "id": "vital-attention",
   "metadata": {},
   "outputs": [
    {
     "data": {
      "text/plain": [
       "4"
      ]
     },
     "execution_count": 2,
     "metadata": {},
     "output_type": "execute_result"
    }
   ],
   "source": [
    "import math\n",
    "math.ceil(3.154660)"
   ]
  },
  {
   "cell_type": "markdown",
   "id": "affiliated-astrology",
   "metadata": {},
   "source": [
    "### math.floor(x)"
   ]
  },
  {
   "cell_type": "markdown",
   "id": "401be0ad",
   "metadata": {
    "lang": "en"
   },
   "source": [
    "Rounds a decimal number to the base."
   ]
  },
  {
   "cell_type": "code",
   "execution_count": 4,
   "id": "compatible-operator",
   "metadata": {},
   "outputs": [
    {
     "data": {
      "text/plain": [
       "3"
      ]
     },
     "execution_count": 4,
     "metadata": {},
     "output_type": "execute_result"
    }
   ],
   "source": [
    "math.floor(3.154660)"
   ]
  },
  {
   "cell_type": "markdown",
   "id": "average-physiology",
   "metadata": {},
   "source": [
    "### math.factorial(x)"
   ]
  },
  {
   "cell_type": "markdown",
   "id": "d606eac5",
   "metadata": {
    "lang": "en"
   },
   "source": [
    "Gets the factorial of an integer."
   ]
  },
  {
   "cell_type": "code",
   "execution_count": 5,
   "id": "demonstrated-exclusion",
   "metadata": {},
   "outputs": [
    {
     "data": {
      "text/plain": [
       "120"
      ]
     },
     "execution_count": 5,
     "metadata": {},
     "output_type": "execute_result"
    }
   ],
   "source": [
    "math.factorial(5)"
   ]
  },
  {
   "cell_type": "markdown",
   "id": "typical-eleven",
   "metadata": {},
   "source": [
    "### math.comb(n, k)"
   ]
  },
  {
   "cell_type": "markdown",
   "id": "ef10b78a",
   "metadata": {
    "lang": "en"
   },
   "source": [
    "Gets the combination of two given numbers."
   ]
  },
  {
   "cell_type": "code",
   "execution_count": 6,
   "id": "hired-gender",
   "metadata": {},
   "outputs": [
    {
     "data": {
      "text/plain": [
       "10"
      ]
     },
     "execution_count": 6,
     "metadata": {},
     "output_type": "execute_result"
    }
   ],
   "source": [
    "math.comb(5,3)"
   ]
  },
  {
   "cell_type": "markdown",
   "id": "turned-affiliate",
   "metadata": {},
   "source": [
    "### math.perm(n, k=None)"
   ]
  },
  {
   "cell_type": "markdown",
   "id": "12238ab2",
   "metadata": {
    "lang": "en"
   },
   "source": [
    "Gets the permutation of two given numbers"
   ]
  },
  {
   "cell_type": "code",
   "execution_count": 7,
   "id": "renewable-reducing",
   "metadata": {},
   "outputs": [
    {
     "data": {
      "text/plain": [
       "60"
      ]
     },
     "execution_count": 7,
     "metadata": {},
     "output_type": "execute_result"
    }
   ],
   "source": [
    "math.perm(5,3)"
   ]
  },
  {
   "cell_type": "markdown",
   "id": "ultimate-vampire",
   "metadata": {},
   "source": [
    "### math.gcd(*integers)"
   ]
  },
  {
   "cell_type": "markdown",
   "id": "7558a0dc",
   "metadata": {
    "lang": "en"
   },
   "source": [
    "Finds the greatest common divisor of two given integers."
   ]
  },
  {
   "cell_type": "code",
   "execution_count": 8,
   "id": "studied-extreme",
   "metadata": {},
   "outputs": [
    {
     "data": {
      "text/plain": [
       "10"
      ]
     },
     "execution_count": 8,
     "metadata": {},
     "output_type": "execute_result"
    }
   ],
   "source": [
    "math.gcd(20,10)"
   ]
  },
  {
   "cell_type": "markdown",
   "id": "excited-proof",
   "metadata": {},
   "source": [
    "### math.exp(x)"
   ]
  },
  {
   "cell_type": "markdown",
   "id": "12189ef9",
   "metadata": {
    "lang": "en"
   },
   "source": [
    "It is an exponential function of the natural number e."
   ]
  },
  {
   "cell_type": "code",
   "execution_count": 9,
   "id": "whole-gnome",
   "metadata": {},
   "outputs": [
    {
     "data": {
      "text/plain": [
       "7.38905609893065"
      ]
     },
     "execution_count": 9,
     "metadata": {},
     "output_type": "execute_result"
    }
   ],
   "source": [
    "math.exp(2)"
   ]
  },
  {
   "cell_type": "markdown",
   "id": "optional-transaction",
   "metadata": {},
   "source": [
    "### math.log(x[, base])"
   ]
  },
  {
   "cell_type": "markdown",
   "id": "bdc9e97f",
   "metadata": {
    "lang": "en"
   },
   "source": [
    "It is used to get logarithms."
   ]
  },
  {
   "cell_type": "code",
   "execution_count": 10,
   "id": "biological-outside",
   "metadata": {},
   "outputs": [
    {
     "data": {
      "text/plain": [
       "2.0"
      ]
     },
     "execution_count": 10,
     "metadata": {},
     "output_type": "execute_result"
    }
   ],
   "source": [
    "math.log(100,10)"
   ]
  },
  {
   "cell_type": "markdown",
   "id": "noticed-startup",
   "metadata": {},
   "source": [
    "### math.pi"
   ]
  },
  {
   "cell_type": "markdown",
   "id": "abcf5911",
   "metadata": {
    "lang": "en"
   },
   "source": [
    "Pi is the number. It is constant."
   ]
  },
  {
   "cell_type": "code",
   "execution_count": 11,
   "id": "upset-challenge",
   "metadata": {},
   "outputs": [
    {
     "data": {
      "text/plain": [
       "3.141592653589793"
      ]
     },
     "execution_count": 11,
     "metadata": {},
     "output_type": "execute_result"
    }
   ],
   "source": [
    "math.pi"
   ]
  },
  {
   "cell_type": "markdown",
   "id": "presidential-tissue",
   "metadata": {},
   "source": [
    "### math.e"
   ]
  },
  {
   "cell_type": "markdown",
   "id": "6444fab6",
   "metadata": {
    "lang": "en"
   },
   "source": [
    "is the number e. It is constant"
   ]
  },
  {
   "cell_type": "code",
   "execution_count": 12,
   "id": "optional-grass",
   "metadata": {},
   "outputs": [
    {
     "data": {
      "text/plain": [
       "2.718281828459045"
      ]
     },
     "execution_count": 12,
     "metadata": {},
     "output_type": "execute_result"
    }
   ],
   "source": [
    "math.e"
   ]
  },
  {
   "cell_type": "markdown",
   "id": "understanding-bottle",
   "metadata": {},
   "source": [
    "### math.cos(x)"
   ]
  },
  {
   "cell_type": "markdown",
   "id": "3b5f8fd4",
   "metadata": {
    "lang": "en"
   },
   "source": [
    "Returns cos(x). x here is in radians."
   ]
  },
  {
   "cell_type": "code",
   "execution_count": 13,
   "id": "spoken-decision",
   "metadata": {},
   "outputs": [
    {
     "data": {
      "text/plain": [
       "-1.0"
      ]
     },
     "execution_count": 13,
     "metadata": {},
     "output_type": "execute_result"
    }
   ],
   "source": [
    "x = math.pi\n",
    "\n",
    "math.cos(x)"
   ]
  },
  {
   "cell_type": "markdown",
   "id": "fitting-municipality",
   "metadata": {},
   "source": [
    "### math.sin(x)"
   ]
  },
  {
   "cell_type": "markdown",
   "id": "bd720f8a",
   "metadata": {
    "lang": "en"
   },
   "source": [
    "It gives sin(x). x here is in radians."
   ]
  },
  {
   "cell_type": "code",
   "execution_count": 14,
   "id": "representative-couple",
   "metadata": {},
   "outputs": [
    {
     "data": {
      "text/plain": [
       "1.0"
      ]
     },
     "execution_count": 14,
     "metadata": {},
     "output_type": "execute_result"
    }
   ],
   "source": [
    "x = math.pi / 2\n",
    "\n",
    "math.sin(x)"
   ]
  }
 ],
 "metadata": {
  "kernelspec": {
   "display_name": "Python 3 (ipykernel)",
   "language": "python",
   "name": "python3"
  },
  "language_info": {
   "codemirror_mode": {
    "name": "ipython",
    "version": 3
   },
   "file_extension": ".py",
   "mimetype": "text/x-python",
   "name": "python",
   "nbconvert_exporter": "python",
   "pygments_lexer": "ipython3",
   "version": "3.11.4"
  },
  "nbTranslate": {
   "displayLangs": [],
   "hotkey": "alt-t",
   "langInMainMenu": true,
   "sourceLang": "tr",
   "targetLang": "en",
   "useGoogleTranslate": true
  }
 },
 "nbformat": 4,
 "nbformat_minor": 5
}

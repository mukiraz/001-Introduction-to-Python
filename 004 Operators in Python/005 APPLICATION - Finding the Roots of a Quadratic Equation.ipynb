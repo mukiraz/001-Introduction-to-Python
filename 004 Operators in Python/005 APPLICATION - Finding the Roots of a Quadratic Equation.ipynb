{
 "cells": [
  {
   "cell_type": "markdown",
   "id": "bc257c53",
   "metadata": {
    "lang": "en"
   },
   "source": [
    "# Finding the roots of a quadratic equation with one unknown"
   ]
  },
  {
   "attachments": {
    "denklem.PNG": {
     "image/png": "[encoded data removed]"
    }
   },
   "cell_type": "markdown",
   "id": "computational-olive",
   "metadata": {},
   "source": [
    "![denklem.PNG](attachment:denklem.PNG)"
   ]
  },
  {
   "cell_type": "markdown",
   "id": "e4e939e4",
   "metadata": {
    "lang": "en"
   },
   "source": [
    "We knew that the roots of a quadratic equation expressed as are calculated with the following formula."
   ]
  },
  {
   "attachments": {
    "denklem.PNG": {
     "image/png": "[encoded data removed]"
    }
   },
   "cell_type": "markdown",
   "id": "tender-medium",
   "metadata": {},
   "source": [
    "![denklem.PNG](attachment:denklem.PNG)"
   ]
  },
  {
   "cell_type": "markdown",
   "id": "64867f25",
   "metadata": {
    "lang": "en"
   },
   "source": [
    "Now let's write a program that calculates this."
   ]
  },
  {
   "cell_type": "code",
   "execution_count": 2,
   "id": "e4ce8a41",
   "metadata": {
    "lang": "en"
   },
   "outputs": [
    {
     "name": "stdout",
     "output_type": "stream",
     "text": [
      "\n",
      "-------------------------------------------------- ---------------------\n",
      "This program finds the roots of an equation given as ax^2 + bx + c=0.\n",
      "Enter the numbers a, b, and c respectively.\n",
      "\n",
      "-------------------------------------------------- ---------------------\n",
      "\n",
      "\n",
      "Enter a value:1\n",
      "Enter the value of b:2\n",
      "Enter the value c:1\n",
      "\n",
      "First Root:x1 = -1.0\n",
      "Second Root:x2 = -1.0\n",
      "\n"
     ]
    }
   ],
   "source": [
    "print(\"\"\"\n",
    "-------------------------------------------------- ---------------------\n",
    "This program finds the roots of an equation given as ax^2 + bx + c=0.\n",
    "Enter the numbers a, b, and c respectively.\n",
    "\n",
    "-------------------------------------------------- ---------------------\n",
    "\n",
    "\"\"\", flush=True)\n",
    "\n",
    "a = float(input(\"Enter a value:\"))\n",
    "b = float(input(\"Enter the value of b:\"))\n",
    "c = float(input(\"Enter the value c:\"))\n",
    "\n",
    "delta = b * b - 4 * a * c\n",
    "delta_sqrt = delta ** 0.5\n",
    "\n",
    "x_1 = (-b + delta_sqrt) / 2 * a\n",
    "x_2 = (-b - delta_sqrt) / 2 * a\n",
    "\n",
    "print(\"\"\"\n",
    "First Root:x1 = {}\n",
    "Second Root:x2 = {}\n",
    "\"\"\".format(x_1,x_2))"
   ]
  }
 ],
 "metadata": {
  "kernelspec": {
   "display_name": "Python 3 (ipykernel)",
   "language": "python",
   "name": "python3"
  },
  "language_info": {
   "codemirror_mode": {
    "name": "ipython",
    "version": 3
   },
   "file_extension": ".py",
   "mimetype": "text/x-python",
   "name": "python",
   "nbconvert_exporter": "python",
   "pygments_lexer": "ipython3",
   "version": "3.11.4"
  },
  "nbTranslate": {
   "displayLangs": [],
   "hotkey": "alt-t",
   "langInMainMenu": true,
   "sourceLang": "tr",
   "targetLang": "en",
   "useGoogleTranslate": true
  }
 },
 "nbformat": 4,
 "nbformat_minor": 5
}

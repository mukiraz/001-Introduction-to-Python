{
 "cells": [
  {
   "cell_type": "markdown",
   "id": "1219cf6d",
   "metadata": {
    "lang": "en"
   },
   "source": [
    "# Temperature Units Conversions"
   ]
  },
  {
   "cell_type": "markdown",
   "id": "31d592f9",
   "metadata": {
    "lang": "en"
   },
   "source": [
    "Now let's write a simple program that converts temperature units."
   ]
  },
  {
   "attachments": {
    "image.png": {
     "image/png": "[encoded data removed]"
    }
   },
   "cell_type": "markdown",
   "id": "thrown-creator",
   "metadata": {},
   "source": [
    "![image.png](attachment:image.png)"
   ]
  },
  {
   "cell_type": "markdown",
   "id": "1dcea13e",
   "metadata": {
    "lang": "en"
   },
   "source": [
    "We can make conversions between temperature units using the expression above. We can write the necessary coding for this as follows."
   ]
  },
  {
   "cell_type": "markdown",
   "id": "71c39dbe",
   "metadata": {},
   "source": [
    "## Celcius to Fahrenheit"
   ]
  },
  {
   "cell_type": "code",
   "execution_count": 1,
   "id": "55f02588",
   "metadata": {
    "lang": "en"
   },
   "outputs": [
    {
     "name": "stdout",
     "output_type": "stream",
     "text": [
      "--------------------------------------------- ----------\n",
      "This program converts the value entered in degrees Celsius to Fahrenheit.\n",
      "-------------------------------------------------- -----\n",
      "\n",
      "Please enter a value in celcius:32\n",
      "The Fahrenheit equivalent of 32.0 degrees Celsius is 89.6 fahrenheit\n"
     ]
    }
   ],
   "source": [
    "# First, let's inform our users with the print function.\n",
    "print(\"\"\"--------------------------------------------- ----------\n",
    "This program converts the value entered in degrees Celsius to Fahrenheit.\n",
    "-------------------------------------------------- -----\n",
    "\"\"\")\n",
    "         \n",
    "celcius = float(input(\"Please enter a value in celcius:\"))\n",
    "fahrenheit = ((celcius * 180) / 100) + 32\n",
    "message = \"The Fahrenheit equivalent of {} degrees Celsius is {} fahrenheit\".format(celcius,fahrenheit)\n",
    "print(message)"
   ]
  },
  {
   "cell_type": "markdown",
   "id": "b8d052c6",
   "metadata": {},
   "source": [
    "## Fahrenheit to Celcius"
   ]
  },
  {
   "cell_type": "code",
   "execution_count": 2,
   "id": "3fa15b2b",
   "metadata": {
    "lang": "en"
   },
   "outputs": [
    {
     "name": "stdout",
     "output_type": "stream",
     "text": [
      "--------------------------------------------- ----------\n",
      "This program converts the value entered in Fahrenheit to Celsius.\n",
      "-------------------------------------------------- -----\n",
      "\n",
      "Please enter a value in celcius:89.6\n",
      "The celcius equivalent of 89.6 fahrenheit is 31.999999999999996 celcius\n"
     ]
    }
   ],
   "source": [
    "# First, let's inform our users with the print function.\n",
    "print(\"\"\"--------------------------------------------- ----------\n",
    "This program converts the value entered in Fahrenheit to Celsius.\n",
    "-------------------------------------------------- -----\n",
    "\"\"\")\n",
    "         \n",
    "fahrenheit = float(input(\"Please enter a value in celcius:\"))\n",
    "celcius = ((fahrenheit-32)/180)*100\n",
    "message = \"The celcius equivalent of {} fahrenheit is {} celcius\".format(fahrenheit,celcius)\n",
    "print(message)"
   ]
  },
  {
   "cell_type": "markdown",
   "id": "fa943542",
   "metadata": {},
   "source": [
    "## Celcius to Kelvin"
   ]
  },
  {
   "cell_type": "code",
   "execution_count": 3,
   "id": "e52309b9",
   "metadata": {
    "lang": "en"
   },
   "outputs": [
    {
     "name": "stdout",
     "output_type": "stream",
     "text": [
      "--------------------------------------------- ----------\n",
      "This program converts the value entered in degrees Celsius to Kelvin.\n",
      "-------------------------------------------------- -----\n",
      "\n",
      "Please enter a value in celcius:23\n",
      "The Kelvin equivalent of 23.0 degrees Celsius is 296.0 Kelvin\n"
     ]
    }
   ],
   "source": [
    "# First, let's inform our users with the print function.\n",
    "print(\"\"\"--------------------------------------------- ----------\n",
    "This program converts the value entered in degrees Celsius to Kelvin.\n",
    "-------------------------------------------------- -----\n",
    "\"\"\")\n",
    "         \n",
    "celcius = float(input(\"Please enter a value in celcius:\"))\n",
    "kelvin = celcius+273\n",
    "message = \"The Kelvin equivalent of {} degrees Celsius is {} Kelvin\".format(celcius,kelvin)\n",
    "print(message)"
   ]
  },
  {
   "cell_type": "markdown",
   "id": "48c113d2",
   "metadata": {},
   "source": [
    "## Kelvin to Celcius"
   ]
  },
  {
   "cell_type": "code",
   "execution_count": 4,
   "id": "a6d32340",
   "metadata": {
    "lang": "en"
   },
   "outputs": [
    {
     "name": "stdout",
     "output_type": "stream",
     "text": [
      "--------------------------------------------- ----------\n",
      "This program converts the value entered in Kelvin to Celcius.\n",
      "-------------------------------------------------- -----\n",
      "\n",
      "Please enter a value in kelvin:296\n",
      "The celcius equivalent of 296.0 Kelvin is 23.0 celcius\n"
     ]
    }
   ],
   "source": [
    "# First, let's inform our users with the print function.\n",
    "print(\"\"\"--------------------------------------------- ----------\n",
    "This program converts the value entered in Kelvin to Celcius.\n",
    "-------------------------------------------------- -----\n",
    "\"\"\")\n",
    "         \n",
    "kelvin = float(input(\"Please enter a value in kelvin:\"))\n",
    "celcius = kelvin-273\n",
    "message = \"The celcius equivalent of {} Kelvin is {} celcius\".format(kelvin,celcius)\n",
    "print(message)"
   ]
  }
 ],
 "metadata": {
  "kernelspec": {
   "display_name": "Python 3 (ipykernel)",
   "language": "python",
   "name": "python3"
  },
  "language_info": {
   "codemirror_mode": {
    "name": "ipython",
    "version": 3
   },
   "file_extension": ".py",
   "mimetype": "text/x-python",
   "name": "python",
   "nbconvert_exporter": "python",
   "pygments_lexer": "ipython3",
   "version": "3.11.4"
  },
  "nbTranslate": {
   "displayLangs": [
    "*"
   ],
   "hotkey": "alt-t",
   "langInMainMenu": true,
   "sourceLang": "tr",
   "targetLang": "en",
   "useGoogleTranslate": true
  }
 },
 "nbformat": 4,
 "nbformat_minor": 5
}

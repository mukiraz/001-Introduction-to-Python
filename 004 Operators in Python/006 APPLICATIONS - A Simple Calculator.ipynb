{
 "cells": [
  {
   "cell_type": "markdown",
   "id": "d2c57877",
   "metadata": {
    "lang": "en"
   },
   "source": [
    "# A simple calculator application"
   ]
  },
  {
   "cell_type": "markdown",
   "id": "5d6bf099",
   "metadata": {
    "lang": "en"
   },
   "source": [
    "Instead of a visual calculator, we can calculate the addition, subtraction, multiplication and division of two numbers given to the user with Python."
   ]
  },
  {
   "cell_type": "code",
   "execution_count": 1,
   "id": "69773528",
   "metadata": {
    "lang": "en"
   },
   "outputs": [
    {
     "name": "stdout",
     "output_type": "stream",
     "text": [
      "\n",
      "This program prints the operations performed on the two numbers you enter.\n",
      "\n",
      "\n",
      "Enter the First Number:5\n",
      "Enter the Second Number:3\n",
      "\n",
      "Sum of Two Numbers: 5.0 + 3.0 = 8.0\n",
      "Multiplication of Two Numbers: 5.0 * 3.0 = 15.0\n",
      "Division of Two Numbers: 5.0 / 3.0 = 1.6666666666666667\n",
      "Subtracting Two Numbers:5.0 - 3.0 = 2.0\n",
      "\n"
     ]
    }
   ],
   "source": [
    "print(\"\"\"\n",
    "This program prints the operations performed on the two numbers you enter.\n",
    "\n",
    "\"\"\")\n",
    "\n",
    "first_number = float(input(\"Enter the First Number:\"))\n",
    "second_number = float(input(\"Enter the Second Number:\"))\n",
    "\n",
    "summed = first_number + second_number\n",
    "multiplied = first_number * second_number\n",
    "devided = first_number / second_number\n",
    "subtracted = first_number - second_number\n",
    "\n",
    "print(\"\"\"\n",
    "Sum of Two Numbers: {0} + {1} = {2}\n",
    "Multiplication of Two Numbers: {0} * {1} = {3}\n",
    "Division of Two Numbers: {0} / {1} = {4}\n",
    "Subtracting Two Numbers:{0} - {1} = {5}\n",
    "\"\"\".format(first_number,second_number,summed,multiplied,devided,subtracted))"
   ]
  },
  {
   "cell_type": "code",
   "execution_count": null,
   "id": "extreme-florida",
   "metadata": {},
   "outputs": [],
   "source": []
  }
 ],
 "metadata": {
  "kernelspec": {
   "display_name": "Python 3 (ipykernel)",
   "language": "python",
   "name": "python3"
  },
  "language_info": {
   "codemirror_mode": {
    "name": "ipython",
    "version": 3
   },
   "file_extension": ".py",
   "mimetype": "text/x-python",
   "name": "python",
   "nbconvert_exporter": "python",
   "pygments_lexer": "ipython3",
   "version": "3.11.4"
  },
  "nbTranslate": {
   "displayLangs": [
    "*"
   ],
   "hotkey": "alt-t",
   "langInMainMenu": true,
   "sourceLang": "tr",
   "targetLang": "en",
   "useGoogleTranslate": true
  }
 },
 "nbformat": 4,
 "nbformat_minor": 5
}

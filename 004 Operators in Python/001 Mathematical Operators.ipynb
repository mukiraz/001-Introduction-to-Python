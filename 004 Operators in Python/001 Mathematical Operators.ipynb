{
 "cells": [
  {
   "cell_type": "markdown",
   "id": "6d484d26",
   "metadata": {
    "lang": "en"
   },
   "source": [
    "# Mathematical Operators\n",
    "\n",
    "Math operators are very important in Python and other programming languages.\n",
    "### Addition Process (+)\n",
    "\n",
    "Addition can be done in Python as follows."
   ]
  },
  {
   "cell_type": "code",
   "execution_count": 1,
   "id": "seven-pension",
   "metadata": {
    "lang": "tr"
   },
   "outputs": [
    {
     "data": {
      "text/plain": [
       "29"
      ]
     },
     "execution_count": 1,
     "metadata": {},
     "output_type": "execute_result"
    }
   ],
   "source": [
    "first_number = 14 \n",
    "second_number = 15 \n",
    "first_number + second_number"
   ]
  },
  {
   "cell_type": "code",
   "execution_count": 2,
   "id": "cloudy-rapid",
   "metadata": {
    "lang": "tr"
   },
   "outputs": [
    {
     "data": {
      "text/plain": [
       "(9+12j)"
      ]
     },
     "execution_count": 2,
     "metadata": {},
     "output_type": "execute_result"
    }
   ],
   "source": [
    "first_number = complex(3,4) \n",
    "second_number = complex(6,8) \n",
    "first_number + second_number"
   ]
  },
  {
   "cell_type": "markdown",
   "id": "c1514afe",
   "metadata": {
    "lang": "en"
   },
   "source": [
    "#### Reminder\n",
    "\n",
    "The addition operator is also used to concatenate two string expressions."
   ]
  },
  {
   "cell_type": "code",
   "execution_count": 1,
   "id": "fe7c8e7d",
   "metadata": {},
   "outputs": [
    {
     "data": {
      "text/plain": [
       "'Hello World'"
      ]
     },
     "execution_count": 1,
     "metadata": {},
     "output_type": "execute_result"
    }
   ],
   "source": [
    "str_1 = \"Hello\"\n",
    "str_2 = \" World\"\n",
    "str_1 + str_2"
   ]
  },
  {
   "cell_type": "markdown",
   "id": "a949f853",
   "metadata": {
    "lang": "en"
   },
   "source": [
    "### Subtraction (-)\n",
    "\n",
    "Subtraction in Python can be done as follows."
   ]
  },
  {
   "cell_type": "code",
   "execution_count": 2,
   "id": "killing-coalition",
   "metadata": {
    "lang": "tr"
   },
   "outputs": [
    {
     "data": {
      "text/plain": [
       "-47"
      ]
     },
     "execution_count": 2,
     "metadata": {},
     "output_type": "execute_result"
    }
   ],
   "source": [
    "first_number = 28 \n",
    "second_number = 35 \n",
    "third_number = 40 \n",
    "first_number - second_number - third_number"
   ]
  },
  {
   "cell_type": "code",
   "execution_count": 3,
   "id": "infectious-faith",
   "metadata": {},
   "outputs": [
    {
     "data": {
      "text/plain": [
       "-3.3000000000000007"
      ]
     },
     "execution_count": 3,
     "metadata": {},
     "output_type": "execute_result"
    }
   ],
   "source": [
    "k = 5.6\n",
    "l = 8.9\n",
    "k -l "
   ]
  },
  {
   "cell_type": "markdown",
   "id": "d510337b",
   "metadata": {
    "lang": "en"
   },
   "source": [
    "### Multiplication (*)\n",
    "Multiplication can be done in Python as follows."
   ]
  },
  {
   "cell_type": "code",
   "execution_count": 4,
   "id": "threaded-cylinder",
   "metadata": {
    "lang": "tr"
   },
   "outputs": [
    {
     "data": {
      "text/plain": [
       "20"
      ]
     },
     "execution_count": 4,
     "metadata": {},
     "output_type": "execute_result"
    }
   ],
   "source": [
    "first_number = 4 \n",
    "second_number = 5 \n",
    "first_number *second_number"
   ]
  },
  {
   "cell_type": "code",
   "execution_count": 5,
   "id": "charming-exchange",
   "metadata": {
    "lang": "tr"
   },
   "outputs": [
    {
     "data": {
      "text/plain": [
       "(-14+48j)"
      ]
     },
     "execution_count": 5,
     "metadata": {},
     "output_type": "execute_result"
    }
   ],
   "source": [
    "first_number = complex(3,4) \n",
    "second_number = complex(6,8) \n",
    "first_number * second_number"
   ]
  },
  {
   "cell_type": "markdown",
   "id": "98e8368a",
   "metadata": {
    "lang": "en"
   },
   "source": [
    "#### Reminder - 1\n",
    "\n",
    "The multiplication operator is also used to print a string expression consecutively."
   ]
  },
  {
   "cell_type": "code",
   "execution_count": 3,
   "id": "51306bc2",
   "metadata": {},
   "outputs": [
    {
     "data": {
      "text/plain": [
       "'Merhaba Merhaba Merhaba Merhaba Merhaba '"
      ]
     },
     "execution_count": 3,
     "metadata": {},
     "output_type": "execute_result"
    }
   ],
   "source": [
    "str_1 = \"Merhaba \"\n",
    "str_1 * 5"
   ]
  },
  {
   "cell_type": "markdown",
   "id": "c2e116d4",
   "metadata": {
    "lang": "en"
   },
   "source": [
    "#### Reminder - 2\n",
    "\n",
    "In print function, we can see the items of an iterable object one by one by using * operator."
   ]
  },
  {
   "cell_type": "code",
   "execution_count": 8,
   "id": "f056bd2b",
   "metadata": {},
   "outputs": [
    {
     "name": "stdout",
     "output_type": "stream",
     "text": [
      "0 1 2 3 4 5 6 7 8 9 10 11 12 13 14 15 16 17 18 19 20 21 22 23 24 25 26 27 28 29\n"
     ]
    }
   ],
   "source": [
    "print(*range(30))"
   ]
  },
  {
   "cell_type": "code",
   "execution_count": 9,
   "id": "54cb9fda",
   "metadata": {},
   "outputs": [
    {
     "name": "stdout",
     "output_type": "stream",
     "text": [
      "1 2 3 4 5 6 7\n"
     ]
    }
   ],
   "source": [
    "print(*[1,2,3,4,5,6,7])"
   ]
  },
  {
   "cell_type": "markdown",
   "id": "e1e603ea",
   "metadata": {},
   "source": [
    "#### Reminder - 3\n",
    "\n",
    "In functions, when we use *args parameter, we can send an iterable object with * operator."
   ]
  },
  {
   "cell_type": "code",
   "execution_count": 10,
   "id": "ae1975b2",
   "metadata": {},
   "outputs": [
    {
     "name": "stdout",
     "output_type": "stream",
     "text": [
      "1\n",
      "2\n",
      "3\n"
     ]
    }
   ],
   "source": [
    "def foo(*args):\n",
    "    for i in args:\n",
    "        print(i)\n",
    "        \n",
    "foo(*[1,2,3])"
   ]
  },
  {
   "cell_type": "markdown",
   "id": "913fc13d",
   "metadata": {
    "lang": "en"
   },
   "source": [
    "### Division (/)\n",
    "Division can be done in Python as follows."
   ]
  },
  {
   "cell_type": "code",
   "execution_count": 12,
   "id": "elementary-trail",
   "metadata": {},
   "outputs": [
    {
     "data": {
      "text/plain": [
       "20.0"
      ]
     },
     "execution_count": 12,
     "metadata": {},
     "output_type": "execute_result"
    }
   ],
   "source": [
    "100 / 5"
   ]
  },
  {
   "cell_type": "code",
   "execution_count": 11,
   "id": "unable-drive",
   "metadata": {},
   "outputs": [
    {
     "data": {
      "text/plain": [
       "6.666666666666667"
      ]
     },
     "execution_count": 11,
     "metadata": {},
     "output_type": "execute_result"
    }
   ],
   "source": [
    "20 / 3"
   ]
  },
  {
   "cell_type": "markdown",
   "id": "b4b3bbe7",
   "metadata": {
    "lang": "en"
   },
   "source": [
    "**NOTE:** In Python, the result of division is float. Here is the proof:"
   ]
  },
  {
   "cell_type": "code",
   "execution_count": 11,
   "id": "thirty-honolulu",
   "metadata": {
    "lang": "tr"
   },
   "outputs": [
    {
     "data": {
      "text/plain": [
       "float"
      ]
     },
     "execution_count": 11,
     "metadata": {},
     "output_type": "execute_result"
    }
   ],
   "source": [
    "first_number = 4 \n",
    "second_number = 5 \n",
    "third_number = first_number /second_number \n",
    "type(third_number)"
   ]
  },
  {
   "cell_type": "markdown",
   "id": "72cab882",
   "metadata": {
    "lang": "en"
   },
   "source": [
    "### Integer Division (//)\n",
    "The *//* operator gives the result of dividing a number by another number as **integer**. Let's look at our examples."
   ]
  },
  {
   "cell_type": "code",
   "execution_count": 12,
   "id": "4763c7e7",
   "metadata": {
    "lang": "en"
   },
   "outputs": [
    {
     "data": {
      "text/plain": [
       "3"
      ]
     },
     "execution_count": 12,
     "metadata": {},
     "output_type": "execute_result"
    }
   ],
   "source": [
    "# When dividing 13 by 4, the result is 3.\n",
    "13 // 4"
   ]
  },
  {
   "cell_type": "markdown",
   "id": "0fb0ace0",
   "metadata": {
    "lang": "en"
   },
   "source": [
    "### Finding the Remainder or Mode (%)\n",
    "\n",
    "The *%* operator gives us the **remainder** result of dividing one number by another number."
   ]
  },
  {
   "cell_type": "code",
   "execution_count": 16,
   "id": "verified-virus",
   "metadata": {
    "lang": "tr"
   },
   "outputs": [
    {
     "data": {
      "text/plain": [
       "1"
      ]
     },
     "execution_count": 16,
     "metadata": {},
     "output_type": "execute_result"
    }
   ],
   "source": [
    "# When 13 is divided by 4, the remainder is 1.\n",
    "13 % 4"
   ]
  },
  {
   "cell_type": "code",
   "execution_count": 17,
   "id": "educated-murder",
   "metadata": {},
   "outputs": [
    {
     "data": {
      "text/plain": [
       "108"
      ]
     },
     "execution_count": 17,
     "metadata": {},
     "output_type": "execute_result"
    }
   ],
   "source": [
    "330 % 111"
   ]
  },
  {
   "cell_type": "markdown",
   "id": "3a5eb75e",
   "metadata": {
    "lang": "en"
   },
   "source": [
    "### Power of a number (**)\n",
    "\n",
    "The** operator allows us to find the power of a number. For example, it prints the power of the number on the left of the operator relative to the number on the right."
   ]
  },
  {
   "cell_type": "code",
   "execution_count": 13,
   "id": "powerful-irish",
   "metadata": {},
   "outputs": [
    {
     "data": {
      "text/plain": [
       "64"
      ]
     },
     "execution_count": 13,
     "metadata": {},
     "output_type": "execute_result"
    }
   ],
   "source": [
    "# 4 ^ 3\n",
    "4 ** 3"
   ]
  },
  {
   "cell_type": "markdown",
   "id": "9b6dc993",
   "metadata": {
    "lang": "en"
   },
   "source": [
    "So how to find the square root of a number?\n",
    "\n",
    "We can reach the square root of the number by taking the power *0.5*."
   ]
  },
  {
   "cell_type": "code",
   "execution_count": 14,
   "id": "affecting-thanksgiving",
   "metadata": {
    "lang": "tr"
   },
   "outputs": [
    {
     "data": {
      "text/plain": [
       "8.0"
      ]
     },
     "execution_count": 14,
     "metadata": {},
     "output_type": "execute_result"
    }
   ],
   "source": [
    "# square root of 64\n",
    "64 ** 0.5"
   ]
  },
  {
   "cell_type": "markdown",
   "id": "33ac6c51",
   "metadata": {
    "lang": "en"
   },
   "source": [
    "### Sign change (-)\n",
    "In our programs, we may sometimes want to change the sign of a number. This operator can be useful for this."
   ]
  },
  {
   "cell_type": "code",
   "execution_count": 21,
   "id": "rubber-gather",
   "metadata": {},
   "outputs": [
    {
     "data": {
      "text/plain": [
       "-4"
      ]
     },
     "execution_count": 21,
     "metadata": {},
     "output_type": "execute_result"
    }
   ],
   "source": [
    "a = 4\n",
    "-a"
   ]
  },
  {
   "cell_type": "markdown",
   "id": "624b7bdb",
   "metadata": {
    "lang": "en"
   },
   "source": [
    "## Using operators together and order of operations\n",
    "\n",
    "The order of operations in mathematics is also valid in programming, because the order of operations in Python is exactly the same as in mathematics. The rules are;\n",
    "\n",
    "    1. The inside of the parentheses is always done first.\n",
    "    2. Multiplication and Division are always done before Addition and Subtraction.\n",
    "    3. Transactions are evaluated from left to right.\n",
    "    \n",
    "**However, do not memorize the procedures here. Put the operations in parentheses where we are confused.**"
   ]
  },
  {
   "cell_type": "code",
   "execution_count": 22,
   "id": "chubby-clarity",
   "metadata": {},
   "outputs": [
    {
     "data": {
      "text/plain": [
       "-4.0"
      ]
     },
     "execution_count": 22,
     "metadata": {},
     "output_type": "execute_result"
    }
   ],
   "source": [
    "8 + 4 * 3 /2 - 18"
   ]
  },
  {
   "cell_type": "code",
   "execution_count": 23,
   "id": "military-artwork",
   "metadata": {},
   "outputs": [
    {
     "data": {
      "text/plain": [
       "0.0"
      ]
     },
     "execution_count": 23,
     "metadata": {},
     "output_type": "execute_result"
    }
   ],
   "source": [
    "(8 + 4) * 3 /2 - 18"
   ]
  },
  {
   "cell_type": "code",
   "execution_count": 24,
   "id": "nominated-tracker",
   "metadata": {},
   "outputs": [
    {
     "data": {
      "text/plain": [
       "7.25"
      ]
     },
     "execution_count": 24,
     "metadata": {},
     "output_type": "execute_result"
    }
   ],
   "source": [
    "8 + 4 * 3 /(2 - 18)"
   ]
  }
 ],
 "metadata": {
  "kernelspec": {
   "display_name": "Python 3 (ipykernel)",
   "language": "python",
   "name": "python3"
  },
  "language_info": {
   "codemirror_mode": {
    "name": "ipython",
    "version": 3
   },
   "file_extension": ".py",
   "mimetype": "text/x-python",
   "name": "python",
   "nbconvert_exporter": "python",
   "pygments_lexer": "ipython3",
   "version": "3.11.4"
  },
  "nbTranslate": {
   "displayLangs": [
    "*"
   ],
   "hotkey": "alt-t",
   "langInMainMenu": true,
   "sourceLang": "tr",
   "targetLang": "en",
   "useGoogleTranslate": true
  }
 },
 "nbformat": 4,
 "nbformat_minor": 5
}

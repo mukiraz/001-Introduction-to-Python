{
 "cells": [
  {
   "cell_type": "markdown",
   "id": "7a202864",
   "metadata": {
    "lang": "en"
   },
   "source": [
    "# Comment Lines in Python"
   ]
  },
  {
   "cell_type": "markdown",
   "id": "f1650d27",
   "metadata": {
    "lang": "en"
   },
   "source": [
    "Comment lines should be used when coding in programming languages. Comment lines explain how the program was created, how the architecture was done, what action was taken, etc. It allows us to write. The advantage of this is to remember why we wrote the code when we look at the code later, and more importantly, to inform the person who will make changes to the code or read the code after us. If comment lines are used in a program, these lines are not seen and executed by Python.\n",
    "\n",
    "Comments are a good way to make your code more readable and maintainable. They can also be used to explain complex code or document your code.\n",
    "\n",
    "Here are some tips for using comments in Python:\n",
    "\n",
    "- Use comments not just to describe your code, but to explain what your code does.\n",
    "- Use comments to document your code, especially if it is complex or difficult to understand.\n",
    "- Use comments to explain your code choices.\n",
    "- Use comments to flag sections of code that have not yet been implemented or need review.\n",
    "- Use comments to mark deprecated code or code that should not be used.\n",
    "\n",
    "Comments are an important tool for Python programmers. By using comments effectively, you can make your code more readable, maintainable, and documented."
   ]
  },
  {
   "cell_type": "markdown",
   "id": "0a2b6ede",
   "metadata": {
    "lang": "en"
   },
   "source": [
    "## Single Comment Line"
   ]
  },
  {
   "cell_type": "code",
   "execution_count": 1,
   "id": "b9cc9879",
   "metadata": {
    "lang": "en"
   },
   "outputs": [
    {
     "name": "stdout",
     "output_type": "stream",
     "text": [
      "murat\n"
     ]
    }
   ],
   "source": [
    "# We use # for Single Comment Line.\n",
    "print(\"murat\")"
   ]
  },
  {
   "cell_type": "markdown",
   "id": "2abcaf93",
   "metadata": {
    "lang": "en"
   },
   "source": [
    "## Multiple Comment Lines"
   ]
  },
  {
   "cell_type": "code",
   "execution_count": 2,
   "id": "e14cb09f",
   "metadata": {
    "lang": "en"
   },
   "outputs": [
    {
     "name": "stdout",
     "output_type": "stream",
     "text": [
      "murat\n"
     ]
    }
   ],
   "source": [
    "\"\"\"\n",
    "We use three quotation marks for Multiple Comment Lines.\n",
    "\n",
    "\"\"\"\n",
    "print(\"murat\")"
   ]
  },
  {
   "cell_type": "markdown",
   "id": "ae3be0c4",
   "metadata": {
    "lang": "en"
   },
   "source": [
    "## Information of a class or function - documentation"
   ]
  },
  {
   "cell_type": "markdown",
   "id": "9c85166b",
   "metadata": {
    "lang": "en"
   },
   "source": [
    "When we create a function, we must introduce that function. We do this with multiple comment lines."
   ]
  },
  {
   "cell_type": "code",
   "execution_count": 3,
   "id": "e1de4ab2",
   "metadata": {},
   "outputs": [],
   "source": [
    "def get_square(number:int) -> int:\n",
    "    \"\"\"\n",
    "    ----------------------\n",
    "    get_square(number:int)\n",
    "    returns integer\n",
    "    ----------------------\n",
    "    This function gives the square of a given number.\n",
    "    number: integer\n",
    "    \"\"\"    \n",
    "    return number ** 2\n",
    "    "
   ]
  },
  {
   "cell_type": "markdown",
   "id": "dde20a30",
   "metadata": {
    "lang": "en"
   },
   "source": [
    "We can learn the documentation with the __doc__ attribute of the get_square object created in Python"
   ]
  },
  {
   "cell_type": "code",
   "execution_count": 4,
   "id": "eb04f47a",
   "metadata": {},
   "outputs": [
    {
     "name": "stdout",
     "output_type": "stream",
     "text": [
      "\n",
      "    ----------------------\n",
      "    get_square(number:int)\n",
      "    returns integer\n",
      "    ----------------------\n",
      "    This function gives the square of a given number.\n",
      "    number: integer\n",
      "    \n"
     ]
    }
   ],
   "source": [
    "print(get_square.__doc__)"
   ]
  }
 ],
 "metadata": {
  "kernelspec": {
   "display_name": "Python 3 (ipykernel)",
   "language": "python",
   "name": "python3"
  },
  "language_info": {
   "codemirror_mode": {
    "name": "ipython",
    "version": 3
   },
   "file_extension": ".py",
   "mimetype": "text/x-python",
   "name": "python",
   "nbconvert_exporter": "python",
   "pygments_lexer": "ipython3",
   "version": "3.11.4"
  },
  "nbTranslate": {
   "displayLangs": [
    "*"
   ],
   "hotkey": "alt-t",
   "langInMainMenu": true,
   "sourceLang": "tr",
   "targetLang": "en",
   "useGoogleTranslate": true
  }
 },
 "nbformat": 4,
 "nbformat_minor": 5
}

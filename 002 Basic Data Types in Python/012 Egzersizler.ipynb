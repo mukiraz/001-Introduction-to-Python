{
 "cells": [
  {
   "cell_type": "markdown",
   "id": "9bd035ee",
   "metadata": {},
   "source": [
    "# Egzersizler"
   ]
  },
  {
   "cell_type": "markdown",
   "id": "31631aca",
   "metadata": {},
   "source": [
    "## 1. Kaçış Karakterleri ve print fonksiyonu\n",
    "\n",
    "Üç satırda beklenen sonucu eşleştirmek için, print() işlevinin yanı sıra yeni satır ve kaçış karakterlerini kullanarak tek satırlık bir kod parçası yazın.\n",
    "\n",
    "Beklenen Çıktı Aşağıdadır:"
   ]
  },
  {
   "cell_type": "raw",
   "id": "520bff5f",
   "metadata": {},
   "source": [
    "\"I'm\"\n",
    "\"\"learning\"\"\n",
    "\"\"\"Python\"\"\""
   ]
  },
  {
   "cell_type": "code",
   "execution_count": 2,
   "id": "1c3a70b8",
   "metadata": {},
   "outputs": [
    {
     "name": "stdout",
     "output_type": "stream",
     "text": [
      "\n"
     ]
    }
   ],
   "source": [
    "# tek satır kodu aşağıya yazınız\n",
    "print()"
   ]
  },
  {
   "cell_type": "markdown",
   "id": "969e1c97",
   "metadata": {},
   "source": [
    "## 2. Yorum Satırları\n",
    "\n",
    "Düzenleyicideki kod, yorumları içerir. Bunu geliştirmeye çalışın: uygun bulduğunuz yerlerde yorumları ekleyin veya kaldırın (evet, bazen bir yorumu kaldırmak kodu daha okunabilir hale getirebilir) ve kodun anlaşılmasını geliştireceğini düşündüğünüz yerlerde değişken adlarını değiştirin.\n",
    "\n",
    "#### NOT\n",
    "\n",
    "Yorumlar çok önemlidir. Bunlar yalnızca programlarınızın anlaşılmasını kolaylaştırmak için değil, aynı zamanda şu anda ihtiyaç duyulmayan kod parçalarını devre dışı bırakmak için de kullanılır (örneğin, kodunuzun yalnızca bazı bölümlerini test etmeniz ve diğerlerini göz ardı etmeniz gerektiğinde). İyi programcılar kodun her önemli parçasını tanımlar ve değişkenlere kendi yorumlarını yapan isimler verirler; çünkü bazen bilgiyi kodda bırakmak çok daha iyidir.\n",
    "\n",
    "Okunabilir değişken adları kullanmak iyidir ve bazen kodunuzu adlandırılmış parçalara (örneğin işlevlere) bölmek daha iyidir. Bazı durumlarda hesaplama adımlarını daha net bir şekilde yazmak iyi bir fikirdir.\n",
    "\n",
    "Bir şey daha: Bir yorumda yanlış veya yanlış bilgi bulunabilir; bunu asla bilerek yapmamalısınız!"
   ]
  },
  {
   "cell_type": "code",
   "execution_count": null,
   "id": "fa63bdaa",
   "metadata": {},
   "outputs": [],
   "source": [
    "#this program computes the number of seconds in a given number of hours\n",
    "# this program has been written two days ago\n",
    "\n",
    "a = 2 # number of hours\n",
    "seconds = 3600 # number of seconds in 1 hour\n",
    "\n",
    "print(\"Hours: \", a) #printing the number of hours\n",
    "# print(\"Seconds in Hours: \", a * seconds) # printing the number of seconds in a given number of hours\n",
    "\n",
    "#here we should also print \"Goodbye\", but a programmer didn't have time to write any code\n",
    "#this is the end of the program that computes the number of seconds in 3 hour\n"
   ]
  }
 ],
 "metadata": {
  "kernelspec": {
   "display_name": "Python 3 (ipykernel)",
   "language": "python",
   "name": "python3"
  },
  "language_info": {
   "codemirror_mode": {
    "name": "ipython",
    "version": 3
   },
   "file_extension": ".py",
   "mimetype": "text/x-python",
   "name": "python",
   "nbconvert_exporter": "python",
   "pygments_lexer": "ipython3",
   "version": "3.11.5"
  },
  "nbTranslate": {
   "displayLangs": [
    "en",
    "tr"
   ],
   "hotkey": "alt-t",
   "langInMainMenu": true,
   "sourceLang": "tr",
   "targetLang": "en",
   "useGoogleTranslate": true
  }
 },
 "nbformat": 4,
 "nbformat_minor": 5
}

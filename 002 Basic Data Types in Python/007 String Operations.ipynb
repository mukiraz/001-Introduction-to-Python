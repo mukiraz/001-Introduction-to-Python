{
 "cells": [
  {
   "cell_type": "markdown",
   "id": "b1c369bc",
   "metadata": {
    "lang": "en"
   },
   "source": [
    "# String Operations"
   ]
  },
  {
   "cell_type": "markdown",
   "id": "62d2e994",
   "metadata": {
    "lang": "en"
   },
   "source": [
    "### Finding the number of characters of a String variable"
   ]
  },
  {
   "cell_type": "markdown",
   "id": "b5d182f6",
   "metadata": {
    "lang": "en"
   },
   "source": [
    "If we want to find out how many characters a string variable has, we can use the len() method."
   ]
  },
  {
   "cell_type": "code",
   "execution_count": 8,
   "id": "color-segment",
   "metadata": {},
   "outputs": [
    {
     "data": {
      "text/plain": [
       "16"
      ]
     },
     "execution_count": 8,
     "metadata": {},
     "output_type": "execute_result"
    }
   ],
   "source": [
    "string = \"Murat Ugur KIRAZ\"\n",
    "len(string)"
   ]
  },
  {
   "cell_type": "markdown",
   "id": "6b47ce08",
   "metadata": {
    "lang": "en"
   },
   "source": [
    "### Adding two Strings (Adding two strings)"
   ]
  },
  {
   "cell_type": "code",
   "execution_count": 9,
   "id": "latter-differential",
   "metadata": {},
   "outputs": [],
   "source": [
    "string2=\" Joe BIDEN\""
   ]
  },
  {
   "cell_type": "code",
   "execution_count": 10,
   "id": "fuzzy-paradise",
   "metadata": {},
   "outputs": [
    {
     "data": {
      "text/plain": [
       "'Murat Ugur KIRAZ'"
      ]
     },
     "execution_count": 10,
     "metadata": {},
     "output_type": "execute_result"
    }
   ],
   "source": [
    "string"
   ]
  },
  {
   "cell_type": "code",
   "execution_count": 11,
   "id": "universal-holly",
   "metadata": {},
   "outputs": [
    {
     "data": {
      "text/plain": [
       "'Murat Ugur KIRAZ Joe BIDEN'"
      ]
     },
     "execution_count": 11,
     "metadata": {},
     "output_type": "execute_result"
    }
   ],
   "source": [
    "string + string2"
   ]
  },
  {
   "cell_type": "markdown",
   "id": "b2757c66",
   "metadata": {
    "lang": "en"
   },
   "source": [
    "### String Multiplication (Repeat)"
   ]
  },
  {
   "cell_type": "markdown",
   "id": "1c471c87",
   "metadata": {
    "lang": "en"
   },
   "source": [
    "We can also multiply a number by a string."
   ]
  },
  {
   "cell_type": "code",
   "execution_count": 12,
   "id": "atomic-elimination",
   "metadata": {},
   "outputs": [
    {
     "data": {
      "text/plain": [
       "' Joe BIDEN Joe BIDEN Joe BIDEN Joe BIDEN Joe BIDEN'"
      ]
     },
     "execution_count": 12,
     "metadata": {},
     "output_type": "execute_result"
    }
   ],
   "source": [
    "string2 * 5\n"
   ]
  },
  {
   "cell_type": "markdown",
   "id": "009f1772",
   "metadata": {
    "lang": "en"
   },
   "source": [
    "### Creating an Empty String"
   ]
  },
  {
   "cell_type": "markdown",
   "id": "7af25947",
   "metadata": {
    "lang": "en"
   },
   "source": [
    "We can create an empty string in two ways.\n",
    "#### By Opening and Closing Quotes"
   ]
  },
  {
   "cell_type": "code",
   "execution_count": 13,
   "id": "0c7e6232",
   "metadata": {},
   "outputs": [],
   "source": [
    "s = '' \n",
    "s = \"\"\n",
    "s = \"\"\"\"\"\""
   ]
  },
  {
   "cell_type": "markdown",
   "id": "500ad308",
   "metadata": {
    "lang": "en"
   },
   "source": [
    "#### With String Method"
   ]
  },
  {
   "cell_type": "code",
   "execution_count": 14,
   "id": "fb00a919",
   "metadata": {},
   "outputs": [],
   "source": [
    "s = str()"
   ]
  },
  {
   "cell_type": "markdown",
   "id": "e5a93181",
   "metadata": {
    "lang": "en"
   },
   "source": [
    "### Finding out if there is a substring in a string"
   ]
  },
  {
   "cell_type": "markdown",
   "id": "7d562e69",
   "metadata": {
    "lang": "en"
   },
   "source": [
    "The in operator can be used for this."
   ]
  },
  {
   "cell_type": "code",
   "execution_count": 15,
   "id": "cd51d49e",
   "metadata": {},
   "outputs": [
    {
     "data": {
      "text/plain": [
       "True"
      ]
     },
     "execution_count": 15,
     "metadata": {},
     "output_type": "execute_result"
    }
   ],
   "source": [
    "s = \"Hello\"\n",
    "\n",
    "\"H\" in s # Returns True"
   ]
  },
  {
   "cell_type": "code",
   "execution_count": 16,
   "id": "a0849b45",
   "metadata": {},
   "outputs": [
    {
     "data": {
      "text/plain": [
       "False"
      ]
     },
     "execution_count": 16,
     "metadata": {},
     "output_type": "execute_result"
    }
   ],
   "source": [
    "\"K\" in s # Returns False"
   ]
  }
 ],
 "metadata": {
  "kernelspec": {
   "display_name": "Python 3 (ipykernel)",
   "language": "python",
   "name": "python3"
  },
  "language_info": {
   "codemirror_mode": {
    "name": "ipython",
    "version": 3
   },
   "file_extension": ".py",
   "mimetype": "text/x-python",
   "name": "python",
   "nbconvert_exporter": "python",
   "pygments_lexer": "ipython3",
   "version": "3.11.4"
  },
  "nbTranslate": {
   "displayLangs": [
    "*"
   ],
   "hotkey": "alt-t",
   "langInMainMenu": true,
   "sourceLang": "tr",
   "targetLang": "en",
   "useGoogleTranslate": true
  }
 },
 "nbformat": 4,
 "nbformat_minor": 5
}

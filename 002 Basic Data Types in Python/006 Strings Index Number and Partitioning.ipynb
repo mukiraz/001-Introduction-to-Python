{
 "cells": [
  {
   "cell_type": "markdown",
   "id": "30564f5c",
   "metadata": {
    "lang": "en"
   },
   "source": [
    "### Finding the nth character of a string variable"
   ]
  },
  {
   "cell_type": "markdown",
   "id": "a317c31b",
   "metadata": {
    "lang": "en"
   },
   "source": [
    "We said that string variables are \"character strings\". We can find out which character is in the nth element of the array with the [] operator."
   ]
  },
  {
   "cell_type": "markdown",
   "id": "984685d6",
   "metadata": {
    "lang": "en"
   },
   "source": [
    "**NOTE:** In arrays, the index number of the first element starts from 0."
   ]
  },
  {
   "cell_type": "code",
   "execution_count": 1,
   "id": "certified-sphere",
   "metadata": {},
   "outputs": [],
   "source": [
    "string = \"HELLO\""
   ]
  },
  {
   "cell_type": "raw",
   "id": "dd179556",
   "metadata": {},
   "source": [
    "H E L L O\n",
    "0 1 2 3 4"
   ]
  },
  {
   "cell_type": "code",
   "execution_count": 2,
   "id": "79b3cc88",
   "metadata": {},
   "outputs": [
    {
     "data": {
      "text/plain": [
       "'H'"
      ]
     },
     "execution_count": 2,
     "metadata": {},
     "output_type": "execute_result"
    }
   ],
   "source": [
    "string[0]"
   ]
  },
  {
   "cell_type": "code",
   "execution_count": 3,
   "id": "surface-future",
   "metadata": {},
   "outputs": [
    {
     "data": {
      "text/plain": [
       "'L'"
      ]
     },
     "execution_count": 3,
     "metadata": {},
     "output_type": "execute_result"
    }
   ],
   "source": [
    "string[2]"
   ]
  },
  {
   "cell_type": "markdown",
   "id": "56a0ec71",
   "metadata": {
    "lang": "en"
   },
   "source": [
    "If we want the last character, we need to give the index number -1."
   ]
  },
  {
   "cell_type": "code",
   "execution_count": 12,
   "id": "imposed-saskatchewan",
   "metadata": {},
   "outputs": [
    {
     "data": {
      "text/plain": [
       "'O'"
      ]
     },
     "execution_count": 12,
     "metadata": {},
     "output_type": "execute_result"
    }
   ],
   "source": [
    "string[-1]"
   ]
  },
  {
   "cell_type": "markdown",
   "id": "fd0d09c6",
   "metadata": {
    "lang": "en"
   },
   "source": [
    "Or if we want to reach the -4th (4th from the end) element"
   ]
  },
  {
   "cell_type": "code",
   "execution_count": 25,
   "id": "republican-wright",
   "metadata": {},
   "outputs": [
    {
     "data": {
      "text/plain": [
       "'E'"
      ]
     },
     "execution_count": 25,
     "metadata": {},
     "output_type": "execute_result"
    }
   ],
   "source": [
    "string[-4]"
   ]
  },
  {
   "cell_type": "code",
   "execution_count": 4,
   "id": "suspended-connectivity",
   "metadata": {},
   "outputs": [
    {
     "ename": "IndexError",
     "evalue": "string index out of range",
     "output_type": "error",
     "traceback": [
      "\u001b[1;31m---------------------------------------------------------------------------\u001b[0m",
      "\u001b[1;31mIndexError\u001b[0m                                Traceback (most recent call last)",
      "Cell \u001b[1;32mIn[4], line 1\u001b[0m\n\u001b[1;32m----> 1\u001b[0m string[\u001b[38;5;241m-\u001b[39m\u001b[38;5;241m8\u001b[39m]\n",
      "\u001b[1;31mIndexError\u001b[0m: string index out of range"
     ]
    }
   ],
   "source": [
    "string[-8] # This code gives error."
   ]
  },
  {
   "cell_type": "markdown",
   "id": "9d4ee43b",
   "metadata": {
    "lang": "en"
   },
   "source": [
    "### String Parsing"
   ]
  },
  {
   "cell_type": "markdown",
   "id": "358e1486",
   "metadata": {
    "lang": "en"
   },
   "source": [
    "We learned that if we want to find the nth character of a string variable, it is variable_name[n]. If we want to get a specific piece, we can follow a similar process."
   ]
  },
  {
   "cell_type": "markdown",
   "id": "cd88b7c0",
   "metadata": {
    "lang": "en"
   },
   "source": [
    "*[start index : end index : skip value]*"
   ]
  },
  {
   "cell_type": "markdown",
   "id": "9d908750",
   "metadata": {
    "lang": "en"
   },
   "source": [
    "Example: 3. Start from the index and go up to the 8th index (not included)."
   ]
  },
  {
   "cell_type": "code",
   "execution_count": 5,
   "id": "brave-reset",
   "metadata": {},
   "outputs": [
    {
     "data": {
      "text/plain": [
       "'LO'"
      ]
     },
     "execution_count": 5,
     "metadata": {},
     "output_type": "execute_result"
    }
   ],
   "source": [
    "\"HELLO\"\n",
    "string[3:8]"
   ]
  },
  {
   "cell_type": "markdown",
   "id": "60b82f33",
   "metadata": {
    "lang": "en"
   },
   "source": [
    "If no starting value is specified, it starts from the beginning."
   ]
  },
  {
   "cell_type": "code",
   "execution_count": 30,
   "id": "universal-surrey",
   "metadata": {},
   "outputs": [
    {
     "data": {
      "text/plain": [
       "'HELLO'"
      ]
     },
     "execution_count": 30,
     "metadata": {},
     "output_type": "execute_result"
    }
   ],
   "source": [
    "string[:8]"
   ]
  },
  {
   "cell_type": "markdown",
   "id": "prostate-tablet",
   "metadata": {
    "lang": "tr"
   },
   "source": [
    "Bitiş değeri belirtilmemişse en sonuna kadar alır."
   ]
  },
  {
   "cell_type": "code",
   "execution_count": 31,
   "id": "competent-activation",
   "metadata": {
    "scrolled": true
   },
   "outputs": [
    {
     "data": {
      "text/plain": [
       "'LO'"
      ]
     },
     "execution_count": 31,
     "metadata": {},
     "output_type": "execute_result"
    }
   ],
   "source": [
    "string[3:]"
   ]
  },
  {
   "cell_type": "markdown",
   "id": "010900e3",
   "metadata": {
    "lang": "en"
   },
   "source": [
    "If neither value is specified, it takes the entire string."
   ]
  },
  {
   "cell_type": "code",
   "execution_count": 33,
   "id": "committed-anatomy",
   "metadata": {},
   "outputs": [
    {
     "data": {
      "text/plain": [
       "'HELLO'"
      ]
     },
     "execution_count": 33,
     "metadata": {},
     "output_type": "execute_result"
    }
   ],
   "source": [
    "string"
   ]
  },
  {
   "cell_type": "markdown",
   "id": "8773f422",
   "metadata": {
    "lang": "en"
   },
   "source": [
    "If neither value is specified, it takes the entire string."
   ]
  },
  {
   "cell_type": "code",
   "execution_count": 34,
   "id": "colonial-freight",
   "metadata": {},
   "outputs": [
    {
     "data": {
      "text/plain": [
       "'HLO'"
      ]
     },
     "execution_count": 34,
     "metadata": {},
     "output_type": "execute_result"
    }
   ],
   "source": [
    "string[::2]"
   ]
  },
  {
   "cell_type": "markdown",
   "id": "88804dd7",
   "metadata": {
    "lang": "en"
   },
   "source": [
    "Get the string by jumping from the 2nd index to the 10th index 3 times."
   ]
  },
  {
   "cell_type": "code",
   "execution_count": 35,
   "id": "aggregate-contact",
   "metadata": {},
   "outputs": [
    {
     "data": {
      "text/plain": [
       "'L'"
      ]
     },
     "execution_count": 35,
     "metadata": {},
     "output_type": "execute_result"
    }
   ],
   "source": [
    "string[2:10:3]"
   ]
  },
  {
   "cell_type": "markdown",
   "id": "57a1f29a",
   "metadata": {
    "lang": "en"
   },
   "source": [
    "Get the string by skipping -1 from start to finish. (Inverting string)"
   ]
  },
  {
   "cell_type": "code",
   "execution_count": 6,
   "id": "smoking-rogers",
   "metadata": {},
   "outputs": [
    {
     "data": {
      "text/plain": [
       "'OLLEH'"
      ]
     },
     "execution_count": 6,
     "metadata": {},
     "output_type": "execute_result"
    }
   ],
   "source": [
    "string[::-1]"
   ]
  }
 ],
 "metadata": {
  "kernelspec": {
   "display_name": "Python 3 (ipykernel)",
   "language": "python",
   "name": "python3"
  },
  "language_info": {
   "codemirror_mode": {
    "name": "ipython",
    "version": 3
   },
   "file_extension": ".py",
   "mimetype": "text/x-python",
   "name": "python",
   "nbconvert_exporter": "python",
   "pygments_lexer": "ipython3",
   "version": "3.11.4"
  },
  "nbTranslate": {
   "displayLangs": [],
   "hotkey": "alt-t",
   "langInMainMenu": true,
   "sourceLang": "tr",
   "targetLang": "en",
   "useGoogleTranslate": true
  }
 },
 "nbformat": 4,
 "nbformat_minor": 5
}

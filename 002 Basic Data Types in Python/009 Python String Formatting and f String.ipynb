{
 "cells": [
  {
   "cell_type": "markdown",
   "id": "d0f89677",
   "metadata": {},
   "source": [
    "# Python String Formatting"
   ]
  },
  {
   "cell_type": "markdown",
   "id": "64f37276",
   "metadata": {},
   "source": [
    "Python string formatting is the process of inserting values into a string template. It allows you to create complex and flexible string formats, and to control the formatting of individual values.\n",
    "\n",
    "There are two main ways to format strings in Python:\n",
    "\n",
    "- Using the format() method: The format() method is a powerful and versatile tool for formatting strings. It allows you to insert values into a string template, and to control the formatting of those values.\n",
    "\n",
    "- Using f-strings: F-strings are a newer way to format strings in Python. They are more concise and easier to read than the format() method.\n",
    "\n",
    "## Using the format() method\n",
    "\n",
    "The format() method takes two arguments:\n",
    "\n",
    "- The string template: This is the string that you want to format. It can contain placeholder strings, which will be replaced with the values that you pass to the format() method.\n",
    "\n",
    "- The values: These are the values that you want to insert into the string template. They can be any type of object, including numbers, strings, lists, and dictionaries.\n",
    "\n",
    "The placeholder strings in the string template are specified using curly braces ({}). For example, the following string template contains two placeholder strings:"
   ]
  },
  {
   "cell_type": "code",
   "execution_count": 2,
   "id": "719c480b",
   "metadata": {},
   "outputs": [
    {
     "data": {
      "text/plain": [
       "'Hello, {name}! You are {age} years old.'"
      ]
     },
     "execution_count": 2,
     "metadata": {},
     "output_type": "execute_result"
    }
   ],
   "source": [
    "\"Hello, {name}! You are {age} years old.\"\n"
   ]
  },
  {
   "cell_type": "markdown",
   "id": "4bbdefc0",
   "metadata": {},
   "source": [
    "To format this string template, you would pass the name and age of the person to the format() method:"
   ]
  },
  {
   "cell_type": "code",
   "execution_count": 3,
   "id": "bc9684aa",
   "metadata": {},
   "outputs": [
    {
     "name": "stdout",
     "output_type": "stream",
     "text": [
      "Hello, Bard! You are 20 years old.\n"
     ]
    }
   ],
   "source": [
    "name = \"Bard\"\n",
    "age = 20\n",
    "\n",
    "formatted_string = \"Hello, {name}! You are {age} years old.\".format(name=name, age=age)\n",
    "\n",
    "print(formatted_string)\n"
   ]
  },
  {
   "cell_type": "markdown",
   "id": "7238d08e",
   "metadata": {},
   "source": [
    "This would print the following output:\n",
    "\n",
    "    Hello, Bard! You are 20 years old.\n",
    "    \n",
    "You can also use the format() method to format numbers. For example, the following code formats the number 3.14 as a percentage:"
   ]
  },
  {
   "cell_type": "code",
   "execution_count": 4,
   "id": "19af4555",
   "metadata": {},
   "outputs": [
    {
     "name": "stdout",
     "output_type": "stream",
     "text": [
      "314.00%\n"
     ]
    }
   ],
   "source": [
    "percentage = \"{:.2f}%\".format(3.14 * 100)\n",
    "\n",
    "print(percentage)\n"
   ]
  },
  {
   "cell_type": "markdown",
   "id": "89d80351",
   "metadata": {},
   "source": [
    "The format() method is a very powerful tool for formatting strings in Python. It allows you to create complex and flexible string formats, and to control the formatting of individual values."
   ]
  },
  {
   "cell_type": "markdown",
   "id": "d9ce23e6",
   "metadata": {},
   "source": [
    "## Using f-strings"
   ]
  },
  {
   "cell_type": "markdown",
   "id": "bc4c2b51",
   "metadata": {},
   "source": [
    "F-strings are a newer way to format strings in Python. They are more concise and easier to read than the format() method.\n",
    "\n",
    "To use an f-string, simply enclose the string template in f\"\" braces. Inside the string template, you can use ${variable_name} expressions to insert values into the string.\n",
    "\n",
    "For example, the following f-string is equivalent to the previous example:"
   ]
  },
  {
   "cell_type": "code",
   "execution_count": null,
   "id": "db79ff8b",
   "metadata": {},
   "outputs": [],
   "source": [
    "f\"Hello, {name}! You are {age} years old.\"\n"
   ]
  },
  {
   "cell_type": "markdown",
   "id": "2722cc44",
   "metadata": {},
   "source": [
    "You can also use f-strings to format numbers. For example, the following code formats the number 3.14 as a percentage:"
   ]
  },
  {
   "cell_type": "code",
   "execution_count": 1,
   "id": "a29b10d6",
   "metadata": {},
   "outputs": [
    {
     "data": {
      "text/plain": [
       "'314.00%'"
      ]
     },
     "execution_count": 1,
     "metadata": {},
     "output_type": "execute_result"
    }
   ],
   "source": [
    "f\"{3.14 * 100:.2f}%\""
   ]
  },
  {
   "cell_type": "markdown",
   "id": "5dd8e7ac",
   "metadata": {},
   "source": [
    "F-strings are a powerful and concise way to format strings in Python. They are a good alternative to the format() method, especially for simple string formats."
   ]
  },
  {
   "cell_type": "markdown",
   "id": "4d2ccf6a",
   "metadata": {},
   "source": [
    "## Example"
   ]
  },
  {
   "cell_type": "markdown",
   "id": "5c8f2458",
   "metadata": {},
   "source": [
    "### format()"
   ]
  },
  {
   "cell_type": "code",
   "execution_count": 5,
   "id": "interstate-radiation",
   "metadata": {},
   "outputs": [
    {
     "name": "stdout",
     "output_type": "stream",
     "text": [
      "\n",
      "Dear Murat Uğur KİRAZ\n",
      "Currently, your residence address in our system is Bahnhofstrasse 15, Luzern and your mobile phone number is +41 56 245 2655.\n",
      "\n",
      "Mr. Murat Uğur KİRAZ\n",
      "\n",
      "If your address is not Bahnhofstrasse 15, Luzern, please call +41 55 256 2366.\n",
      "\n",
      "If your phone number is not +41 56 245 2655, call +41 55 256 2367.\n",
      "\n",
      "Regards.\n",
      "\n",
      "\n"
     ]
    }
   ],
   "source": [
    "name_surname = \"Murat Uğur KİRAZ\"\n",
    "adress = \"Bahnhofstrasse 15, Luzern\"\n",
    "telephone = \"+41 56 245 2655\"\n",
    "\n",
    "print(\n",
    "\"\"\"\n",
    "Dear {0}\n",
    "Currently, your residence address in our system is {1} and your mobile phone number is {2}.\n",
    "\n",
    "Mr. {0}\n",
    "\n",
    "If your address is not {1}, please call +41 55 256 2366.\n",
    "\n",
    "If your phone number is not {2}, call +41 55 256 2367.\n",
    "\n",
    "Regards.\n",
    "\n",
    "\"\"\".format(name_surname, adress, telephone)\n",
    "\n",
    ")"
   ]
  },
  {
   "cell_type": "markdown",
   "id": "f40f478f",
   "metadata": {},
   "source": [
    "### f-string"
   ]
  },
  {
   "cell_type": "code",
   "execution_count": 7,
   "id": "16a87625",
   "metadata": {},
   "outputs": [
    {
     "name": "stdout",
     "output_type": "stream",
     "text": [
      "\n",
      "Dear Murat Uğur KİRAZ\n",
      "Currently, your residence address in our system is Bahnhofstrasse 15, Luzern and your mobile phone number is +41 56 245 2655.\n",
      "\n",
      "Mr. Murat Uğur KİRAZ\n",
      "\n",
      "If your address is not Bahnhofstrasse 15, Luzern, please call +41 55 256 2366.\n",
      "\n",
      "If your phone number is not +41 56 245 2655, call +41 55 256 2367.\n",
      "\n",
      "Regards.\n",
      "\n",
      "\n"
     ]
    }
   ],
   "source": [
    "name_surname = \"Murat Uğur KİRAZ\"\n",
    "adress = \"Bahnhofstrasse 15, Luzern\"\n",
    "telephone = \"+41 56 245 2655\"\n",
    "\n",
    "print(\n",
    "f\"\"\"\n",
    "Dear {name_surname}\n",
    "Currently, your residence address in our system is {adress} and your mobile phone number is {telephone}.\n",
    "\n",
    "Mr. {name_surname}\n",
    "\n",
    "If your address is not {adress}, please call +41 55 256 2366.\n",
    "\n",
    "If your phone number is not {telephone}, call +41 55 256 2367.\n",
    "\n",
    "Regards.\n",
    "\n",
    "\"\"\".format(name_surname, adress, telephone)\n",
    "\n",
    ")"
   ]
  },
  {
   "cell_type": "code",
   "execution_count": null,
   "id": "cba25941",
   "metadata": {},
   "outputs": [],
   "source": []
  }
 ],
 "metadata": {
  "kernelspec": {
   "display_name": "Python 3 (ipykernel)",
   "language": "python",
   "name": "python3"
  },
  "language_info": {
   "codemirror_mode": {
    "name": "ipython",
    "version": 3
   },
   "file_extension": ".py",
   "mimetype": "text/x-python",
   "name": "python",
   "nbconvert_exporter": "python",
   "pygments_lexer": "ipython3",
   "version": "3.11.4"
  }
 },
 "nbformat": 4,
 "nbformat_minor": 5
}

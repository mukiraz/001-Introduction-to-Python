{
 "cells": [
  {
   "cell_type": "markdown",
   "id": "ba55c7e8",
   "metadata": {
    "lang": "en"
   },
   "source": [
    "# String Methods"
   ]
  },
  {
   "cell_type": "markdown",
   "id": "03c0cf94",
   "metadata": {
    "lang": "en"
   },
   "source": [
    "It would be appropriate to get to know the methods that allow us to operate on strings, that is, character arrays, in Python.\n",
    "\n",
    "For example, we may want to capitalize the letters of a string expression. Or we may want to find out whether a certain string of letters is also within a certain string expression.\n",
    "\n",
    "There are many methods to perform operations like this. You can access them at https://docs.python.org/2.5/lib/string-methods.html. Now let's examine some of these methods with you."
   ]
  },
  {
   "cell_type": "markdown",
   "id": "6b5ddb95",
   "metadata": {
    "lang": "en"
   },
   "source": [
    "### capitalize( )"
   ]
  },
  {
   "cell_type": "markdown",
   "id": "32a0356d",
   "metadata": {
    "lang": "tr"
   },
   "source": [
    "Capitalizes only the first letter of the string expression."
   ]
  },
  {
   "cell_type": "code",
   "execution_count": 1,
   "id": "protected-domain",
   "metadata": {
    "lang": "tr"
   },
   "outputs": [
    {
     "name": "stdout",
     "output_type": "stream",
     "text": [
      "This is a string expression\n",
      "36 is my age\n",
      "New another example\n"
     ]
    }
   ],
   "source": [
    "string = \"this is a string expression\"\n",
    "string2 = \"36 is my age\"\n",
    "string3 = \"new ANOTHER example\"\n",
    "\n",
    "print(string.capitalize())\n",
    "print(string2.capitalize())\n",
    "print(string3.capitalize())"
   ]
  },
  {
   "cell_type": "markdown",
   "id": "innovative-caution",
   "metadata": {},
   "source": [
    "### count(\tsub[, start[, end]])"
   ]
  },
  {
   "cell_type": "markdown",
   "id": "e152ddb7",
   "metadata": {
    "lang": "en"
   },
   "source": [
    "It tells us **how many** of a subexpression (another string array) are in a string array. The parameters of this method are as follows;\n",
    "\n",
    "**value:** Required. The string array to be searched is defined here.\n",
    "\n",
    "**start:** Specifies where the search will start within the string array.\n",
    "\n",
    "**end:** Specifies how far in the string array the search will be made."
   ]
  },
  {
   "cell_type": "code",
   "execution_count": 2,
   "id": "civic-representation",
   "metadata": {
    "lang": "tr"
   },
   "outputs": [
    {
     "name": "stdout",
     "output_type": "stream",
     "text": [
      "2\n",
      "2\n",
      "2\n"
     ]
    }
   ],
   "source": [
    "txt = \"I like apples very much, apples are my favorite fruit among other fruits.\"\n",
    "\n",
    "count1 = txt.count(\"apple\")\n",
    "count2 = txt.count(\"apples\")\n",
    "count3 = txt.count(\"app\")\n",
    "\n",
    "print(count1)\n",
    "print(count2)\n",
    "print(count3)"
   ]
  },
  {
   "cell_type": "markdown",
   "id": "impressive-pressure",
   "metadata": {},
   "source": [
    "### find(sub[,start[,end]])"
   ]
  },
  {
   "cell_type": "markdown",
   "id": "cf07a467",
   "metadata": {
    "lang": "en"
   },
   "source": [
    "Returns the value (position) of a subexpression within the string expression. If the subexpression is not found, the value -1 will be returned. The parameters of this method are as follows;\n",
    "\n",
    "**value:** Required. The string array to be searched is defined here.\n",
    "\n",
    "**start:** Specifies where the search will start within the string array.\n",
    "\n",
    "**end:** Specifies how far in the string array the search will be made."
   ]
  },
  {
   "cell_type": "code",
   "execution_count": 3,
   "id": "fluid-original",
   "metadata": {
    "lang": "tr"
   },
   "outputs": [
    {
     "name": "stdout",
     "output_type": "stream",
     "text": [
      "0\n",
      "2\n",
      "21\n",
      "7\n",
      "-1\n"
     ]
    }
   ],
   "source": [
    "txt = \"Hello, welcome to my world.\"\n",
    "\n",
    "print(txt.find(\"Hello\"))\n",
    "print(txt.find(\"llo\"))\n",
    "print(txt.find(\"world\"))\n",
    "print(txt.find(\"welcome\",5,29))\n",
    "print(txt.find(\"apple\"))\n"
   ]
  },
  {
   "cell_type": "markdown",
   "id": "muslim-isaac",
   "metadata": {},
   "source": [
    "### index(sub[,start[,end]])"
   ]
  },
  {
   "cell_type": "markdown",
   "id": "1c9e73db",
   "metadata": {
    "lang": "en"
   },
   "source": [
    "It does the same task as the find() function. However, when it cannot find the substring, it throws an error code instead of -."
   ]
  },
  {
   "cell_type": "code",
   "execution_count": 4,
   "id": "incident-vegetation",
   "metadata": {},
   "outputs": [
    {
     "name": "stdout",
     "output_type": "stream",
     "text": [
      "0\n",
      "2\n",
      "21\n",
      "7\n"
     ]
    },
    {
     "ename": "ValueError",
     "evalue": "substring not found",
     "output_type": "error",
     "traceback": [
      "\u001b[1;31m---------------------------------------------------------------------------\u001b[0m",
      "\u001b[1;31mValueError\u001b[0m                                Traceback (most recent call last)",
      "Cell \u001b[1;32mIn[4], line 7\u001b[0m\n\u001b[0;32m      5\u001b[0m \u001b[38;5;28mprint\u001b[39m(txt\u001b[38;5;241m.\u001b[39mindex(\u001b[38;5;124m\"\u001b[39m\u001b[38;5;124mworld\u001b[39m\u001b[38;5;124m\"\u001b[39m))\n\u001b[0;32m      6\u001b[0m \u001b[38;5;28mprint\u001b[39m(txt\u001b[38;5;241m.\u001b[39mindex(\u001b[38;5;124m\"\u001b[39m\u001b[38;5;124mwelcome\u001b[39m\u001b[38;5;124m\"\u001b[39m,\u001b[38;5;241m5\u001b[39m,\u001b[38;5;241m29\u001b[39m))\n\u001b[1;32m----> 7\u001b[0m \u001b[38;5;28mprint\u001b[39m(txt\u001b[38;5;241m.\u001b[39mindex(\u001b[38;5;124m\"\u001b[39m\u001b[38;5;124mapple\u001b[39m\u001b[38;5;124m\"\u001b[39m))\n",
      "\u001b[1;31mValueError\u001b[0m: substring not found"
     ]
    }
   ],
   "source": [
    "txt = \"Hello, welcome to my world.\"\n",
    "\n",
    "print(txt.index(\"Hello\"))\n",
    "print(txt.index(\"llo\"))\n",
    "print(txt.index(\"world\"))\n",
    "print(txt.index(\"welcome\",5,29))\n",
    "print(txt.index(\"apple\"))"
   ]
  },
  {
   "cell_type": "markdown",
   "id": "killing-parent",
   "metadata": {},
   "source": [
    "### isalnum()"
   ]
  },
  {
   "cell_type": "markdown",
   "id": "27a85be1",
   "metadata": {
    "lang": "en"
   },
   "source": [
    "**Alphanumeric concept:** It is a collection of characters including the letters A to Z and the numbers 0 to 9.\n",
    "\n",
    "With the *isalnum()* method, we check whether the string expression consists of only alphanumeric characters."
   ]
  },
  {
   "cell_type": "code",
   "execution_count": 5,
   "id": "helpful-tuner",
   "metadata": {
    "lang": "tr"
   },
   "outputs": [
    {
     "name": "stdout",
     "output_type": "stream",
     "text": [
      "Parolanızı Giriniz:lkfd kl\n",
      "False\n"
     ]
    }
   ],
   "source": [
    "\"\"\"\n",
    "For example, we ask users to enter a password. and that this password does not contain special characters (spaces) etc. \n",
    "We want it to be alphanumeric. \n",
    "Below is the code that returns true or false value.\n",
    "\n",
    "\"\"\"\n",
    "password=input(\"Enter your password:\")\n",
    "result = password.isalnum()\n",
    "\n",
    "print(result)"
   ]
  },
  {
   "cell_type": "markdown",
   "id": "expired-express",
   "metadata": {},
   "source": [
    "### isalpha()"
   ]
  },
  {
   "cell_type": "markdown",
   "id": "d4488d03",
   "metadata": {
    "lang": "en"
   },
   "source": [
    "It checks whether all characters in the string are alphabetical (a-z).\n",
    "\n",
    "If there is at least one character in the string array and all of them are alphabetic, we get **true**, otherwise **false**."
   ]
  },
  {
   "cell_type": "code",
   "execution_count": 6,
   "id": "corporate-cabinet",
   "metadata": {
    "lang": "tr"
   },
   "outputs": [
    {
     "name": "stdout",
     "output_type": "stream",
     "text": [
      "Enter your name:ugur\n",
      "True\n"
     ]
    }
   ],
   "source": [
    "\"\"\"\n",
    "Let's ask for the person's name and surname. \n",
    "Let's write our code that returns false if there is a number in the name and surname information, otherwise it returns true.\n",
    "\n",
    "\"\"\"\n",
    "name = input(\"Enter your name:\")\n",
    "result = name.isalpha()\n",
    "\n",
    "print(result)"
   ]
  },
  {
   "cell_type": "markdown",
   "id": "confused-discovery",
   "metadata": {},
   "source": [
    "### isdigit()"
   ]
  },
  {
   "cell_type": "markdown",
   "id": "7a7a9a10",
   "metadata": {
    "lang": "en"
   },
   "source": [
    "If all characters in the string are numeric and there is at least one character, we get **true**, otherwise **false**."
   ]
  },
  {
   "cell_type": "code",
   "execution_count": 7,
   "id": "colored-source",
   "metadata": {
    "lang": "tr"
   },
   "outputs": [
    {
     "name": "stdout",
     "output_type": "stream",
     "text": [
      "Enter your TR ID Number:sadas44\n",
      "False\n"
     ]
    }
   ],
   "source": [
    "\"\"\"\n",
    "For example, Let's ask for the person's TR ID Number. \n",
    "TR ID number must consist of numbers. \n",
    "If the entered string value does not consist of numbers, false, \n",
    "Let's write our code that returns true if the entered string value consists of numbers.\n",
    "\n",
    "\"\"\"\n",
    "tr_id_no = input(\"Enter your TR ID Number:\")\n",
    "result = tr_id_no.isdigit()\n",
    "\n",
    "print(result)"
   ]
  },
  {
   "cell_type": "markdown",
   "id": "shared-remainder",
   "metadata": {},
   "source": [
    "### isspace()"
   ]
  },
  {
   "cell_type": "markdown",
   "id": "b9fa5246",
   "metadata": {
    "lang": "en"
   },
   "source": [
    "Returns true if the string contains only whitespace characters and at least one character, false otherwise."
   ]
  },
  {
   "cell_type": "code",
   "execution_count": 8,
   "id": "magnetic-shame",
   "metadata": {},
   "outputs": [
    {
     "name": "stdout",
     "output_type": "stream",
     "text": [
      "True\n",
      "False\n"
     ]
    }
   ],
   "source": [
    "txt = \"   \"\n",
    "\n",
    "x = txt.isspace()\n",
    "\n",
    "print(x)\n",
    "\n",
    "# x returns true\n",
    "\n",
    "txt = \"   s   \"\n",
    "\n",
    "x = txt.isspace()\n",
    "\n",
    "print(x)\n",
    "# x returns false"
   ]
  },
  {
   "cell_type": "markdown",
   "id": "smart-coalition",
   "metadata": {},
   "source": [
    "### isupper()"
   ]
  },
  {
   "cell_type": "markdown",
   "id": "3c1fcabc",
   "metadata": {
    "lang": "en"
   },
   "source": [
    "Returns **true** if the letters in the string are uppercase and there is at least one letter, otherwise **false**."
   ]
  },
  {
   "cell_type": "code",
   "execution_count": 9,
   "id": "expanded-academy",
   "metadata": {},
   "outputs": [
    {
     "name": "stdout",
     "output_type": "stream",
     "text": [
      "False\n",
      "False\n",
      "True\n"
     ]
    }
   ],
   "source": [
    "a = \"Hello World\"\n",
    "b = \"Hello 123\"\n",
    "c = \"I AM SAM\"\n",
    "\n",
    "print(a.isupper())\n",
    "print(b.isupper())\n",
    "print(c.isupper())\n",
    "\n"
   ]
  },
  {
   "cell_type": "markdown",
   "id": "824b67a1",
   "metadata": {},
   "source": [
    "### title()"
   ]
  },
  {
   "cell_type": "markdown",
   "id": "33be8505",
   "metadata": {
    "lang": "en"
   },
   "source": [
    "Return a header-based version of the string: words start with uppercase characters, all remaining uppercase characters are lowercase."
   ]
  },
  {
   "cell_type": "code",
   "execution_count": 10,
   "id": "cafb5826",
   "metadata": {},
   "outputs": [
    {
     "data": {
      "text/plain": [
       "'I Am Sam'"
      ]
     },
     "execution_count": 10,
     "metadata": {},
     "output_type": "execute_result"
    }
   ],
   "source": [
    "c = \"I AM SAM\"\n",
    "\n",
    "c.title()"
   ]
  },
  {
   "cell_type": "markdown",
   "id": "bcb49cef",
   "metadata": {},
   "source": [
    "### lower()"
   ]
  },
  {
   "cell_type": "markdown",
   "id": "eea71358",
   "metadata": {
    "lang": "en"
   },
   "source": [
    "It makes every character in the string expression **capital**."
   ]
  },
  {
   "cell_type": "code",
   "execution_count": 13,
   "id": "upper-nickname",
   "metadata": {
    "scrolled": true
   },
   "outputs": [
    {
     "name": "stdout",
     "output_type": "stream",
     "text": [
      "hello friends\n",
      "There Was A Pleasant Feeling In This Enduring Dome.\n"
     ]
    }
   ],
   "source": [
    "txt = \"hElLO fRiEnDS\"\n",
    "\n",
    "x = txt.lower()\n",
    "\n",
    "print(x)\n",
    "\n",
    "# Now let's make only the first letter of a text with uppercase and lowercase letters uppercase and the others lowercase.\n",
    "\n",
    "sentence = \"ThEre wAs a plEasant feEling in tHIs enDURing Dome.\"\n",
    "\n",
    "# Let's make it all lowercase first.\n",
    " \n",
    "sentence = sentence.lower().title()\n",
    "\n",
    "print(sentence)"
   ]
  },
  {
   "cell_type": "markdown",
   "id": "4055a245",
   "metadata": {},
   "source": [
    "### upper()"
   ]
  },
  {
   "cell_type": "markdown",
   "id": "5ccc8ee9",
   "metadata": {
    "lang": "en"
   },
   "source": [
    "Returns an uppercase copy of the string."
   ]
  },
  {
   "cell_type": "code",
   "execution_count": 14,
   "id": "4a03af06",
   "metadata": {},
   "outputs": [
    {
     "name": "stdout",
     "output_type": "stream",
     "text": [
      "HELLO FRIENDS\n"
     ]
    }
   ],
   "source": [
    "txt = \"hello friends\"\n",
    "\n",
    "x = txt.upper()\n",
    "\n",
    "print(x)"
   ]
  },
  {
   "cell_type": "markdown",
   "id": "creative-hazard",
   "metadata": {},
   "source": [
    "### replace(old, new[,count])"
   ]
  },
  {
   "cell_type": "markdown",
   "id": "d1a50cd6",
   "metadata": {
    "lang": "en"
   },
   "source": [
    "String allows us to replace a specific subvalue in an expression with another subvalue. It does exactly what the CTRL+H command in Word, Excel or any text editor does."
   ]
  },
  {
   "cell_type": "code",
   "execution_count": 15,
   "id": "revolutionary-support",
   "metadata": {},
   "outputs": [
    {
     "name": "stdout",
     "output_type": "stream",
     "text": [
      "i like bananas\n"
     ]
    }
   ],
   "source": [
    "txt = \"I like apples\"\n",
    "\n",
    "x = txt.replace(\"apples\", \"bananas\")\n",
    "\n",
    "print(x)"
   ]
  },
  {
   "cell_type": "markdown",
   "id": "external-judges",
   "metadata": {},
   "source": [
    "### split([sep [,maxsplit]])"
   ]
  },
  {
   "cell_type": "markdown",
   "id": "da95a3d7",
   "metadata": {
    "lang": "en"
   },
   "source": [
    "Splits a string into a list, where each word is a list item. The result is returned as a list."
   ]
  },
  {
   "cell_type": "code",
   "execution_count": 16,
   "id": "indirect-spider",
   "metadata": {},
   "outputs": [
    {
     "name": "stdout",
     "output_type": "stream",
     "text": [
      "['one', 'two', 'three', 'four', 'five', 'six']\n"
     ]
    }
   ],
   "source": [
    "txt = \"one two three four five six\"\n",
    "\n",
    "x = txt.split()\n",
    "\n",
    "print(x)"
   ]
  },
  {
   "cell_type": "code",
   "execution_count": 17,
   "id": "conceptual-forty",
   "metadata": {},
   "outputs": [
    {
     "name": "stdout",
     "output_type": "stream",
     "text": [
      "['one', 'two', 'three', 'four', 'five', 'six']\n"
     ]
    }
   ],
   "source": [
    "txt = \"one, two, three, four, five, six\"\n",
    "\n",
    "x = txt.split(\", \")\n",
    "\n",
    "print(x)"
   ]
  },
  {
   "cell_type": "code",
   "execution_count": 18,
   "id": "fifteen-constitution",
   "metadata": {},
   "outputs": [
    {
     "name": "stdout",
     "output_type": "stream",
     "text": [
      "['one', 'two', 'three#four#five#six']\n"
     ]
    }
   ],
   "source": [
    "txt = \"one#two#three#four#five#six\"\n",
    "\n",
    "# maxsplit'i tanımlarsak eğer en fazla maxsplit sayısı kadar elemana bölecektir\n",
    "x = txt.split(\"#\", 2)\n",
    "\n",
    "print(x)"
   ]
  },
  {
   "cell_type": "markdown",
   "id": "centered-ottawa",
   "metadata": {},
   "source": [
    "### strip([chars])"
   ]
  },
  {
   "cell_type": "markdown",
   "id": "3bdcf39f",
   "metadata": {
    "lang": "en"
   },
   "source": [
    "Removes leading and trailing spaces from the string. If used with [chars] parameters, it extracts the entered characters from the string expression."
   ]
  },
  {
   "cell_type": "code",
   "execution_count": 24,
   "id": "exciting-corpus",
   "metadata": {},
   "outputs": [
    {
     "name": "stdout",
     "output_type": "stream",
     "text": [
      "Of all fruits, apple is my favorite.\n"
     ]
    }
   ],
   "source": [
    "txt = \"     apple     \"\n",
    "\n",
    "x = txt.strip()\n",
    "\n",
    "print(\"Of all fruits,\", x, \"is my favorite.\")"
   ]
  },
  {
   "cell_type": "markdown",
   "id": "c8eef78d",
   "metadata": {
    "lang": "en"
   },
   "source": [
    "Of all fruits, apple is my favorite."
   ]
  },
  {
   "cell_type": "code",
   "execution_count": 27,
   "id": "parental-uganda",
   "metadata": {},
   "outputs": [
    {
     "name": "stdout",
     "output_type": "stream",
     "text": [
      "banana\n"
     ]
    }
   ],
   "source": [
    "txt = \",,,,,rrttgg.....banana....rrr\"\n",
    "\n",
    "x = txt.strip(\",.grt\")\n",
    "\n",
    "print(x)"
   ]
  }
 ],
 "metadata": {
  "kernelspec": {
   "display_name": "Python 3 (ipykernel)",
   "language": "python",
   "name": "python3"
  },
  "language_info": {
   "codemirror_mode": {
    "name": "ipython",
    "version": 3
   },
   "file_extension": ".py",
   "mimetype": "text/x-python",
   "name": "python",
   "nbconvert_exporter": "python",
   "pygments_lexer": "ipython3",
   "version": "3.11.4"
  },
  "nbTranslate": {
   "displayLangs": [],
   "hotkey": "alt-t",
   "langInMainMenu": true,
   "sourceLang": "tr",
   "targetLang": "en",
   "useGoogleTranslate": true
  }
 },
 "nbformat": 4,
 "nbformat_minor": 5
}

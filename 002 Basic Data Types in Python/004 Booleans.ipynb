{
 "cells": [
  {
   "cell_type": "markdown",
   "id": "df6406df",
   "metadata": {},
   "source": [
    "# Boolean İfadeler\n",
    "\n",
    "Python'da boolean veri türleri, yalnızca iki değeri temsil eden bir veri türüdür: True (Doğru) ve False (Yanlış). Bu veri türleri genellikle mantıksal ifadeleri değerlendirmek, koşulları kontrol etmek ve karar vermek için kullanılır.\n",
    "\n",
    "True ve False Değerleri:\n",
    "\n",
    "True, doğru veya geçerli bir ifadeyi temsil eder.\n",
    "False, yanlış veya geçerli olmayan bir ifadeyi temsil eder.\n",
    "\n",
    "True (Doğru): True değeri genellikle bir bit olarak saklanır. Bu bit, 1 değerini temsil eder. Örneğin, 8 bitlik bir bellekte True değeri şu şekilde saklanabilir: 00000001.\n",
    "\n",
    "False (Yanlış): False değeri de bir bit olarak saklanır. Bu bit, 0 değerini temsil eder. Örneğin, 8 bitlik bir bellekte False değeri şu şekilde saklanabilir: 00000000."
   ]
  },
  {
   "cell_type": "code",
   "execution_count": 1,
   "id": "72ed6c1a",
   "metadata": {},
   "outputs": [
    {
     "data": {
      "text/plain": [
       "True"
      ]
     },
     "execution_count": 1,
     "metadata": {},
     "output_type": "execute_result"
    }
   ],
   "source": [
    "True"
   ]
  },
  {
   "cell_type": "code",
   "execution_count": 2,
   "id": "099c92d9",
   "metadata": {
    "scrolled": true
   },
   "outputs": [
    {
     "data": {
      "text/plain": [
       "False"
      ]
     },
     "execution_count": 2,
     "metadata": {},
     "output_type": "execute_result"
    }
   ],
   "source": [
    "False"
   ]
  },
  {
   "cell_type": "code",
   "execution_count": 3,
   "id": "5ab92598",
   "metadata": {},
   "outputs": [
    {
     "data": {
      "text/plain": [
       "bool"
      ]
     },
     "execution_count": 3,
     "metadata": {},
     "output_type": "execute_result"
    }
   ],
   "source": [
    "a = True\n",
    "type(a)"
   ]
  },
  {
   "cell_type": "code",
   "execution_count": 4,
   "id": "ed90025d",
   "metadata": {},
   "outputs": [
    {
     "data": {
      "text/plain": [
       "bool"
      ]
     },
     "execution_count": 4,
     "metadata": {},
     "output_type": "execute_result"
    }
   ],
   "source": [
    "b = False\n",
    "type(b)"
   ]
  },
  {
   "cell_type": "markdown",
   "id": "385258e0",
   "metadata": {},
   "source": [
    "## bool fonksiyonu\n",
    "\n",
    "Pythonda bir sayı değeri eğer 0'dan farklıysa True, 0 ise False olarak anlam kazanır. Bunu bool() fonksiyonunu kullanarak görebiliriz.\n",
    "Eğer RAM'de oluşan obje verisinde herhangi bir 1 değeri varsa, bu bize True olarak döner. RAM'deki obje verisinin tamamı 0 ide bu bize False Döner.\n",
    "Aslında \n",
    "* 0 değeri ve\n",
    "* None değeri bize False döner\n",
    "\n",
    "diğer değerler True döner"
   ]
  },
  {
   "cell_type": "code",
   "execution_count": null,
   "id": "8f513e90",
   "metadata": {},
   "outputs": [],
   "source": [
    "bool(0)"
   ]
  },
  {
   "cell_type": "code",
   "execution_count": null,
   "id": "f5e6c9eb",
   "metadata": {},
   "outputs": [],
   "source": [
    "# string ifade\n",
    "bool(\"metin\")"
   ]
  },
  {
   "cell_type": "code",
   "execution_count": null,
   "id": "c01ce6ab",
   "metadata": {},
   "outputs": [],
   "source": [
    "# integer ifade\n",
    "bool(-5)"
   ]
  },
  {
   "cell_type": "code",
   "execution_count": null,
   "id": "9b4876a1",
   "metadata": {},
   "outputs": [],
   "source": [
    "# float ifade\n",
    "bool(5.5)"
   ]
  },
  {
   "cell_type": "code",
   "execution_count": null,
   "id": "4a40910f",
   "metadata": {
    "lang": "tr"
   },
   "outputs": [],
   "source": [
    "# float ifade\n",
    "bool(0.0)"
   ]
  },
  {
   "cell_type": "code",
   "execution_count": null,
   "id": "3ef718d0",
   "metadata": {},
   "outputs": [],
   "source": [
    "# complex ifade\n",
    "bool(complex(3,4))"
   ]
  }
 ],
 "metadata": {
  "kernelspec": {
   "display_name": "Python 3 (ipykernel)",
   "language": "python",
   "name": "python3"
  },
  "language_info": {
   "codemirror_mode": {
    "name": "ipython",
    "version": 3
   },
   "file_extension": ".py",
   "mimetype": "text/x-python",
   "name": "python",
   "nbconvert_exporter": "python",
   "pygments_lexer": "ipython3",
   "version": "3.11.5"
  },
  "nbTranslate": {
   "displayLangs": [
    "en",
    "tr"
   ],
   "hotkey": "alt-t",
   "langInMainMenu": true,
   "sourceLang": "tr",
   "targetLang": "en",
   "useGoogleTranslate": true
  }
 },
 "nbformat": 4,
 "nbformat_minor": 5
}

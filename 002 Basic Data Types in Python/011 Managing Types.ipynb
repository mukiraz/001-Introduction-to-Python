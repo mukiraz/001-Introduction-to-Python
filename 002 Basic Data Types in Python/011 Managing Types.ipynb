{
 "cells": [
  {
   "cell_type": "markdown",
   "id": "7f92a6c5",
   "metadata": {
    "lang": "en"
   },
   "source": [
    "# Managing Types and Data Type Conversions\n",
    "In Python and most other programming languages, datatypes must be converted to each other. For example, converting a decimal number to an integer or even converting a string to an integer is of great importance when writing our programs."
   ]
  },
  {
   "cell_type": "markdown",
   "id": "bb405685",
   "metadata": {
    "lang": "en"
   },
   "source": [
    "### Learning the data type"
   ]
  },
  {
   "cell_type": "markdown",
   "id": "f3fda365",
   "metadata": {
    "lang": "en"
   },
   "source": [
    "We can use the type() function to find out the data type."
   ]
  },
  {
   "cell_type": "code",
   "execution_count": 8,
   "id": "9df65803",
   "metadata": {},
   "outputs": [],
   "source": [
    "integer = 5\n",
    "float_number = 5.4\n",
    "string = \"Murat\"\n",
    "complex_number = complex(3,4)"
   ]
  },
  {
   "cell_type": "code",
   "execution_count": 9,
   "id": "undefined-disposition",
   "metadata": {},
   "outputs": [
    {
     "data": {
      "text/plain": [
       "int"
      ]
     },
     "execution_count": 9,
     "metadata": {},
     "output_type": "execute_result"
    }
   ],
   "source": [
    "type(integer)"
   ]
  },
  {
   "cell_type": "code",
   "execution_count": 10,
   "id": "textile-parish",
   "metadata": {},
   "outputs": [
    {
     "data": {
      "text/plain": [
       "float"
      ]
     },
     "execution_count": 10,
     "metadata": {},
     "output_type": "execute_result"
    }
   ],
   "source": [
    "type(float_number)"
   ]
  },
  {
   "cell_type": "code",
   "execution_count": 11,
   "id": "placed-planning",
   "metadata": {},
   "outputs": [
    {
     "data": {
      "text/plain": [
       "str"
      ]
     },
     "execution_count": 11,
     "metadata": {},
     "output_type": "execute_result"
    }
   ],
   "source": [
    "type(string)"
   ]
  },
  {
   "cell_type": "code",
   "execution_count": 12,
   "id": "essential-clause",
   "metadata": {},
   "outputs": [
    {
     "data": {
      "text/plain": [
       "complex"
      ]
     },
     "execution_count": 12,
     "metadata": {},
     "output_type": "execute_result"
    }
   ],
   "source": [
    "type(complex_number)"
   ]
  },
  {
   "cell_type": "markdown",
   "id": "0b670910",
   "metadata": {
    "lang": "en"
   },
   "source": [
    "### Converting Integer to Decimal Number\n",
    "\n",
    "We use the *float()* function to convert an integer value to a decimal number (float)."
   ]
  },
  {
   "cell_type": "code",
   "execution_count": 13,
   "id": "85651c81",
   "metadata": {
    "lang": "en"
   },
   "outputs": [
    {
     "data": {
      "text/plain": [
       "43.0"
      ]
     },
     "execution_count": 13,
     "metadata": {},
     "output_type": "execute_result"
    }
   ],
   "source": [
    "# We put the number we will convert in parentheses.\n",
    "int_to_float = 43\n",
    "float(int_to_float)"
   ]
  },
  {
   "cell_type": "markdown",
   "id": "64973804",
   "metadata": {
    "lang": "en"
   },
   "source": [
    "Or we can give an integer directly to the float() function."
   ]
  },
  {
   "cell_type": "code",
   "execution_count": 14,
   "id": "cleared-stylus",
   "metadata": {},
   "outputs": [
    {
     "data": {
      "text/plain": [
       "-35.0"
      ]
     },
     "execution_count": 14,
     "metadata": {},
     "output_type": "execute_result"
    }
   ],
   "source": [
    "float(-35)"
   ]
  },
  {
   "cell_type": "code",
   "execution_count": 15,
   "id": "drawn-directive",
   "metadata": {},
   "outputs": [
    {
     "data": {
      "text/plain": [
       "423.0"
      ]
     },
     "execution_count": 15,
     "metadata": {},
     "output_type": "execute_result"
    }
   ],
   "source": [
    "float(423)"
   ]
  },
  {
   "cell_type": "markdown",
   "id": "85a0e659",
   "metadata": {
    "lang": "en"
   },
   "source": [
    "### Converting a Decimal Number to an Integer\n",
    "\n",
    "To convert a decimal number to an integer, we use the *int()* function. The result is the whole part of the decimal number."
   ]
  },
  {
   "cell_type": "code",
   "execution_count": 16,
   "id": "direct-franchise",
   "metadata": {},
   "outputs": [
    {
     "data": {
      "text/plain": [
       "4"
      ]
     },
     "execution_count": 16,
     "metadata": {},
     "output_type": "execute_result"
    }
   ],
   "source": [
    "int(4.7)"
   ]
  },
  {
   "cell_type": "code",
   "execution_count": 17,
   "id": "overhead-citizen",
   "metadata": {},
   "outputs": [
    {
     "data": {
      "text/plain": [
       "3"
      ]
     },
     "execution_count": 17,
     "metadata": {},
     "output_type": "execute_result"
    }
   ],
   "source": [
    "int(3.14)"
   ]
  },
  {
   "cell_type": "code",
   "execution_count": 18,
   "id": "exclusive-mouse",
   "metadata": {},
   "outputs": [
    {
     "data": {
      "text/plain": [
       "10"
      ]
     },
     "execution_count": 18,
     "metadata": {},
     "output_type": "execute_result"
    }
   ],
   "source": [
    "int(10.3435435345345345)"
   ]
  },
  {
   "cell_type": "code",
   "execution_count": 19,
   "id": "transsexual-radiation",
   "metadata": {},
   "outputs": [
    {
     "data": {
      "text/plain": [
       "1"
      ]
     },
     "execution_count": 19,
     "metadata": {},
     "output_type": "execute_result"
    }
   ],
   "source": [
    "integer_num = 4\n",
    "float_num = 2.2\n",
    "int(integer_num / float_num)"
   ]
  },
  {
   "cell_type": "markdown",
   "id": "8470b74b",
   "metadata": {
    "lang": "en"
   },
   "source": [
    "### Converting Numbers to Strings\n",
    "\n",
    "We use the *str()* function to convert a number to a string. All digits or dots that make up the number become characters."
   ]
  },
  {
   "cell_type": "code",
   "execution_count": 20,
   "id": "sunset-david",
   "metadata": {},
   "outputs": [
    {
     "data": {
      "text/plain": [
       "'32324324'"
      ]
     },
     "execution_count": 20,
     "metadata": {},
     "output_type": "execute_result"
    }
   ],
   "source": [
    "integer_number = 32324324\n",
    "string_number = str(integer_number)\n",
    "string_number"
   ]
  },
  {
   "cell_type": "code",
   "execution_count": 21,
   "id": "fatal-geneva",
   "metadata": {},
   "outputs": [
    {
     "data": {
      "text/plain": [
       "8"
      ]
     },
     "execution_count": 21,
     "metadata": {},
     "output_type": "execute_result"
    }
   ],
   "source": [
    "len(string_number)"
   ]
  },
  {
   "cell_type": "markdown",
   "id": "48b17e86",
   "metadata": {
    "lang": "en"
   },
   "source": [
    "### Converting Strings to Integers\n",
    "\n",
    "When we want to convert a string to an integer, we use the *int()* function. However, in the conversion process, each character of the string must be a *digit*"
   ]
  },
  {
   "cell_type": "code",
   "execution_count": 22,
   "id": "6962faaf",
   "metadata": {
    "lang": "en"
   },
   "outputs": [
    {
     "data": {
      "text/plain": [
       "32434324324234"
      ]
     },
     "execution_count": 22,
     "metadata": {},
     "output_type": "execute_result"
    }
   ],
   "source": [
    "string_to_integer = \"32434324324234\"\n",
    "integer_number = int(string_to_integer)\n",
    "integer_number # This code does not throw an error."
   ]
  },
  {
   "cell_type": "code",
   "execution_count": 23,
   "id": "c11da7ac",
   "metadata": {
    "lang": "en"
   },
   "outputs": [
    {
     "ename": "ValueError",
     "evalue": "invalid literal for int() with base 10: 'dasdasd343435'",
     "output_type": "error",
     "traceback": [
      "\u001b[1;31m---------------------------------------------------------------------------\u001b[0m",
      "\u001b[1;31mValueError\u001b[0m                                Traceback (most recent call last)",
      "Cell \u001b[1;32mIn[23], line 2\u001b[0m\n\u001b[0;32m      1\u001b[0m string_to_integer \u001b[38;5;241m=\u001b[39m \u001b[38;5;124m\"\u001b[39m\u001b[38;5;124mdasdasd343435\u001b[39m\u001b[38;5;124m\"\u001b[39m\n\u001b[1;32m----> 2\u001b[0m integer_number \u001b[38;5;241m=\u001b[39m \u001b[38;5;28mint\u001b[39m(string_to_integer)\n\u001b[0;32m      3\u001b[0m integer_number\n",
      "\u001b[1;31mValueError\u001b[0m: invalid literal for int() with base 10: 'dasdasd343435'"
     ]
    }
   ],
   "source": [
    "string_to_integer = \"dasdasd343435\"\n",
    "integer_number = int(string_to_integer)\n",
    "integer_number # This code gives an error. Each character must be base 10."
   ]
  },
  {
   "cell_type": "markdown",
   "id": "0b9be6e8",
   "metadata": {
    "lang": "en"
   },
   "source": [
    "### Converting Strings to Decimal Numbers\n",
    "\n",
    "When we want to convert a string to a decimal number, we use the *float()* function. However, when doing the conversion, we must make sure that the string complies with the decimal number format.\n",
    "\n",
    "**Note:** In Python, decimal numbers are written with \",\" not \".\" They are defined by . Therefore, if there will be a decimal value in the string expression, \".\" should contain."
   ]
  },
  {
   "cell_type": "code",
   "execution_count": 24,
   "id": "fba7762c",
   "metadata": {
    "lang": "en"
   },
   "outputs": [
    {
     "data": {
      "text/plain": [
       "3.1444545"
      ]
     },
     "execution_count": 24,
     "metadata": {},
     "output_type": "execute_result"
    }
   ],
   "source": [
    "string_to_float = \"3.1444545\"\n",
    "float_number = float(string_to_float)\n",
    "float_number # This code does not throw an error."
   ]
  },
  {
   "cell_type": "code",
   "execution_count": 25,
   "id": "c7f555c8",
   "metadata": {
    "lang": "en"
   },
   "outputs": [
    {
     "ename": "ValueError",
     "evalue": "could not convert string to float: '3.14.324324'",
     "output_type": "error",
     "traceback": [
      "\u001b[1;31m---------------------------------------------------------------------------\u001b[0m",
      "\u001b[1;31mValueError\u001b[0m                                Traceback (most recent call last)",
      "Cell \u001b[1;32mIn[25], line 2\u001b[0m\n\u001b[0;32m      1\u001b[0m string_to_float \u001b[38;5;241m=\u001b[39m \u001b[38;5;124m\"\u001b[39m\u001b[38;5;124m3.14.324324\u001b[39m\u001b[38;5;124m\"\u001b[39m\n\u001b[1;32m----> 2\u001b[0m float_number \u001b[38;5;241m=\u001b[39m \u001b[38;5;28mfloat\u001b[39m(string_to_float)\n\u001b[0;32m      3\u001b[0m float_number\n",
      "\u001b[1;31mValueError\u001b[0m: could not convert string to float: '3.14.324324'"
     ]
    }
   ],
   "source": [
    "string_to_float = \"3.14.324324\"\n",
    "float_number = float(string_to_float)\n",
    "float_number # This code throws an error. Each character must be base 10."
   ]
  }
 ],
 "metadata": {
  "kernelspec": {
   "display_name": "Python 3 (ipykernel)",
   "language": "python",
   "name": "python3"
  },
  "language_info": {
   "codemirror_mode": {
    "name": "ipython",
    "version": 3
   },
   "file_extension": ".py",
   "mimetype": "text/x-python",
   "name": "python",
   "nbconvert_exporter": "python",
   "pygments_lexer": "ipython3",
   "version": "3.11.4"
  },
  "nbTranslate": {
   "displayLangs": [
    "*"
   ],
   "hotkey": "alt-t",
   "langInMainMenu": true,
   "sourceLang": "tr",
   "targetLang": "en",
   "useGoogleTranslate": true
  }
 },
 "nbformat": 4,
 "nbformat_minor": 5
}

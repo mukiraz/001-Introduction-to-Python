{
 "cells": [
  {
   "cell_type": "markdown",
   "id": "external-cooking",
   "metadata": {},
   "source": [
    "# İstisnaları Yükseltme (Raise)\n",
    "\n",
    "Kodunuz yanlış bir parametre gibi nasıl ele alınacağını bilmediği bir koşulla karşılaşırsa, uygun istisnayı siz oluşturabilirsiniz."
   ]
  },
  {
   "cell_type": "code",
   "execution_count": 1,
   "id": "english-insulation",
   "metadata": {},
   "outputs": [
    {
     "ename": "ValueError",
     "evalue": "Girilen değer tek sayı olmalıdır.",
     "output_type": "error",
     "traceback": [
      "\u001b[1;31m---------------------------------------------------------------------------\u001b[0m",
      "\u001b[1;31mValueError\u001b[0m                                Traceback (most recent call last)",
      "\u001b[1;32m~\\AppData\\Local\\Temp/ipykernel_3460/1782125266.py\u001b[0m in \u001b[0;36m<module>\u001b[1;34m\u001b[0m\n\u001b[0;32m      4\u001b[0m     \u001b[1;32mreturn\u001b[0m \u001b[0msayi\u001b[0m \u001b[1;33m+\u001b[0m \u001b[1;36m1\u001b[0m\u001b[1;33m\u001b[0m\u001b[1;33m\u001b[0m\u001b[0m\n\u001b[0;32m      5\u001b[0m \u001b[1;33m\u001b[0m\u001b[0m\n\u001b[1;32m----> 6\u001b[1;33m \u001b[0mprint\u001b[0m\u001b[1;33m(\u001b[0m\u001b[0mtek_sayi\u001b[0m\u001b[1;33m(\u001b[0m\u001b[1;36m6\u001b[0m\u001b[1;33m)\u001b[0m\u001b[1;33m)\u001b[0m\u001b[1;33m\u001b[0m\u001b[1;33m\u001b[0m\u001b[0m\n\u001b[0m",
      "\u001b[1;32m~\\AppData\\Local\\Temp/ipykernel_3460/1782125266.py\u001b[0m in \u001b[0;36mtek_sayi\u001b[1;34m(sayi)\u001b[0m\n\u001b[0;32m      1\u001b[0m \u001b[1;32mdef\u001b[0m \u001b[0mtek_sayi\u001b[0m\u001b[1;33m(\u001b[0m\u001b[0msayi\u001b[0m\u001b[1;33m)\u001b[0m\u001b[1;33m:\u001b[0m\u001b[1;33m\u001b[0m\u001b[1;33m\u001b[0m\u001b[0m\n\u001b[0;32m      2\u001b[0m     \u001b[1;32mif\u001b[0m \u001b[0msayi\u001b[0m \u001b[1;33m%\u001b[0m \u001b[1;36m2\u001b[0m \u001b[1;33m!=\u001b[0m \u001b[1;36m1\u001b[0m\u001b[1;33m:\u001b[0m\u001b[1;33m\u001b[0m\u001b[1;33m\u001b[0m\u001b[0m\n\u001b[1;32m----> 3\u001b[1;33m         \u001b[1;32mraise\u001b[0m \u001b[0mValueError\u001b[0m\u001b[1;33m(\u001b[0m\u001b[1;34m\"Girilen değer tek sayı olmalıdır.\"\u001b[0m\u001b[1;33m)\u001b[0m\u001b[1;33m\u001b[0m\u001b[1;33m\u001b[0m\u001b[0m\n\u001b[0m\u001b[0;32m      4\u001b[0m     \u001b[1;32mreturn\u001b[0m \u001b[0msayi\u001b[0m \u001b[1;33m+\u001b[0m \u001b[1;36m1\u001b[0m\u001b[1;33m\u001b[0m\u001b[1;33m\u001b[0m\u001b[0m\n\u001b[0;32m      5\u001b[0m \u001b[1;33m\u001b[0m\u001b[0m\n",
      "\u001b[1;31mValueError\u001b[0m: Girilen değer tek sayı olmalıdır."
     ]
    }
   ],
   "source": [
    "def tek_sayi(sayi):\n",
    "    if sayi % 2 != 1:\n",
    "        raise NameError(\"Girilen değer tek sayı olmalıdır.\")\n",
    "    return sayi + 1\n",
    "try:\n",
    "    print(tek_sayi(6))\n",
    "except NameError as e:\n",
    "    print(e)"
   ]
  },
  {
   "cell_type": "markdown",
   "id": "assigned-throat",
   "metadata": {},
   "source": [
    "# Özel hata / istisna türleri oluşturma"
   ]
  },
  {
   "cell_type": "markdown",
   "id": "breeding-citizenship",
   "metadata": {},
   "source": [
    "Python'da, içinde bir şeyler ters gittiğinde programınızı bir hata vermeye zorlayan birçok yerleşik istisna vardır.\n",
    "Ancak bazen amacınıza hizmet eden özel istisnalar oluşturmanız gerekebilir.\n",
    "Python'da, kullanıcılar yeni bir sınıf oluşturarak bu tür istisnaları tanımlayabilir. Bu istisna sınıfı, doğrudan veya dolaylı olarak Exception sınıfından türetilmelidir. Yerleşik istisnaların çoğu da bu sınıftan türetilmiştir."
   ]
  },
  {
   "cell_type": "markdown",
   "id": "adult-change",
   "metadata": {},
   "source": [
    "## Özel İstisna"
   ]
  },
  {
   "cell_type": "markdown",
   "id": "figured-export",
   "metadata": {},
   "source": [
    "Burada, Exception sınıfından türetilen CustomError adlı kullanıcı tanımlı bir istisna oluşturulmuştur. Bu yeni istisna, diğer istisnalar gibi, isteğe bağlı bir hata mesajıyla birlikte yükseltme ifadesi kullanılarak ortaya çıkarılabilir."
   ]
  },
  {
   "cell_type": "code",
   "execution_count": 2,
   "id": "married-facing",
   "metadata": {},
   "outputs": [
    {
     "ename": "OzelIstisna",
     "evalue": "Bu özel istisnadır.",
     "output_type": "error",
     "traceback": [
      "\u001b[1;31m---------------------------------------------------------------------------\u001b[0m",
      "\u001b[1;31mOzelIstisna\u001b[0m                               Traceback (most recent call last)",
      "\u001b[1;32m~\\AppData\\Local\\Temp/ipykernel_3460/3823195208.py\u001b[0m in \u001b[0;36m<module>\u001b[1;34m\u001b[0m\n\u001b[0;32m      3\u001b[0m \u001b[0mx\u001b[0m \u001b[1;33m=\u001b[0m \u001b[1;36m1\u001b[0m\u001b[1;33m\u001b[0m\u001b[1;33m\u001b[0m\u001b[0m\n\u001b[0;32m      4\u001b[0m \u001b[1;32mif\u001b[0m \u001b[0mx\u001b[0m \u001b[1;33m==\u001b[0m \u001b[1;36m1\u001b[0m\u001b[1;33m:\u001b[0m\u001b[1;33m\u001b[0m\u001b[1;33m\u001b[0m\u001b[0m\n\u001b[1;32m----> 5\u001b[1;33m     \u001b[1;32mraise\u001b[0m \u001b[0mOzelIstisna\u001b[0m\u001b[1;33m(\u001b[0m\u001b[1;34m'Bu özel istisnadır.'\u001b[0m\u001b[1;33m)\u001b[0m\u001b[1;33m\u001b[0m\u001b[1;33m\u001b[0m\u001b[0m\n\u001b[0m",
      "\u001b[1;31mOzelIstisna\u001b[0m: Bu özel istisnadır."
     ]
    }
   ],
   "source": [
    "class OzelIstisna(Exception):\n",
    "    pass\n",
    "x = 1\n",
    "if x == 1:\n",
    "    raise OzelIstisna('Bu özel istisnadır.')"
   ]
  },
  {
   "cell_type": "markdown",
   "id": "strange-malpractice",
   "metadata": {},
   "source": [
    "### Özel İstisnayı Yakalama"
   ]
  },
  {
   "cell_type": "markdown",
   "id": "overhead-breakfast",
   "metadata": {},
   "source": [
    "Bu örnek, özel İstisnanın nasıl yakalanacağını gösterir"
   ]
  },
  {
   "cell_type": "code",
   "execution_count": 5,
   "id": "knowing-steel",
   "metadata": {},
   "outputs": [
    {
     "name": "stdout",
     "output_type": "stream",
     "text": [
      "Pozitif bir tam sayı girin: d\n",
      "Lütfen bir tamsayı giriniz: invalid literal for int() with base 10: 'd'\n"
     ]
    }
   ],
   "source": [
    "class NegatifHata(ValueError):\n",
    "    pass\n",
    "\n",
    "def foo(x):\n",
    "    # x'in yalnızca pozitif değerlerini kabul eden fonksiyon\n",
    "    if x < 0:\n",
    "        raise NegatifHata(\"Negatif sayılar işlenemez\")\n",
    "    ... # fonksiyon gövdesinin geri kalanı\n",
    "try:\n",
    "    result = foo(int(input(\"Pozitif bir tam sayı girin: \")))\n",
    "except NegatifHata as e:\n",
    "    print(\"negatif bir sayı girdiniz! Hata:\", e)\n",
    "except ValueError as e:\n",
    "    print(\"Lütfen bir tamsayı giriniz:\", e)\n",
    "else:\n",
    "    print(\"Sonuç \" + str(result))"
   ]
  },
  {
   "cell_type": "code",
   "execution_count": 6,
   "id": "781a6545",
   "metadata": {},
   "outputs": [
    {
     "data": {
      "text/plain": [
       "['__call__',\n",
       " '__class__',\n",
       " '__delattr__',\n",
       " '__dir__',\n",
       " '__doc__',\n",
       " '__eq__',\n",
       " '__format__',\n",
       " '__ge__',\n",
       " '__get__',\n",
       " '__getattribute__',\n",
       " '__getstate__',\n",
       " '__gt__',\n",
       " '__hash__',\n",
       " '__init__',\n",
       " '__init_subclass__',\n",
       " '__le__',\n",
       " '__lt__',\n",
       " '__name__',\n",
       " '__ne__',\n",
       " '__new__',\n",
       " '__objclass__',\n",
       " '__qualname__',\n",
       " '__reduce__',\n",
       " '__reduce_ex__',\n",
       " '__repr__',\n",
       " '__setattr__',\n",
       " '__sizeof__',\n",
       " '__str__',\n",
       " '__subclasshook__',\n",
       " '__text_signature__']"
      ]
     },
     "execution_count": 6,
     "metadata": {},
     "output_type": "execute_result"
    }
   ],
   "source": [
    "dir(NegatifHata.add_note)"
   ]
  },
  {
   "cell_type": "code",
   "execution_count": 4,
   "id": "d3741b88",
   "metadata": {},
   "outputs": [],
   "source": [
    "def ddd(*args):\n",
    "    pass"
   ]
  },
  {
   "cell_type": "code",
   "execution_count": null,
   "id": "4ec68260",
   "metadata": {},
   "outputs": [],
   "source": []
  },
  {
   "cell_type": "code",
   "execution_count": null,
   "id": "366b462b",
   "metadata": {},
   "outputs": [],
   "source": []
  },
  {
   "cell_type": "code",
   "execution_count": null,
   "id": "devoted-sharing",
   "metadata": {},
   "outputs": [],
   "source": []
  }
 ],
 "metadata": {
  "kernelspec": {
   "display_name": "Python 3 (ipykernel)",
   "language": "python",
   "name": "python3"
  },
  "language_info": {
   "codemirror_mode": {
    "name": "ipython",
    "version": 3
   },
   "file_extension": ".py",
   "mimetype": "text/x-python",
   "name": "python",
   "nbconvert_exporter": "python",
   "pygments_lexer": "ipython3",
   "version": "3.11.4"
  },
  "nbTranslate": {
   "displayLangs": [
    "*"
   ],
   "hotkey": "alt-t",
   "langInMainMenu": true,
   "sourceLang": "en",
   "targetLang": "fr",
   "useGoogleTranslate": true
  }
 },
 "nbformat": 4,
 "nbformat_minor": 5
}

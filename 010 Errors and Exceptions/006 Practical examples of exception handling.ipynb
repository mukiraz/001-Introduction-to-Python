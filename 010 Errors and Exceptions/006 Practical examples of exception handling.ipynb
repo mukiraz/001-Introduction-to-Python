{
 "cells": [
  {
   "cell_type": "markdown",
   "id": "devoted-coalition",
   "metadata": {},
   "source": [
    "# İstisna işlemenin pratik örnekleri"
   ]
  },
  {
   "cell_type": "markdown",
   "id": "confirmed-disaster",
   "metadata": {},
   "source": [
    "## Kullanıcı girişi"
   ]
  },
  {
   "cell_type": "markdown",
   "id": "cognitive-pharmacology",
   "metadata": {},
   "source": [
    "Bir kullanıcının giriş yoluyla bir sayı girmesini istediğinizi düşünün. Girişin bir sayı olduğundan emin olmak istiyorsunuz. Bunun dışında try / kullanabilirsiniz:"
   ]
  },
  {
   "cell_type": "code",
   "execution_count": 1,
   "id": "bronze-arbor",
   "metadata": {},
   "outputs": [
    {
     "name": "stdout",
     "output_type": "stream",
     "text": [
      "Bir sayı giriniz: sdfsfsdf\n",
      "Girdiğiniz değer bir sayı değildir.\n",
      "Bir sayı giriniz: sdfsd\n",
      "Girdiğiniz değer bir sayı değildir.\n",
      "Bir sayı giriniz: fsdf\n",
      "Girdiğiniz değer bir sayı değildir.\n",
      "Bir sayı giriniz: sdfsd\n",
      "Girdiğiniz değer bir sayı değildir.\n",
      "Bir sayı giriniz: fsd\n",
      "Girdiğiniz değer bir sayı değildir.\n",
      "Bir sayı giriniz: f\n",
      "Girdiğiniz değer bir sayı değildir.\n",
      "Bir sayı giriniz: sdf\n",
      "Girdiğiniz değer bir sayı değildir.\n",
      "Bir sayı giriniz: sdf5\n",
      "Girdiğiniz değer bir sayı değildir.\n",
      "Bir sayı giriniz: 5\n"
     ]
    }
   ],
   "source": [
    "while True:\n",
    "    try:\n",
    "        nb = int(input('Bir sayı giriniz: '))\n",
    "        break\n",
    "    except ValueError:\n",
    "        print('Girdiğiniz değer bir sayı değildir.')"
   ]
  },
  {
   "cell_type": "markdown",
   "id": "proper-binary",
   "metadata": {},
   "source": [
    "Girdi bir tam sayıya dönüştürülemezse, bir ValueError yükseltilir. Except ile yakalayabilirsiniz. Herhangi bir istisna ortaya çıkmazsa, döngüden atlama atlamaları. Döngüden sonra, nb bir tamsayı içerir."
   ]
  },
  {
   "cell_type": "markdown",
   "id": "historic-referral",
   "metadata": {},
   "source": [
    "## Sözlükler"
   ]
  },
  {
   "cell_type": "markdown",
   "id": "advance-logic",
   "metadata": {},
   "source": [
    "Aralık (n) gibi ardışık tam sayılardan oluşan bir liste üzerinde yinelediğinizi ve belirli tam sayılarla karşılaştığınızda yapılacaklar hakkında bilgi içeren bir sözlükler listesine sahip olduğunuzu düşünün, örneğin d[i]'yi atlayın."
   ]
  },
  {
   "cell_type": "code",
   "execution_count": 3,
   "id": "frequent-seating",
   "metadata": {},
   "outputs": [
    {
     "name": "stdout",
     "output_type": "stream",
     "text": [
      "8\n"
     ]
    }
   ],
   "source": [
    "d = [{7: 3}, {25: 9}, {38: 5}]\n",
    "for i in range(len(d)):\n",
    "    i=0\n",
    "    try:\n",
    "        dic = d[i]\n",
    "        i += dic[i]\n",
    "    except IndexError:\n",
    "        i += 1\n",
    "print(i)"
   ]
  }
 ],
 "metadata": {
  "kernelspec": {
   "display_name": "Python 3 (ipykernel)",
   "language": "python",
   "name": "python3"
  },
  "language_info": {
   "codemirror_mode": {
    "name": "ipython",
    "version": 3
   },
   "file_extension": ".py",
   "mimetype": "text/x-python",
   "name": "python",
   "nbconvert_exporter": "python",
   "pygments_lexer": "ipython3",
   "version": "3.11.4"
  },
  "nbTranslate": {
   "displayLangs": [
    "*"
   ],
   "hotkey": "alt-t",
   "langInMainMenu": true,
   "sourceLang": "en",
   "targetLang": "fr",
   "useGoogleTranslate": true
  }
 },
 "nbformat": 4,
 "nbformat_minor": 5
}

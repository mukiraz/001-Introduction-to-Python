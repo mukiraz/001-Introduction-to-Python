{
 "cells": [
  {
   "cell_type": "markdown",
   "id": "rational-physics",
   "metadata": {},
   "source": [
    "# Çoklu İstisnaları Yakalama"
   ]
  },
  {
   "cell_type": "markdown",
   "id": "detailed-delay",
   "metadata": {},
   "source": [
    "Birden çok istisnayı yakalamanın birkaç yolu vardır."
   ]
  },
  {
   "cell_type": "markdown",
   "id": "double-dominant",
   "metadata": {},
   "source": [
    "Birincisi, yakalamak ve aynı şekilde işlemek istediğiniz istisna türlerinin bir demetini oluşturmaktır. Aşağıdaki örnek, kodun KeyError ve AttributeError istisnalarını yok saymasına neden olacaktır."
   ]
  },
  {
   "cell_type": "code",
   "execution_count": 3,
   "id": "swiss-advocacy",
   "metadata": {},
   "outputs": [
    {
     "name": "stdout",
     "output_type": "stream",
     "text": [
      "A KeyError or an AttributeError exception has been caught.\n"
     ]
    },
    {
     "ename": "AttributeError",
     "evalue": "'dict' object has no attribute 'non_existing_field'",
     "output_type": "error",
     "traceback": [
      "\u001b[1;31m---------------------------------------------------------------------------\u001b[0m",
      "\u001b[1;31mAttributeError\u001b[0m                            Traceback (most recent call last)",
      "\u001b[1;32m<ipython-input-3-70e22d6d5a75>\u001b[0m in \u001b[0;36m<module>\u001b[1;34m\u001b[0m\n\u001b[0;32m      2\u001b[0m     \u001b[0md\u001b[0m \u001b[1;33m=\u001b[0m \u001b[1;33m{\u001b[0m\u001b[1;36m1\u001b[0m\u001b[1;33m:\u001b[0m\u001b[1;36m1\u001b[0m\u001b[1;33m,\u001b[0m\u001b[1;36m2\u001b[0m\u001b[1;33m:\u001b[0m\u001b[1;36m2\u001b[0m\u001b[1;33m,\u001b[0m\u001b[1;36m3\u001b[0m\u001b[1;33m:\u001b[0m\u001b[1;36m3\u001b[0m\u001b[1;33m}\u001b[0m\u001b[1;33m\u001b[0m\u001b[1;33m\u001b[0m\u001b[0m\n\u001b[0;32m      3\u001b[0m     \u001b[0ma\u001b[0m \u001b[1;33m=\u001b[0m \u001b[0md\u001b[0m\u001b[1;33m[\u001b[0m\u001b[1;36m1\u001b[0m\u001b[1;33m]\u001b[0m \u001b[1;31m#KeyError\u001b[0m\u001b[1;33m\u001b[0m\u001b[1;33m\u001b[0m\u001b[0m\n\u001b[1;32m----> 4\u001b[1;33m     \u001b[0mb\u001b[0m \u001b[1;33m=\u001b[0m \u001b[0md\u001b[0m\u001b[1;33m.\u001b[0m\u001b[0mnon_existing_field\u001b[0m \u001b[1;31m#AttributeError\u001b[0m\u001b[1;33m\u001b[0m\u001b[1;33m\u001b[0m\u001b[0m\n\u001b[0m\u001b[0;32m      5\u001b[0m \u001b[1;32mexcept\u001b[0m \u001b[1;33m(\u001b[0m\u001b[0mKeyError\u001b[0m\u001b[1;33m,\u001b[0m \u001b[0mAttributeError\u001b[0m\u001b[1;33m)\u001b[0m \u001b[1;32mas\u001b[0m \u001b[0me\u001b[0m\u001b[1;33m:\u001b[0m\u001b[1;33m\u001b[0m\u001b[1;33m\u001b[0m\u001b[0m\n\u001b[0;32m      6\u001b[0m     \u001b[0mprint\u001b[0m\u001b[1;33m(\u001b[0m\u001b[1;34m\"A KeyError or an AttributeError exception has been caught.\"\u001b[0m\u001b[1;33m)\u001b[0m\u001b[1;33m,\u001b[0m\u001b[1;33m\u001b[0m\u001b[1;33m\u001b[0m\u001b[0m\n",
      "\u001b[1;31mAttributeError\u001b[0m: 'dict' object has no attribute 'non_existing_field'"
     ]
    }
   ],
   "source": [
    "try:\n",
    "    d = {1:1,2:2,3:3}\n",
    "    a = d[1] #KeyError\n",
    "    b = d.non_existing_field #AttributeError\n",
    "except (KeyError, AttributeError) as e:\n",
    "    print(\"A KeyError or an AttributeError exception has been caught.\"),\n",
    "    raise"
   ]
  },
  {
   "cell_type": "markdown",
   "id": "italian-murray",
   "metadata": {},
   "source": [
    "Farklı istisnaları farklı yollarla ele almak isterseniz, her tür için ayrı bir istisna bloğu sağlayabilirsiniz. Bu örnekte, yine de KeyError ve AttributeError'ı yakalıyoruz, ancak istisnaları farklı şekillerde ele alıyoruz."
   ]
  },
  {
   "cell_type": "code",
   "execution_count": 6,
   "id": "strange-charlotte",
   "metadata": {},
   "outputs": [
    {
     "name": "stdout",
     "output_type": "stream",
     "text": [
      "AttributeError Hatası Oluştu. Hata Mesajı: 'dict' object has no attribute 'non_existing_field'\n"
     ]
    }
   ],
   "source": [
    "try:\n",
    "    d = {1:1,2:2,3:3}\n",
    "    a = d[1]\n",
    "    b = d.non_existing_field\n",
    "except KeyError as e:\n",
    "    print(\"KeyError Hatası Oluştu. Hata Mesajı:\", e)\n",
    "except AttributeError as e:\n",
    "    print(\"AttributeError Hatası Oluştu. Hata Mesajı:\", e)"
   ]
  },
  {
   "cell_type": "markdown",
   "id": "successful-wagner",
   "metadata": {},
   "source": [
    "### Örnek"
   ]
  },
  {
   "cell_type": "code",
   "execution_count": 4,
   "id": "applied-zimbabwe",
   "metadata": {},
   "outputs": [
    {
     "name": "stdout",
     "output_type": "stream",
     "text": [
      "\n",
      "Bu program girilen ilk sayıyı girilen ikinci sayıya böler, sonuç ve kalanı verir.\n",
      "\n",
      "Lütfen bölünecek sayıyı giriniz:5\n",
      "Lütfen bölen sayıyı giriniz:0\n",
      "Bölen 0 olamaz\n"
     ]
    }
   ],
   "source": [
    "def bolme(bolunen,bolen):\n",
    "    try:\n",
    "        bolunen=int(bolunen)\n",
    "        bolen=int(bolen)\n",
    "        bolum=bolunen/bolen\n",
    "        kalan=bolunen%bolen\n",
    "        return (True,bolum,kalan)\n",
    "    except ValueError:\n",
    "        return (False, \"Lütfen bir sayı giriniz\")\n",
    "    except ZeroDivisionError:\n",
    "        return (False, \"Bölen 0 olamaz\")\n",
    "        \n",
    "\n",
    "\n",
    "\n",
    "print(\"\"\"\n",
    "Bu program girilen ilk sayıyı girilen ikinci sayıya böler, sonuç ve kalanı verir.\n",
    "\"\"\")\n",
    "    \n",
    "bolunen=input(\"Lütfen bölünecek sayıyı giriniz:\")\n",
    "bolen=input(\"Lütfen bölen sayıyı giriniz:\")\n",
    "\n",
    "sonuc=bolme(bolunen,bolen)\n",
    "\n",
    "if sonuc[0]:\n",
    "    print(\"{} sayısının {} sayısına bölümü {} kalan {}'dür'\".format(bolunen,bolen,sonuc[1],sonuc[2]))\n",
    "else:\n",
    "     print(sonuc[1])\n",
    "\n",
    "\n",
    "\n",
    "\n"
   ]
  },
  {
   "cell_type": "code",
   "execution_count": null,
   "id": "dimensional-romantic",
   "metadata": {},
   "outputs": [],
   "source": []
  }
 ],
 "metadata": {
  "kernelspec": {
   "display_name": "Python 3 (ipykernel)",
   "language": "python",
   "name": "python3"
  },
  "language_info": {
   "codemirror_mode": {
    "name": "ipython",
    "version": 3
   },
   "file_extension": ".py",
   "mimetype": "text/x-python",
   "name": "python",
   "nbconvert_exporter": "python",
   "pygments_lexer": "ipython3",
   "version": "3.11.4"
  },
  "nbTranslate": {
   "displayLangs": [
    "*"
   ],
   "hotkey": "alt-t",
   "langInMainMenu": true,
   "sourceLang": "en",
   "targetLang": "fr",
   "useGoogleTranslate": true
  }
 },
 "nbformat": 4,
 "nbformat_minor": 5
}

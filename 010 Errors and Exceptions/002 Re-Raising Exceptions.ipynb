{
 "cells": [
  {
   "cell_type": "markdown",
   "id": "522a2155",
   "metadata": {
    "lang": "en"
   },
   "source": [
    "# Re-Raising Exceptions\n",
    "\n",
    "Sometimes you may want to catch an exception just to investigate it (e.g. for logging purposes). After investigation, you want the exception to continue propagating as before.\n",
    "In this case, use the parameterless \"raise\" expression."
   ]
  },
  {
   "cell_type": "code",
   "execution_count": 2,
   "id": "occupied-value",
   "metadata": {},
   "outputs": [
    {
     "name": "stdout",
     "output_type": "stream",
     "text": [
      "Bir Hata Yakalandı\n"
     ]
    },
    {
     "ename": "ZeroDivisionError",
     "evalue": "division by zero",
     "output_type": "error",
     "traceback": [
      "\u001b[1;31m---------------------------------------------------------------------------\u001b[0m",
      "\u001b[1;31mZeroDivisionError\u001b[0m                         Traceback (most recent call last)",
      "\u001b[1;32m<ipython-input-2-2fbf92f9a338>\u001b[0m in \u001b[0;36m<module>\u001b[1;34m\u001b[0m\n\u001b[0;32m      1\u001b[0m \u001b[1;32mtry\u001b[0m\u001b[1;33m:\u001b[0m\u001b[1;33m\u001b[0m\u001b[1;33m\u001b[0m\u001b[0m\n\u001b[1;32m----> 2\u001b[1;33m     \u001b[1;36m5\u001b[0m \u001b[1;33m/\u001b[0m \u001b[1;36m0\u001b[0m\u001b[1;33m\u001b[0m\u001b[1;33m\u001b[0m\u001b[0m\n\u001b[0m\u001b[0;32m      3\u001b[0m \u001b[1;32mexcept\u001b[0m \u001b[0mZeroDivisionError\u001b[0m\u001b[1;33m:\u001b[0m\u001b[1;33m\u001b[0m\u001b[1;33m\u001b[0m\u001b[0m\n\u001b[0;32m      4\u001b[0m     \u001b[0mprint\u001b[0m\u001b[1;33m(\u001b[0m\u001b[1;34m\"Bir Hata Yakalandı\"\u001b[0m\u001b[1;33m)\u001b[0m\u001b[1;33m\u001b[0m\u001b[1;33m\u001b[0m\u001b[0m\n\u001b[0;32m      5\u001b[0m     \u001b[1;32mraise\u001b[0m\u001b[1;33m\u001b[0m\u001b[1;33m\u001b[0m\u001b[0m\n",
      "\u001b[1;31mZeroDivisionError\u001b[0m: division by zero"
     ]
    }
   ],
   "source": [
    "try:\n",
    "    5 / 0\n",
    "except ZeroDivisionError:\n",
    "    print(\"An Error Caught\")\n",
    "    raise\n",
    "    "
   ]
  },
  {
   "cell_type": "code",
   "execution_count": 5,
   "id": "82d5bfec",
   "metadata": {
    "lang": "en"
   },
   "outputs": [
    {
     "name": "stdout",
     "output_type": "stream",
     "text": [
      "This program takes two numbers entered by the user, divides them and returns the result\n",
      "Please enter the number to be dividedk\n",
      "Please enter the number to divideı\n",
      "Please enter a number.\n"
     ]
    }
   ],
   "source": [
    "def calculate_division(dividend, divisor):\n",
    "    #divisor, dividend, result, remainder\n",
    "    try:\n",
    "        dividend = int(dividend)\n",
    "        divisor = int(divisor)\n",
    "        result = int(dividend / divisor)\n",
    "        remainder = dividend % divisor\n",
    "        return (True, result, remainder)\n",
    "    \n",
    "    except ValueError:\n",
    "        return (False,\"Please enter a number.\", None)\n",
    "    except ZeroDivisionError:\n",
    "        return (False,\"divisor cannot take the value 0\", None)\n",
    "        \n",
    "\n",
    "print(\"This program takes two numbers entered by the user, divides them and returns the result\")\n",
    "\n",
    "dividend = input(\"Please enter the number to be divided\")\n",
    "divisor = input(\"Please enter the number to divide\")\n",
    "\n",
    "is_success, result, remainder = calculate_division(dividend, divisor)\n",
    "\n",
    "if is_success:\n",
    "    print(\"The result of dividing {} by the number {} is {} and the remainder is {}\".format(dividend, divisor, result, remainder))\n",
    "else:\n",
    "    print(result)"
   ]
  }
 ],
 "metadata": {
  "kernelspec": {
   "display_name": "Python 3 (ipykernel)",
   "language": "python",
   "name": "python3"
  },
  "language_info": {
   "codemirror_mode": {
    "name": "ipython",
    "version": 3
   },
   "file_extension": ".py",
   "mimetype": "text/x-python",
   "name": "python",
   "nbconvert_exporter": "python",
   "pygments_lexer": "ipython3",
   "version": "3.11.5"
  },
  "nbTranslate": {
   "displayLangs": [],
   "hotkey": "alt-t",
   "langInMainMenu": true,
   "sourceLang": "tr",
   "targetLang": "en",
   "useGoogleTranslate": true
  }
 },
 "nbformat": 4,
 "nbformat_minor": 5
}

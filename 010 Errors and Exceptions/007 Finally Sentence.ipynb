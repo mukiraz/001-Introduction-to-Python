{
 "cells": [
  {
   "cell_type": "markdown",
   "id": "standard-reset",
   "metadata": {},
   "source": [
    "# Finally Cümlesi"
   ]
  },
  {
   "cell_type": "markdown",
   "id": "increased-uniform",
   "metadata": {},
   "source": [
    "Bazen, istisna ne olursa olsun, örneğin bazı kaynakları temizlemeniz gerekiyorsa, bir şeyin olmasını isteyebilirsiniz."
   ]
  },
  {
   "cell_type": "markdown",
   "id": "static-lying",
   "metadata": {},
   "source": [
    "Bir **try** cümlesinin **finally** bloğu, herhangi bir istisna ortaya çıkıp çıkmadığına bakılmaksızın gerçekleşir."
   ]
  },
  {
   "cell_type": "code",
   "execution_count": 2,
   "id": "spanish-affect",
   "metadata": {},
   "outputs": [
    {
     "name": "stdout",
     "output_type": "stream",
     "text": [
      "Bir şeyler yanlış gitti\n",
      "try ve except blokları bitti\n"
     ]
    }
   ],
   "source": [
    "\n",
    "try:\n",
    "      x > 3\n",
    "except:\n",
    "      print(\"Bir şeyler yanlış gitti\")\n",
    "else:\n",
    "      print(\"Hiçbir şey yanlış değil\")\n",
    "finally:\n",
    "      print(\"try ve except blokları bitti\")"
   ]
  },
  {
   "cell_type": "code",
   "execution_count": null,
   "id": "powerful-jones",
   "metadata": {},
   "outputs": [],
   "source": []
  }
 ],
 "metadata": {
  "kernelspec": {
   "display_name": "Python 3 (ipykernel)",
   "language": "python",
   "name": "python3"
  },
  "language_info": {
   "codemirror_mode": {
    "name": "ipython",
    "version": 3
   },
   "file_extension": ".py",
   "mimetype": "text/x-python",
   "name": "python",
   "nbconvert_exporter": "python",
   "pygments_lexer": "ipython3",
   "version": "3.11.4"
  }
 },
 "nbformat": 4,
 "nbformat_minor": 5
}

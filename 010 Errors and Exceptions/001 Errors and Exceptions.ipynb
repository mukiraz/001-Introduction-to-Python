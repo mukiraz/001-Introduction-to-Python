{
 "cells": [
  {
   "cell_type": "markdown",
   "id": "17a102e6",
   "metadata": {
    "lang": "en"
   },
   "source": [
    "# Errors and Exceptions\n",
    "\n",
    "Errors detected during execution are called exceptions and are not unconditionally significant. Most exceptions are not handled by programs; It is possible to write programs that handle selected exceptions. There are specific features in Python to deal with exceptions and exception logic. Additionally, exceptions have a rich type hierarchy, all of which inherit from the BaseException type.\n",
    "\n",
    "## Catching Exceptions\n",
    "\n",
    "\n",
    "In the programs we have made so far, the program has given us a warning if an operation it could not execute or an error occurred. You can look at the example below."
   ]
  },
  {
   "cell_type": "code",
   "execution_count": 1,
   "id": "western-suite",
   "metadata": {},
   "outputs": [
    {
     "ename": "ZeroDivisionError",
     "evalue": "division by zero",
     "output_type": "error",
     "traceback": [
      "\u001b[1;31m---------------------------------------------------------------------------\u001b[0m",
      "\u001b[1;31mZeroDivisionError\u001b[0m                         Traceback (most recent call last)",
      "Cell \u001b[1;32mIn[1], line 1\u001b[0m\n\u001b[1;32m----> 1\u001b[0m x \u001b[38;5;241m=\u001b[39m \u001b[38;5;241m5\u001b[39m \u001b[38;5;241m/\u001b[39m \u001b[38;5;241m0\u001b[39m\n",
      "\u001b[1;31mZeroDivisionError\u001b[0m: division by zero"
     ]
    }
   ],
   "source": [
    "x = 5 / 0"
   ]
  },
  {
   "cell_type": "markdown",
   "id": "2524eee9",
   "metadata": {
    "lang": "en"
   },
   "source": [
    "When such errors are encountered, we can ensure that Python catches these errors. The format we will use for this is as follows."
   ]
  },
  {
   "cell_type": "raw",
   "id": "5af2d839",
   "metadata": {
    "lang": "en"
   },
   "source": [
    "try:\n",
    "    operations\n",
    "except ErrorName as x:\n",
    "    operations\n",
    "else:\n",
    "    operations\n",
    "finally:\n",
    "    operations"
   ]
  },
  {
   "cell_type": "markdown",
   "id": "e386cf25",
   "metadata": {
    "lang": "en"
   },
   "source": [
    "Now let's look at the example below."
   ]
  },
  {
   "cell_type": "code",
   "execution_count": 3,
   "id": "chief-skiing",
   "metadata": {},
   "outputs": [
    {
     "name": "stdout",
     "output_type": "stream",
     "text": [
      "Divide by zero error occurred! Exception: division by zero\n",
      "END\n"
     ]
    }
   ],
   "source": [
    "try:\n",
    "    x = 5 / 0\n",
    "except ZeroDivisionError as e:\n",
    "    # `e` is the exception object here\n",
    "    print(\"Divide by zero error occurred! Exception:\", e)\n",
    "    # we have covered the exception here\n",
    "    x = 0\n",
    "finally:\n",
    "    print(\"END\")\n",
    "    # no matter what this place works."
   ]
  },
  {
   "cell_type": "markdown",
   "id": "c10d5db1",
   "metadata": {
    "lang": "en"
   },
   "source": [
    "The specified exception class – in this case, ZeroDivisionError – catches any exception of that class or any subclass of that exception.\n",
    "For example, ZeroDivisionError is a subclass of ArithmeticError:"
   ]
  },
  {
   "cell_type": "code",
   "execution_count": 8,
   "id": "adolescent-qatar",
   "metadata": {},
   "outputs": [
    {
     "data": {
      "text/plain": [
       "(ArithmeticError,)"
      ]
     },
     "execution_count": 8,
     "metadata": {},
     "output_type": "execute_result"
    }
   ],
   "source": [
    "ZeroDivisionError.__bases__"
   ]
  },
  {
   "cell_type": "markdown",
   "id": "cde56a75",
   "metadata": {
    "lang": "en"
   },
   "source": [
    "And so, the following will still catch ZeroDivisionError:"
   ]
  },
  {
   "cell_type": "code",
   "execution_count": 4,
   "id": "greatest-monitoring",
   "metadata": {},
   "outputs": [
    {
     "name": "stdout",
     "output_type": "stream",
     "text": [
      "Arithmetic Error Caught\n",
      "END\n"
     ]
    }
   ],
   "source": [
    "try:\n",
    "    5 / 0\n",
    "except ArithmeticError:\n",
    "    print(\"Arithmetic Error Caught\")\n",
    "finally:\n",
    "    print(\"END\")"
   ]
  },
  {
   "cell_type": "markdown",
   "id": "ddfc6981",
   "metadata": {
    "lang": "en"
   },
   "source": [
    "All Python related exceptions are listed  <a href=\"https://docs.python.org/3/library/exceptions.html\">here </a>.\n",
    "### Warning! Don't catch every exception\n",
    "\n",
    "We said above that ZeroDivisionError is a subclass of ArithmeticError. <a href=\"https://docs.python.org/3/library/exceptions.html\"> When you look at Python's documentation </a>, we can say that all errors derive from the Exception class. Thus, the error will be caught in the following expression."
   ]
  },
  {
   "cell_type": "code",
   "execution_count": 5,
   "id": "regulated-knitting",
   "metadata": {},
   "outputs": [
    {
     "name": "stdout",
     "output_type": "stream",
     "text": [
      "Error Caught\n",
      "END\n"
     ]
    }
   ],
   "source": [
    "try:\n",
    "    5 / 0\n",
    "except Exception:\n",
    "    print(\"Error Caught\")\n",
    "finally:\n",
    "    print(\"END\")"
   ]
  },
  {
   "cell_type": "markdown",
   "id": "f55df317",
   "metadata": {
    "lang": "en"
   },
   "source": [
    "In most cases this is bad practice. It can catch more than intended, such as SystemExit, KeyboardInterrupt, and MemoryError - each of which should generally be handled differently than normal system or logic errors. It also means there's no clear understanding of what the internal code might be doing wrong and how to properly recover from that situation. If you're catching every error, you won't know which error occurred or how to fix it.\n",
    "This is more commonly referred to as 'error masking' and should be avoided. Let your program crash instead of failing silently or worse, failing at a deeper level of execution. (Imagine this is a transactional system)\n",
    "Typically, these constructs are used at the outermost level of the program and log the details of the error, allowing the error to be corrected or addressed more specifically."
   ]
  }
 ],
 "metadata": {
  "kernelspec": {
   "display_name": "Python 3 (ipykernel)",
   "language": "python",
   "name": "python3"
  },
  "language_info": {
   "codemirror_mode": {
    "name": "ipython",
    "version": 3
   },
   "file_extension": ".py",
   "mimetype": "text/x-python",
   "name": "python",
   "nbconvert_exporter": "python",
   "pygments_lexer": "ipython3",
   "version": "3.11.5"
  },
  "nbTranslate": {
   "displayLangs": [
    "*"
   ],
   "hotkey": "alt-t",
   "langInMainMenu": true,
   "sourceLang": "tr",
   "targetLang": "en",
   "useGoogleTranslate": true
  }
 },
 "nbformat": 4,
 "nbformat_minor": 5
}

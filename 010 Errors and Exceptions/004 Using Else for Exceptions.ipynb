{
 "cells": [
  {
   "cell_type": "markdown",
   "id": "enabling-original",
   "metadata": {},
   "source": [
    "# İstisnalarsa Else Kulanımı"
   ]
  },
  {
   "cell_type": "markdown",
   "id": "atmospheric-forest",
   "metadata": {},
   "source": [
    "Bir else bloğundaki kod, yalnızca try bloğundaki kod tarafından herhangi bir istisna oluşturulmamışsa çalıştırılacaktır. Bir istisna atılırsa çalıştırmak istemediğiniz bir kodunuz varsa, ancak bu kod tarafından atılan istisnaların yakalanmasını istemiyorsanız bu yararlıdır."
   ]
  },
  {
   "cell_type": "code",
   "execution_count": 3,
   "id": "finite-ordinance",
   "metadata": {},
   "outputs": [
    {
     "name": "stdout",
     "output_type": "stream",
     "text": [
      "one\n",
      "Bir hata oluşmadı\n"
     ]
    }
   ],
   "source": [
    "try:\n",
    "    data = {1: 'one', 2: 'two'}\n",
    "    print(data[1])\n",
    "except KeyError as e:\n",
    "    print('key bulunamadı')\n",
    "else:\n",
    "    print(\"Bir hata oluşmadı\")"
   ]
  },
  {
   "cell_type": "code",
   "execution_count": null,
   "id": "musical-conversion",
   "metadata": {},
   "outputs": [],
   "source": []
  },
  {
   "cell_type": "code",
   "execution_count": null,
   "id": "e31e97ba",
   "metadata": {},
   "outputs": [],
   "source": []
  }
 ],
 "metadata": {
  "kernelspec": {
   "display_name": "Python 3 (ipykernel)",
   "language": "python",
   "name": "python3"
  },
  "language_info": {
   "codemirror_mode": {
    "name": "ipython",
    "version": 3
   },
   "file_extension": ".py",
   "mimetype": "text/x-python",
   "name": "python",
   "nbconvert_exporter": "python",
   "pygments_lexer": "ipython3",
   "version": "3.11.4"
  },
  "nbTranslate": {
   "displayLangs": [
    "*"
   ],
   "hotkey": "alt-t",
   "langInMainMenu": true,
   "sourceLang": "en",
   "targetLang": "fr",
   "useGoogleTranslate": true
  }
 },
 "nbformat": 4,
 "nbformat_minor": 5
}

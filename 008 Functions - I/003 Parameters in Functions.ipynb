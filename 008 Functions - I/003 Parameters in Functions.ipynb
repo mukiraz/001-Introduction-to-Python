{
 "cells": [
  {
   "cell_type": "markdown",
   "id": "67525ca6",
   "metadata": {
    "lang": "en"
   },
   "source": [
    "# Parameters in Functions"
   ]
  },
  {
   "cell_type": "markdown",
   "id": "42a76fa0",
   "metadata": {
    "lang": "en"
   },
   "source": [
    "### Default Values ​​of Parameters\n",
    "\n",
    "As you know, we defined a function like this in previous topics."
   ]
  },
  {
   "cell_type": "code",
   "execution_count": 24,
   "id": "linear-limitation",
   "metadata": {},
   "outputs": [],
   "source": [
    "def say_hello(name):\n",
    "    print(\"Hello\",name)"
   ]
  },
  {
   "cell_type": "code",
   "execution_count": 25,
   "id": "catholic-reaction",
   "metadata": {},
   "outputs": [
    {
     "name": "stdout",
     "output_type": "stream",
     "text": [
      "Hello Murat\n"
     ]
    }
   ],
   "source": [
    "say_hello(\"Murat\")"
   ]
  },
  {
   "cell_type": "code",
   "execution_count": 26,
   "id": "inside-debut",
   "metadata": {},
   "outputs": [
    {
     "name": "stdout",
     "output_type": "stream",
     "text": [
      "Hello Patrick\n"
     ]
    }
   ],
   "source": [
    "say_hello(\"Patrick\")"
   ]
  },
  {
   "cell_type": "code",
   "execution_count": 27,
   "id": "e15fcedd",
   "metadata": {
    "lang": "en"
   },
   "outputs": [
    {
     "ename": "TypeError",
     "evalue": "say_hello() missing 1 required positional argument: 'name'",
     "output_type": "error",
     "traceback": [
      "\u001b[1;31m---------------------------------------------------------------------------\u001b[0m",
      "\u001b[1;31mTypeError\u001b[0m                                 Traceback (most recent call last)",
      "Cell \u001b[1;32mIn[27], line 1\u001b[0m\n\u001b[1;32m----> 1\u001b[0m say_hello()\n",
      "\u001b[1;31mTypeError\u001b[0m: say_hello() missing 1 required positional argument: 'name'"
     ]
    }
   ],
   "source": [
    "say_hello() # This code throws an error. A function that takes a single argument"
   ]
  },
  {
   "cell_type": "markdown",
   "id": "c660576f",
   "metadata": {
    "lang": "en"
   },
   "source": [
    "However, if we want to set the value of a parameter as default, we can do this with default values. To understand the default values, let's write the **say_hello()** function with the default parameter value."
   ]
  },
  {
   "cell_type": "code",
   "execution_count": 28,
   "id": "vital-shareware",
   "metadata": {},
   "outputs": [],
   "source": [
    "def say_hello(name = \"No name\"):\n",
    "    print(\"Hello\",name)"
   ]
  },
  {
   "cell_type": "code",
   "execution_count": 29,
   "id": "referenced-disease",
   "metadata": {},
   "outputs": [
    {
     "name": "stdout",
     "output_type": "stream",
     "text": [
      "Hello No name\n"
     ]
    }
   ],
   "source": [
    "say_hello()"
   ]
  },
  {
   "cell_type": "code",
   "execution_count": 30,
   "id": "thick-silly",
   "metadata": {},
   "outputs": [
    {
     "name": "stdout",
     "output_type": "stream",
     "text": [
      "Hello Murat\n"
     ]
    }
   ],
   "source": [
    "say_hello(\"Murat\")"
   ]
  },
  {
   "cell_type": "markdown",
   "id": "a1b5b388",
   "metadata": {
    "lang": "en"
   },
   "source": [
    "Well, we can also define a function that has many parameters."
   ]
  },
  {
   "cell_type": "code",
   "execution_count": 31,
   "id": "changing-breathing",
   "metadata": {},
   "outputs": [],
   "source": [
    "def get_user(name = \"No info \",lastname = \"No info \",phone =  \"No info \"):\n",
    "    print(\"Name:\",name,\"Surname:\",lastname,\"Tel Number:\",phone)"
   ]
  },
  {
   "cell_type": "code",
   "execution_count": 32,
   "id": "147d9e27",
   "metadata": {
    "lang": "en"
   },
   "outputs": [
    {
     "name": "stdout",
     "output_type": "stream",
     "text": [
      "Name: No info  Surname: No info  Tel Number: No info \n"
     ]
    }
   ],
   "source": [
    "get_user() # All parameters are printed with default values"
   ]
  },
  {
   "cell_type": "code",
   "execution_count": 33,
   "id": "talented-cassette",
   "metadata": {},
   "outputs": [
    {
     "name": "stdout",
     "output_type": "stream",
     "text": [
      "Name: Murat Uğur Surname: KİRAZ Tel Number: No info \n"
     ]
    }
   ],
   "source": [
    "get_user(\"Murat Uğur\",\"KİRAZ\")"
   ]
  },
  {
   "cell_type": "markdown",
   "id": "72e1a145",
   "metadata": {
    "lang": "en"
   },
   "source": [
    "However, in such a case, we need to give the values ​​in **order** when sending the arguments. So what do we do if we only want to value the **phone** parameter?"
   ]
  },
  {
   "cell_type": "code",
   "execution_count": 34,
   "id": "5d137267",
   "metadata": {
    "lang": "en"
   },
   "outputs": [
    {
     "name": "stdout",
     "output_type": "stream",
     "text": [
      "Name: No info  Surname: No info  Tel Number: 0 123 456 78 90\n"
     ]
    }
   ],
   "source": [
    "get_user(phone=\"0 123 456 78 90\") # We specify the number parameter specifically."
   ]
  },
  {
   "cell_type": "markdown",
   "id": "2f759fba",
   "metadata": {
    "lang": "en"
   },
   "source": [
    "For example, the print() function has the **sep** parameter. If you do not give a value to this parameter, its default value is blank."
   ]
  },
  {
   "cell_type": "code",
   "execution_count": 35,
   "id": "funny-birth",
   "metadata": {},
   "outputs": [
    {
     "name": "stdout",
     "output_type": "stream",
     "text": [
      "Murat Ugur KIRAZ\n"
     ]
    }
   ],
   "source": [
    "print(\"Murat\",\"Ugur\",\"KIRAZ\")"
   ]
  },
  {
   "cell_type": "code",
   "execution_count": 36,
   "id": "electoral-failing",
   "metadata": {},
   "outputs": [
    {
     "name": "stdout",
     "output_type": "stream",
     "text": [
      "Murat\n",
      "Ugur\n",
      "KIRAZ\n"
     ]
    }
   ],
   "source": [
    "print(\"Murat\",\"Ugur\",\"KIRAZ\",sep=\"\\n\")"
   ]
  },
  {
   "cell_type": "markdown",
   "id": "029b859f",
   "metadata": {
    "lang": "en"
   },
   "source": [
    "With the **help()** function in Python, we can see what another function is doing. If we look at the **print()** function,"
   ]
  },
  {
   "cell_type": "code",
   "execution_count": 37,
   "id": "33a7537c",
   "metadata": {
    "lang": "en"
   },
   "outputs": [
    {
     "name": "stdout",
     "output_type": "stream",
     "text": [
      "Help on built-in function print in module builtins:\n",
      "\n",
      "print(*args, sep=' ', end='\\n', file=None, flush=False)\n",
      "    Prints the values to a stream, or to sys.stdout by default.\n",
      "    \n",
      "    sep\n",
      "      string inserted between values, default a space.\n",
      "    end\n",
      "      string appended after the last value, default a newline.\n",
      "    file\n",
      "      a file-like object (stream); defaults to the current sys.stdout.\n",
      "    flush\n",
      "      whether to forcibly flush the stream.\n",
      "\n"
     ]
    }
   ],
   "source": [
    "help(print) # We can see that the default value of the sep parameter is space."
   ]
  },
  {
   "cell_type": "markdown",
   "id": "0a4e08f9",
   "metadata": {
    "lang": "en"
   },
   "source": [
    "## Defining a Function with an Arbitrary Number of Arguments"
   ]
  },
  {
   "cell_type": "markdown",
   "id": "8d316d15",
   "metadata": {
    "lang": "en"
   },
   "source": [
    "When a function is written, we need to specify how many parameters it will have in advance."
   ]
  },
  {
   "cell_type": "code",
   "execution_count": 38,
   "id": "fifteen-emerald",
   "metadata": {},
   "outputs": [],
   "source": [
    "def get_sum(a,b,c):\n",
    "    print(a + b + c)"
   ]
  },
  {
   "cell_type": "code",
   "execution_count": 39,
   "id": "federal-exposure",
   "metadata": {
    "lang": "tr"
   },
   "outputs": [
    {
     "name": "stdout",
     "output_type": "stream",
     "text": [
      "18\n"
     ]
    }
   ],
   "source": [
    "get_sum(5, 6, 7)"
   ]
  },
  {
   "cell_type": "code",
   "execution_count": 40,
   "id": "934b666b",
   "metadata": {
    "lang": "en"
   },
   "outputs": [
    {
     "ename": "TypeError",
     "evalue": "get_sum() takes 3 positional arguments but 4 were given",
     "output_type": "error",
     "traceback": [
      "\u001b[1;31m---------------------------------------------------------------------------\u001b[0m",
      "\u001b[1;31mTypeError\u001b[0m                                 Traceback (most recent call last)",
      "Cell \u001b[1;32mIn[40], line 1\u001b[0m\n\u001b[1;32m----> 1\u001b[0m get_sum(\u001b[38;5;241m3\u001b[39m, \u001b[38;5;241m4\u001b[39m, \u001b[38;5;241m5\u001b[39m, \u001b[38;5;241m6\u001b[39m)\n",
      "\u001b[1;31mTypeError\u001b[0m: get_sum() takes 3 positional arguments but 4 were given"
     ]
    }
   ],
   "source": [
    "get_sum(3, 4, 5, 6) # We cannot give 4 arguments."
   ]
  },
  {
   "cell_type": "markdown",
   "id": "e472789d",
   "metadata": {
    "lang": "en"
   },
   "source": [
    "If we want to define this function to take 4 arguments, we need to define it again."
   ]
  },
  {
   "cell_type": "code",
   "execution_count": 41,
   "id": "honey-median",
   "metadata": {},
   "outputs": [],
   "source": [
    "def get_sum(a,b,c,d):\n",
    "    print(a + b + c + d)"
   ]
  },
  {
   "cell_type": "code",
   "execution_count": 42,
   "id": "wicked-linux",
   "metadata": {},
   "outputs": [
    {
     "name": "stdout",
     "output_type": "stream",
     "text": [
      "13\n"
     ]
    }
   ],
   "source": [
    "get_sum(1,2,4,6)"
   ]
  },
  {
   "cell_type": "code",
   "execution_count": 43,
   "id": "97f2396c",
   "metadata": {
    "lang": "en"
   },
   "outputs": [
    {
     "ename": "TypeError",
     "evalue": "get_sum() missing 1 required positional argument: 'd'",
     "output_type": "error",
     "traceback": [
      "\u001b[1;31m---------------------------------------------------------------------------\u001b[0m",
      "\u001b[1;31mTypeError\u001b[0m                                 Traceback (most recent call last)",
      "Cell \u001b[1;32mIn[43], line 1\u001b[0m\n\u001b[1;32m----> 1\u001b[0m get_sum(\u001b[38;5;241m3\u001b[39m,\u001b[38;5;241m4\u001b[39m,\u001b[38;5;241m5\u001b[39m)\n",
      "\u001b[1;31mTypeError\u001b[0m: get_sum() missing 1 required positional argument: 'd'"
     ]
    }
   ],
   "source": [
    "get_sum(3,4,5) # However, we cannot give 3 arguments this time."
   ]
  },
  {
   "cell_type": "markdown",
   "id": "0628b380",
   "metadata": {
    "lang": "en"
   },
   "source": [
    "If we remember the **print()** function again, the **print()** function is actually a function defined in this way. Because we could send as many arguments as we wanted to the print function."
   ]
  },
  {
   "cell_type": "code",
   "execution_count": 44,
   "id": "hollywood-nicaragua",
   "metadata": {},
   "outputs": [
    {
     "name": "stdout",
     "output_type": "stream",
     "text": [
      "3 4 5 6 3 6 45\n"
     ]
    }
   ],
   "source": [
    "print(3, 4, 5, 6, 3, 6, 45)"
   ]
  },
  {
   "cell_type": "code",
   "execution_count": 45,
   "id": "filled-permission",
   "metadata": {},
   "outputs": [
    {
     "name": "stdout",
     "output_type": "stream",
     "text": [
      "Apple Banana\n"
     ]
    }
   ],
   "source": [
    "print(\"Apple\", \"Banana\")"
   ]
  },
  {
   "cell_type": "markdown",
   "id": "a5c33d0e",
   "metadata": {
    "lang": "en"
   },
   "source": [
    "### Any number of positional arguments:"
   ]
  },
  {
   "cell_type": "markdown",
   "id": "d2e1b200",
   "metadata": {
    "lang": "en"
   },
   "source": [
    "Defining a function that can take an arbitrary number of arguments can be done by placing **\" * \"** in front of one of the arguments."
   ]
  },
  {
   "cell_type": "code",
   "execution_count": 46,
   "id": "3ac729b3",
   "metadata": {
    "lang": "en"
   },
   "outputs": [
    {
     "name": "stdout",
     "output_type": "stream",
     "text": [
      "1\n",
      "2\n",
      "3\n"
     ]
    }
   ],
   "source": [
    "def func(*args):\n",
    "    # args will be a tuple containing all passed values\n",
    "    for i in args:\n",
    "        print(i)\n",
    "func(1, 2, 3) # Calling with 3 arguments"
   ]
  },
  {
   "cell_type": "code",
   "execution_count": 47,
   "id": "e86cb209",
   "metadata": {
    "lang": "en"
   },
   "outputs": [
    {
     "name": "stdout",
     "output_type": "stream",
     "text": [
      "1\n",
      "2\n",
      "3\n"
     ]
    }
   ],
   "source": [
    "list_of_arg_values = [1, 2, 3]\n",
    "func(*list_of_arg_values) # When named with a list of values, expands the list"
   ]
  },
  {
   "cell_type": "code",
   "execution_count": 48,
   "id": "c52f3fbe",
   "metadata": {
    "lang": "en"
   },
   "outputs": [],
   "source": [
    "func() #Calling without arguments\n",
    "# No output"
   ]
  },
  {
   "cell_type": "markdown",
   "id": "9a2bfd4f",
   "metadata": {
    "lang": "en"
   },
   "source": [
    "If we want to assign default values ​​for the arguments,\n",
    "\n",
    "func(*args=[1, 2, 3])\n",
    "\n",
    "it throws up a syntax error (it doesn't even compile)."
   ]
  },
  {
   "cell_type": "code",
   "execution_count": 49,
   "id": "pending-amber",
   "metadata": {},
   "outputs": [
    {
     "ename": "SyntaxError",
     "evalue": "var-positional argument cannot have default value (1729918137.py, line 1)",
     "output_type": "error",
     "traceback": [
      "\u001b[1;36m  Cell \u001b[1;32mIn[49], line 1\u001b[1;36m\u001b[0m\n\u001b[1;33m    def func(*args=[1, 2, 3])\u001b[0m\n\u001b[1;37m                  ^\u001b[0m\n\u001b[1;31mSyntaxError\u001b[0m\u001b[1;31m:\u001b[0m var-positional argument cannot have default value\n"
     ]
    }
   ],
   "source": [
    "def func(*args=[1, 2, 3])\n",
    "    for i in args:\n",
    "        print(i)"
   ]
  },
  {
   "cell_type": "markdown",
   "id": "9e3c18d7",
   "metadata": {
    "lang": "en"
   },
   "source": [
    "### Any number of keyword arguments"
   ]
  },
  {
   "cell_type": "markdown",
   "id": "38fa754e",
   "metadata": {
    "lang": "en"
   },
   "source": [
    "You can get an arbitrary number of arguments with a name by defining an argument preceded by two *"
   ]
  },
  {
   "cell_type": "code",
   "execution_count": 50,
   "id": "rural-olive",
   "metadata": {},
   "outputs": [],
   "source": [
    "def func(**kwargs):\n",
    "# kwargs will be a dictionary containing names as keys and values as values.\n",
    "    for name, value in kwargs.items():\n",
    "        print(name, value)"
   ]
  },
  {
   "cell_type": "code",
   "execution_count": 51,
   "id": "sublime-ferry",
   "metadata": {},
   "outputs": [
    {
     "name": "stdout",
     "output_type": "stream",
     "text": [
      "value1 1\n",
      "value2 2\n",
      "value3 3\n"
     ]
    }
   ],
   "source": [
    "func(value1=1, value2=2, value3=3) # Call with 3 arguments"
   ]
  },
  {
   "cell_type": "code",
   "execution_count": 52,
   "id": "hourly-native",
   "metadata": {},
   "outputs": [],
   "source": [
    "func() # Call without arguments\n",
    "# No output"
   ]
  },
  {
   "cell_type": "code",
   "execution_count": 53,
   "id": "aquatic-airline",
   "metadata": {},
   "outputs": [
    {
     "name": "stdout",
     "output_type": "stream",
     "text": [
      "foo 1\n",
      "bar 2\n"
     ]
    }
   ],
   "source": [
    "my_dict = {'foo': 1, 'bar': 2}\n",
    "func(**my_dict) # Calling with a dictionary"
   ]
  },
  {
   "cell_type": "markdown",
   "id": "3d300867",
   "metadata": {
    "lang": "en"
   },
   "source": [
    "You cannot provide them anonymously, for example func(1, 2, 3) will throw a TypeError."
   ]
  },
  {
   "cell_type": "code",
   "execution_count": 54,
   "id": "expired-eclipse",
   "metadata": {},
   "outputs": [
    {
     "ename": "TypeError",
     "evalue": "func() takes 0 positional arguments but 3 were given",
     "output_type": "error",
     "traceback": [
      "\u001b[1;31m---------------------------------------------------------------------------\u001b[0m",
      "\u001b[1;31mTypeError\u001b[0m                                 Traceback (most recent call last)",
      "Cell \u001b[1;32mIn[54], line 1\u001b[0m\n\u001b[1;32m----> 1\u001b[0m func(\u001b[38;5;241m1\u001b[39m, \u001b[38;5;241m2\u001b[39m, \u001b[38;5;241m3\u001b[39m)\n",
      "\u001b[1;31mTypeError\u001b[0m: func() takes 0 positional arguments but 3 were given"
     ]
    }
   ],
   "source": [
    "func(1, 2, 3)"
   ]
  },
  {
   "cell_type": "markdown",
   "id": "1f3c84cf",
   "metadata": {
    "lang": "en"
   },
   "source": [
    "kwargs is a simple native python dictionary. For example, args['value1'] will return the value of the value1 argument. Be sure to check if such an argument exists beforehand, otherwise a KeyError will be raised."
   ]
  },
  {
   "cell_type": "markdown",
   "id": "7a386c44",
   "metadata": {
    "lang": "en"
   },
   "source": [
    "### Warning"
   ]
  },
  {
   "cell_type": "raw",
   "id": "11d6674c",
   "metadata": {
    "lang": "en"
   },
   "source": [
    "You can mix these with other optional and required arguments, but the order within the definition is important.\n",
    "\n",
    "Positional/keyword arguments come first. (Required arguments).\n",
    "This is followed by arbitrary *arguments. (Optional).\n",
    "\n",
    "\n",
    "Followed by keyword-only arguments. (Is necessary).\n",
    "At the end comes the random keyword**kwargs. (Optional).\n",
    "\n",
    "        |-positional-|-optional-|--keyword-only--|-optional-|\n",
    "def func(arg1, arg2=10 ,*args, kwarg1, kwarg2=2, **kwargs):\n",
    "pass"
   ]
  },
  {
   "cell_type": "markdown",
   "id": "f8e14f5d",
   "metadata": {
    "lang": "en"
   },
   "source": [
    "### Usage of all parameters"
   ]
  },
  {
   "cell_type": "code",
   "execution_count": 55,
   "id": "e4abbc85",
   "metadata": {},
   "outputs": [],
   "source": [
    "def get_great_total(x, y, z, *args, **kwargs):\n",
    "    \n",
    "    # Here we get x, y, z arguments.\n",
    "    print(x + y + z)\n",
    "    # Here we will sum all args in a loop.\n",
    "    \n",
    "    total = 0\n",
    "    for i in args:\n",
    "        total += i\n",
    "    print(\"args total\", total) # print args total\n",
    "    \n",
    "    # Here we will sum all kwargs in a loop.\n",
    "    total_kwargs = 0\n",
    "    for v in kwargs.values():\n",
    "        total_kwargs += v\n",
    "    print(\"kwargs total\", total_kwargs) # print kwargs total"
   ]
  },
  {
   "cell_type": "code",
   "execution_count": 56,
   "id": "9b6c61a6",
   "metadata": {},
   "outputs": [
    {
     "ename": "NameError",
     "evalue": "name 'great_function' is not defined",
     "output_type": "error",
     "traceback": [
      "\u001b[1;31m---------------------------------------------------------------------------\u001b[0m",
      "\u001b[1;31mNameError\u001b[0m                                 Traceback (most recent call last)",
      "Cell \u001b[1;32mIn[56], line 1\u001b[0m\n\u001b[1;32m----> 1\u001b[0m great_function(\u001b[38;5;241m1\u001b[39m,\u001b[38;5;241m2\u001b[39m,\u001b[38;5;241m3\u001b[39m, \u001b[38;5;241m4\u001b[39m,\u001b[38;5;241m5\u001b[39m,\u001b[38;5;241m6\u001b[39m,\u001b[38;5;241m7\u001b[39m,\u001b[38;5;241m8\u001b[39m,\u001b[38;5;241m9\u001b[39m,\u001b[38;5;241m7\u001b[39m,\u001b[38;5;241m8\u001b[39m,\u001b[38;5;241m9\u001b[39m,\u001b[38;5;241m5\u001b[39m,\u001b[38;5;241m4\u001b[39m,\u001b[38;5;241m5\u001b[39m,\u001b[38;5;241m6\u001b[39m,\u001b[38;5;241m4\u001b[39m,\u001b[38;5;241m5\u001b[39m,\u001b[38;5;241m5\u001b[39m,\u001b[38;5;241m6\u001b[39m,\u001b[38;5;241m5\u001b[39m,\u001b[38;5;241m8\u001b[39m, a\u001b[38;5;241m=\u001b[39m\u001b[38;5;241m5\u001b[39m, b\u001b[38;5;241m=\u001b[39m\u001b[38;5;241m40\u001b[39m, c\u001b[38;5;241m=\u001b[39m\u001b[38;5;241m50\u001b[39m)\n",
      "\u001b[1;31mNameError\u001b[0m: name 'great_function' is not defined"
     ]
    }
   ],
   "source": [
    "great_function(1,2,3, 4,5,6,7,8,9,7,8,9,5,4,5,6,4,5,5,6,5,8, a=5, b=40, c=50)"
   ]
  }
 ],
 "metadata": {
  "kernelspec": {
   "display_name": "Python 3 (ipykernel)",
   "language": "python",
   "name": "python3"
  },
  "language_info": {
   "codemirror_mode": {
    "name": "ipython",
    "version": 3
   },
   "file_extension": ".py",
   "mimetype": "text/x-python",
   "name": "python",
   "nbconvert_exporter": "python",
   "pygments_lexer": "ipython3",
   "version": "3.11.5"
  },
  "nbTranslate": {
   "displayLangs": [
    "*"
   ],
   "hotkey": "alt-t",
   "langInMainMenu": true,
   "sourceLang": "tr",
   "targetLang": "en",
   "useGoogleTranslate": true
  }
 },
 "nbformat": 4,
 "nbformat_minor": 5
}

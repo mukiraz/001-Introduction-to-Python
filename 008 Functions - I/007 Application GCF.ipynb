{
 "cells": [
  {
   "cell_type": "markdown",
   "id": "desperate-boating",
   "metadata": {},
   "source": [
    "# GCF Greatest Common Factor"
   ]
  },
  {
   "cell_type": "markdown",
   "id": "4e6ae844",
   "metadata": {
    "lang": "en"
   },
   "source": [
    "Let's write a function that takes 2 numbers from the user and returns the greatest common divisor (GDF) of these numbers."
   ]
  },
  {
   "cell_type": "code",
   "execution_count": 2,
   "id": "historical-nirvana",
   "metadata": {},
   "outputs": [
    {
     "name": "stdout",
     "output_type": "stream",
     "text": [
      "\n",
      "***********************************************\n",
      "This program finds the greatest common divisor \n",
      "(GDF) of two numbers entered by the user.\n",
      "***********************************************\n",
      "\n",
      "Number-1:10\n",
      "Number-2:20\n",
      "The numbers 10 and 20 are prime to each other\n"
     ]
    }
   ],
   "source": [
    "print(\"\"\"\n",
    "***********************************************\n",
    "This program finds the greatest common divisor \n",
    "(GDF) of two numbers entered by the user.\n",
    "***********************************************\n",
    "\"\"\", flush = True)\n",
    "\n",
    "\n",
    "def find_gcf(number1, number2):\n",
    "    i = 1\n",
    "    gcf = 1\n",
    "    while i <= number1 and i <= number2:\n",
    "        \n",
    "        if (not number1 % i) and (not number2 % i):\n",
    "            ebob = i        \n",
    "        i += 1\n",
    "    return gcf\n",
    "\n",
    "number1 = int(input(\"Number-1:\"))\n",
    "number2 = int(input(\"Number-2:\"))\n",
    "\n",
    "gcf = find_gcf(number1,number2)\n",
    "\n",
    "if gcf == 1:\n",
    "    print(\"The numbers {0} and {1} are prime to each other\".format(number1, number2))\n",
    "else:\n",
    "    print(\"The greatest common factor of the numbers {0} and {1} is calculated as {3}\".format(number1, number2, ebob))"
   ]
  }
 ],
 "metadata": {
  "kernelspec": {
   "display_name": "Python 3 (ipykernel)",
   "language": "python",
   "name": "python3"
  },
  "language_info": {
   "codemirror_mode": {
    "name": "ipython",
    "version": 3
   },
   "file_extension": ".py",
   "mimetype": "text/x-python",
   "name": "python",
   "nbconvert_exporter": "python",
   "pygments_lexer": "ipython3",
   "version": "3.11.5"
  },
  "nbTranslate": {
   "displayLangs": [
    "*"
   ],
   "hotkey": "alt-t",
   "langInMainMenu": true,
   "sourceLang": "tr",
   "targetLang": "en",
   "useGoogleTranslate": true
  }
 },
 "nbformat": 4,
 "nbformat_minor": 5
}

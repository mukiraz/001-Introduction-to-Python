{
 "cells": [
  {
   "cell_type": "markdown",
   "id": "2a8f0f99",
   "metadata": {},
   "source": [
    "# Egzersizler\n",
    "\n",
    "## Egzersiz 1\n",
    "\n",
    "Göreviniz, bir argüman (bir yıl) alan ve eğer yıl artık yıl ise True, aksi halde False değerini döndüren bir fonksiyon yazmak ve test etmektir.\n",
    "\n",
    "Aşağıdaki kod bloğunu kullanınız. Fonksiyonunuzu test etmek için kullanabileceğiniz kısa bir test kodu, kod bloğunda hazırlanmıştır.\n",
    "\n",
    "Kod, biri test verilerini, diğeri beklenen sonuçları içeren iki liste kullanır. Kod, sonuçlarınızdan herhangi birinin geçersiz olup olmadığını size söyleyecektir."
   ]
  },
  {
   "cell_type": "code",
   "execution_count": null,
   "id": "874332ca",
   "metadata": {},
   "outputs": [],
   "source": [
    "def is_year_leap(year):\n",
    "#\n",
    "# Kodunuzu buraya yazınız.\n",
    "#\n",
    "\n",
    "test_data = [1900, 2000, 2016, 1987]\n",
    "test_results = [False, True, True, False]\n",
    "for i in range(len(test_data)):\n",
    "    yr = test_data[i]\n",
    "    print(yr,\"->\",end=\"\")\n",
    "    result = is_year_leap(yr)\n",
    "    if result == test_results[i]:\n",
    "        print(\"OK\")\n",
    "    else:\n",
    "        print(\"Kodunuz yanlış!\")\n"
   ]
  },
  {
   "cell_type": "markdown",
   "id": "8b5cc3c5",
   "metadata": {},
   "source": [
    "## Egzersiz 2\n",
    "\n",
    "Göreviniz, iki argüman (bir yıl ve bir ay) alan ve verilen ay/yıl çifti için gün sayısını döndüren bir fonksiyon yazmak ve test etmektir (yalnızca Şubat, yıl değerine duyarlı olsa da, fonksiyonunuz evrensel olmalıdır) .\n",
    "\n",
    "\n",
    "Bir önceki egzersizi kullanabilirsiniz. Ay uzunluklarıyla dolu bir liste kullanmanızı öneririz. Bunu fonksiyonun içinde oluşturabilirsiniz - bu numara kodu önemli ölçüde kısaltacaktır.\n",
    "\n",
    "Kod, biri test verilerini, diğeri beklenen sonuçları içeren iki liste kullanır. Kod, sonuçlarınızdan herhangi birinin geçersiz olup olmadığını size söyleyecektir."
   ]
  },
  {
   "cell_type": "code",
   "execution_count": null,
   "id": "f91890ff",
   "metadata": {},
   "outputs": [],
   "source": [
    "def is_year_leap(year):\n",
    "#\n",
    "# Kodunuzu buraya yazınız.\n",
    "#\n",
    "\n",
    "def days_in_month(year, month):\n",
    "#\n",
    "# Kodunuzu buraya yazınız.\n",
    "#\n",
    "\n",
    "test_years = [1900, 2000, 2016, 1987]\n",
    "test_months = [2, 2, 1, 11]\n",
    "test_results = [28, 29, 31, 30]\n",
    "for i in range(len(test_years)):\n",
    "    yr = test_years[i]\n",
    "    mo = test_months[i]\n",
    "    print(yr, mo, \"->\", end=\"\")\n",
    "    result = days_in_month(yr, mo)\n",
    "    if result == test_results[i]:\n",
    "        print(\"OK\")\n",
    "    else:\n",
    "        print(\"Failed\")"
   ]
  },
  {
   "cell_type": "markdown",
   "id": "dd99704b",
   "metadata": {},
   "source": [
    "## Egzersiz 3\n",
    "\n",
    "Göreviniz, üç argüman (bir yıl, bir ay ve ayın bir günü) alan ve yılın ilgili gününü döndüren veya argümanlardan herhangi biri geçersizse Yok değerini döndüren bir fonksiyon yazmak ve test etmektir.\n",
    "\n",
    "Daha önce yazılmış ve test edilmiş fonksiyonları kullanın. Koda bazı test senaryoları ekleyin. Bu test sadece bir başlangıçtır."
   ]
  },
  {
   "cell_type": "code",
   "execution_count": null,
   "id": "ae0c6daf",
   "metadata": {},
   "outputs": [],
   "source": [
    "def is_year_leap(year):\n",
    "#\n",
    "# Kodunuzu buraya yazınız.\n",
    "#\n",
    "\n",
    "def days_in_month(year, month):\n",
    "#\n",
    "# Kodunuzu buraya yazınız.\n",
    "#\n",
    "\n",
    "def day_of_year(year, month, day):\n",
    "#\n",
    "# Kodunuzu buraya yazınız.\n",
    "#\n",
    "\n",
    "print(day_of_year(2000, 12, 31))"
   ]
  },
  {
   "cell_type": "markdown",
   "id": "641dd93e",
   "metadata": {},
   "source": [
    "## Egzersiz 4\n",
    "\n",
    "Bir doğal sayı, 1'den büyükse ve 1'den ve kendisinden başka böleni yoksa asaldır.\n",
    "\n",
    "Örneğin 8 asal sayı değildir, çünkü onu 2 ve 4'e bölebilirsiniz (tanım bunu yasakladığı için 1 ve 8'e eşit bölenleri kullanamayız).\n",
    "\n",
    "Öte yandan 7 asal bir sayıdır, çünkü onun için herhangi bir bölen bulamıyoruz.\n",
    "\n",
    "\n",
    "Göreviniz bir sayının asal olup olmadığını kontrol eden bir fonksiyon yazmaktır.\n",
    "\n",
    "Fonksiyon:\n",
    "\n",
    "* is_prime;\n",
    "* bir argüman alır (kontrol edilecek değer)\n",
    "* Bağımsız değişken bir asal sayı ise Doğru, aksi halde Yanlış değerini döndürür.\n",
    "İpucu: argümanı sonraki tüm değerlere (2'den başlayarak) bölmeye çalışın ve kalanı kontrol edin; eğer sıfırsa, sayınız asal olamaz; Süreci ne zaman durdurmanız gerektiğini dikkatlice düşünün.\n",
    "\n",
    "\n",
    "Aşağıdaki kod bloğunu kullanın.\n",
    "\n",
    "Kodunuzu çalıştırın ve çıktınızın beklenen çıktı ile aynı olup olmadığını kontrol edin.\n",
    "\n",
    "Beklenen çıktı"
   ]
  },
  {
   "cell_type": "raw",
   "id": "b31c3df1",
   "metadata": {},
   "source": [
    "2 3 5 7 11 13 17 19"
   ]
  },
  {
   "cell_type": "code",
   "execution_count": null,
   "id": "2344135b",
   "metadata": {},
   "outputs": [],
   "source": [
    "def is_prime(num):\n",
    "#\n",
    "# Kodunuzu buraya yazınız.\n",
    "#\n",
    "\n",
    "for i in range(1, 20):\n",
    "    if is_prime(i + 1):\n",
    "        print(i + 1, end=\" \")\n",
    "print()\n"
   ]
  },
  {
   "cell_type": "markdown",
   "id": "3dfb98c2",
   "metadata": {},
   "source": [
    "## Egzersiz 5\n",
    "\n",
    "Bir otomobilin yakıt tüketimi birçok farklı şekilde ifade edilebilir. Örneğin Avrupa'da 100 kilometrede tüketilen yakıt miktarı olarak gösteriliyor.\n",
    "\n",
    "ABD'de bir arabanın bir galon yakıt kullanarak kat ettiği mil sayısı olarak gösterilir.\n",
    "\n",
    "Göreviniz l/100km'yi mpg'ye (mile per gallon) veya tam tersini dönüştüren bir çift fonksiyon yazmaktır.\n",
    "\n",
    "Fonksiyonlar:\n",
    "* liters_100km_to_miles_gallon\n",
    "* miles_gallon_to_liters_100km\n",
    "\n",
    "Bu fonksiyonlar bir argüman alır.\n",
    "Aşağıdaki kodu tamamlayın.\n",
    "\n",
    "Kodunuzu çalıştırın ve çıktınızın beklenen çıktı ile aynı olup olmadığını kontrol edin.\n",
    "\n",
    "İşte size yardımcı olacak bazı bilgiler:\n",
    "\n",
    "1 Amerikan mili = 1609,344 metre;\n",
    "1 Amerikan galonu = 3,785411784 litre.\n",
    "\n",
    "Beklenen çıktı"
   ]
  },
  {
   "cell_type": "raw",
   "id": "4ffe39c0",
   "metadata": {},
   "source": [
    "60.31143162393162\n",
    "31.36194444444444\n",
    "23.52145833333333\n",
    "3.9007393587617467\n",
    "7.490910297239916\n",
    "10.009131205673757"
   ]
  },
  {
   "cell_type": "code",
   "execution_count": null,
   "id": "8be641d0",
   "metadata": {},
   "outputs": [],
   "source": [
    "def liters_100km_to_miles_gallon(liters):\n",
    "#\n",
    "# Kodunuzu buraya yazınız.\n",
    "#\n",
    "\n",
    "def miles_gallon_to_liters_100km(miles):\n",
    "#\n",
    "# Kodunuzu buraya yazınız.\n",
    "#\n",
    "\n",
    "print(liters_100km_to_miles_gallon(3.9))\n",
    "print(liters_100km_to_miles_gallon(7.5))\n",
    "print(liters_100km_to_miles_gallon(10.))\n",
    "print(miles_gallon_to_liters_100km(60.3))\n",
    "print(miles_gallon_to_liters_100km(31.4))\n",
    "print(miles_gallon_to_liters_100km(23.5))"
   ]
  }
 ],
 "metadata": {
  "kernelspec": {
   "display_name": "Python 3 (ipykernel)",
   "language": "python",
   "name": "python3"
  },
  "language_info": {
   "codemirror_mode": {
    "name": "ipython",
    "version": 3
   },
   "file_extension": ".py",
   "mimetype": "text/x-python",
   "name": "python",
   "nbconvert_exporter": "python",
   "pygments_lexer": "ipython3",
   "version": "3.11.5"
  },
  "nbTranslate": {
   "displayLangs": [
    "en",
    "tr"
   ],
   "hotkey": "alt-t",
   "langInMainMenu": true,
   "sourceLang": "tr",
   "targetLang": "en",
   "useGoogleTranslate": true
  }
 },
 "nbformat": 4,
 "nbformat_minor": 5
}

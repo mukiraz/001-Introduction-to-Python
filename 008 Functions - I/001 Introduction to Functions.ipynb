{
 "cells": [
  {
   "cell_type": "markdown",
   "id": "6b094536",
   "metadata": {
    "lang": "en"
   },
   "source": [
    "# Introduction to Functions"
   ]
  },
  {
   "cell_type": "markdown",
   "id": "ba6a4828",
   "metadata": {
    "lang": "en"
   },
   "source": [
    "Functions in Python; They are structures that enable writing reusable and modular code that is organized to perform a certain set of actions. Functions; It simplifies the coding process, avoids unnecessary chunks of code, and makes the code easier to follow.\n",
    "\n",
    "Functions are actually a \"mathematics\" subject. An expression like f(x)=x<sup>2</sup> undefined is a function. The f(x) value produces a value depending on the x variable. In fact, we can compare functions to machines. Sometimes we give the machine a value(s) or put raw materials into it, and it produces a product for us. For example, like a coffee machine. After putting the ground dry coffee into its chamber, it processes it and offers us filter coffee in a glass with steam still on it. Likewise, when we enter a value instead of x in the f(x)=x<sup>2</sup> function, it multiplies this value by itself and gives us a result. When we enter 0 instead of x, we get 0, when we enter 1, we get 1, when we enter 2, we get 4, when we enter 3, we get 9....\n",
    "\n",
    "The function logic is the same in Python. Python has many built-in functions such as print(), input(), len(). Besides the built-ins, we can also create our own functions to do more specialized work. These are called user-defined functions.\n",
    "\n",
    "For example, the print() function allowed us to print values to the screen.\n",
    "The int(x) function converted an x value to an integer, etc."
   ]
  },
  {
   "cell_type": "markdown",
   "id": "5adffd97",
   "metadata": {
    "lang": "en"
   },
   "source": [
    "## Defining and Calling Simple Functions\n",
    "\n",
    "Using the **def** expression is the most common way to define a function in Python. This expression is a pseudo-single-sentence compound expression with the following syntax:"
   ]
  },
  {
   "cell_type": "raw",
   "id": "tough-donna",
   "metadata": {},
   "source": [
    "def func_name(parameters):\n",
    "    terms(s)"
   ]
  },
  {
   "cell_type": "markdown",
   "id": "a451ea8e",
   "metadata": {
    "lang": "en"
   },
   "source": [
    "**func_name** is known as the identifier of the function. Since a function definition is an executable statement, executing it binds the function name to the function object, which can then be called using the identifier.\n",
    "\n",
    "Parameters are an optional list of identifiers that are bound to the values ​​provided as arguments when the function is called. A function can have an arbitrary number of arguments separated by commas.\n",
    "Statements (terms) are also known as function bodies. It is a non-empty array of statements that are executed each time the function is called. This means that the body of a function, like any indented block, cannot be empty.\n",
    "\n",
    "Here is an example of a simple function definition whose purpose is to print Hello every time it is called:"
   ]
  },
  {
   "cell_type": "code",
   "execution_count": 2,
   "id": "acoustic-statistics",
   "metadata": {},
   "outputs": [],
   "source": [
    "def say_hello():\n",
    "    print(\"Hello\")"
   ]
  },
  {
   "cell_type": "markdown",
   "id": "bb338212",
   "metadata": {
    "lang": "en"
   },
   "source": [
    "Now let's call the function we created."
   ]
  },
  {
   "cell_type": "code",
   "execution_count": 3,
   "id": "mobile-nightmare",
   "metadata": {},
   "outputs": [
    {
     "name": "stdout",
     "output_type": "stream",
     "text": [
      "Hello\n"
     ]
    }
   ],
   "source": [
    "say_hello()"
   ]
  },
  {
   "cell_type": "code",
   "execution_count": 4,
   "id": "e1a208a2",
   "metadata": {
    "lang": "en"
   },
   "outputs": [
    {
     "data": {
      "text/plain": [
       "function"
      ]
     },
     "execution_count": 4,
     "metadata": {},
     "output_type": "execute_result"
    }
   ],
   "source": [
    "type(say_hello) # Let's find out the type of the function named \"Say_Hello\" we created."
   ]
  },
  {
   "cell_type": "markdown",
   "id": "5b608c61",
   "metadata": {
    "lang": "en"
   },
   "source": [
    "### Parameters and Arguments"
   ]
  },
  {
   "cell_type": "markdown",
   "id": "996ebb10",
   "metadata": {
    "lang": "en"
   },
   "source": [
    "As you know, we were not sending any value into the *say_hello()* function and our function always did the same job. However, most of the time, our functions perform different operations with the values ​​we send into them."
   ]
  },
  {
   "cell_type": "markdown",
   "id": "4ffcb56f",
   "metadata": {
    "lang": "en"
   },
   "source": [
    "The following is another example of a function definition that takes a single argument and displays the value passed each time the function is called:"
   ]
  },
  {
   "cell_type": "code",
   "execution_count": 5,
   "id": "about-language",
   "metadata": {},
   "outputs": [],
   "source": [
    "def say_hello_2(name):\n",
    "    print(\"Hello\",name,\"How are you?\")"
   ]
  },
  {
   "cell_type": "markdown",
   "id": "ed3f2ddb",
   "metadata": {
    "lang": "en"
   },
   "source": [
    "The say_hello_2() function must now be called with one argument:"
   ]
  },
  {
   "cell_type": "code",
   "execution_count": 6,
   "id": "lasting-shaft",
   "metadata": {
    "lang": "tr"
   },
   "outputs": [
    {
     "name": "stdout",
     "output_type": "stream",
     "text": [
      "Hello Murat How are you?\n"
     ]
    }
   ],
   "source": [
    "say_hello_2(\"Murat\")"
   ]
  },
  {
   "cell_type": "markdown",
   "id": "d6e5ecc4",
   "metadata": {
    "lang": "en"
   },
   "source": [
    "Each variable we define when defining a *function* is a **Parameter**, and the values ​​we send into it when we make a *function call* are **Argument**. Here, the \"Murat\" value we send when calling the function is equal to the parameter named **\"name\"** and our function operates according to this value. When we send the value \"Ayşe\", our function takes action according to this value and prints a different value on the screen."
   ]
  },
  {
   "cell_type": "code",
   "execution_count": 7,
   "id": "possible-grant",
   "metadata": {},
   "outputs": [],
   "source": [
    "def say_hello_3(name=\"Murat\"):\n",
    "    print(\"Hello\",name,\"how are you?\")"
   ]
  },
  {
   "cell_type": "code",
   "execution_count": 8,
   "id": "royal-reader",
   "metadata": {},
   "outputs": [
    {
     "name": "stdout",
     "output_type": "stream",
     "text": [
      "Hello Cristian how are you?\n"
     ]
    }
   ],
   "source": [
    "say_hello_3(\"Cristian\")"
   ]
  },
  {
   "cell_type": "code",
   "execution_count": 9,
   "id": "vanilla-thesis",
   "metadata": {
    "lang": "tr"
   },
   "outputs": [
    {
     "name": "stdout",
     "output_type": "stream",
     "text": [
      "Hello Murat how are you?\n"
     ]
    }
   ],
   "source": [
    "say_hello_3() # There is no argument"
   ]
  },
  {
   "cell_type": "markdown",
   "id": "3e31fb14",
   "metadata": {
    "lang": "en"
   },
   "source": [
    "### Return Value\n",
    "\n",
    "Python functions can return values ​​of any type via the **return** keyword. A function can return any number of different types!\n",
    "\n",
    "Also, unlike many other languages, in Python you do not need to explicitly specify the return type of the function."
   ]
  },
  {
   "cell_type": "code",
   "execution_count": 10,
   "id": "great-welding",
   "metadata": {},
   "outputs": [],
   "source": [
    "def any_type(x):\n",
    "    if x < 0:\n",
    "        return \"Hello!\"\n",
    "    else:\n",
    "        return 0"
   ]
  },
  {
   "cell_type": "code",
   "execution_count": 11,
   "id": "sealed-airfare",
   "metadata": {},
   "outputs": [
    {
     "data": {
      "text/plain": [
       "str"
      ]
     },
     "execution_count": 11,
     "metadata": {},
     "output_type": "execute_result"
    }
   ],
   "source": [
    "type(any_type(-1))"
   ]
  },
  {
   "cell_type": "code",
   "execution_count": 12,
   "id": "micro-limitation",
   "metadata": {},
   "outputs": [
    {
     "data": {
      "text/plain": [
       "int"
      ]
     },
     "execution_count": 12,
     "metadata": {},
     "output_type": "execute_result"
    }
   ],
   "source": [
    "type(any_type(3))"
   ]
  },
  {
   "cell_type": "markdown",
   "id": "998d3987",
   "metadata": {
    "lang": "en"
   },
   "source": [
    "The code below is perfectly valid Python code as long as it is handled correctly by the caller.\n",
    "\n",
    "A function that reaches the end of execution always returns **None** unless there is a return statement within the function:"
   ]
  },
  {
   "cell_type": "code",
   "execution_count": 13,
   "id": "northern-friday",
   "metadata": {},
   "outputs": [
    {
     "name": "stdout",
     "output_type": "stream",
     "text": [
      "None\n"
     ]
    }
   ],
   "source": [
    "def do_not_anything():\n",
    "    pass\n",
    "\n",
    "print(do_not_anything())"
   ]
  },
  {
   "cell_type": "markdown",
   "id": "c652180e",
   "metadata": {
    "lang": "en"
   },
   "source": [
    "As mentioned before, a function definition must have a function body, a non-empty array of expressions.\n",
    "Therefore, it is used as a non-action function body with the **pass** clause. When it runs, nothing happens. Python does what it means and skips. It is useful as a placeholder when an expression is syntactically required, but the code does not need to be executed."
   ]
  }
 ],
 "metadata": {
  "kernelspec": {
   "display_name": "Python 3 (ipykernel)",
   "language": "python",
   "name": "python3"
  },
  "language_info": {
   "codemirror_mode": {
    "name": "ipython",
    "version": 3
   },
   "file_extension": ".py",
   "mimetype": "text/x-python",
   "name": "python",
   "nbconvert_exporter": "python",
   "pygments_lexer": "ipython3",
   "version": "3.11.5"
  },
  "nbTranslate": {
   "displayLangs": [
    "*"
   ],
   "hotkey": "alt-t",
   "langInMainMenu": true,
   "sourceLang": "tr",
   "targetLang": "en",
   "useGoogleTranslate": true
  }
 },
 "nbformat": 4,
 "nbformat_minor": 5
}

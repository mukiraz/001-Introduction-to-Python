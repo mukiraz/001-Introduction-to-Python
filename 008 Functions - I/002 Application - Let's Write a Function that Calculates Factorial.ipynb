{
 "cells": [
  {
   "cell_type": "markdown",
   "id": "d2bd6ca0",
   "metadata": {
    "lang": "en"
   },
   "source": [
    "# Factorial Function"
   ]
  },
  {
   "cell_type": "markdown",
   "id": "d2a249f3",
   "metadata": {
    "lang": "en"
   },
   "source": [
    "Let's create a function and this function takes a single parameter. When we send an integer as an argument, it calculates the factorial of this number and prints it on the screen."
   ]
  },
  {
   "cell_type": "code",
   "execution_count": 1,
   "id": "2abd2fa8",
   "metadata": {
    "lang": "en"
   },
   "outputs": [],
   "source": [
    "# factorial function consists of a single parameter. If the argument is 0 or 1, the result is 1. for integers greater than 1\n",
    "# we multiply each value we create by subtracting 1 from this number.\n",
    "# If our number is \"5\", the factorial will be 5 x 4 x 3 x 2 x 1 = 120\n",
    "def factorial(number):\n",
    "    result = 1\n",
    "    if (number == 0 or number == 1):\n",
    "        print(\"The factorial of {} is {}\".format(number,result))\n",
    "    else:\n",
    "        while (number >= 1):\n",
    "            result *= number\n",
    "            number -= 1\n",
    "        print(\"The factorial of {} is {}\".format(number,result))"
   ]
  },
  {
   "cell_type": "code",
   "execution_count": 2,
   "id": "spare-belfast",
   "metadata": {},
   "outputs": [
    {
     "name": "stdout",
     "output_type": "stream",
     "text": [
      "The factorial of 0 is 1\n"
     ]
    }
   ],
   "source": [
    "factorial(0)"
   ]
  },
  {
   "cell_type": "code",
   "execution_count": 3,
   "id": "fabulous-tribune",
   "metadata": {},
   "outputs": [
    {
     "name": "stdout",
     "output_type": "stream",
     "text": [
      "The factorial of 0 is 120\n"
     ]
    }
   ],
   "source": [
    "factorial(5)"
   ]
  }
 ],
 "metadata": {
  "kernelspec": {
   "display_name": "Python 3 (ipykernel)",
   "language": "python",
   "name": "python3"
  },
  "language_info": {
   "codemirror_mode": {
    "name": "ipython",
    "version": 3
   },
   "file_extension": ".py",
   "mimetype": "text/x-python",
   "name": "python",
   "nbconvert_exporter": "python",
   "pygments_lexer": "ipython3",
   "version": "3.11.5"
  },
  "nbTranslate": {
   "displayLangs": [
    "*"
   ],
   "hotkey": "alt-t",
   "langInMainMenu": true,
   "sourceLang": "tr",
   "targetLang": "en",
   "useGoogleTranslate": true
  }
 },
 "nbformat": 4,
 "nbformat_minor": 5
}

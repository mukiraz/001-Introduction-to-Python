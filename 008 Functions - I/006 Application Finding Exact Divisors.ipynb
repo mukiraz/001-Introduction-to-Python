{
 "cells": [
  {
   "cell_type": "code",
   "execution_count": 1,
   "id": "lonely-universal",
   "metadata": {},
   "outputs": [
    {
     "name": "stdout",
     "output_type": "stream",
     "text": [
      "\n",
      "*************************************************** ************************************************\n",
      "This program prints the exact divisors entered by the user.\n",
      "*************************************************** ************************************************\n",
      "\n",
      "Sayı:100\n",
      "Exact divisors: [2, 4, 5, 10, 20, 25, 50]\n",
      "Sayı:q\n",
      "Program ended.\n"
     ]
    }
   ],
   "source": [
    "import time\n",
    "print(\"\"\"\n",
    "*************************************************** ************************************************\n",
    "This program prints the exact divisors entered by the user.\n",
    "*************************************************** ************************************************\n",
    "\"\"\")\n",
    "\n",
    "time.sleep(0.2)\n",
    "\n",
    "def find_extract_divisor(number):\n",
    "    extract_divisor = []\n",
    "\n",
    "    for i in range(2,number):\n",
    "\n",
    "        if (number % i == 0):\n",
    "            extract_divisor.append(i)\n",
    "    return extract_divisor\n",
    "\n",
    "while True:\n",
    "\n",
    "    number = input(\"Sayı:\")\n",
    "\n",
    "    if (number == \"q\"):\n",
    "        print(\"Program ended.\")\n",
    "        break\n",
    "    else:\n",
    "        number = int(number)\n",
    "        \n",
    "        \n",
    "        if not find_extract_divisor(number):\n",
    "            print(number,\"is a prime number.\")\n",
    "        else:\n",
    "            print(\"Exact divisors:\",find_extract_divisor(number))"
   ]
  },
  {
   "cell_type": "code",
   "execution_count": null,
   "id": "champion-engineering",
   "metadata": {},
   "outputs": [],
   "source": []
  }
 ],
 "metadata": {
  "kernelspec": {
   "display_name": "Python 3 (ipykernel)",
   "language": "python",
   "name": "python3"
  },
  "language_info": {
   "codemirror_mode": {
    "name": "ipython",
    "version": 3
   },
   "file_extension": ".py",
   "mimetype": "text/x-python",
   "name": "python",
   "nbconvert_exporter": "python",
   "pygments_lexer": "ipython3",
   "version": "3.11.5"
  },
  "nbTranslate": {
   "displayLangs": [
    "*"
   ],
   "hotkey": "alt-t",
   "langInMainMenu": true,
   "sourceLang": "en",
   "targetLang": "fr",
   "useGoogleTranslate": true
  }
 },
 "nbformat": 4,
 "nbformat_minor": 5
}

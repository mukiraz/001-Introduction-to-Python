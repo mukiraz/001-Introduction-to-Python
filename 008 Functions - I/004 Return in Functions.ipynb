{
 "cells": [
  {
   "cell_type": "markdown",
   "id": "three-ordinance",
   "metadata": {},
   "source": [
    "# Fonksiyonlarda Return"
   ]
  },
  {
   "cell_type": "markdown",
   "id": "precious-static",
   "metadata": {},
   "source": [
    "Bu bölümde fonksiyonlardan değer döndürmemizi sağlayan **return** ifadesini göreceğiz. Önceki bölümde yazdığımız fonksiyonları hatırlayacak olursak, fonksiyonlarla sadece ekrana **print** ile değer yazdırıyorduk. Fonksiyonlardan yaptığı işlemler sonrasında bize herhangi bir değer vermesini istemiyordul. Ancak biz programlarımızda bir fonksiyon sonucunda elde edilen değerleri alıp programlarımızın bambaşka yerlerinde kullanmak isteyebiliriz.\n",
    "\n",
    "**return** ifadesi fonksiyonun işlemi bittikten sonra **çağrıldığı yere** değer döndürmesi anlamını taşır. Böylelikle, fonksiyonda aldığımız değeri bir değişkende depolayabilir ve değeri programın başka yerlerinde kullanabiliriz. Şimdi iki tane çok basit fonksiyon yazalım ve **return** neden gereklidir anlamaya çalışalım."
   ]
  },
  {
   "cell_type": "code",
   "execution_count": 12,
   "id": "increased-reset",
   "metadata": {},
   "outputs": [],
   "source": [
    "def get_sum(a, b, c): # Birinci fonksiyon\n",
    "    print(\"Toplamları\",a + b + c)\n",
    "\n",
    "def mutiply_by_2(a): # İkinci fonksiyon\n",
    "    print(\"2 ile çarpılmış hali \", a * 2)"
   ]
  },
  {
   "cell_type": "code",
   "execution_count": 11,
   "id": "moving-grain",
   "metadata": {},
   "outputs": [
    {
     "name": "stdout",
     "output_type": "stream",
     "text": [
      "2 ile çarpılmış hali  24\n"
     ]
    }
   ],
   "source": [
    "sum_value = get_sum(3,4,5) # 3 sayının toplamını aldık.\n",
    "\n",
    "mutiply_by_2(sum_value)"
   ]
  },
  {
   "cell_type": "markdown",
   "id": "heard-huntington",
   "metadata": {},
   "source": [
    "Burada hata almamızın sebebi fonksiyonları herhangi bir değer döndürmemesi yani **return** kullanmamasıdır. İsterseniz **sum_value** değişkeninin tipine bakalım."
   ]
  },
  {
   "cell_type": "code",
   "execution_count": 9,
   "id": "driving-vinyl",
   "metadata": {},
   "outputs": [
    {
     "data": {
      "text/plain": [
       "NoneType"
      ]
     },
     "execution_count": 9,
     "metadata": {},
     "output_type": "execute_result"
    }
   ],
   "source": [
    "type(sum_value) "
   ]
  },
  {
   "cell_type": "markdown",
   "id": "textile-madagascar",
   "metadata": {},
   "source": [
    "Burada **get_sum()** fonksiyonundan herhangi bir değer döndürülmediği için **sum_value**  değişkenimiz hiçbir değere sahip olmadı ve tipi **NoneType**(atanmamış) olmuş oldu."
   ]
  },
  {
   "cell_type": "code",
   "execution_count": 13,
   "id": "inappropriate-textbook",
   "metadata": {},
   "outputs": [],
   "source": [
    "def get_sum(a,b,c):\n",
    "    return a + b + c # return'un kullanımı \n",
    "def mutiply_by_2(a):\n",
    "    return a * 2"
   ]
  },
  {
   "cell_type": "code",
   "execution_count": 14,
   "id": "handy-concrete",
   "metadata": {},
   "outputs": [
    {
     "name": "stdout",
     "output_type": "stream",
     "text": [
      "24\n"
     ]
    }
   ],
   "source": [
    "sum_value = get_sum(3,4,5)\n",
    "print(mutiply_by_2(sum_value))"
   ]
  },
  {
   "cell_type": "markdown",
   "id": "innovative-airline",
   "metadata": {},
   "source": [
    "**return** yardımıyla fonksiyonlar değerleri çağrıldığı yere döndürebilir ve biz de bu değerler istenilen yerde kullanılabilir."
   ]
  },
  {
   "cell_type": "code",
   "execution_count": 16,
   "id": "progressive-status",
   "metadata": {},
   "outputs": [],
   "source": [
    "def mutiply_by_3(a):\n",
    "    print(\"1.fonksiyon çalıştı\")\n",
    "    return a * 3"
   ]
  },
  {
   "cell_type": "code",
   "execution_count": 17,
   "id": "minute-unemployment",
   "metadata": {},
   "outputs": [],
   "source": [
    "def add_2(a):\n",
    "    print(\"2.fonksiyon çalıştı\")\n",
    "    return a + 2"
   ]
  },
  {
   "cell_type": "code",
   "execution_count": 18,
   "id": "polyphonic-compilation",
   "metadata": {},
   "outputs": [],
   "source": [
    "def divide_by_4(a):\n",
    "    print(\"3.fonksiyon çalıştı\")\n",
    "    return a / 4"
   ]
  },
  {
   "cell_type": "code",
   "execution_count": 19,
   "id": "large-shopping",
   "metadata": {},
   "outputs": [
    {
     "name": "stdout",
     "output_type": "stream",
     "text": [
      "1.fonksiyon çalıştı\n",
      "2.fonksiyon çalıştı\n",
      "3.fonksiyon çalıştı\n",
      "4.25\n"
     ]
    }
   ],
   "source": [
    "# 3 ünü beraber kullanalım.\n",
    "\n",
    "print(divide_by_4(add_2(mutiply_by_3(5))))"
   ]
  },
  {
   "cell_type": "markdown",
   "id": "grave-edward",
   "metadata": {},
   "source": [
    "**return** ifadesinden sonra fonksiyonumuz tamamıyla sona erer. Yani, **return** ifadesinden sonra yapılan herhangi bir işlem çalıştırılmaz."
   ]
  },
  {
   "cell_type": "code",
   "execution_count": 20,
   "id": "julian-antigua",
   "metadata": {},
   "outputs": [],
   "source": [
    "def get_sum(a, b, c):\n",
    "    return a + b + c\n",
    "    print(\"Toplama fonksiyonu\") #çalıştırılmaz"
   ]
  },
  {
   "cell_type": "code",
   "execution_count": 21,
   "id": "stretch-diabetes",
   "metadata": {},
   "outputs": [
    {
     "name": "stdout",
     "output_type": "stream",
     "text": [
      "6\n"
     ]
    }
   ],
   "source": [
    "print(get_sum(1,2,3))"
   ]
  },
  {
   "cell_type": "code",
   "execution_count": 22,
   "id": "outside-taiwan",
   "metadata": {},
   "outputs": [],
   "source": [
    "def get_sum(a, b, c):\n",
    "    print(\"Toplama fonksiyonu\") # Çalıştırıldı.\n",
    "    return a + b + c"
   ]
  },
  {
   "cell_type": "code",
   "execution_count": 23,
   "id": "pressed-pacific",
   "metadata": {},
   "outputs": [
    {
     "name": "stdout",
     "output_type": "stream",
     "text": [
      "Toplama fonksiyonu\n"
     ]
    },
    {
     "data": {
      "text/plain": [
       "6"
      ]
     },
     "execution_count": 23,
     "metadata": {},
     "output_type": "execute_result"
    }
   ],
   "source": [
    "get_sum(1, 2, 3)"
   ]
  },
  {
   "cell_type": "markdown",
   "id": "wrapped-listing",
   "metadata": {},
   "source": [
    "Fonksiyonlarda çağrıldığı yere herhangi bir değer döndürmeyen (**return kullanılmayan**) fonksiyonlara **void** fonksiyonlar denmektedir."
   ]
  }
 ],
 "metadata": {
  "kernelspec": {
   "display_name": "Python 3 (ipykernel)",
   "language": "python",
   "name": "python3"
  },
  "language_info": {
   "codemirror_mode": {
    "name": "ipython",
    "version": 3
   },
   "file_extension": ".py",
   "mimetype": "text/x-python",
   "name": "python",
   "nbconvert_exporter": "python",
   "pygments_lexer": "ipython3",
   "version": "3.11.4"
  },
  "nbTranslate": {
   "displayLangs": [
    "*"
   ],
   "hotkey": "alt-t",
   "langInMainMenu": true,
   "sourceLang": "en",
   "targetLang": "fr",
   "useGoogleTranslate": true
  }
 },
 "nbformat": 4,
 "nbformat_minor": 5
}

{
 "cells": [
  {
   "cell_type": "markdown",
   "id": "satellite-flashing",
   "metadata": {},
   "source": [
    "# Asal Sayılar"
   ]
  },
  {
   "cell_type": "markdown",
   "id": "0d89c375",
   "metadata": {
    "lang": "en"
   },
   "source": [
    "Prime Numbers are numbers that are not divisible by any number other than 1 and itself.\n",
    "\n",
    "The numbers 2,3,5,7,11,13,17,19... are prime.\n",
    "\n",
    "Let's write a program that finds whether a number entered by the user is prime or not."
   ]
  },
  {
   "cell_type": "code",
   "execution_count": 1,
   "id": "false-neutral",
   "metadata": {},
   "outputs": [
    {
     "name": "stdout",
     "output_type": "stream",
     "text": [
      "\n",
      "***************************************************************************************************\n",
      "This program checks whether a number entered by the user is prime.\n",
      "***************************************************************************************************\n",
      "\n",
      "Please enter a positive integer, press q to exit29\n",
      "Process duration: 0.0\n",
      "29 is a prime number\n",
      "Please enter a positive integer, press q to exitq\n"
     ]
    }
   ],
   "source": [
    "from math import sqrt\n",
    "import time\n",
    "\n",
    "print(\"\"\"\n",
    "***************************************************************************************************\n",
    "This program checks whether a number entered by the user is prime.\n",
    "***************************************************************************************************\n",
    "\"\"\", flush=True)\n",
    "\n",
    "def is_it_prime(number):\n",
    "    start_time = time.process_time()\n",
    "    if number <= 1:\n",
    "        return False\n",
    "    elif number == 2:\n",
    "        return True\n",
    "    else:\n",
    "        for i in range(2, number):\n",
    "            if number % i == 0:\n",
    "                return False\n",
    "        print(\"Process duration:\", time.process_time() - start_time) \n",
    "        return True   \n",
    "\n",
    "while True:\n",
    "    number=input(\"Please enter a positive integer, press q to exit\")\n",
    "    \n",
    "    if number==\"q\":\n",
    "        break\n",
    "    else:\n",
    "        number=int(number)\n",
    "        \n",
    "        if is_it_prime(number):\n",
    "            print(number,\"is a prime number\")\n",
    "        else:\n",
    "            print(number,\"is not a prime number\")"
   ]
  },
  {
   "cell_type": "markdown",
   "id": "469b1f01",
   "metadata": {
    "lang": "en"
   },
   "source": [
    "To check whether a number is a prime number, the divisor of a number is at most the square root of the number. Therefore, it will be sufficient to loop up to the square root of the number. Below is the proof."
   ]
  },
  {
   "cell_type": "code",
   "execution_count": 2,
   "id": "clear-accident",
   "metadata": {},
   "outputs": [
    {
     "name": "stdout",
     "output_type": "stream",
     "text": [
      "\n",
      "***************************************************************************************************\n",
      "This program checks whether a number entered by the user is prime.\n",
      "***************************************************************************************************\n",
      "\n",
      "Please enter a positive integer, press q to exit29\n",
      "Process duration: 0.0\n",
      "29 is a prime number\n",
      "Please enter a positive integer, press q to exitq\n"
     ]
    }
   ],
   "source": [
    "from math import sqrt\n",
    "import time\n",
    "\n",
    "print(\"\"\"\n",
    "***************************************************************************************************\n",
    "This program checks whether a number entered by the user is prime.\n",
    "***************************************************************************************************\n",
    "\"\"\", flush=True)\n",
    "\n",
    "def is_it_prime(number):\n",
    "    start_time = time.process_time()\n",
    "    if number <= 1:\n",
    "        return False\n",
    "    elif number == 2:\n",
    "        return True\n",
    "    else:\n",
    "        for i in range(2, int(sqrt(number)) + 1):\n",
    "            if number % i == 0:\n",
    "                return False\n",
    "        print(\"Process duration:\", time.process_time() - start_time) \n",
    "        return True   \n",
    "\n",
    "while True:\n",
    "    number=input(\"Please enter a positive integer, press q to exit\")\n",
    "    \n",
    "    if number==\"q\":\n",
    "        break\n",
    "    else:\n",
    "        number=int(number)\n",
    "        \n",
    "        if is_it_prime(number):\n",
    "            print(number,\"is a prime number\")\n",
    "        else:\n",
    "            print(number,\"is not a prime number\")"
   ]
  }
 ],
 "metadata": {
  "kernelspec": {
   "display_name": "Python 3 (ipykernel)",
   "language": "python",
   "name": "python3"
  },
  "language_info": {
   "codemirror_mode": {
    "name": "ipython",
    "version": 3
   },
   "file_extension": ".py",
   "mimetype": "text/x-python",
   "name": "python",
   "nbconvert_exporter": "python",
   "pygments_lexer": "ipython3",
   "version": "3.11.5"
  },
  "nbTranslate": {
   "displayLangs": [
    "*"
   ],
   "hotkey": "alt-t",
   "langInMainMenu": true,
   "sourceLang": "tr",
   "targetLang": "en",
   "useGoogleTranslate": true
  }
 },
 "nbformat": 4,
 "nbformat_minor": 5
}

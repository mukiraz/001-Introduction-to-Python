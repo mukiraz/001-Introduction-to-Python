{
 "cells": [
  {
   "cell_type": "markdown",
   "id": "253280dd",
   "metadata": {
    "lang": "tr"
   },
   "source": [
    "# Concept of Loop in Computer"
   ]
  },
  {
   "cell_type": "markdown",
   "id": "91933c4f",
   "metadata": {
    "lang": "en"
   },
   "source": [
    "One of the most basic functions in programming, loops are an essential part of almost every programming language. Loops allow developers to set certain parts of their code to iterate through a series of loops, called iterations."
   ]
  },
  {
   "cell_type": "markdown",
   "id": "9b3c7af9",
   "metadata": {
    "lang": "en"
   },
   "source": [
    "Loops are structures found in all programming languages ​​that constantly repeat operations under certain conditions."
   ]
  },
  {
   "cell_type": "markdown",
   "id": "3094dff4",
   "metadata": {
    "lang": "en"
   },
   "source": [
    "For example, we can consider multiplication as a loop created by addition. For example, in the 4x5 operation, the result is the addition of 4 5's, or the addition of 5 4's.\n",
    "\n",
    "4x5 = 4+4+4+4+4 = 20\n",
    "\n",
    "In the expression above, we saw that multiplication can occur in the form of a loop."
   ]
  },
  {
   "cell_type": "markdown",
   "id": "9e7cea7f",
   "metadata": {
    "lang": "en"
   },
   "source": [
    "## Loop Concept in Python"
   ]
  },
  {
   "cell_type": "markdown",
   "id": "5aea1528",
   "metadata": {
    "lang": "en"
   },
   "source": [
    "Iteration is a general term for taking each element of something one after the other. When you use an explicit or implicit loop to loop through a group of elements, this is iteration."
   ]
  },
  {
   "cell_type": "markdown",
   "id": "c2169d52",
   "metadata": {
    "lang": "en"
   },
   "source": [
    "Iterable and iterator have specific meanings in Python."
   ]
  },
  {
   "cell_type": "markdown",
   "id": "0b69c5ed",
   "metadata": {
    "lang": "en"
   },
   "source": [
    "An iterable (ITERABLE) can be defined as:\n",
    "1. anything that can be looped (e.g. you can loop over a string or file), or\n",
    "2. anything that can appear on the right side of a for-loop: for x in iterable: ...or\n",
    "3. anything you can call with iter() returns an ITERATOR: iter(obj)or\n",
    "4. **_ __iter__ _** can be an object that defines a new ITERATOR that returns, or **_ __getitem__ _** can be a method suitable for indexed searching."
   ]
  },
  {
   "cell_type": "markdown",
   "id": "9a95f67d",
   "metadata": {
    "lang": "en"
   },
   "source": [
    "ITERATOR is an object:\n",
    "With a state that remembers where it was during the 1st iteration,\n",
    "2. with a **_ __next__ _** method:\n",
    "* returns the next value in the iteration\n",
    "* updates the status to show the next value\n",
    "* Gives signal when StopIteration is done\n",
    "3. and this is self-iterative (i.e. it has a method that returns __iter__self)."
   ]
  },
  {
   "cell_type": "code",
   "execution_count": 4,
   "id": "d30f320d",
   "metadata": {
    "lang": "en"
   },
   "outputs": [
    {
     "name": "stdout",
     "output_type": "stream",
     "text": [
      "True\n",
      "b\n",
      "a\n",
      "z\n"
     ]
    },
    {
     "ename": "StopIteration",
     "evalue": "",
     "output_type": "error",
     "traceback": [
      "\u001b[1;31m---------------------------------------------------------------------------\u001b[0m",
      "\u001b[1;31mStopIteration\u001b[0m                             Traceback (most recent call last)",
      "Cell \u001b[1;32mIn[4], line 8\u001b[0m\n\u001b[0;32m      6\u001b[0m \u001b[38;5;28mprint\u001b[39m(\u001b[38;5;28mnext\u001b[39m(t)) \u001b[38;5;66;03m# next() returns the next value and advances the state\u001b[39;00m\n\u001b[0;32m      7\u001b[0m \u001b[38;5;28mprint\u001b[39m(\u001b[38;5;28mnext\u001b[39m(t)) \u001b[38;5;66;03m# next() returns the next value and advances the state\u001b[39;00m\n\u001b[1;32m----> 8\u001b[0m \u001b[38;5;28mnext\u001b[39m(t)\n",
      "\u001b[1;31mStopIteration\u001b[0m: "
     ]
    }
   ],
   "source": [
    "s = \"baz\" #s is an ITERABLE.\n",
    "\n",
    "t = iter(s) # t is an ITERATOR\n",
    "print(iter(t) is t) # returns True. It is the same object.\n",
    "print(next(t)) # next() returns the next value and advances the state\n",
    "print(next(t)) # next() returns the next value and advances the state\n",
    "print(next(t)) # next() returns the next value and advances the state\n",
    "next(t) # next() Throws StopIteration to indicate that the iteration is complete"
   ]
  },
  {
   "cell_type": "code",
   "execution_count": 5,
   "id": "0667b7a7",
   "metadata": {
    "lang": "en"
   },
   "outputs": [
    {
     "name": "stdout",
     "output_type": "stream",
     "text": [
      "<class 'list_iterator'>\n",
      "1\n",
      "2\n",
      "3\n",
      "4\n",
      "5\n"
     ]
    }
   ],
   "source": [
    "# Likewise, lists, sets, dictionaries, tuples are IRETABLE.\n",
    "y = [1,2,3,4,5] #list\n",
    "itered = iter(y)\n",
    "print(type(itered))\n",
    "print(next(itered))\n",
    "print(next(itered))\n",
    "print(next(itered))\n",
    "print(next(itered))\n",
    "print(next(itered))"
   ]
  },
  {
   "cell_type": "code",
   "execution_count": 7,
   "id": "e6cfa53e",
   "metadata": {
    "lang": "en",
    "scrolled": true
   },
   "outputs": [
    {
     "ename": "TypeError",
     "evalue": "'int' object is not iterable",
     "output_type": "error",
     "traceback": [
      "\u001b[1;31m---------------------------------------------------------------------------\u001b[0m",
      "\u001b[1;31mTypeError\u001b[0m                                 Traceback (most recent call last)",
      "Cell \u001b[1;32mIn[7], line 3\u001b[0m\n\u001b[0;32m      1\u001b[0m \u001b[38;5;66;03m# Likewise But numbers are not ITERABLE.\u001b[39;00m\n\u001b[0;32m      2\u001b[0m y \u001b[38;5;241m=\u001b[39m \u001b[38;5;241m3\u001b[39m \u001b[38;5;66;03m#list\u001b[39;00m\n\u001b[1;32m----> 3\u001b[0m itered \u001b[38;5;241m=\u001b[39m \u001b[38;5;28miter\u001b[39m(y)\n",
      "\u001b[1;31mTypeError\u001b[0m: 'int' object is not iterable"
     ]
    }
   ],
   "source": [
    "# Likewise But numbers are not ITERABLE.\n",
    "y = 3 #list\n",
    "itered = iter(y) # this code gives error"
   ]
  },
  {
   "cell_type": "markdown",
   "id": "fc8f387e",
   "metadata": {
    "lang": "en"
   },
   "source": [
    "**To create a loop in Python, we need an ITERABLE object.**"
   ]
  }
 ],
 "metadata": {
  "kernelspec": {
   "display_name": "Python 3 (ipykernel)",
   "language": "python",
   "name": "python3"
  },
  "language_info": {
   "codemirror_mode": {
    "name": "ipython",
    "version": 3
   },
   "file_extension": ".py",
   "mimetype": "text/x-python",
   "name": "python",
   "nbconvert_exporter": "python",
   "pygments_lexer": "ipython3",
   "version": "3.11.5"
  },
  "nbTranslate": {
   "displayLangs": [
    "*"
   ],
   "hotkey": "alt-t",
   "langInMainMenu": true,
   "sourceLang": "tr",
   "targetLang": "en",
   "useGoogleTranslate": true
  }
 },
 "nbformat": 4,
 "nbformat_minor": 5
}

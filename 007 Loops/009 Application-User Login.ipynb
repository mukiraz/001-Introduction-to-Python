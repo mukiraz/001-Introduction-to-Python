{
 "cells": [
  {
   "cell_type": "code",
   "execution_count": 1,
   "id": "d64175cd",
   "metadata": {
    "lang": "en"
   },
   "outputs": [
    {
     "name": "stdout",
     "output_type": "stream",
     "text": [
      "\n",
      "**************************\n",
      "User login.\n",
      "**************************\n",
      "\n",
      "Username:muratkiraz\n",
      "Password:12345\n",
      "You have successfully logged in...\n"
     ]
    }
   ],
   "source": [
    "print(\"\"\"\n",
    "**************************\n",
    "User login.\n",
    "**************************\n",
    "\"\"\", flush = True)\n",
    "\n",
    "sys_user_name = \"muratkiraz\" # The username that we asume that registered in the system.\n",
    "\n",
    "sys_password = \"12345\" # The password that we asume that registered in the system.\n",
    "\n",
    "login_attempt = 3\n",
    "while True: # It will end when the user logs in correctly and the login rights expire.\n",
    "    user_name = input(\"Username:\")\n",
    "    password = input(\"Password:\")\n",
    "    \n",
    "    if (user_name != sys_user_name and password == sys_password):\n",
    "        print(\"Username Incorrect...\")\n",
    "        login_attempt -= 1\n",
    "        print(\"Login Right: \", login_attempt)\n",
    "    elif (user_name == sys_user_name and password != sys_password):\n",
    "        print(\"Password Incorrect...\")\n",
    "        login_attempt -= 1\n",
    "        print(\"Login Right: \", login_attempt)\n",
    "    elif (user_name != sys_user_name and password != sys_password):\n",
    "        print(\"Username and Password Incorrect...\")\n",
    "        login_attempt -= 1\n",
    "        print(\"Login Right: \", login_attempt)\n",
    "    else:\n",
    "        print(\"You have successfully logged in...\")\n",
    "        break\n",
    "    if (login_attempt == 0 ):\n",
    "        print(\"Your Login Rights Have Expired...\")\n",
    "        break"
   ]
  },
  {
   "cell_type": "code",
   "execution_count": null,
   "id": "4b548f08",
   "metadata": {},
   "outputs": [],
   "source": []
  }
 ],
 "metadata": {
  "kernelspec": {
   "display_name": "Python 3 (ipykernel)",
   "language": "python",
   "name": "python3"
  },
  "language_info": {
   "codemirror_mode": {
    "name": "ipython",
    "version": 3
   },
   "file_extension": ".py",
   "mimetype": "text/x-python",
   "name": "python",
   "nbconvert_exporter": "python",
   "pygments_lexer": "ipython3",
   "version": "3.11.4"
  },
  "nbTranslate": {
   "displayLangs": [],
   "hotkey": "alt-t",
   "langInMainMenu": true,
   "sourceLang": "tr",
   "targetLang": "en",
   "useGoogleTranslate": true
  }
 },
 "nbformat": 4,
 "nbformat_minor": 5
}

{
 "cells": [
  {
   "cell_type": "markdown",
   "id": "e4d2dfa0",
   "metadata": {
    "lang": "en"
   },
   "source": [
    "# iterable What is it?"
   ]
  },
  {
   "cell_type": "markdown",
   "id": "a5e12162",
   "metadata": {
    "lang": "en"
   },
   "source": [
    "We call them objects such as lists and tuples, whose elements we can navigate sequentially.\n",
    "\n",
    "Just as there are iterable objects defined in Python, we can also create our own iterable objects. But since this will be the subject of an advanced level, we will not go into details."
   ]
  },
  {
   "cell_type": "markdown",
   "id": "29dad831",
   "metadata": {
    "lang": "en"
   },
   "source": [
    "## in operator"
   ]
  },
  {
   "cell_type": "markdown",
   "id": "fe6fce62",
   "metadata": {
    "lang": "en"
   },
   "source": [
    "Let's remember the \"in\" operator before loops."
   ]
  },
  {
   "cell_type": "markdown",
   "id": "de2f840e",
   "metadata": {
    "lang": "en"
   },
   "source": [
    "The *in* operator in Python checks whether an element is contained in another list, tuple, or string (arrays of characters). We can use the in operator for an \"iterable\" object."
   ]
  },
  {
   "cell_type": "code",
   "execution_count": 2,
   "id": "intended-recommendation",
   "metadata": {},
   "outputs": [
    {
     "data": {
      "text/plain": [
       "True"
      ]
     },
     "execution_count": 2,
     "metadata": {},
     "output_type": "execute_result"
    }
   ],
   "source": [
    "\"e\" in \"Hello World\""
   ]
  },
  {
   "cell_type": "code",
   "execution_count": 3,
   "id": "black-corruption",
   "metadata": {},
   "outputs": [
    {
     "data": {
      "text/plain": [
       "True"
      ]
     },
     "execution_count": 3,
     "metadata": {},
     "output_type": "execute_result"
    }
   ],
   "source": [
    "\"ll\" in \"Hello World\""
   ]
  },
  {
   "cell_type": "code",
   "execution_count": 4,
   "id": "common-favorite",
   "metadata": {},
   "outputs": [
    {
     "data": {
      "text/plain": [
       "False"
      ]
     },
     "execution_count": 4,
     "metadata": {},
     "output_type": "execute_result"
    }
   ],
   "source": [
    "\"k\" in \"Hello World\""
   ]
  },
  {
   "cell_type": "code",
   "execution_count": 5,
   "id": "massive-export",
   "metadata": {},
   "outputs": [
    {
     "data": {
      "text/plain": [
       "True"
      ]
     },
     "execution_count": 5,
     "metadata": {},
     "output_type": "execute_result"
    }
   ],
   "source": [
    "1 in [1,2,3,4]"
   ]
  },
  {
   "cell_type": "code",
   "execution_count": 6,
   "id": "separate-rating",
   "metadata": {},
   "outputs": [
    {
     "data": {
      "text/plain": [
       "False"
      ]
     },
     "execution_count": 6,
     "metadata": {},
     "output_type": "execute_result"
    }
   ],
   "source": [
    "10 in [1,2,3,4]"
   ]
  },
  {
   "cell_type": "code",
   "execution_count": 7,
   "id": "portable-intermediate",
   "metadata": {},
   "outputs": [
    {
     "data": {
      "text/plain": [
       "False"
      ]
     },
     "execution_count": 7,
     "metadata": {},
     "output_type": "execute_result"
    }
   ],
   "source": [
    "4 in (1,2,3)"
   ]
  },
  {
   "cell_type": "code",
   "execution_count": null,
   "id": "15df0b70",
   "metadata": {
    "lang": "en"
   },
   "outputs": [],
   "source": [
    "4 in 4 # This code gives an error because 4 is not \"iterable\"."
   ]
  },
  {
   "cell_type": "markdown",
   "id": "2f599f86",
   "metadata": {
    "lang": "en"
   },
   "source": [
    "# For Loop"
   ]
  },
  {
   "cell_type": "markdown",
   "id": "e52d712e",
   "metadata": {
    "lang": "en"
   },
   "source": [
    "**for** loops iterate through a collection of elements that are *iterable* and run a block of code with each element in the collection."
   ]
  },
  {
   "cell_type": "markdown",
   "id": "da39e5f9",
   "metadata": {
    "lang": "en"
   },
   "source": [
    "The *for* loop allows us to loop over iterable objects.\n",
    "\n",
    "             for i in data_structure(iter_obj):\n",
    "                 do_something()\n",
    "                 \n",
    "The following processes take place within this structure:\n",
    "\n",
    "            The elements in \"iter_obj\" are assigned to the \"i\" variable in order.\n",
    "            In each assignment operation, the codes in the \"for\" indentation block are executed.\n",
    "            After the codes in the indentation block are finished, you go back to the beginning.\n",
    "            The next element (inside iter_obj) is assigned to variable \"i\".\n",
    "            This loop continues until all elements in \"iter_obj\" are completed in order."
   ]
  },
  {
   "cell_type": "code",
   "execution_count": 19,
   "id": "given-aaron",
   "metadata": {},
   "outputs": [
    {
     "name": "stdout",
     "output_type": "stream",
     "text": [
      "0\n",
      "1\n",
      "2\n",
      "3\n",
      "4\n"
     ]
    }
   ],
   "source": [
    "for i in [0, 1, 2, 3, 4]:\n",
    "    print(i)"
   ]
  },
  {
   "cell_type": "markdown",
   "id": "6977947f",
   "metadata": {
    "lang": "en"
   },
   "source": [
    "Now let's add the elements in the list"
   ]
  },
  {
   "cell_type": "code",
   "execution_count": 8,
   "id": "massive-cleveland",
   "metadata": {},
   "outputs": [
    {
     "name": "stdout",
     "output_type": "stream",
     "text": [
      "Element in loop: 1, Sum: 1\n",
      "Element in loop: 2, Sum: 3\n",
      "Element in loop: 3, Sum: 6\n",
      "Element in loop: 4, Sum: 10\n",
      "Element in loop: 5, Sum: 15\n",
      "Element in loop: 6, Sum: 21\n",
      "Element in loop: 7, Sum: 28\n",
      "Element in loop: 8, Sum: 36\n",
      "Element in loop: 9, Sum: 45\n",
      "Sum 45\n"
     ]
    }
   ],
   "source": [
    "my_list = [1,2,3,4,5,6,7,8,9]\n",
    "summed = 0\n",
    "for item in my_list:\n",
    "    summed += item\n",
    "    print(\"Element in loop: {}, Sum: {}\".format(item,summed))\n",
    "print(\"Sum\",summed)"
   ]
  },
  {
   "cell_type": "code",
   "execution_count": 9,
   "id": "sudden-compensation",
   "metadata": {},
   "outputs": [
    {
     "ename": "TypeError",
     "evalue": "'int' object is not iterable",
     "output_type": "error",
     "traceback": [
      "\u001b[1;31m---------------------------------------------------------------------------\u001b[0m",
      "\u001b[1;31mTypeError\u001b[0m                                 Traceback (most recent call last)",
      "Cell \u001b[1;32mIn[9], line 1\u001b[0m\n\u001b[1;32m----> 1\u001b[0m \u001b[38;5;28;01mfor\u001b[39;00m i \u001b[38;5;129;01min\u001b[39;00m \u001b[38;5;241m4\u001b[39m:\n\u001b[0;32m      2\u001b[0m     \u001b[38;5;28mprint\u001b[39m(i)\n",
      "\u001b[1;31mTypeError\u001b[0m: 'int' object is not iterable"
     ]
    }
   ],
   "source": [
    "for i in 4:\n",
    "    print(i)\n",
    "# This code gives an error because 4 is not \"iterable\"."
   ]
  },
  {
   "cell_type": "markdown",
   "id": "59fe8dc1",
   "metadata": {
    "lang": "en"
   },
   "source": [
    "### Creating a for loop with lists"
   ]
  },
  {
   "cell_type": "code",
   "execution_count": 10,
   "id": "divine-gamma",
   "metadata": {},
   "outputs": [
    {
     "name": "stdout",
     "output_type": "stream",
     "text": [
      "one\n",
      "two\n",
      "three\n",
      "four\n"
     ]
    }
   ],
   "source": [
    "for x in ['one', 'two', 'three', 'four']:\n",
    "    print(x)"
   ]
  },
  {
   "cell_type": "markdown",
   "id": "c24a08ab",
   "metadata": {
    "lang": "en"
   },
   "source": [
    "### Creating a for loop with Range Function"
   ]
  },
  {
   "cell_type": "markdown",
   "id": "70e6f8a4",
   "metadata": {
    "lang": "en"
   },
   "source": [
    "We have seen the Range function in our previous lessons. This function created a series of numbers similar to lists by taking a start, end and optionally increment value."
   ]
  },
  {
   "cell_type": "code",
   "execution_count": 11,
   "id": "united-shaft",
   "metadata": {},
   "outputs": [
    {
     "data": {
      "text/plain": [
       "range"
      ]
     },
     "execution_count": 11,
     "metadata": {},
     "output_type": "execute_result"
    }
   ],
   "source": [
    "x = range(0,6)\n",
    "type(x)"
   ]
  },
  {
   "cell_type": "code",
   "execution_count": 12,
   "id": "banner-growth",
   "metadata": {},
   "outputs": [
    {
     "name": "stdout",
     "output_type": "stream",
     "text": [
      "1\n",
      "2\n",
      "3\n",
      "4\n",
      "5\n"
     ]
    }
   ],
   "source": [
    "for x in range(1, 6):\n",
    "    print(x)"
   ]
  },
  {
   "cell_type": "markdown",
   "id": "4d1c905d",
   "metadata": {
    "lang": "en"
   },
   "source": [
    "### Creating a for loop with character arrays"
   ]
  },
  {
   "cell_type": "code",
   "execution_count": 13,
   "id": "homeless-witch",
   "metadata": {},
   "outputs": [
    {
     "name": "stdout",
     "output_type": "stream",
     "text": [
      "P\n",
      "y\n",
      "t\n",
      "h\n",
      "o\n",
      "n\n"
     ]
    }
   ],
   "source": [
    "c =  \"Python\"\n",
    "for char in c:\n",
    "    print(char)"
   ]
  },
  {
   "cell_type": "code",
   "execution_count": 15,
   "id": "095feec9",
   "metadata": {
    "lang": "en"
   },
   "outputs": [
    {
     "name": "stdout",
     "output_type": "stream",
     "text": [
      "PPP\n",
      "yyy\n",
      "ttt\n",
      "hhh\n",
      "ooo\n",
      "nnn\n"
     ]
    }
   ],
   "source": [
    "# Multiply each character by 3\n",
    "k = \"Python\"\n",
    "\n",
    "for char in k:\n",
    "    print(char * 3)"
   ]
  },
  {
   "cell_type": "markdown",
   "id": "aa04b636",
   "metadata": {
    "lang": "en"
   },
   "source": [
    "### Establishing a for loop with tuples"
   ]
  },
  {
   "cell_type": "code",
   "execution_count": 17,
   "id": "widespread-comparison",
   "metadata": {
    "scrolled": true
   },
   "outputs": [
    {
     "name": "stdout",
     "output_type": "stream",
     "text": [
      "1\n",
      "2\n",
      "3\n",
      "4\n",
      "5\n",
      "6\n",
      "7\n"
     ]
    }
   ],
   "source": [
    "# Same as lists\n",
    "t = (1,2,3,4,5,6,7)\n",
    "\n",
    "for item in t:\n",
    "    print(item)"
   ]
  },
  {
   "cell_type": "markdown",
   "id": "e2ee05b6",
   "metadata": {
    "lang": "en"
   },
   "source": [
    "### Establishing a for loop with sets"
   ]
  },
  {
   "cell_type": "code",
   "execution_count": 18,
   "id": "gothic-reason",
   "metadata": {},
   "outputs": [
    {
     "name": "stdout",
     "output_type": "stream",
     "text": [
      "1\n",
      "2\n",
      "3\n",
      "4\n",
      "5\n",
      "6\n",
      "7\n"
     ]
    }
   ],
   "source": [
    "# Same as lists\n",
    "s =  {1,2,3,4,5,6,7}\n",
    "\n",
    "for e in s:\n",
    "    print(e)"
   ]
  },
  {
   "cell_type": "markdown",
   "id": "e0cded42",
   "metadata": {
    "lang": "en"
   },
   "source": [
    "### Creating a for loop in nested arrays"
   ]
  },
  {
   "cell_type": "markdown",
   "id": "9eb7e881",
   "metadata": {
    "lang": "en"
   },
   "source": [
    "We could use arrays (lists, tuples, sets, etc.) inside each other."
   ]
  },
  {
   "cell_type": "code",
   "execution_count": 21,
   "id": "independent-analyst",
   "metadata": {},
   "outputs": [
    {
     "name": "stdout",
     "output_type": "stream",
     "text": [
      "[[1, 2, 3], [4, 5, 6], [7, 8, 9]]\n"
     ]
    }
   ],
   "source": [
    "list1 = [1, 2, 3]\n",
    "list2 = [4, 5, 6]\n",
    "list3 = [7, 8, 9]\n",
    "\n",
    "l = [list1, list2, list3]\n",
    "print(l)"
   ]
  },
  {
   "cell_type": "markdown",
   "id": "5348502f",
   "metadata": {
    "lang": "en"
   },
   "source": [
    "We can use the for loop as follows in arrays formed as above."
   ]
  },
  {
   "cell_type": "markdown",
   "id": "41d6eba4",
   "metadata": {
    "lang": "en"
   },
   "source": [
    "#### for lists"
   ]
  },
  {
   "cell_type": "code",
   "execution_count": 22,
   "id": "extra-drive",
   "metadata": {},
   "outputs": [
    {
     "name": "stdout",
     "output_type": "stream",
     "text": [
      "1 2 3\n",
      "4 5 6\n",
      "7 8 9\n"
     ]
    }
   ],
   "source": [
    "list1 = [1, 2, 3]\n",
    "list2 = [4, 5, 6]\n",
    "list3 = [7, 8, 9]\n",
    "\n",
    "l = [list1, list2, list3]\n",
    "\n",
    "for i, j, k in l:\n",
    "    print(i, j, k)\n",
    "\n"
   ]
  },
  {
   "cell_type": "markdown",
   "id": "46cc5f7a",
   "metadata": {
    "lang": "en"
   },
   "source": [
    "#### for tuples"
   ]
  },
  {
   "cell_type": "code",
   "execution_count": 23,
   "id": "pleasant-bloom",
   "metadata": {},
   "outputs": [
    {
     "name": "stdout",
     "output_type": "stream",
     "text": [
      "1 2 3\n",
      "4 5 6\n",
      "7 8 9\n"
     ]
    }
   ],
   "source": [
    "t1 = (1, 2, 3)\n",
    "t2 = (4, 5, 6)\n",
    "t3 = (7, 8, 9)\n",
    "\n",
    "t = (t1, t2, t3)\n",
    "\n",
    "for i,j,k in t:\n",
    "    print(i,j,k)"
   ]
  },
  {
   "cell_type": "code",
   "execution_count": 24,
   "id": "007a2734",
   "metadata": {
    "lang": "en"
   },
   "outputs": [
    {
     "name": "stdout",
     "output_type": "stream",
     "text": [
      "1 2\n",
      "3 4\n",
      "5 6\n",
      "7 8\n"
     ]
    }
   ],
   "source": [
    "# Practical method to get each element in the tuple\n",
    "l = [(1,2), (3,4), (5,6), (7,8)]\n",
    "\n",
    "for (i,j) in l:\n",
    "    print(i,j)"
   ]
  },
  {
   "cell_type": "markdown",
   "id": "06091252",
   "metadata": {
    "lang": "en"
   },
   "source": [
    "### Using for loops in dictionaries"
   ]
  },
  {
   "cell_type": "code",
   "execution_count": 25,
   "id": "91e986da",
   "metadata": {
    "lang": "en"
   },
   "outputs": [
    {
     "name": "stdout",
     "output_type": "stream",
     "text": [
      "a\n",
      "b\n",
      "c\n"
     ]
    }
   ],
   "source": [
    "# Consider the following dictionary:\n",
    "d = {\"a\": 1, \"b\": 2, \"c\": 3}\n",
    "# Looping over the keys of this dictionary is as follows\n",
    "\n",
    "for key in d:\n",
    "    print(key)"
   ]
  },
  {
   "cell_type": "code",
   "execution_count": 26,
   "id": "2b3029a8",
   "metadata": {
    "lang": "en"
   },
   "outputs": [
    {
     "name": "stdout",
     "output_type": "stream",
     "text": [
      "a\n",
      "b\n",
      "c\n"
     ]
    }
   ],
   "source": [
    "# The above expression is also equivalent to\n",
    "for key in d.keys():\n",
    "    print(key)"
   ]
  },
  {
   "cell_type": "code",
   "execution_count": 27,
   "id": "eaba345a",
   "metadata": {
    "lang": "en"
   },
   "outputs": [
    {
     "name": "stdout",
     "output_type": "stream",
     "text": [
      "1\n",
      "2\n",
      "3\n"
     ]
    }
   ],
   "source": [
    "# If we want to navigate through the values of the dictionary,\n",
    "for value in d.values():\n",
    "    print(value)"
   ]
  },
  {
   "cell_type": "markdown",
   "id": "c17d7298",
   "metadata": {
    "lang": "en"
   },
   "source": [
    "**If we want to use the key and value expressions of the dictionary, we have to use the items() method**"
   ]
  },
  {
   "cell_type": "code",
   "execution_count": 28,
   "id": "d23561ec",
   "metadata": {
    "lang": "en"
   },
   "outputs": [
    {
     "name": "stdout",
     "output_type": "stream",
     "text": [
      "a :: 1\n",
      "b :: 2\n",
      "c :: 3\n"
     ]
    }
   ],
   "source": [
    "# If we want to use the key and value expressions of the dictionary, we have to use the items() method\n",
    "for key, value in d.items():\n",
    "    print(key, \"::\", value)"
   ]
  },
  {
   "cell_type": "markdown",
   "id": "ce2fefeb",
   "metadata": {
    "lang": "en"
   },
   "source": [
    "### Using the else word with a for loop"
   ]
  },
  {
   "cell_type": "markdown",
   "id": "0c753bc2",
   "metadata": {
    "lang": "en"
   },
   "source": [
    "The for loop may optionally contain an else clause (in practice this usage is quite rare).\n",
    "The else statement only iterates until a for loop completes and is executed after the for loop ends."
   ]
  },
  {
   "cell_type": "code",
   "execution_count": 29,
   "id": "cubic-failing",
   "metadata": {},
   "outputs": [
    {
     "name": "stdout",
     "output_type": "stream",
     "text": [
      "no error\n"
     ]
    }
   ],
   "source": [
    "a = [1, 2, 3, 4]\n",
    "for i in a:\n",
    "    if type(i) is not int:\n",
    "        print(i)\n",
    "        break\n",
    "else:\n",
    "    print(\"no error\")"
   ]
  },
  {
   "cell_type": "code",
   "execution_count": 31,
   "id": "inclusive-drunk",
   "metadata": {
    "scrolled": false
   },
   "outputs": [
    {
     "name": "stdout",
     "output_type": "stream",
     "text": [
      "a :: 1\n",
      "b :: 2\n",
      "c :: 3\n",
      "loop finished\n"
     ]
    }
   ],
   "source": [
    "for key, value in d.items():\n",
    "    print(key, \"::\", value)\n",
    "else:\n",
    "    print(\"loop finished\")"
   ]
  },
  {
   "cell_type": "markdown",
   "id": "d4c4cc6a",
   "metadata": {
    "lang": "en"
   },
   "source": [
    "The else clause does not work if the loop ends in some other way (either by a break statement or by raising an exception):"
   ]
  },
  {
   "cell_type": "code",
   "execution_count": 32,
   "id": "durable-browse",
   "metadata": {},
   "outputs": [
    {
     "name": "stdout",
     "output_type": "stream",
     "text": [
      "0\n",
      "1\n"
     ]
    }
   ],
   "source": [
    "for i in range(2):\n",
    "    print(i)\n",
    "    if i == 1:\n",
    "        break\n",
    "else:\n",
    "    print('done')"
   ]
  },
  {
   "cell_type": "markdown",
   "id": "f1fbb796",
   "metadata": {
    "lang": "en"
   },
   "source": [
    "### Using the word \"pass\" with a for loop"
   ]
  },
  {
   "cell_type": "markdown",
   "id": "6c266a66",
   "metadata": {
    "lang": "en"
   },
   "source": [
    "The word \"pass\" is an empty expression for situations where an expression is required by the Python syntax, but no action is required or desired by the programmer. This can be useful as a placeholder for code that hasn't been written yet."
   ]
  },
  {
   "cell_type": "code",
   "execution_count": 33,
   "id": "cultural-check",
   "metadata": {},
   "outputs": [
    {
     "name": "stdout",
     "output_type": "stream",
     "text": [
      "tryme\n"
     ]
    }
   ],
   "source": [
    "for x in range(10):\n",
    "    pass\n",
    "print(\"tryme\")"
   ]
  }
 ],
 "metadata": {
  "kernelspec": {
   "display_name": "Python 3 (ipykernel)",
   "language": "python",
   "name": "python3"
  },
  "language_info": {
   "codemirror_mode": {
    "name": "ipython",
    "version": 3
   },
   "file_extension": ".py",
   "mimetype": "text/x-python",
   "name": "python",
   "nbconvert_exporter": "python",
   "pygments_lexer": "ipython3",
   "version": "3.11.4"
  },
  "nbTranslate": {
   "displayLangs": [
    "*"
   ],
   "hotkey": "alt-t",
   "langInMainMenu": true,
   "sourceLang": "tr",
   "targetLang": "en",
   "useGoogleTranslate": true
  }
 },
 "nbformat": 4,
 "nbformat_minor": 5
}

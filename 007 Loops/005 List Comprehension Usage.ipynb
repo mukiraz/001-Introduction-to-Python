{
 "cells": [
  {
   "cell_type": "markdown",
   "id": "77ed46fd",
   "metadata": {
    "lang": "en"
   },
   "source": [
    "# List Comprehension"
   ]
  },
  {
   "cell_type": "markdown",
   "id": "976ee174",
   "metadata": {
    "lang": "en"
   },
   "source": [
    "list comprehension offers a shorter syntax when you want to create a new list based on the values ​​of an existing list."
   ]
  },
  {
   "cell_type": "markdown",
   "id": "6c59f482",
   "metadata": {
    "lang": "en"
   },
   "source": [
    "**Example**"
   ]
  },
  {
   "cell_type": "markdown",
   "id": "56b32498",
   "metadata": {
    "lang": "en"
   },
   "source": [
    "For example, we have a list of fruits. We want to add the fruits containing the letter \"e\" in this list to the new list.\n",
    "The following code block will work for this."
   ]
  },
  {
   "cell_type": "code",
   "execution_count": 1,
   "id": "b2b5653f",
   "metadata": {
    "lang": "en"
   },
   "outputs": [
    {
     "name": "stdout",
     "output_type": "stream",
     "text": [
      "['apple', 'cherry', 'peach']\n"
     ]
    }
   ],
   "source": [
    "fruits = [\"apple\", \"banana\", \"cherry\", \"kiwi\", \"mango\",\"plum\",\"peach\",\"tomato\"]\n",
    "new_list = []\n",
    "\n",
    "for fruit in fruits:\n",
    "    if \"e\" in fruit:\n",
    "        new_list.append(fruit)\n",
    "\n",
    "print(new_list)"
   ]
  },
  {
   "cell_type": "markdown",
   "id": "dceca0f5",
   "metadata": {
    "lang": "en"
   },
   "source": [
    "We can do this in one line with list comprehension"
   ]
  },
  {
   "cell_type": "code",
   "execution_count": 2,
   "id": "351622b8",
   "metadata": {
    "lang": "en"
   },
   "outputs": [
    {
     "name": "stdout",
     "output_type": "stream",
     "text": [
      "['apple', 'cherry', 'peach']\n"
     ]
    }
   ],
   "source": [
    "fruits = [\"apple\", \"banana\", \"cherry\", \"kiwi\", \"mango\",\"plum\",\"peach\",\"tomato\"]\n",
    "new_list = [fruit for fruit in fruits if \"e\" in fruit]\n",
    "print(new_list)"
   ]
  },
  {
   "cell_type": "markdown",
   "id": "89ee3cda",
   "metadata": {
    "lang": "en"
   },
   "source": [
    "**Usage**"
   ]
  },
  {
   "cell_type": "raw",
   "id": "prepared-gates",
   "metadata": {},
   "source": [
    "new_list = [expression for item in iterable if condition == True]"
   ]
  },
  {
   "cell_type": "markdown",
   "id": "3fbe8a00",
   "metadata": {
    "lang": "en"
   },
   "source": [
    "Let's include items other than apples in a different list."
   ]
  },
  {
   "cell_type": "code",
   "execution_count": 3,
   "id": "growing-reminder",
   "metadata": {},
   "outputs": [
    {
     "name": "stdout",
     "output_type": "stream",
     "text": [
      "['banana', 'cherry', 'kiwi', 'mango', 'plum', 'peach', 'tomato']\n"
     ]
    }
   ],
   "source": [
    "new_list2 = [fruit for fruit in fruits if fruit!=\"apple\"]\n",
    "print(new_list2)"
   ]
  },
  {
   "cell_type": "markdown",
   "id": "6cb4fbe7",
   "metadata": {
    "lang": "en"
   },
   "source": [
    "If it does not contain an if condition"
   ]
  },
  {
   "cell_type": "code",
   "execution_count": null,
   "id": "c60a5058",
   "metadata": {},
   "outputs": [],
   "source": [
    "new_list2 = [fruit for fruit in fruits]\n",
    "print(new_list2)"
   ]
  },
  {
   "cell_type": "markdown",
   "id": "e8b25b78",
   "metadata": {
    "lang": "en"
   },
   "source": [
    "The above code works the same as the copy() method in list methods"
   ]
  },
  {
   "cell_type": "markdown",
   "id": "ab8e798f",
   "metadata": {
    "lang": "en"
   },
   "source": [
    "It can also be used with the range() function:"
   ]
  },
  {
   "cell_type": "code",
   "execution_count": 8,
   "id": "prostate-hebrew",
   "metadata": {},
   "outputs": [
    {
     "name": "stdout",
     "output_type": "stream",
     "text": [
      "[0, 1, 2, 3, 4, 5]\n"
     ]
    }
   ],
   "source": [
    "new_list3 = [x for x in range(6)]\n",
    "print(new_list3)"
   ]
  },
  {
   "cell_type": "markdown",
   "id": "a24ce6e4",
   "metadata": {
    "lang": "en"
   },
   "source": [
    "Using the range() function with condition\n",
    "Let's use numbers less than 5 here."
   ]
  },
  {
   "cell_type": "code",
   "execution_count": 16,
   "id": "broke-guess",
   "metadata": {},
   "outputs": [
    {
     "name": "stdout",
     "output_type": "stream",
     "text": [
      "[0, 1, 2, 3, 4]\n"
     ]
    }
   ],
   "source": [
    "new_list4 = [x for x in range(6) if x<5]\n",
    "print(new_list4)"
   ]
  },
  {
   "cell_type": "markdown",
   "id": "4aa6a3a4",
   "metadata": {
    "lang": "en"
   },
   "source": [
    "Let's make the values ​​in the list uppercase."
   ]
  },
  {
   "cell_type": "code",
   "execution_count": 4,
   "id": "shaped-arthritis",
   "metadata": {},
   "outputs": [
    {
     "name": "stdout",
     "output_type": "stream",
     "text": [
      "['A', 'B', 'C', 'D', 'E', 'F', 'G', 'H', 'I']\n"
     ]
    }
   ],
   "source": [
    "lower_case_list = [\"a\",\"b\",\"c\",\"d\",\"e\",\"f\",\"g\",\"h\",\"i\"]\n",
    "upper_case_list = [lower_case.upper() for lower_case in lower_case_list]\n",
    "print(upper_case_list)"
   ]
  },
  {
   "cell_type": "markdown",
   "id": "1babe67b",
   "metadata": {
    "lang": "en"
   },
   "source": [
    "Let's change all the elements in the fruits list to \"hello\" and assign them to the new list."
   ]
  },
  {
   "cell_type": "code",
   "execution_count": 5,
   "id": "worldwide-advertiser",
   "metadata": {},
   "outputs": [
    {
     "name": "stdout",
     "output_type": "stream",
     "text": [
      "['hello', 'hello', 'hello', 'hello', 'hello', 'hello', 'hello', 'hello']\n"
     ]
    }
   ],
   "source": [
    "new_list5 = [\"hello\" for x in fruits]\n",
    "print(new_list5)"
   ]
  },
  {
   "cell_type": "markdown",
   "id": "eab4881d",
   "metadata": {
    "lang": "en"
   },
   "source": [
    "Let's add orange instead of banana."
   ]
  },
  {
   "cell_type": "code",
   "execution_count": 6,
   "id": "abroad-copying",
   "metadata": {},
   "outputs": [
    {
     "name": "stdout",
     "output_type": "stream",
     "text": [
      "['apple', 'banana', 'cherry', 'kiwi', 'mango', 'plum', 'peach', 'tomato']\n",
      "['apple', 'orange', 'cherry', 'kiwi', 'mango', 'plum', 'peach', 'tomato']\n"
     ]
    }
   ],
   "source": [
    "new_list6 = [fruit if fruit != \"banana\" else \"orange\" for fruit in fruits]\n",
    "print(fruits)\n",
    "print(new_list6)"
   ]
  },
  {
   "cell_type": "markdown",
   "id": "b7ea2907",
   "metadata": {
    "lang": "en"
   },
   "source": [
    "Let's add the squares of the numbers 1 to 20 to a list"
   ]
  },
  {
   "cell_type": "code",
   "execution_count": 7,
   "id": "massive-diagnosis",
   "metadata": {
    "lang": "tr"
   },
   "outputs": [
    {
     "name": "stdout",
     "output_type": "stream",
     "text": [
      "[1, 4, 9, 16, 25, 36, 49, 64, 81, 100, 121, 144, 169, 196, 225, 256, 289, 324, 361]\n"
     ]
    }
   ],
   "source": [
    "squares = [x * x for x in range(1,20)]\n",
    "print(squares)"
   ]
  },
  {
   "cell_type": "code",
   "execution_count": 1,
   "id": "comprehensive-adolescent",
   "metadata": {
    "lang": "tr"
   },
   "outputs": [
    {
     "data": {
      "text/plain": [
       "[0, 1, 2, 3, 4, 5]"
      ]
     },
     "execution_count": 1,
     "metadata": {},
     "output_type": "execute_result"
    }
   ],
   "source": [
    "[x for x in range(8) if x<6]"
   ]
  }
 ],
 "metadata": {
  "kernelspec": {
   "display_name": "Python 3 (ipykernel)",
   "language": "python",
   "name": "python3"
  },
  "language_info": {
   "codemirror_mode": {
    "name": "ipython",
    "version": 3
   },
   "file_extension": ".py",
   "mimetype": "text/x-python",
   "name": "python",
   "nbconvert_exporter": "python",
   "pygments_lexer": "ipython3",
   "version": "3.11.4"
  },
  "nbTranslate": {
   "displayLangs": [],
   "hotkey": "alt-t",
   "langInMainMenu": true,
   "sourceLang": "tr",
   "targetLang": "en",
   "useGoogleTranslate": true
  }
 },
 "nbformat": 4,
 "nbformat_minor": 5
}

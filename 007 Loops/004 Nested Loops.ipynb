{
 "cells": [
  {
   "cell_type": "markdown",
   "id": "39da0cc0",
   "metadata": {
    "lang": "en"
   },
   "source": [
    "# Nested Loops"
   ]
  },
  {
   "cell_type": "markdown",
   "id": "ac72348a",
   "metadata": {
    "lang": "en"
   },
   "source": [
    "A nested loop is structurally similar to nested if statements. It is another cycle happening within a cycle. These are created as follows:"
   ]
  },
  {
   "cell_type": "raw",
   "id": "554cb33c",
   "metadata": {
    "lang": "en"
   },
   "source": [
    "for [first loop variable] in [outer loop element]: # Outer Loop\n",
    "    [actions] # Optional\n",
    "    for [second loop variable] in [inner loop element]: # Inner Loop\n",
    "        [transactions]"
   ]
  },
  {
   "cell_type": "markdown",
   "id": "dbb33c58",
   "metadata": {
    "lang": "en"
   },
   "source": [
    "First, the outer loop is encountered and its first iteration begins. The inner loop is started before the first iteration ends. The outer loop does not terminate until the inner loop runs out of iterations. After the inner loop is completed, the outer loop continues where it left off and terminates its first iteration.\n",
    "When the second iteration begins in the outer loop, the inner loop is encountered again. The inner loop starts to repeat again, and at the end of the iteration, the outer loop continues where it left off.\n",
    "Iterations continue in this way until the outer loop is completed."
   ]
  },
  {
   "cell_type": "code",
   "execution_count": 1,
   "id": "exposed-piano",
   "metadata": {},
   "outputs": [
    {
     "name": "stdout",
     "output_type": "stream",
     "text": [
      "1\n",
      "a\n",
      "b\n",
      "c\n",
      "2\n",
      "a\n",
      "b\n",
      "c\n",
      "3\n",
      "a\n",
      "b\n",
      "c\n"
     ]
    }
   ],
   "source": [
    "external_list = [1, 2, 3]\n",
    "internal_list = ['a', 'b', 'c']\n",
    "\n",
    "for number in external_list:\n",
    "    print(number)\n",
    "    for letter in internal_list:\n",
    "        print(letter)"
   ]
  },
  {
   "cell_type": "markdown",
   "id": "12d8d04f",
   "metadata": {
    "lang": "en"
   },
   "source": [
    "The program prints the number 1, indicating that it has completed the first iteration of the outer loop, which then triggers the completion of the inner loop, printing a, b, c consecutively. When the inner loop is completed, the program returns to the top of the outer loop, prints 2, then completes the inner loop (a, b, c), etc. It prints.\n",
    "\n",
    "Nested loops can be useful for iterating through the elements of nested lists. In a list of lists, if we just use a for loop the program outputs each internal list as an element:"
   ]
  },
  {
   "cell_type": "code",
   "execution_count": 2,
   "id": "8ae8d8b4",
   "metadata": {
    "lang": "en"
   },
   "outputs": [
    {
     "name": "stdout",
     "output_type": "stream",
     "text": [
      "['screwdriver', 'hammer', 'pliers']\n",
      "[0, 1, 2]\n",
      "[9.9, 8.8, 7.7]\n"
     ]
    }
   ],
   "source": [
    "list_of_lists = [['screwdriver', 'hammer', 'pliers'],[0, 1, 2],[9.9, 8.8, 7.7]]\n",
    "\n",
    "for l in list_of_lists:\n",
    "    print(l)"
   ]
  },
  {
   "cell_type": "markdown",
   "id": "60f71704",
   "metadata": {
    "lang": "en"
   },
   "source": [
    "When we apply a nested for loop to access each element of the internal lists one by one:"
   ]
  },
  {
   "cell_type": "code",
   "execution_count": 3,
   "id": "cheap-timeline",
   "metadata": {},
   "outputs": [
    {
     "name": "stdout",
     "output_type": "stream",
     "text": [
      "screwdriver\n",
      "hammer\n",
      "pliers\n",
      "0\n",
      "1\n",
      "2\n",
      "9.9\n",
      "8.8\n",
      "7.7\n",
      "1\n",
      "2\n",
      "3\n",
      "4\n",
      "5\n",
      "6\n",
      "7\n",
      "8\n"
     ]
    }
   ],
   "source": [
    "list_of_lists = [['screwdriver', 'hammer', 'pliers'],[0, 1, 2],[9.9, 8.8, 7.7],(1,2,3,4,5,6,7,8)]\n",
    "\n",
    "for l in list_of_lists:\n",
    "    for item in l:\n",
    "        print(item)"
   ]
  },
  {
   "cell_type": "markdown",
   "id": "1c54f8fb",
   "metadata": {
    "lang": "en"
   },
   "source": [
    "### Using break and continue in Nested Loops"
   ]
  },
  {
   "cell_type": "markdown",
   "id": "41d609cc",
   "metadata": {
    "lang": "en"
   },
   "source": [
    "break and continue only work at a single loop level. In the following example, only the inner for loop will exit, not the outer while loop:"
   ]
  },
  {
   "cell_type": "code",
   "execution_count": 7,
   "id": "demanding-geneva",
   "metadata": {},
   "outputs": [
    {
     "name": "stdout",
     "output_type": "stream",
     "text": [
      "0\n",
      "a\n",
      "b\n",
      "c\n",
      "1\n",
      "a\n",
      "b\n",
      "c\n",
      "2\n",
      "a\n",
      "b\n",
      "c\n",
      "3\n",
      "a\n",
      "b\n",
      "c\n",
      "4\n",
      "a\n",
      "b\n",
      "c\n"
     ]
    }
   ],
   "source": [
    "l = [\"a\",\"b\",\"c\",\"d\",\"e\",\"f\"]\n",
    "k = 0\n",
    "while k < 5:\n",
    "    print(k)\n",
    "    for i in l:\n",
    "        print(i)\n",
    "        if i == \"c\":\n",
    "            break # Only works in internal loop\n",
    "    k += 1"
   ]
  },
  {
   "cell_type": "code",
   "execution_count": 6,
   "id": "vocational-basin",
   "metadata": {},
   "outputs": [
    {
     "name": "stdout",
     "output_type": "stream",
     "text": [
      "1\n",
      "a\n",
      "d\n",
      "2\n",
      "a\n",
      "d\n",
      "3\n",
      "a\n",
      "d\n",
      "4\n",
      "a\n",
      "d\n",
      "5\n",
      "a\n",
      "d\n",
      "6\n",
      "a\n",
      "d\n",
      "7\n",
      "a\n",
      "d\n",
      "8\n",
      "a\n",
      "d\n",
      "9\n",
      "a\n",
      "d\n"
     ]
    }
   ],
   "source": [
    "liste1 = [1,2,3,4,5,6,7,8,9] # let's use continue\n",
    "liste2 = [\"a\",\"b\",\"c\",\"d\",\"e\",\"f\"]\n",
    "\n",
    "\n",
    "for i in liste1:\n",
    "    print(i)\n",
    "    for j in liste2:        \n",
    "        if (j == \"a\" or j == \"d\"):\n",
    "            print(j)\n",
    "            continue"
   ]
  },
  {
   "cell_type": "code",
   "execution_count": null,
   "id": "friendly-credits",
   "metadata": {},
   "outputs": [],
   "source": []
  }
 ],
 "metadata": {
  "kernelspec": {
   "display_name": "Python 3 (ipykernel)",
   "language": "python",
   "name": "python3"
  },
  "language_info": {
   "codemirror_mode": {
    "name": "ipython",
    "version": 3
   },
   "file_extension": ".py",
   "mimetype": "text/x-python",
   "name": "python",
   "nbconvert_exporter": "python",
   "pygments_lexer": "ipython3",
   "version": "3.11.4"
  },
  "nbTranslate": {
   "displayLangs": [],
   "hotkey": "alt-t",
   "langInMainMenu": true,
   "sourceLang": "tr",
   "targetLang": "en",
   "useGoogleTranslate": true
  }
 },
 "nbformat": 4,
 "nbformat_minor": 5
}

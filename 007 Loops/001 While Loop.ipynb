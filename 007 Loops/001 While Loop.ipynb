{
 "cells": [
  {
   "cell_type": "markdown",
   "id": "76cf8947",
   "metadata": {
    "lang": "en"
   },
   "source": [
    "# While Loop"
   ]
  },
  {
   "cell_type": "markdown",
   "id": "eb5088ed",
   "metadata": {
    "lang": "en"
   },
   "source": [
    "While loop is a structure that continues to perform operations in its block as long as a certain condition is met. For *while* loops to end, the condition must be **False**. Its structure is as follows;\n",
    "\n",
    "                                while (condition):\n",
    "                                    Transaction1\n",
    "                                    Transaction2\n",
    "                                    Transaction3\n",
    "                                      //\n",
    "                                      //\n",
    "In the above scenario, the loop runs as long as the condition is **True**."
   ]
  },
  {
   "cell_type": "code",
   "execution_count": 1,
   "id": "1d3bd0cf",
   "metadata": {},
   "outputs": [
    {
     "name": "stdout",
     "output_type": "stream",
     "text": [
      "loop 0\n",
      "loop 1\n",
      "loop 2\n",
      "loop 3\n",
      "loop 4\n"
     ]
    }
   ],
   "source": [
    "count = 0\n",
    "while count < 5:\n",
    "    print(f\"loop {count}\")\n",
    "    count += 1"
   ]
  },
  {
   "cell_type": "markdown",
   "id": "2ed35efc",
   "metadata": {
    "lang": "en"
   },
   "source": [
    "### Infinite loop\n",
    "\n",
    "We should be careful when using the while loop. Because, in the while loop, the condition must be **False** after a while, only in this case the loop can terminate. If the condition is never **True** after the loop starts, it will run forever. This is called the **infinite loop** phenomenon."
   ]
  },
  {
   "cell_type": "code",
   "execution_count": null,
   "id": "319e37d9",
   "metadata": {
    "lang": "en"
   },
   "outputs": [],
   "source": [
    "while True:\n",
    "    print(\"Infinite loop\")\n",
    "    #The above code block enters an infinite loop."
   ]
  },
  {
   "cell_type": "code",
   "execution_count": null,
   "id": "1c088d5f",
   "metadata": {},
   "outputs": [],
   "source": [
    "while 4:\n",
    "    print(\"Infinite loop\")\n",
    "    #The above code block enters an infinite loop."
   ]
  },
  {
   "cell_type": "code",
   "execution_count": null,
   "id": "ef377fd0",
   "metadata": {},
   "outputs": [],
   "source": [
    "comp = complex(3,4)\n",
    "while comp:\n",
    "    print(\"Infinite loop\")\n",
    "    #The above code block enters an infinite loop."
   ]
  },
  {
   "cell_type": "code",
   "execution_count": null,
   "id": "c825ffdf",
   "metadata": {},
   "outputs": [],
   "source": [
    "while True and True:\n",
    "    print(\"Infinite loop\")\n",
    "    #The above code block enters an infinite loop."
   ]
  },
  {
   "cell_type": "markdown",
   "id": "b9ac42b0",
   "metadata": {
    "lang": "en"
   },
   "source": [
    "To prevent the program from entering an infinite loop, we must create a statement inside the while statement that will set it to false."
   ]
  },
  {
   "cell_type": "code",
   "execution_count": 2,
   "id": "pending-imaging",
   "metadata": {},
   "outputs": [
    {
     "name": "stdout",
     "output_type": "stream",
     "text": [
      "1\n",
      "2\n",
      "3\n",
      "4\n"
     ]
    }
   ],
   "source": [
    "i = 0\n",
    "while i < 4:\n",
    "    # loop statement\n",
    "    i += 1\n",
    "    print(i)\n"
   ]
  },
  {
   "cell_type": "markdown",
   "id": "adequate-producer",
   "metadata": {},
   "source": [
    "Yukarıdaki döngü kolayca daha zarif bir for döngüsüne çevrilebilirken, while döngüleri bazı koşulların karşılanıp karşılanmadığını kontrol etmek için kullanışlıdır. For ile döngü oluşturabilmek için \"iterable\" bir nesneye ihtiyaç varken, while döngüsünde bir koşul söz konusudur."
   ]
  },
  {
   "cell_type": "code",
   "execution_count": 3,
   "id": "hollywood-creator",
   "metadata": {
    "lang": "tr"
   },
   "outputs": [
    {
     "name": "stdout",
     "output_type": "stream",
     "text": [
      "1 Python Öğreniyorum\n",
      "2 Python Öğreniyorum\n",
      "3 Python Öğreniyorum\n",
      "4 Python Öğreniyorum\n",
      "5 Python Öğreniyorum\n",
      "6 Python Öğreniyorum\n",
      "7 Python Öğreniyorum\n",
      "8 Python Öğreniyorum\n",
      "9 Python Öğreniyorum\n",
      "10 Python Öğreniyorum\n",
      "11 Python Öğreniyorum\n",
      "12 Python Öğreniyorum\n",
      "13 Python Öğreniyorum\n",
      "14 Python Öğreniyorum\n",
      "15 Python Öğreniyorum\n",
      "16 Python Öğreniyorum\n",
      "17 Python Öğreniyorum\n",
      "18 Python Öğreniyorum\n",
      "19 Python Öğreniyorum\n",
      "20 Python Öğreniyorum\n",
      "21 Python Öğreniyorum\n",
      "22 Python Öğreniyorum\n",
      "23 Python Öğreniyorum\n",
      "24 Python Öğreniyorum\n",
      "25 Python Öğreniyorum\n",
      "26 Python Öğreniyorum\n",
      "27 Python Öğreniyorum\n",
      "28 Python Öğreniyorum\n",
      "29 Python Öğreniyorum\n",
      "30 Python Öğreniyorum\n",
      "31 Python Öğreniyorum\n",
      "32 Python Öğreniyorum\n",
      "33 Python Öğreniyorum\n",
      "34 Python Öğreniyorum\n",
      "35 Python Öğreniyorum\n",
      "36 Python Öğreniyorum\n",
      "37 Python Öğreniyorum\n",
      "38 Python Öğreniyorum\n",
      "39 Python Öğreniyorum\n",
      "40 Python Öğreniyorum\n"
     ]
    }
   ],
   "source": [
    "# Ekrana 40 defa \"Python Öğreniyorum\" yazdıralım.\n",
    "i = 0\n",
    "\n",
    "while (i < 40):\n",
    "    print(i+1,\"Python Öğreniyorum\")\n",
    "    i +=1"
   ]
  },
  {
   "cell_type": "code",
   "execution_count": 4,
   "id": "bc1c3116",
   "metadata": {
    "lang": "en"
   },
   "outputs": [
    {
     "name": "stdout",
     "output_type": "stream",
     "text": [
      "1 I'm Learning Python\n",
      "2 I'm Learning Python\n",
      "3 I'm Learning Python\n",
      "4 I'm Learning Python\n",
      "5 I'm Learning Python\n",
      "6 I'm Learning Python\n",
      "7 I'm Learning Python\n",
      "8 I'm Learning Python\n",
      "9 I'm Learning Python\n",
      "10 I'm Learning Python\n",
      "11 I'm Learning Python\n",
      "12 I'm Learning Python\n",
      "13 I'm Learning Python\n",
      "14 I'm Learning Python\n",
      "15 I'm Learning Python\n",
      "16 I'm Learning Python\n",
      "17 I'm Learning Python\n",
      "18 I'm Learning Python\n",
      "19 I'm Learning Python\n",
      "20 I'm Learning Python\n",
      "21 I'm Learning Python\n",
      "22 I'm Learning Python\n",
      "23 I'm Learning Python\n",
      "24 I'm Learning Python\n",
      "25 I'm Learning Python\n",
      "26 I'm Learning Python\n",
      "27 I'm Learning Python\n",
      "28 I'm Learning Python\n",
      "29 I'm Learning Python\n",
      "30 I'm Learning Python\n",
      "31 I'm Learning Python\n",
      "32 I'm Learning Python\n",
      "33 I'm Learning Python\n",
      "34 I'm Learning Python\n",
      "35 I'm Learning Python\n",
      "36 I'm Learning Python\n",
      "37 I'm Learning Python\n",
      "38 I'm Learning Python\n",
      "39 I'm Learning Python\n",
      "40 I'm Learning Python\n"
     ]
    }
   ],
   "source": [
    "# Let's print \"I'm Learning Python\" on the screen 40 times.\n",
    "i = 0\n",
    "\n",
    "while (i < 40):\n",
    "    print(i+1,\"I'm Learning Python\")\n",
    "    i +=1"
   ]
  },
  {
   "cell_type": "code",
   "execution_count": 5,
   "id": "8169c8d5",
   "metadata": {
    "lang": "en"
   },
   "outputs": [
    {
     "name": "stdout",
     "output_type": "stream",
     "text": [
      "Index: 0 Element: 1\n",
      "Index: 1 Element: 2\n",
      "Index: 2 Element: 3\n",
      "Index: 3 Element: 4\n",
      "Index: 4 Element: 5\n"
     ]
    }
   ],
   "source": [
    "# Navigating the list by index\n",
    "list = [1,2,3,4,5]\n",
    "\n",
    "a = 0\n",
    "\n",
    "while (a < len(list)):\n",
    "    print(\"Index:\",a,\"Element:\",list[a])\n",
    "    a +=1"
   ]
  },
  {
   "cell_type": "markdown",
   "id": "05afe26e",
   "metadata": {
    "lang": "en"
   },
   "source": [
    "### Using the else word with a while loop"
   ]
  },
  {
   "cell_type": "markdown",
   "id": "cff8db41",
   "metadata": {
    "lang": "en"
   },
   "source": [
    "The else statement is executed only after a while loop ends with its conditional statement being false."
   ]
  },
  {
   "cell_type": "code",
   "execution_count": 6,
   "id": "sixth-programmer",
   "metadata": {},
   "outputs": [
    {
     "name": "stdout",
     "output_type": "stream",
     "text": [
      "0\n",
      "1\n",
      "2\n",
      "Done\n"
     ]
    }
   ],
   "source": [
    "i = 0\n",
    "while i < 3:\n",
    "    print(i)\n",
    "    i += 1\n",
    "else:\n",
    "    print('Done')"
   ]
  },
  {
   "cell_type": "markdown",
   "id": "d8f971b2",
   "metadata": {
    "lang": "en"
   },
   "source": [
    "The else clause does not work if the loop ends in some other way (either by a break statement or by raising an exception):"
   ]
  },
  {
   "cell_type": "code",
   "execution_count": 1,
   "id": "shared-finish",
   "metadata": {},
   "outputs": [],
   "source": [
    "i = 0\n",
    "while i < 3:\n",
    "    if i == 1:\n",
    "        break\n",
    "    i += 1\n",
    "else:\n",
    "    print('done')"
   ]
  },
  {
   "cell_type": "markdown",
   "id": "82a8210f",
   "metadata": {},
   "source": [
    "## Pass statement in loop"
   ]
  },
  {
   "cell_type": "code",
   "execution_count": null,
   "id": "bff185eb",
   "metadata": {},
   "outputs": [],
   "source": [
    "x=3\n",
    "y=3\n",
    "while x == y:\n",
    "    pass"
   ]
  }
 ],
 "metadata": {
  "kernelspec": {
   "display_name": "Python 3 (ipykernel)",
   "language": "python",
   "name": "python3"
  },
  "language_info": {
   "codemirror_mode": {
    "name": "ipython",
    "version": 3
   },
   "file_extension": ".py",
   "mimetype": "text/x-python",
   "name": "python",
   "nbconvert_exporter": "python",
   "pygments_lexer": "ipython3",
   "version": "3.11.4"
  },
  "nbTranslate": {
   "displayLangs": [],
   "hotkey": "alt-t",
   "langInMainMenu": true,
   "sourceLang": "tr",
   "targetLang": "en",
   "useGoogleTranslate": true
  }
 },
 "nbformat": 4,
 "nbformat_minor": 5
}

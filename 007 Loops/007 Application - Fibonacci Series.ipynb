{
 "cells": [
  {
   "cell_type": "markdown",
   "id": "a45baf20",
   "metadata": {
    "lang": "en"
   },
   "source": [
    "# Fibonacci Series"
   ]
  },
  {
   "cell_type": "markdown",
   "id": "d411c948",
   "metadata": {
    "lang": "en"
   },
   "source": [
    "Fibonacci Sequence is a series of numbers obtained by adding each number with the previous number. The feature of the numbers in the Fibonacci Sequence is that when the numbers in the Fibonacci Sequence are compared with the previous ones, the resulting series progresses by approaching the golden ratio."
   ]
  },
  {
   "cell_type": "markdown",
   "id": "42e4791a",
   "metadata": {
    "lang": "en"
   },
   "source": [
    "1,1,2,3,5,8,13,21,34... it continues."
   ]
  },
  {
   "cell_type": "markdown",
   "id": "88d655e8",
   "metadata": {
    "lang": "en"
   },
   "source": [
    "Let's create a list and print the first 13 elements of the Fibonacci series into this list."
   ]
  },
  {
   "cell_type": "code",
   "execution_count": 1,
   "id": "awful-subscription",
   "metadata": {
    "lang": "tr"
   },
   "outputs": [
    {
     "name": "stdout",
     "output_type": "stream",
     "text": [
      "[1, 1, 2, 3, 5, 8, 13, 21, 34, 55, 89, 144, 233]\n"
     ]
    }
   ],
   "source": [
    "first_number = 1\n",
    "second_number = 1\n",
    "\n",
    "fibonacci = [first_number, second_number]\n",
    "\n",
    "for i in range(11):\n",
    "    first_number, second_number = second_number, first_number + second_number\n",
    "    \n",
    "    fibonacci.append(second_number)\n",
    "\n",
    "print(fibonacci)"
   ]
  }
 ],
 "metadata": {
  "kernelspec": {
   "display_name": "Python 3 (ipykernel)",
   "language": "python",
   "name": "python3"
  },
  "language_info": {
   "codemirror_mode": {
    "name": "ipython",
    "version": 3
   },
   "file_extension": ".py",
   "mimetype": "text/x-python",
   "name": "python",
   "nbconvert_exporter": "python",
   "pygments_lexer": "ipython3",
   "version": "3.11.4"
  },
  "nbTranslate": {
   "displayLangs": [],
   "hotkey": "alt-t",
   "langInMainMenu": true,
   "sourceLang": "tr",
   "targetLang": "en",
   "useGoogleTranslate": true
  }
 },
 "nbformat": 4,
 "nbformat_minor": 5
}

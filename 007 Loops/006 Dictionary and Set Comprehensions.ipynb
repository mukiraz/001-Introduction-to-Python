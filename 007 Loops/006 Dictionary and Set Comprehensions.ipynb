{
 "cells": [
  {
   "cell_type": "markdown",
   "id": "heated-verification",
   "metadata": {},
   "source": [
    "# Dictionary Comprehensions"
   ]
  },
  {
   "cell_type": "markdown",
   "id": "e0866149",
   "metadata": {
    "lang": "en"
   },
   "source": [
    "Dictionary comprehension is similar to list comprehension except that it produces a dictionary object instead of a list."
   ]
  },
  {
   "cell_type": "markdown",
   "id": "7dc446d8",
   "metadata": {
    "lang": "en"
   },
   "source": [
    "## Basic usage"
   ]
  },
  {
   "cell_type": "code",
   "execution_count": 5,
   "id": "accessible-checkout",
   "metadata": {},
   "outputs": [
    {
     "name": "stdout",
     "output_type": "stream",
     "text": [
      "{1: 1, 2: 4, 3: 9, 4: 16}\n"
     ]
    }
   ],
   "source": [
    "d = {x: x * x for x in (1, 2, 3, 4)}\n",
    "print(d)"
   ]
  },
  {
   "cell_type": "code",
   "execution_count": 6,
   "id": "6e2f0fd1",
   "metadata": {
    "lang": "en"
   },
   "outputs": [
    {
     "name": "stdout",
     "output_type": "stream",
     "text": [
      "{1: 1, 2: 4, 3: 9, 4: 16}\n"
     ]
    }
   ],
   "source": [
    "# Another method\n",
    "d2 = dict((x, x * x) for x in (1, 2, 3, 4))\n",
    "print(d2)"
   ]
  },
  {
   "cell_type": "markdown",
   "id": "4316fe09",
   "metadata": {
    "lang": "en"
   },
   "source": [
    "As with a list comprehension, we can use a conditional expression within a dict comprehension to produce only those elements of the dict that meet some criteria."
   ]
  },
  {
   "cell_type": "code",
   "execution_count": 7,
   "id": "08f04120",
   "metadata": {
    "lang": "en"
   },
   "outputs": [
    {
     "name": "stdout",
     "output_type": "stream",
     "text": [
      "{'Apple': 5, 'Peach': 5, 'Banana': 6, 'Broccoli': 8}\n"
     ]
    }
   ],
   "source": [
    "d3 = {name: len(name) for name in ('Apple', 'Peach', 'Banana','Broccoli','Leek') if len(name) > 4}\n",
    "print(d3)"
   ]
  },
  {
   "cell_type": "code",
   "execution_count": 8,
   "id": "234243d1",
   "metadata": {
    "lang": "en"
   },
   "outputs": [
    {
     "name": "stdout",
     "output_type": "stream",
     "text": [
      "{'x': 1}\n"
     ]
    }
   ],
   "source": [
    "start = {'x': 1, 'y': 2}\n",
    "end = {key: value for key, value in start.items() if key == 'x'}\n",
    "print(end)"
   ]
  },
  {
   "cell_type": "code",
   "execution_count": 9,
   "id": "designing-charity",
   "metadata": {},
   "outputs": [
    {
     "data": {
      "text/plain": [
       "{'w': 1, 'x': 2, 'y': 2, 'z': 2}"
      ]
     },
     "execution_count": 9,
     "metadata": {},
     "output_type": "execute_result"
    }
   ],
   "source": [
    "d4 = {'w': 1, 'x': 1}\n",
    "d5 = {'x': 2, 'y': 2, 'z': 2}\n",
    "{k: v for d in [d4, d5] for k, v in d.items()}"
   ]
  },
  {
   "cell_type": "markdown",
   "id": "advanced-pittsburgh",
   "metadata": {},
   "source": [
    "# Set Comprehensions"
   ]
  },
  {
   "cell_type": "code",
   "execution_count": 10,
   "id": "superior-deviation",
   "metadata": {},
   "outputs": [
    {
     "name": "stdout",
     "output_type": "stream",
     "text": [
      "{0, 1, 2, 3, 4}\n"
     ]
    }
   ],
   "source": [
    "s = {x for x in range(5)}\n",
    "print(s)"
   ]
  },
  {
   "cell_type": "code",
   "execution_count": 11,
   "id": "virgin-morning",
   "metadata": {},
   "outputs": [
    {
     "name": "stdout",
     "output_type": "stream",
     "text": [
      "{2, 4, 6, 8, 10}\n"
     ]
    }
   ],
   "source": [
    "s2={x for x in range(1, 11) if x % 2 == 0}\n",
    "print(s2)"
   ]
  },
  {
   "cell_type": "code",
   "execution_count": 12,
   "id": "4d9eb43e",
   "metadata": {
    "lang": "en"
   },
   "outputs": [
    {
     "name": "stdout",
     "output_type": "stream",
     "text": [
      "{'o', 'r', 'i', 'd', 'f', 'u', 's', 'h', 'g', 'l', 't', 'c', 'k', 'n', 'w', 'e'}\n"
     ]
    }
   ],
   "source": [
    "text = \"The truest guide in life is knowledge, science...\"\n",
    "text2={ch.lower() for ch in text if ch.isalpha()}\n",
    "print(text2)"
   ]
  }
 ],
 "metadata": {
  "kernelspec": {
   "display_name": "Python 3 (ipykernel)",
   "language": "python",
   "name": "python3"
  },
  "language_info": {
   "codemirror_mode": {
    "name": "ipython",
    "version": 3
   },
   "file_extension": ".py",
   "mimetype": "text/x-python",
   "name": "python",
   "nbconvert_exporter": "python",
   "pygments_lexer": "ipython3",
   "version": "3.11.4"
  },
  "nbTranslate": {
   "displayLangs": [],
   "hotkey": "alt-t",
   "langInMainMenu": true,
   "sourceLang": "tr",
   "targetLang": "en",
   "useGoogleTranslate": true
  }
 },
 "nbformat": 4,
 "nbformat_minor": 5
}

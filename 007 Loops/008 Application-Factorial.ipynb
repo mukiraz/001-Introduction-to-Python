{
 "cells": [
  {
   "cell_type": "markdown",
   "id": "3d131d84",
   "metadata": {
    "lang": "en"
   },
   "source": [
    "# Factorial"
   ]
  },
  {
   "cell_type": "markdown",
   "id": "ddd51639",
   "metadata": {
    "lang": "en"
   },
   "source": [
    "Factorial is the multiplication of numbers starting from 1 to a certain counting number."
   ]
  },
  {
   "cell_type": "code",
   "execution_count": 2,
   "id": "ed3c9b5c",
   "metadata": {
    "lang": "en"
   },
   "outputs": [
    {
     "name": "stdout",
     "output_type": "stream",
     "text": [
      "\n",
      "**********************************************************************\n",
      "This program finds the factorial of a number entered by the user.\n",
      "\n",
      "Please press the letter \"q\" to exit.\n",
      "**********************************************************************\n",
      "\n",
      "Please enter an integer5\n",
      "Factorial=  120\n",
      "Please enter an integerq\n",
      "The program has exited.\n"
     ]
    }
   ],
   "source": [
    "print(\"\"\"\n",
    "**********************************************************************\n",
    "This program finds the factorial of a number entered by the user.\n",
    "\n",
    "Please press the letter \"q\" to exit.\n",
    "**********************************************************************\n",
    "\"\"\", flush=True)\n",
    "\n",
    "\n",
    "# With the while True loop, the factorial of the numbers entered by the user\n",
    "# is calculated and printed on the screen until the user presses the letter q.\n",
    "while True:\n",
    "    number = input(\"Please enter an integer\")\n",
    "    if number == \"q\":\n",
    "        print(\"The program has exited.\")\n",
    "        break\n",
    "    elif not number.isdigit():\n",
    "        print(\"You entered an incorrect value\")\n",
    "    else:\n",
    "        number = int(number)\n",
    "        factorial = 1\n",
    "        if number == 0 or number == 1:\n",
    "            print(\"Factorial= \",factorial)\n",
    "        else:\n",
    "            for i in range(2, number + 1):\n",
    "                factorial *= i\n",
    "            print(\"Factorial= \",factorial)"
   ]
  },
  {
   "cell_type": "code",
   "execution_count": null,
   "id": "a928eb39",
   "metadata": {},
   "outputs": [],
   "source": []
  }
 ],
 "metadata": {
  "kernelspec": {
   "display_name": "Python 3 (ipykernel)",
   "language": "python",
   "name": "python3"
  },
  "language_info": {
   "codemirror_mode": {
    "name": "ipython",
    "version": 3
   },
   "file_extension": ".py",
   "mimetype": "text/x-python",
   "name": "python",
   "nbconvert_exporter": "python",
   "pygments_lexer": "ipython3",
   "version": "3.11.4"
  },
  "nbTranslate": {
   "displayLangs": [],
   "hotkey": "alt-t",
   "langInMainMenu": true,
   "sourceLang": "tr",
   "targetLang": "en",
   "useGoogleTranslate": true
  }
 },
 "nbformat": 4,
 "nbformat_minor": 5
}

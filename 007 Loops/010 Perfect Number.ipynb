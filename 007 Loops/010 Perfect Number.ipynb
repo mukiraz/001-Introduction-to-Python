{
 "cells": [
  {
   "cell_type": "markdown",
   "id": "f42849c2",
   "metadata": {
    "lang": "en"
   },
   "source": [
    "# Perfect Number"
   ]
  },
  {
   "cell_type": "markdown",
   "id": "51bb1e92",
   "metadata": {
    "lang": "en"
   },
   "source": [
    "In number theory, a perfect number is a number whose sum of positive divisors, excluding itself, is equal to itself. In other words, a perfect number is equal to half the sum of all its positive divisors.\n",
    "\n",
    "For example, 6 is a perfect number.\n",
    "    Positive whole divisors; 1, 2, 3, 6\n",
    "    The sum of all positive divisors excluding itself; 1 + 2 + 3 = 6\n",
    "\n",
    "You can find detailed information <a href=\"https://tr.wikipedia.org/wiki/M%C3%BCkemmel_say%C4%B1#:~:text=M%C3%BCkemmel%20say%C4%B1%2C%20say%C4%B1lar%20teorisinde%2C%20kendisi,tam%20b%C3%B6lenlerinin%20toplam%C4%B1n%C4%B1n%20yar%C4%B1s%C4%B1na%20e%C5%9Fittir.\"> from this link</a>.\n",
    " \n",
    "\n",
    "Now, let's find the perfect numbers from 1 to 10,000."
   ]
  },
  {
   "cell_type": "code",
   "execution_count": 2,
   "id": "b6624ea7",
   "metadata": {
    "lang": "en"
   },
   "outputs": [
    {
     "name": "stdout",
     "output_type": "stream",
     "text": [
      "Calculating. Please wait...\n",
      "New number found 6\n",
      "Calculation is in progress. Please wait...\n",
      "New number found 28\n",
      "Calculation is in progress. Please wait...\n",
      "New number found 496\n",
      "Calculation is in progress. Please wait...\n",
      "New number found 8128\n",
      "Calculation is in progress. Please wait...\n",
      "Calculation completed\n",
      "Perfect Numbers: [6, 28, 496, 8128]\n"
     ]
    }
   ],
   "source": [
    "perfect_numbers = list()\n",
    "number = 1\n",
    "print(\"Calculating. Please wait...\")\n",
    "while number <= 10000:\n",
    "    i = 1\n",
    "    total = 0\n",
    "    while (i < number):\n",
    "        if (number % i == 0):\n",
    "            total += i\n",
    "        i += 1\n",
    "\n",
    "    if (total == number):\n",
    "        perfect_numbers.append(number)\n",
    "        print(\"New number found\", number)\n",
    "        print(\"Calculation is in progress. Please wait...\")\n",
    "    number += 1\n",
    "print(\"Calculation completed\")\n",
    "print(\"Perfect Numbers:\",perfect_numbers)"
   ]
  },
  {
   "cell_type": "code",
   "execution_count": null,
   "id": "52a31f0c",
   "metadata": {},
   "outputs": [],
   "source": []
  }
 ],
 "metadata": {
  "kernelspec": {
   "display_name": "Python 3 (ipykernel)",
   "language": "python",
   "name": "python3"
  },
  "language_info": {
   "codemirror_mode": {
    "name": "ipython",
    "version": 3
   },
   "file_extension": ".py",
   "mimetype": "text/x-python",
   "name": "python",
   "nbconvert_exporter": "python",
   "pygments_lexer": "ipython3",
   "version": "3.11.4"
  },
  "nbTranslate": {
   "displayLangs": [],
   "hotkey": "alt-t",
   "langInMainMenu": true,
   "sourceLang": "tr",
   "targetLang": "en",
   "useGoogleTranslate": true
  }
 },
 "nbformat": 4,
 "nbformat_minor": 5
}

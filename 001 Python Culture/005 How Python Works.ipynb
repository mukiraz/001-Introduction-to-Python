{
 "cells": [
  {
   "cell_type": "markdown",
   "id": "e734b4f6",
   "metadata": {},
   "source": [
    "# Python Nasıl Çalışır?"
   ]
  },
  {
   "cell_type": "code",
   "execution_count": 1,
   "id": "ebfed07c",
   "metadata": {},
   "outputs": [
    {
     "name": "stdout",
     "output_type": "stream",
     "text": [
      "Merhaba! Ben bir Python Scriptiyim\n"
     ]
    }
   ],
   "source": [
    "print(\"Merhaba! Ben bir Python Scriptiyim\")"
   ]
  },
  {
   "cell_type": "markdown",
   "id": "cd049969",
   "metadata": {
    "lang": "tr"
   },
   "source": [
    "Yukarıdaki program aşağıdaki bölümlerden oluşmaktadır:\n",
    "\n",
    "* Baskı kelimesi;\n",
    "* Bir açılış parantezi;\n",
    "* Bir tırnak işareti;\n",
    "* Bir satır metin: Merhaba Dünya!;\n",
    "* Kaşka bir tırnak işareti;\n",
    "* Kapanış parantezi.\n",
    "Yukarıdakilerin her biri kodda çok önemli bir rol oynar."
   ]
  },
  {
   "cell_type": "markdown",
   "id": "a296983a",
   "metadata": {
    "lang": "en"
   },
   "source": [
    "The above program consists of the following sections:\n",
    "\n",
    "* The word print;\n",
    "* An opening parenthesis;\n",
    "* A quotation mark;\n",
    "* A line of text: Hello, World!;\n",
    "* Another quotation mark;\n",
    "* A closing parenthesis.\n",
    "Each of the above plays a very important role in the code."
   ]
  },
  {
   "cell_type": "markdown",
   "id": "de55a4cb",
   "metadata": {
    "lang": "tr"
   },
   "source": [
    "Burada Print bir fonksiyondur. Fonksiyon, işlevsel bir tanımlayıcıyı temsil eder. \n",
    "\n",
    "Fonksiyon kavramıyla, özellikle matematik öğretiminde, pek çok durumda karşılaşılmıştır. Sinüs veya logaritma gibi matematiksel fonksiyonların çeşitli adları muhtemelen sıralanabilir.\n",
    "\n",
    "Öte yandan Python fonksiyonları, matematiksel benzerlerine göre daha fazla esneklik gösterir ve daha kapsamlı içerik birleştirme kapasitesine sahiptir.\n",
    "\n",
    "Bu bağlamda, bir fonksiyon aşağıdaki özelliklere sahip bilgisayar kodunun ayrı bir bileşeni olarak kabul edilir:\n",
    "\n",
    "1. Matematik alanından farklı bir özellik olan belirli bir sonuca neden olur (örneğin, metni terminale iletmek, bir dosya oluşturmak, bir görüntü oluşturmak, bir ses çıkarmak vb.).\n",
    "\n",
    "2. Bir değeri değerlendirir (örneğin, bir miktarın karekökü veya sağlanan bir metnin uzunluğu) ve bunu fonksiyonun çıktısı olarak aktarır. Bu özellik Python işlevlerini matematiksel kavramlarla hizalar.\n",
    "\n",
    "Ek olarak, çok sayıda Python fonksiyonu yukarıda belirtilen iki işlevi aynı anda gerçekleştirebilir.\n",
    "\n",
    "Fonksiyonların kökenleri çeşitlidir:\n",
    "\n",
    "1. Python'un kendisinden kaynaklanmış olabilirler; print fonksiyonu bu kategoriye girer. Bu tür fonksiyonlar, Python ve çevresindeki ortamla birlikte gelen ve kullanılması için özel bir eylem (örneğin, harici kaynak isteme) gerektirmeyen doğal eklemeleri temsil eder.\n",
    "\n",
    "2. Modüller olarak bilinen bir veya daha fazla tamamlayıcı Python bileşeninden kaynaklanabilirler. Bu modüllerin bir alt kümesi Python'a önceden dahil edilmiştir, diğerleri ise ayrı kurulum gerektirir. Her iki durumda da kodunuzla açık bir bağlantı zorunludur (bu, ileriki bölümlerde açıklanacaktır).\n",
    "\n",
    "3. Sadeliğini, netliğini ve zarafetini artırmak için programınıza gerektiği kadar kendi fonksiyonlarınızı oluşturma özerkliğine sahipsiniz.\n",
    "\n",
    "Fonksiyon terminolojisinin önemi hafife alınmamalıdır (örneğin, yazdırma işlevinin adı amacını aktarır).\n",
    "\n",
    "Mevcut fonksiyonların isimlendirilmesi sizin kontrolünüz dışında olsa da, kendi işlevlerinizi oluştururken ad seçiminin titizlikle değerlendirilmesi tavsiye edilir."
   ]
  },
  {
   "cell_type": "markdown",
   "id": "42c51f6d",
   "metadata": {
    "lang": "en"
   },
   "source": [
    "Here Print is a function. Function represents a functional identifier.\n",
    "\n",
    "The concept of function has been encountered in many situations, especially in mathematics teaching. Various names of mathematical functions such as sine or logarithm can probably be listed.\n",
    "\n",
    "Python functions, on the other hand, show greater flexibility and have more comprehensive context combining capabilities than their mathematical counterparts.\n",
    "\n",
    "In this context, a function is considered a separate component of computer code with the following characteristics:\n",
    "\n",
    "1. Causes a specific result (e.g. passing text to the terminal, creating a file, creating an image, producing a sound, etc.), which is a property distinct from the domain of mathematics.\n",
    "\n",
    "2. Evaluates a value (for example, the square root of a quantity or the length of a provided text) and passes it as the output of the function. This feature aligns Python functions with mathematical concepts.\n",
    "\n",
    "Additionally, numerous Python functions can perform the two above-mentioned functions simultaneously.\n",
    "\n",
    "The origins of functions are diverse:\n",
    "\n",
    "1. They may originate from Python itself; The print function falls into this category. Such functions represent natural additions that come with Python and the surrounding environment and do not require any special action (for example, requesting an external resource) to be used.\n",
    "\n",
    "2. They may originate from one or more complementary Python components known as modules. A subset of these modules is pre-included in Python, while others require separate installation. In both cases, an explicit connection to your code is mandatory (this will be explained in later sections).\n",
    "\n",
    "3. You have the autonomy to build your own functions into your program as needed to increase its simplicity, clarity and elegance.\n",
    "\n",
    "The importance of function terminology should not be underestimated (for example, the name of the print function conveys its purpose).\n",
    "\n",
    "Although the naming of existing functions is beyond your control, it is recommended that name selection be carefully considered when creating your own functions."
   ]
  },
  {
   "cell_type": "code",
   "execution_count": 2,
   "id": "5727481b",
   "metadata": {},
   "outputs": [
    {
     "name": "stdout",
     "output_type": "stream",
     "text": [
      "\n"
     ]
    }
   ],
   "source": [
    "print() # fonksiyonu"
   ]
  },
  {
   "cell_type": "markdown",
   "id": "c0c80446",
   "metadata": {},
   "source": [
    "print() fonksiyonu\n",
    "Daha önce de söylediğimiz gibi bir fonksiyon şu özelliklere sahip olabilir:\n",
    "\n",
    "* bir etki;\n",
    "* sonuç.\n",
    "Ayrıca üçüncü, çok önemli bir işlev bileşeni daha vardır: \n",
    "* argüman(lar).\n",
    "\n",
    "Matematiksel fonksiyonlar genellikle bir argüman alır; örneğin sin(x), bir açının ölçüsü olan bir x alır.\n",
    "\n",
    "Python fonksiyonları ise daha çok yönlüdür. Bireysel ihtiyaçlara bağlı olarak, görevlerini yerine getirmek için gereken sayıda argümanı kabul edebilirler. Not: Herhangi bir sayı sıfır içerir; bazı Python fonksiyonlarının herhangi bir argümana ihtiyacı yoktur.\n",
    "\n",
    "print(\"Merhaba Dünya!\")\n",
    "\n",
    "\n",
    "İhtiyaç duyulan/sağlanan argümanların sayısına rağmen Python işlevleri, sırasıyla açılış ve kapanış olmak üzere bir çift parantez bulunmasını şiddetle talep eder.\n",
    "\n",
    "\n",
    "Bir fonksiyona bir veya daha fazla argüman iletmek istiyorsanız, bunları parantezlerin içine yerleştirirsiniz. Herhangi bir argüman almayan bir fonksiyon kullanacaksanız yine de parantezlerin olması gerekir.\n",
    "\n",
    "Not: Sıradan sözcükleri işlev adlarından ayırmak için karşılık gelen işlev bir veya daha fazla bağımsız değişken istese bile adların arkasına bir çift boş parantez koyun. Bu standart bir sözleşmedir.\n",
    "\n",
    "Burada bahsettiğimiz fonksiyon print() fonksiyonudur.\n",
    "\n",
    "Örneğimizdeki print() fonksiyonunun herhangi bir argümanı var mı?\n",
    "\n",
    "Elbette öyle ama bunlar nedir?"
   ]
  },
  {
   "cell_type": "markdown",
   "id": "52239243",
   "metadata": {},
   "source": [
    "The print() function\n",
    "As we said before, a function may have:\n",
    "\n",
    "* an effect;\n",
    "* a result.\n",
    "There's also a third, very important, function component - \n",
    "* the argument(s).\n",
    "\n",
    "Mathematical functions usually take one argument, e.g., sin(x) takes an x, which is the measure of an angle.\n",
    "\n",
    "Python functions, on the other hand, are more versatile. Depending on the individual needs, they may accept any number of arguments - as many as necessary to perform their tasks. Note: any number includes zero - some Python functions don't need any argument.\n",
    "\n",
    "print(\"Hello, World!\")\n",
    "\n",
    "\n",
    "In spite of the number of needed/provided arguments, Python functions strongly demand the presence of a pair of parentheses - opening and closing ones, respectively.\n",
    "\n",
    "\n",
    "If you want to deliver one or more arguments to a function, you place them inside the parentheses. If you're going to use a function which doesn't take any argument, you still have to have the parentheses.\n",
    "\n",
    "Note: to distinguish ordinary words from function names, place a pair of empty parentheses after their names, even if the corresponding function wants one or more arguments. This is a standard convention.\n",
    "\n",
    "The function we're talking about here is print().\n",
    "\n",
    "Does the print() function in our example have any arguments?\n",
    "\n",
    "Of course it does, but what are they?"
   ]
  },
  {
   "cell_type": "markdown",
   "id": "1415dce6",
   "metadata": {},
   "source": [
    "Yazdırma() işlevi\n",
    "İşlev adı (bu durumda yazdır), parantez ve argüman(lar)la birlikte işlev çağrısını oluşturur.\n",
    "\n",
    "Yakında bu konuyu daha derinlemesine tartışacağız, ancak şu anda bu konuyu biraz aydınlatmamız gerekiyor.\n",
    "\n",
    "print(\"Merhaba Dünya!\")\n",
    "\n",
    "\n",
    "Python aşağıdakine benzer bir çağrıyla karşılaştığında ne olur?\n",
    "\n",
    "fonksiyon_adı(argüman)\n",
    "\n",
    "\n",
    "Neler olduğuna bir bakalım:\n",
    "\n",
    "1. İlk olarak Python, belirtilen adın yasal olup olmadığını kontrol eder (adın mevcut bir işlevini bulmak için dahili verilerine göz atar; bu arama başarısız olursa Python kodu iptal eder);\n",
    "\n",
    "2. İkincisi, Python, fonksiyonun argüman sayısına ilişkin gereksinimlerinin, fonksiyonu bu şekilde çağırmanıza izin verip vermediğini kontrol eder (örneğin, belirli bir fonksiyon tam olarak iki argüman talep ediyorsa, yalnızca bir argüman sağlayan herhangi bir çağrı hatalı kabul edilecek ve kodun çağrılması iptal edilecektir). uygulamak);\n",
    "\n",
    "3. Üçüncüsü, Python bir an için kodunuzu bırakır ve çağırmak istediğiniz işleve atlar; elbette sizin argüman(lar)ınızı da alır ve onları fonksiyona iletir;\n",
    "\n",
    "4. Dördüncüsü, işlev kodunu çalıştırır, istenen etkiyi (varsa) sağlar, istenen sonucu/sonuçları (varsa) değerlendirir ve görevini tamamlar;\n",
    "\n",
    "Son olarak Python kodunuza (çağırmadan hemen sonraki yere) geri döner ve yürütülmesine devam eder."
   ]
  },
  {
   "cell_type": "markdown",
   "id": "0d304cce",
   "metadata": {},
   "source": [
    "The print() function\n",
    "The function name (print in this case) along with the parentheses and argument(s), forms the function invocation.\n",
    "\n",
    "We'll discuss this in more depth soon, but we should just shed a little light on it right now.\n",
    "\n",
    "print(\"Hello, World!\")\n",
    "\n",
    "\n",
    "\n",
    "What happens when Python encounters an invocation like this one below?\n",
    "\n",
    "function_name(argument)\n",
    "\n",
    "\n",
    "\n",
    "\n",
    "Let's see:\n",
    "\n",
    "First, Python checks if the name specified is legal (it browses its internal data in order to find an existing function of the name; if this search fails, Python aborts the code);\n",
    "second, Python checks if the function's requirements for the number of arguments allows you to invoke the function in this way (e.g., if a specific function demands exactly two arguments, any invocation delivering only one argument will be considered erroneous, and will abort the code's execution);\n",
    "third, Python leaves your code for a moment and jumps into the function you want to invoke; of course, it takes your argument(s) too and passes it/them to the function;\n",
    "fourth, the function executes its code, causes the desired effect (if any), evaluates the desired result(s) (if any) and finishes its task;\n",
    "finally, Python returns to your code (to the place just after the invocation) and resumes its execution."
   ]
  },
  {
   "cell_type": "code",
   "execution_count": null,
   "id": "c4eb0094",
   "metadata": {},
   "outputs": [],
   "source": []
  }
 ],
 "metadata": {
  "kernelspec": {
   "display_name": "Python 3 (ipykernel)",
   "language": "python",
   "name": "python3"
  },
  "language_info": {
   "codemirror_mode": {
    "name": "ipython",
    "version": 3
   },
   "file_extension": ".py",
   "mimetype": "text/x-python",
   "name": "python",
   "nbconvert_exporter": "python",
   "pygments_lexer": "ipython3",
   "version": "3.11.5"
  },
  "nbTranslate": {
   "displayLangs": [
    "en",
    "tr"
   ],
   "hotkey": "alt-t",
   "langInMainMenu": true,
   "sourceLang": "tr",
   "targetLang": "en",
   "useGoogleTranslate": true
  }
 },
 "nbformat": 4,
 "nbformat_minor": 5
}

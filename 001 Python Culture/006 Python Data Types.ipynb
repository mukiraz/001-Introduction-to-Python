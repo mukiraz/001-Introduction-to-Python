{
 "cells": [
  {
   "cell_type": "markdown",
   "id": "0c72386a",
   "metadata": {
    "lang": "tr"
   },
   "source": [
    "# Python Data Types"
   ]
  },
  {
   "cell_type": "markdown",
   "id": "a36fd1f0",
   "metadata": {
    "lang": "en"
   },
   "source": [
    "In Python, data types define the type of values ​​a variable can hold. Python has the following data types:\n",
    "\n",
    "- Basic data types:\n",
    "    - **Integers (int):** Positive or negative integers.\n",
    "    - **Decimal numbers (float):** Numbers with decimal places.\n",
    "    - **Complex numbers:** Complex numbers.\n",
    "    - **Characters (str):** Strings of characters representing a single character.\n",
    "    - **Logical values ​​(bool):** Values ​​that represent true or false values.\n",
    "- Compile time data types:\n",
    "    - **Arrays (list):** Stores variable length data.\n",
    "    - **Dictionaries (dict):** Stores key-value pairs.\n",
    "    - **Sets (set):** Stores unique items.\n",
    "    - **Tuples:** Stores fixed length data.\n",
    "    - **Data structures (collections):** Includes data structures such as lists, dictionaries, sets and tuples."
   ]
  },
  {
   "cell_type": "markdown",
   "id": "5af2a79b",
   "metadata": {
    "lang": "en"
   },
   "source": [
    "## Integers"
   ]
  },
  {
   "cell_type": "code",
   "execution_count": 2,
   "id": "26697857",
   "metadata": {},
   "outputs": [],
   "source": [
    "x = 10\n",
    "y = -123\n"
   ]
  },
  {
   "cell_type": "markdown",
   "id": "1f4f2ae8",
   "metadata": {
    "lang": "en"
   },
   "source": [
    "## Decimal numbers (float):"
   ]
  },
  {
   "cell_type": "code",
   "execution_count": 3,
   "id": "f9058ef5",
   "metadata": {},
   "outputs": [],
   "source": [
    "x = 3.14\n",
    "y = -123.456"
   ]
  },
  {
   "cell_type": "markdown",
   "id": "75d06b92",
   "metadata": {
    "lang": "en"
   },
   "source": [
    "## Characters (str):"
   ]
  },
  {
   "cell_type": "code",
   "execution_count": 4,
   "id": "e83c162b",
   "metadata": {},
   "outputs": [],
   "source": [
    "x = \"Hello world!\"\n",
    "y = \"Python\""
   ]
  },
  {
   "cell_type": "markdown",
   "id": "5266ecc8",
   "metadata": {
    "lang": "en"
   },
   "source": [
    "## Boolean values ​​(bool):"
   ]
  },
  {
   "cell_type": "code",
   "execution_count": 5,
   "id": "80d97c66",
   "metadata": {},
   "outputs": [],
   "source": [
    "x = True\n",
    "y = False"
   ]
  },
  {
   "cell_type": "markdown",
   "id": "7cc051cc",
   "metadata": {
    "lang": "en"
   },
   "source": [
    "## Arrays (list):"
   ]
  },
  {
   "cell_type": "code",
   "execution_count": 6,
   "id": "21d59e1d",
   "metadata": {},
   "outputs": [],
   "source": [
    "x = [1, 2, 3]\n",
    "y = [\"Hello\", \"World!\"]"
   ]
  },
  {
   "cell_type": "markdown",
   "id": "44032a32",
   "metadata": {
    "lang": "en"
   },
   "source": [
    "## Dictionaries (dict):"
   ]
  },
  {
   "cell_type": "code",
   "execution_count": 7,
   "id": "bb14e93d",
   "metadata": {},
   "outputs": [],
   "source": [
    "x = {\"name\": \"Murat\", \"age\": 20}\n",
    "y = {1: \"Hello\", 2: \"World!\"}"
   ]
  },
  {
   "cell_type": "markdown",
   "id": "4b9a5da5",
   "metadata": {
    "lang": "en"
   },
   "source": [
    "## Sets:"
   ]
  },
  {
   "cell_type": "code",
   "execution_count": 8,
   "id": "50567146",
   "metadata": {},
   "outputs": [],
   "source": [
    "x = {1, 2, 3}\n",
    "y = {\"Hello\", \"Wold!\"}"
   ]
  },
  {
   "cell_type": "markdown",
   "id": "4208cf37",
   "metadata": {
    "lang": "en"
   },
   "source": [
    "## Tuples (tuple):"
   ]
  },
  {
   "cell_type": "code",
   "execution_count": 9,
   "id": "9c278a1b",
   "metadata": {},
   "outputs": [],
   "source": [
    "x = (1, 2, 3)\n",
    "y = (\"Hello\", \"Wold!\")"
   ]
  },
  {
   "cell_type": "markdown",
   "id": "9ccd4f33",
   "metadata": {
    "lang": "en"
   },
   "source": [
    "## Data structures (collections):"
   ]
  },
  {
   "cell_type": "code",
   "execution_count": 10,
   "id": "52951ebd",
   "metadata": {},
   "outputs": [
    {
     "name": "stdout",
     "output_type": "stream",
     "text": [
      "Counter({'a': 3, 'M': 1, 'e': 1, 'r': 1, 'h': 1, 'b': 1, ' ': 1, 'D': 1, 'ü': 1, 'n': 1, 'y': 1, '!': 1})\n"
     ]
    }
   ],
   "source": [
    "from collections import Counter\n",
    "\n",
    "x = Counter(\"Merhaba Dünya!\")\n",
    "print(x)"
   ]
  },
  {
   "cell_type": "markdown",
   "id": "89edfeaf",
   "metadata": {
    "lang": "en"
   },
   "source": [
    "## How to check data types?"
   ]
  },
  {
   "cell_type": "markdown",
   "id": "6b054257",
   "metadata": {
    "lang": "en"
   },
   "source": [
    "You can use the following methods to check data types in Python:\n",
    "\n",
    "- **type():** Returns the data type of a variable.\n",
    "- **isinstance():** Checks whether a variable belongs to a certain data type.\n",
    "- **dir():** Returns a list of all properties and methods a variable has."
   ]
  },
  {
   "cell_type": "code",
   "execution_count": 11,
   "id": "4fef7934",
   "metadata": {},
   "outputs": [
    {
     "name": "stdout",
     "output_type": "stream",
     "text": [
      "<class 'int'>\n",
      "True\n",
      "['__abs__', '__add__', '__and__', '__bool__', '__ceil__', '__class__', '__delattr__', '__dir__', '__divmod__', '__doc__', '__eq__', '__float__', '__floor__', '__floordiv__', '__format__', '__ge__', '__getattribute__', '__getnewargs__', '__getstate__', '__gt__', '__hash__', '__index__', '__init__', '__init_subclass__', '__int__', '__invert__', '__le__', '__lshift__', '__lt__', '__mod__', '__mul__', '__ne__', '__neg__', '__new__', '__or__', '__pos__', '__pow__', '__radd__', '__rand__', '__rdivmod__', '__reduce__', '__reduce_ex__', '__repr__', '__rfloordiv__', '__rlshift__', '__rmod__', '__rmul__', '__ror__', '__round__', '__rpow__', '__rrshift__', '__rshift__', '__rsub__', '__rtruediv__', '__rxor__', '__setattr__', '__sizeof__', '__str__', '__sub__', '__subclasshook__', '__truediv__', '__trunc__', '__xor__', 'as_integer_ratio', 'bit_count', 'bit_length', 'conjugate', 'denominator', 'from_bytes', 'imag', 'numerator', 'real', 'to_bytes']\n"
     ]
    }
   ],
   "source": [
    "x = 10\n",
    "\n",
    "# type() \n",
    "print(type(x))\n",
    "# <class 'int'>\n",
    "\n",
    "# isinstance() \n",
    "print(isinstance(x, int))\n",
    "# True\n",
    "\n",
    "# dir() \n",
    "print(dir(x))\n",
    "# ['__abs__', '__add__', '__and__', '__bool__', '__ceil__', '__class__', '__delattr__', '__divmod__', '__eq__', '__float__', '__floor__', '__ge__', '__gt__', '__hash__', '__iadd__', '__idivmod__', '__imul__', '__init__', '__int__', '__invert__', '__le__', '__lt__', '__lshift__', '__mod__', '__mul__', '__ne__', '__neg__', '__or__', '__pos__', '__pow__', '__radd__', '__rand__', '__rdivmod__', '__repr__', '__rfloordiv__', '__rlshift__', '__rmod__', '__rmul__', '__ror\n"
   ]
  }
 ],
 "metadata": {
  "kernelspec": {
   "display_name": "Python 3 (ipykernel)",
   "language": "python",
   "name": "python3"
  },
  "language_info": {
   "codemirror_mode": {
    "name": "ipython",
    "version": 3
   },
   "file_extension": ".py",
   "mimetype": "text/x-python",
   "name": "python",
   "nbconvert_exporter": "python",
   "pygments_lexer": "ipython3",
   "version": "3.11.4"
  },
  "nbTranslate": {
   "displayLangs": [
    "*"
   ],
   "hotkey": "alt-t",
   "langInMainMenu": true,
   "sourceLang": "tr",
   "targetLang": "en",
   "useGoogleTranslate": true
  },
  "toc-showcode": false,
  "toc-showmarkdowntxt": false
 },
 "nbformat": 4,
 "nbformat_minor": 5
}

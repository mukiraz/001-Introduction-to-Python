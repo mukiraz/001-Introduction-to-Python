{
 "cells": [
  {
   "cell_type": "markdown",
   "id": "30d7de84",
   "metadata": {
    "lang": "en"
   },
   "source": [
    "# Variables and Variable Declaration"
   ]
  },
  {
   "cell_type": "markdown",
   "id": "78f89307",
   "metadata": {
    "lang": "en"
   },
   "source": [
    "Variables are an essential concept in a programming language. Variables are actually units that hold values ​​of a data type."
   ]
  },
  {
   "cell_type": "code",
   "execution_count": 1,
   "id": "professional-signal",
   "metadata": {},
   "outputs": [],
   "source": [
    "i = 10"
   ]
  },
  {
   "cell_type": "code",
   "execution_count": 2,
   "id": "reliable-knitting",
   "metadata": {},
   "outputs": [],
   "source": [
    "j = \"jack\""
   ]
  },
  {
   "cell_type": "code",
   "execution_count": 3,
   "id": "universal-welsh",
   "metadata": {},
   "outputs": [],
   "source": [
    "k = 3.14"
   ]
  },
  {
   "cell_type": "code",
   "execution_count": 4,
   "id": "atomic-paris",
   "metadata": {},
   "outputs": [],
   "source": [
    "c = complex(3,4)"
   ]
  },
  {
   "cell_type": "markdown",
   "id": "8f47f18f",
   "metadata": {
    "lang": "en"
   },
   "source": [
    "After creating the variable, we can print it to the screen in jupyter."
   ]
  },
  {
   "cell_type": "code",
   "execution_count": 5,
   "id": "extraordinary-evans",
   "metadata": {},
   "outputs": [
    {
     "data": {
      "text/plain": [
       "'jack'"
      ]
     },
     "execution_count": 5,
     "metadata": {},
     "output_type": "execute_result"
    }
   ],
   "source": [
    "j"
   ]
  },
  {
   "cell_type": "markdown",
   "id": "ba1b1ffe",
   "metadata": {
    "lang": "en"
   },
   "source": [
    "We can change the value of this variable. For this, we need to **assign** our new value to our variable with the **\"=\"** operator."
   ]
  },
  {
   "cell_type": "code",
   "execution_count": 6,
   "id": "engaged-shakespeare",
   "metadata": {},
   "outputs": [],
   "source": [
    "j = 3"
   ]
  },
  {
   "cell_type": "code",
   "execution_count": 7,
   "id": "improved-discovery",
   "metadata": {},
   "outputs": [
    {
     "data": {
      "text/plain": [
       "3"
      ]
     },
     "execution_count": 7,
     "metadata": {},
     "output_type": "execute_result"
    }
   ],
   "source": [
    "j"
   ]
  },
  {
   "cell_type": "markdown",
   "id": "a4032b4c",
   "metadata": {
    "lang": "en"
   },
   "source": [
    "We can assign a value to a new variable using the values ​​of old variables."
   ]
  },
  {
   "cell_type": "code",
   "execution_count": 8,
   "id": "secret-malawi",
   "metadata": {},
   "outputs": [],
   "source": [
    "l = i + k"
   ]
  },
  {
   "cell_type": "code",
   "execution_count": 9,
   "id": "parliamentary-mystery",
   "metadata": {},
   "outputs": [
    {
     "data": {
      "text/plain": [
       "13.14"
      ]
     },
     "execution_count": 9,
     "metadata": {},
     "output_type": "execute_result"
    }
   ],
   "source": [
    "l"
   ]
  },
  {
   "cell_type": "markdown",
   "id": "83672bd8",
   "metadata": {
    "lang": "en"
   },
   "source": [
    "## Naming variables"
   ]
  },
  {
   "cell_type": "markdown",
   "id": "bd69a70f",
   "metadata": {
    "lang": "en"
   },
   "source": [
    "### Python rules"
   ]
  },
  {
   "cell_type": "markdown",
   "id": "40ef2dcb",
   "metadata": {
    "lang": "en"
   },
   "source": [
    "1. Variable names cannot start with a number.\n",
    "2. If the variable name consists of words, there cannot be a space between them.\n",
    "3. :'\",<>/?|\\()!@#$%^&*~-+ The symbols here cannot be used in the variable name. (Only the _ symbol can be used)\n",
    "4. Keywords defined in Python cannot be used as variable names (while, not, etc.)."
   ]
  },
  {
   "cell_type": "code",
   "execution_count": 10,
   "id": "82a4a1d4",
   "metadata": {
    "lang": "en"
   },
   "outputs": [
    {
     "ename": "SyntaxError",
     "evalue": "invalid syntax (349209096.py, line 1)",
     "output_type": "error",
     "traceback": [
      "\u001b[1;36m  Cell \u001b[1;32mIn[10], line 1\u001b[1;36m\u001b[0m\n\u001b[1;33m    I? = 5 # This code returns an error.\u001b[0m\n\u001b[1;37m     ^\u001b[0m\n\u001b[1;31mSyntaxError\u001b[0m\u001b[1;31m:\u001b[0m invalid syntax\n"
     ]
    }
   ],
   "source": [
    "I? = 5 # This code returns an error."
   ]
  },
  {
   "cell_type": "code",
   "execution_count": 11,
   "id": "15ae8764",
   "metadata": {
    "lang": "en"
   },
   "outputs": [],
   "source": [
    "_i = 5 # This code does not throw an error."
   ]
  },
  {
   "cell_type": "code",
   "execution_count": 12,
   "id": "manufactured-value",
   "metadata": {},
   "outputs": [],
   "source": [
    "pi_number = 3.14\n",
    "diameter = 4\n",
    "perimeter = pi_number * diameter"
   ]
  },
  {
   "cell_type": "code",
   "execution_count": 13,
   "id": "placed-vertex",
   "metadata": {},
   "outputs": [
    {
     "data": {
      "text/plain": [
       "12.56"
      ]
     },
     "execution_count": 13,
     "metadata": {},
     "output_type": "execute_result"
    }
   ],
   "source": [
    "perimeter"
   ]
  },
  {
   "cell_type": "markdown",
   "id": "955d5f65",
   "metadata": {
    "lang": "en"
   },
   "source": [
    "### Clean Code Rules"
   ]
  },
  {
   "cell_type": "markdown",
   "id": "310f3b47",
   "metadata": {
    "lang": "en"
   },
   "source": [
    "- **Use descriptive names.** Variable names should be clear and concise and accurately describe the data contained in the variable. Avoid using abbreviations or abbreviations unless they are well known and widely understood.\n",
    "\n",
    "- **Use consistent naming conventions.** Choose a naming convention for your variables and stick to it. This will make your code more readable and easier to understand. For example, you can choose to use camelCase or Snake_case for your variable names.\n",
    "\n",
    "- **Avoid using global variables.** Global variables are variables that can be accessed from anywhere in your program. They can make your code difficult to understand and maintain. Instead, use local variables whenever possible. Local variables are variables that can only be accessed from within the function or scope in which they are defined.\n",
    "\n",
    "- **Declare variables where they are first used.** Declare your variables as close as possible to where they are first used. This will make your code more readable and easier to understand.\n",
    "\n",
    "- **When you declare variables, give initial values.** When you declare your variables, initialize them with a default value. This will help prevent errors and make your code more robust."
   ]
  },
  {
   "cell_type": "markdown",
   "id": "19485065",
   "metadata": {
    "lang": "en"
   },
   "source": [
    "Although programming languages ​​allow us to name variables within their own rules, it will be to our benefit to create \"human-oriented\" variables in terms of the readability of the programming language. Additionally, in order to write disciplined code, variables must be created standard."
   ]
  },
  {
   "cell_type": "markdown",
   "id": "207ed570",
   "metadata": {
    "lang": "en"
   },
   "source": [
    "#### Readability"
   ]
  },
  {
   "cell_type": "markdown",
   "id": "4102a1ab",
   "metadata": {
    "lang": "en"
   },
   "source": [
    "A good programmer should make it significantly easier for developers and analysts to understand what the system does and how to fix or extend the source code to address new needs."
   ]
  },
  {
   "cell_type": "code",
   "execution_count": 14,
   "id": "41000d03",
   "metadata": {
    "lang": "en"
   },
   "outputs": [
    {
     "ename": "NameError",
     "evalue": "name 'user_name' is not defined",
     "output_type": "error",
     "traceback": [
      "\u001b[1;31m---------------------------------------------------------------------------\u001b[0m",
      "\u001b[1;31mNameError\u001b[0m                                 Traceback (most recent call last)",
      "Cell \u001b[1;32mIn[14], line 2\u001b[0m\n\u001b[0;32m      1\u001b[0m \u001b[38;5;66;03m# Good variable names\u001b[39;00m\n\u001b[1;32m----> 2\u001b[0m user_name\n\u001b[0;32m      3\u001b[0m customer_id\n\u001b[0;32m      4\u001b[0m product_price\n",
      "\u001b[1;31mNameError\u001b[0m: name 'user_name' is not defined"
     ]
    }
   ],
   "source": [
    "# Good variable names\n",
    "user_name\n",
    "customer_id\n",
    "product_price\n",
    "total_amount\n",
    "\n",
    "# Bad Variable names\n",
    "user\n",
    "cust_id\n",
    "price\n",
    "total"
   ]
  },
  {
   "cell_type": "code",
   "execution_count": null,
   "id": "39ca8fc0",
   "metadata": {
    "lang": "en"
   },
   "outputs": [],
   "source": [
    "# Good variable names\n",
    "daily_working_hours = 3\n",
    "daily_working_wage = 5\n",
    "weekly_wage = daily_working_hour*daily_working_wage\n",
    "weekly_wage\n",
    "\n",
    "# Bad Variable names\n",
    "a = 3\n",
    "b = 5\n",
    "c = a * b\n",
    "c"
   ]
  },
  {
   "cell_type": "markdown",
   "id": "be72810b",
   "metadata": {
    "lang": "en"
   },
   "source": [
    "Good variable names are descriptive, short, and accurately describe the data the variables contain. Bad variable names are abbreviations or abbreviations and are not as descriptive as good variable names.\n",
    "\n",
    "Some examples of good and bad variable usage:"
   ]
  },
  {
   "cell_type": "code",
   "execution_count": null,
   "id": "fccae32a",
   "metadata": {
    "lang": "en"
   },
   "outputs": [],
   "source": [
    "# Good variable names\n",
    "def calculate_total_price(product_price, quantity):\n",
    "    total_price = product_price * quantity\n",
    "    return total_price\n",
    "\n",
    "# Bad Variable names\n",
    "def calculate_total_price(price, quantity):\n",
    "    total_price = price * quantity\n",
    "    return total_price"
   ]
  },
  {
   "cell_type": "markdown",
   "id": "215d216a",
   "metadata": {
    "lang": "en"
   },
   "source": [
    "Good variable usage declares the variable total_price as close as possible to where it was first used. Bad variable usage declares the variable total_price at the beginning of the function even though it is not used until the end of the function.\n",
    "\n",
    "By following these clean code rules for defining variables, you can make your code more readable, maintainable, and robust."
   ]
  },
  {
   "cell_type": "markdown",
   "id": "e7ac0285",
   "metadata": {
    "lang": "en"
   },
   "source": [
    "### Python Programming Rules"
   ]
  },
  {
   "cell_type": "markdown",
   "id": "eb4c0c13",
   "metadata": {
    "lang": "en"
   },
   "source": [
    "#### Formats in Programming"
   ]
  },
  {
   "cell_type": "markdown",
   "id": "distinguished-acquisition",
   "metadata": {},
   "source": [
    "| Formatting | Naming |\n",
    "|:-|:-|\n",
    "| twowords | flat case |\n",
    "| TWOWORDS | upper flat case |\n",
    "| twoWords | (lower) camelCase, dromedaryCase |\n",
    "| TwoWords | PascalCase,Upper Camel Case,StudlyCase |\n",
    "| two_words | snake_case, pothole_case |\n",
    "| TWO_WORDS | SCREAMING_SNAKE_CASE, MACRO_CASE, CONSTANT_CASE |\n",
    "| two_Words | camel_Snake_Case |\n",
    "| Two_Words | Pascal_Snake_Case |\n",
    "| two-words | kebab-case, dash-case, lisp-case |\n",
    "| Two-Words | rain-Case HTTP-Header-Case |"
   ]
  },
  {
   "cell_type": "markdown",
   "id": "41bd03c3",
   "metadata": {
    "lang": "en"
   },
   "source": [
    "Although these formats are not universal, they are accepted formats."
   ]
  },
  {
   "cell_type": "markdown",
   "id": "40ecca99",
   "metadata": {
    "lang": "en"
   },
   "source": [
    "#### Formats we will use in Python"
   ]
  },
  {
   "cell_type": "markdown",
   "id": "f40c80c2",
   "metadata": {
    "lang": "en"
   },
   "source": [
    "**Variable/Function names:** snake_case, pothole_case\n",
    "\n",
    "**Constants:** with SCREAMING_SNAKE_CASE, MACRO_CASE, CONSTANT_CASE\n",
    "\n",
    "**Classes:** (lower) camelCase with dromedaryCase"
   ]
  },
  {
   "cell_type": "markdown",
   "id": "c9c47b2a",
   "metadata": {
    "lang": "en"
   },
   "source": [
    "### Shortcuts"
   ]
  },
  {
   "cell_type": "markdown",
   "id": "ce0dab14",
   "metadata": {
    "lang": "en"
   },
   "source": [
    "#### Assigning multiple values ​​to multiple variables"
   ]
  },
  {
   "cell_type": "code",
   "execution_count": 15,
   "id": "stopped-valley",
   "metadata": {},
   "outputs": [],
   "source": [
    "a, b, c = 5, 3.2, \"Hello\""
   ]
  },
  {
   "cell_type": "code",
   "execution_count": 16,
   "id": "organized-singer",
   "metadata": {},
   "outputs": [
    {
     "name": "stdout",
     "output_type": "stream",
     "text": [
      "5\n",
      "3.2\n",
      "Hello\n"
     ]
    }
   ],
   "source": [
    "print(a)\n",
    "print(b)\n",
    "print(c)"
   ]
  },
  {
   "cell_type": "markdown",
   "id": "7b370d0b",
   "metadata": {
    "lang": "en"
   },
   "source": [
    "#### Assigning the same value to multiple variables at once"
   ]
  },
  {
   "cell_type": "code",
   "execution_count": 17,
   "id": "761f76a8",
   "metadata": {
    "lang": "en"
   },
   "outputs": [
    {
     "name": "stdout",
     "output_type": "stream",
     "text": [
      "same\n",
      "same\n",
      "same\n"
     ]
    }
   ],
   "source": [
    "x = y = z = \"same\"\n",
    "\n",
    "print(x)\n",
    "print(y)\n",
    "print(z)"
   ]
  },
  {
   "cell_type": "markdown",
   "id": "659857d7",
   "metadata": {
    "lang": "en"
   },
   "source": [
    "#### Interchanging the values ​​of two variables in Python"
   ]
  },
  {
   "cell_type": "code",
   "execution_count": 18,
   "id": "republican-print",
   "metadata": {},
   "outputs": [],
   "source": [
    "a, b = b, a"
   ]
  },
  {
   "cell_type": "code",
   "execution_count": 19,
   "id": "palestinian-thought",
   "metadata": {},
   "outputs": [
    {
     "data": {
      "text/plain": [
       "3.2"
      ]
     },
     "execution_count": 19,
     "metadata": {},
     "output_type": "execute_result"
    }
   ],
   "source": [
    "a"
   ]
  },
  {
   "cell_type": "code",
   "execution_count": 20,
   "id": "short-german",
   "metadata": {},
   "outputs": [
    {
     "data": {
      "text/plain": [
       "5"
      ]
     },
     "execution_count": 20,
     "metadata": {},
     "output_type": "execute_result"
    }
   ],
   "source": [
    "b"
   ]
  },
  {
   "cell_type": "markdown",
   "id": "8a1e8682",
   "metadata": {
    "lang": "en"
   },
   "source": [
    "#### Increasing the value of a variable"
   ]
  },
  {
   "cell_type": "code",
   "execution_count": 21,
   "id": "saved-adoption",
   "metadata": {},
   "outputs": [
    {
     "data": {
      "text/plain": [
       "6"
      ]
     },
     "execution_count": 21,
     "metadata": {},
     "output_type": "execute_result"
    }
   ],
   "source": [
    "x = 5\n",
    "x =x + 1\n",
    "x"
   ]
  },
  {
   "cell_type": "markdown",
   "id": "674bc59d",
   "metadata": {
    "lang": "en"
   },
   "source": [
    "or "
   ]
  },
  {
   "cell_type": "code",
   "execution_count": 22,
   "id": "every-military",
   "metadata": {},
   "outputs": [
    {
     "data": {
      "text/plain": [
       "6"
      ]
     },
     "execution_count": 22,
     "metadata": {},
     "output_type": "execute_result"
    }
   ],
   "source": [
    "x = 5\n",
    "x += 1\n",
    "x"
   ]
  },
  {
   "cell_type": "markdown",
   "id": "61e11eff",
   "metadata": {
    "lang": "en"
   },
   "source": [
    "We can do this with other arithmetic operators as well."
   ]
  },
  {
   "cell_type": "code",
   "execution_count": 23,
   "id": "sudden-generator",
   "metadata": {},
   "outputs": [
    {
     "data": {
      "text/plain": [
       "30"
      ]
     },
     "execution_count": 23,
     "metadata": {},
     "output_type": "execute_result"
    }
   ],
   "source": [
    "y = 10\n",
    "y *= 3\n",
    "y"
   ]
  }
 ],
 "metadata": {
  "kernelspec": {
   "display_name": "Python 3 (ipykernel)",
   "language": "python",
   "name": "python3"
  },
  "language_info": {
   "codemirror_mode": {
    "name": "ipython",
    "version": 3
   },
   "file_extension": ".py",
   "mimetype": "text/x-python",
   "name": "python",
   "nbconvert_exporter": "python",
   "pygments_lexer": "ipython3",
   "version": "3.11.4"
  },
  "nbTranslate": {
   "displayLangs": [
    "*"
   ],
   "hotkey": "alt-t",
   "langInMainMenu": true,
   "sourceLang": "tr",
   "targetLang": "en",
   "useGoogleTranslate": true
  }
 },
 "nbformat": 4,
 "nbformat_minor": 5
}

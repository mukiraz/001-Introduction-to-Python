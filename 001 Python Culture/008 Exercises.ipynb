{
 "cells": [
  {
   "cell_type": "markdown",
   "id": "7730a27a",
   "metadata": {},
   "source": [
    "# Egzersizler"
   ]
  },
  {
   "cell_type": "markdown",
   "id": "d77e763c",
   "metadata": {},
   "source": [
    "## 1. Python'a adapte olmak\n",
    "\n",
    "Ekrana \"Merhaba Python!\" satırını yazdırmak için print() işlevini kullanın. Dizenin etrafında çift tırnak işareti kullanın;"
   ]
  },
  {
   "cell_type": "code",
   "execution_count": 1,
   "id": "2b033922",
   "metadata": {},
   "outputs": [],
   "source": [
    "# Kodunuzu buraya yazın\n"
   ]
  },
  {
   "cell_type": "markdown",
   "id": "3f6f7888",
   "metadata": {},
   "source": [
    "Bunu yaptıktan sonra print() işlevini tekrar kullanın, ancak bu sefer adınızı yazdırın;"
   ]
  },
  {
   "cell_type": "code",
   "execution_count": 1,
   "id": "c3aade6b",
   "metadata": {},
   "outputs": [],
   "source": [
    "# Kodunuzu buraya yazın\n"
   ]
  },
  {
   "cell_type": "markdown",
   "id": "8921f745",
   "metadata": {},
   "source": [
    "Çift tırnak işaretlerini kaldırın ve kodunuzu çalıştırın. Python'un tepkisini izleyin. Ne tür bir hata atılıyor?"
   ]
  },
  {
   "cell_type": "code",
   "execution_count": 1,
   "id": "f9d4b0f3",
   "metadata": {},
   "outputs": [],
   "source": [
    "# Kodunuzu buraya yazın\n"
   ]
  },
  {
   "cell_type": "markdown",
   "id": "fad9e974",
   "metadata": {},
   "source": [
    "Ardından parantezleri kaldırın, çift tırnak işaretlerini geri koyun ve kodunuzu yeniden çalıştırın. Bu sefer ne tür bir hata atılıyor?"
   ]
  },
  {
   "cell_type": "code",
   "execution_count": 1,
   "id": "be9ab042",
   "metadata": {},
   "outputs": [],
   "source": [
    "# Kodunuzu buraya yazın\n"
   ]
  },
  {
   "cell_type": "markdown",
   "id": "92d3d0f9",
   "metadata": {},
   "source": [
    "Çift tırnak işaretini tek tırnak işaretine dönüştürün, aynı satırda ve ardından farklı satırlarda birden fazla print() işlevi kullanın. Ne oluyor?"
   ]
  },
  {
   "cell_type": "code",
   "execution_count": 1,
   "id": "2cbc1dee",
   "metadata": {},
   "outputs": [],
   "source": [
    "# Kodunuzu buraya yazın\n"
   ]
  },
  {
   "cell_type": "markdown",
   "id": "52d8b77b",
   "metadata": {},
   "source": [
    "## 2. Değişken Tanımlama\n",
    "\n",
    "1. Şu değişkenleri oluşturun: ahmet, mehmet, hasan;\n",
    "2. Değişkenlere değer atayın. Değerler sırasıyla ahmet, mehmet, hasan'in sahip olduğu meyve sayılarına eşit olmalıdır. İstediğiniz değeri verin;\n",
    "3. Sayıları değişkenlere kaydettikten sonra değişkenleri bir satıra yazdırın ve her birini virgülle ayırın;\n",
    "4. Şimdi önceki üç değişkenin toplamına eşit olan total_apples adında yeni bir değişken oluşturun.\n",
    "5. total_apples'ta saklanan değeri konsola yazdırın;\n",
    "6. kodunuzla denemeler yapın: yeni değişkenler oluşturun, onlara farklı değerler atayın ve üzerlerinde çeşitli aritmetik işlemler gerçekleştirin (örneğin, +, -, *, /, // vb.). Bir dizeyi ve bir tam sayıyı birlikte tek bir satıra yazdırmayı deneyin; örneğin, \"Toplam elma sayısı:\" ve toplam_elmalar."
   ]
  },
  {
   "cell_type": "code",
   "execution_count": null,
   "id": "1374c349",
   "metadata": {},
   "outputs": [],
   "source": [
    "# Kodunuzu buraya yazın\n"
   ]
  },
  {
   "cell_type": "markdown",
   "id": "ec46d957",
   "metadata": {},
   "source": [
    "## 3. Basit Dönüşümler\n",
    "\n",
    "Mil ve kilometre uzunluk veya mesafe birimleridir.\n",
    "\n",
    "1 mil yaklaşık 1,61 kilometreye eşittir.\n",
    "\n",
    "milden - kilometreye;\n",
    "kilometreden mile.\n",
    "\n",
    "Mevcut kodda hiçbir şeyi değiştirmeyin. ### ile belirtilen yerlere kodunuzu yazın. Programınızı kaynak kodunda sağladığımız verilerle test edin.\n",
    "\n",
    "\n",
    "print() fonksiyonunun içinde olup bitenlere özellikle dikkat edin. Fonksiyona nasıl birden fazla argüman sağladığımızı ve beklenen verileri nasıl çıkardığımızı analiz edin.\n",
    "\n",
    "print() fonksiyonu içindeki bazı bağımsız değişkenlerin dize olduğunu (örneğin, \"miles is\"), diğer bazılarının ise değişken (örneğin mil) olduğunu unutmayın.\n",
    "\n",
    "İPUCU\n",
    "\n",
    "Aşağıdaki kodda, print() fonksiyonunun içinde başka bir fonksiyon vardır. Bu, round() fonksiyonudur. Görevi, çıktı sonucunu parantez içinde belirtilen ondalık basamak sayısına yuvarlamak ve bir ondalıklı sayıya döndürmektir (round() işlevinin içinde değişkenin adını, virgülünü ve hedeflediğimiz ondalık basamak sayısını bulabilirsiniz). Çok yakında fonksiyonlar hakkında konuşacağız, bu yüzden henüz her şeyin tam olarak netleşmeyebileceğinden endişelenmeyin. Sadece merakınızı uyandırmak istiyoruz."
   ]
  },
  {
   "cell_type": "code",
   "execution_count": null,
   "id": "53b70969",
   "metadata": {},
   "outputs": [],
   "source": [
    "kilometers = 12.25\n",
    "miles = 7.38\n",
    "\n",
    "miles_to_kilometers = ###\n",
    "kilometers_to_miles = ###\n",
    "\n",
    "print(miles, \"miles is\", round(miles_to_kilometers, 2), \"kilometers\")\n",
    "print(kilometers, \"kilometers is\", round(kilometers_to_miles, 2), \"miles\")"
   ]
  },
  {
   "cell_type": "raw",
   "id": "483aba30",
   "metadata": {},
   "source": [
    "Beklenen çıktı\n",
    "7,38 mil 11,88 kilometredir\n",
    "12,25 kilometre 7,61 mildir"
   ]
  },
  {
   "cell_type": "markdown",
   "id": "4af3d611",
   "metadata": {},
   "source": [
    "## 4. Polinom\n",
    "\n",
    "Aşağıdaki koda bir göz atın: kondalıklı sayıyı okur, onu x adlı bir değişkene koyar ve y adlı bir değişkenin değerini yazdırır. Göreviniz aşağıdaki ifadeyi oluşturmaktır:\n",
    "\n",
    "3x3 - 2x2 + 3x - 1\n",
    "\n",
    "Sonuç y'ye atanmalıdır.\n",
    "\n",
    "Klasik cebirsel gösterimin çarpma operatörünü atlamayı sevdiğini unutmayın; bunu açıkça kullanmanız gerekir. X'in float türünde olduğundan emin olmak için veri türünü nasıl değiştirdiğimizi unutmayın.\n",
    "\n",
    "Kodunuzu temiz ve okunabilir tutun ve sağladığımız verileri kullanarak, her seferinde x değişkenine atayarak (kodlayarak) test edin."
   ]
  },
  {
   "cell_type": "raw",
   "id": "c5bcb833",
   "metadata": {},
   "source": [
    "Örnek Girdiler\n",
    "\n",
    "x = 0\n",
    "x = 1\n",
    "x = -1\n",
    "\n",
    "Beklenen Çıktılar\n",
    "\n",
    "y = -1.0\n",
    "y = 3.0\n",
    "y = -9.0"
   ]
  },
  {
   "cell_type": "code",
   "execution_count": null,
   "id": "68a9e610",
   "metadata": {},
   "outputs": [],
   "source": [
    "x =  # test verisini buraya girin\n",
    "x = float(x)\n",
    "# kodunuzu buraya yazın\n",
    "\n",
    "\n",
    "\n",
    "print(\"y =\", y)"
   ]
  }
 ],
 "metadata": {
  "kernelspec": {
   "display_name": "Python 3 (ipykernel)",
   "language": "python",
   "name": "python3"
  },
  "language_info": {
   "codemirror_mode": {
    "name": "ipython",
    "version": 3
   },
   "file_extension": ".py",
   "mimetype": "text/x-python",
   "name": "python",
   "nbconvert_exporter": "python",
   "pygments_lexer": "ipython3",
   "version": "3.11.5"
  },
  "nbTranslate": {
   "displayLangs": [
    "en",
    "tr"
   ],
   "hotkey": "alt-t",
   "langInMainMenu": true,
   "sourceLang": "tr",
   "targetLang": "en",
   "useGoogleTranslate": true
  }
 },
 "nbformat": 4,
 "nbformat_minor": 5
}

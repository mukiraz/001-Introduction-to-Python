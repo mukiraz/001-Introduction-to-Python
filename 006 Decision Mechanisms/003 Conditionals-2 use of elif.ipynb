{
 "cells": [
  {
   "cell_type": "markdown",
   "id": "a8766c27",
   "metadata": {
    "lang": "en"
   },
   "source": [
    "# Conditionals - 2\n",
    "\n",
    "# use of elif"
   ]
  },
  {
   "cell_type": "markdown",
   "id": "97ca658c",
   "metadata": {
    "lang": "en"
   },
   "source": [
    "In our previous topic, we learned our **if - else** patterns in conditional situations. In this section, we will learn **if - elif - else** patterns."
   ]
  },
  {
   "cell_type": "markdown",
   "id": "6f5c29a4",
   "metadata": {
    "lang": "en"
   },
   "source": [
    "We could only check one condition with **if - else**. However, different procedures may be required for many conditions in our programs. For example, when we write a calculator program, we can determine our conditions based on the transactions entered by the user. In such cases, we use *if - elif - else* patterns. Its usage is as follows;\n",
    "\n",
    "               if condition:\n",
    "                   get_something_1()\n",
    "               elif another condition:\n",
    "                   get_something_2()\n",
    "               elif another condition:\n",
    "                   get_something_3()\n",
    "                   \n",
    "                    //\n",
    "                    //\n",
    "               else:\n",
    "                   get_something_3()\n",
    "                   \n",
    "We can create as many **elif** blocks as many conditions are needed in our programs. Also, writing **else** is not mandatory. *if - elif - else* blocks are checked in order and whichever condition is met first, the program runs that block and if-elif-blocks end.\n",
    "Now, if you want, let's start learning this pattern with a program that allows the user to choose an action."
   ]
  },
  {
   "cell_type": "code",
   "execution_count": 2,
   "id": "b5f92d29",
   "metadata": {
    "lang": "en"
   },
   "outputs": [
    {
     "name": "stdout",
     "output_type": "stream",
     "text": [
      "Select operation:1\n",
      "Transaction 1 selected.\n"
     ]
    }
   ],
   "source": [
    "operation = int(input(\"Select operation:\")) # Let's have 3 operations.\n",
    "\n",
    "# Is the entered value 1?\n",
    "if operation == 1:\n",
    "    print(\"Transaction 1 selected.\")\n",
    "# Is the entered value 2?\n",
    "elif operation == 2:\n",
    "    print(\"2nd operation selected.\")\n",
    "# Is the entered value 3?\n",
    "elif operation == 3:\n",
    "    print(\"3rd operation selected.\")\n",
    "# Is the entered value 1,2,or not?\n",
    "else:\n",
    "    print(\"Invalid Transaction!\")"
   ]
  },
  {
   "cell_type": "markdown",
   "id": "58f85df2",
   "metadata": {
    "lang": "en"
   },
   "source": [
    "### Important"
   ]
  },
  {
   "cell_type": "markdown",
   "id": "a5e6a928",
   "metadata": {
    "lang": "en"
   },
   "source": [
    "It is not possible to write elif blocks without the if condition. Such use of this process in Python will cause an error."
   ]
  },
  {
   "cell_type": "code",
   "execution_count": 4,
   "id": "c2c86914",
   "metadata": {
    "lang": "en"
   },
   "outputs": [
    {
     "ename": "SyntaxError",
     "evalue": "invalid syntax (3258863581.py, line 3)",
     "output_type": "error",
     "traceback": [
      "\u001b[1;36m  Cell \u001b[1;32mIn[4], line 3\u001b[1;36m\u001b[0m\n\u001b[1;33m    elif operation == 2: # Here gives error\u001b[0m\n\u001b[1;37m    ^\u001b[0m\n\u001b[1;31mSyntaxError\u001b[0m\u001b[1;31m:\u001b[0m invalid syntax\n"
     ]
    }
   ],
   "source": [
    "operation = int(input(\"Select operation:\")) # Let's have 3 operations.\n",
    "\n",
    "elif operation == 2: # Here gives error\n",
    "    print(\"2nd operation selected.\")\n",
    "elif action == 3:\n",
    "    print(\"3rd operation selected.\")\n",
    "else:\n",
    "    print(\"Invalid Transaction!\")"
   ]
  },
  {
   "cell_type": "code",
   "execution_count": null,
   "id": "7c7361ad",
   "metadata": {},
   "outputs": [],
   "source": []
  }
 ],
 "metadata": {
  "kernelspec": {
   "display_name": "Python 3 (ipykernel)",
   "language": "python",
   "name": "python3"
  },
  "language_info": {
   "codemirror_mode": {
    "name": "ipython",
    "version": 3
   },
   "file_extension": ".py",
   "mimetype": "text/x-python",
   "name": "python",
   "nbconvert_exporter": "python",
   "pygments_lexer": "ipython3",
   "version": "3.11.4"
  },
  "nbTranslate": {
   "displayLangs": [],
   "hotkey": "alt-t",
   "langInMainMenu": true,
   "sourceLang": "tr",
   "targetLang": "en",
   "useGoogleTranslate": true
  }
 },
 "nbformat": 4,
 "nbformat_minor": 5
}

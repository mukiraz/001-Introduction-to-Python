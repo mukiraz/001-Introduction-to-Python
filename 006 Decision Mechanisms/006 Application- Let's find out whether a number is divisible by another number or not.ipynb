{
 "cells": [
  {
   "cell_type": "markdown",
   "id": "d4faba31",
   "metadata": {
    "lang": "en"
   },
   "source": [
    "# Let's find out whether a number is divisible by another number or not"
   ]
  },
  {
   "cell_type": "markdown",
   "id": "44bee198",
   "metadata": {
    "lang": "en"
   },
   "source": [
    "## Duty"
   ]
  },
  {
   "cell_type": "markdown",
   "id": "cfa78507",
   "metadata": {
    "lang": "en"
   },
   "source": [
    "Let's ask the user for two numbers. Let the first thing we want be the number to be divided and the second thing we want is the divisor number. If the number to be divided divides the divisor number exactly, \"The number... divides the number .... exactly\" is printed on the screen. Otherwise, print \"... Number cannot divide the number of ....\""
   ]
  },
  {
   "cell_type": "markdown",
   "id": "14f3d8b3",
   "metadata": {
    "lang": "en"
   },
   "source": [
    "## example"
   ]
  },
  {
   "cell_type": "markdown",
   "id": "b3cdd319",
   "metadata": {
    "lang": "en"
   },
   "source": [
    "Is the number 256 divisible by the number 16?\n",
    "\n",
    "Answer=Yes. 256/16=16 and remainder 0"
   ]
  },
  {
   "cell_type": "code",
   "execution_count": 1,
   "id": "cd739ae7",
   "metadata": {
    "lang": "en"
   },
   "outputs": [
    {
     "name": "stdout",
     "output_type": "stream",
     "text": [
      "\n",
      "#######################################################################\n",
      "\n",
      "This program returns a number entered by the user.\n",
      "It tells you whether the number entered is divisible by another number.\n",
      "\n",
      "#######################################################################\n",
      "\n",
      "Please enter the number to be divided:5\n",
      "Please enter the divisor number:10\n",
      "The number 10 cannot divide the number 5 exactly. Division=0.500 Remainder=5\n"
     ]
    }
   ],
   "source": [
    "print(\"\"\"\n",
    "#######################################################################\n",
    "\n",
    "This program returns a number entered by the user.\n",
    "It tells you whether the number entered is divisible by another number.\n",
    "\n",
    "#######################################################################\n",
    "\"\"\")\n",
    "\n",
    "\n",
    "be_divided = int(input(\"Please enter the number to be divided:\"))\n",
    "divisor = int(input(\"Please enter the divisor number:\"))\n",
    "\n",
    "remaining = be_divided % divisor\n",
    "\n",
    "if remaining == 0:\n",
    "    print(\"The number {} divides the number {} exactly. Division={}\".format(divisor,be_divided,be_divided/divisor))\n",
    "else:\n",
    "    print(\"The number {} cannot divide the number {} exactly. Division={:.3f} Remainder={}\".format(divisor,be_divided,be_divided/divisor,remaining))"
   ]
  },
  {
   "cell_type": "code",
   "execution_count": null,
   "id": "driving-aging",
   "metadata": {},
   "outputs": [],
   "source": []
  }
 ],
 "metadata": {
  "kernelspec": {
   "display_name": "Python 3 (ipykernel)",
   "language": "python",
   "name": "python3"
  },
  "language_info": {
   "codemirror_mode": {
    "name": "ipython",
    "version": 3
   },
   "file_extension": ".py",
   "mimetype": "text/x-python",
   "name": "python",
   "nbconvert_exporter": "python",
   "pygments_lexer": "ipython3",
   "version": "3.11.4"
  },
  "nbTranslate": {
   "displayLangs": [],
   "hotkey": "alt-t",
   "langInMainMenu": true,
   "sourceLang": "tr",
   "targetLang": "en",
   "useGoogleTranslate": true
  }
 },
 "nbformat": 4,
 "nbformat_minor": 5
}

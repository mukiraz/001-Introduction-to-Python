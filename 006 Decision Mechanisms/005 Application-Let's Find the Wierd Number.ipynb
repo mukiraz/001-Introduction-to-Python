{
 "cells": [
  {
   "cell_type": "markdown",
   "id": "26923a02",
   "metadata": {
    "lang": "en"
   },
   "source": [
    "# Finding Odd Integer"
   ]
  },
  {
   "cell_type": "markdown",
   "id": "68cc39fb",
   "metadata": {
    "lang": "en"
   },
   "source": [
    "## Duty"
   ]
  },
  {
   "cell_type": "markdown",
   "id": "275b9ea2",
   "metadata": {
    "lang": "en"
   },
   "source": [
    "Ask the user for an integer and print \"Strange\" if this number meets the following conditions.\n",
    "Even if it does not meet these conditions, it should print \"Not Strange\".\n",
    "\n",
    "1. If the entered number is odd, write \"Strange\"\n",
    "2. If the entered number is even and in the range of 2-5 (including 2 and 5), write \"Not strange\".\n",
    "3. If the entered number is even and in the range 6-20 (including 6 and 20), write \"Strange\".\n",
    "4. If the entered number is even and greater than 20 (20 is not included), write \"Not strange\"."
   ]
  },
  {
   "cell_type": "markdown",
   "id": "109087d5",
   "metadata": {
    "lang": "en"
   },
   "source": [
    "## Example"
   ]
  },
  {
   "cell_type": "markdown",
   "id": "37ec6068",
   "metadata": {
    "lang": "en"
   },
   "source": [
    "1. Number entered: 1 Result: \"Strange\"\n",
    "2. Number entered: 2 Result: \"Not Strange\"\n",
    "3. Number entered: 3 Result: \"Not Strange\"\n",
    "4. Number entered: 4 Result: \"Not Strange\"\n",
    "5. Number entered: 5 Result: \"Not Strange\"\n",
    "6. Number entered: 6 Result: \"Strange\"\n",
    "7. Number entered: 7 Result: \"Strange\"\n",
    "8. Number entered: 8 Result: \"Strange\"\n",
    "9.\n",
    "10.\n",
    "11.\n",
    "12. Number entered: 24 Result: \"Not Strange\""
   ]
  },
  {
   "cell_type": "code",
   "execution_count": 3,
   "id": "43918b43",
   "metadata": {
    "lang": "en"
   },
   "outputs": [
    {
     "name": "stdout",
     "output_type": "stream",
     "text": [
      "\n",
      "This program finds whether a number is odd or not.\n",
      "\n",
      "\n",
      "Please enter an integer8\n",
      "Strange\n"
     ]
    }
   ],
   "source": [
    "print(\"\"\"\n",
    "This program finds whether a number is odd or not.\n",
    "\n",
    "\"\"\")\n",
    "\n",
    "input_value = int(input(\"Please enter an integer\"))\n",
    "\n",
    "if (input_value % 2) == 1:\n",
    "    state = \"Strange\"\n",
    "else:\n",
    "    if ((input_value >= 2) and (input_value <= 5)):\n",
    "        state = \"It's not strange\"\n",
    "    elif ((input_value >= 6) and (input_value <= 20)):\n",
    "        state = \"Strange\"\n",
    "    else:\n",
    "        state = \"It's not strange\"\n",
    "\n",
    "print(state)"
   ]
  }
 ],
 "metadata": {
  "kernelspec": {
   "display_name": "Python 3 (ipykernel)",
   "language": "python",
   "name": "python3"
  },
  "language_info": {
   "codemirror_mode": {
    "name": "ipython",
    "version": 3
   },
   "file_extension": ".py",
   "mimetype": "text/x-python",
   "name": "python",
   "nbconvert_exporter": "python",
   "pygments_lexer": "ipython3",
   "version": "3.11.4"
  },
  "nbTranslate": {
   "displayLangs": [],
   "hotkey": "alt-t",
   "langInMainMenu": true,
   "sourceLang": "tr",
   "targetLang": "en",
   "useGoogleTranslate": true
  }
 },
 "nbformat": 4,
 "nbformat_minor": 5
}

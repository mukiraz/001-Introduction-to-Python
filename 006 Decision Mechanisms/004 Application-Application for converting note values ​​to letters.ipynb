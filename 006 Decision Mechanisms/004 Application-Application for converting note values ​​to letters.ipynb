{
 "cells": [
  {
   "cell_type": "code",
   "execution_count": 1,
   "id": "8e1bc936",
   "metadata": {
    "lang": "en"
   },
   "outputs": [
    {
     "name": "stdout",
     "output_type": "stream",
     "text": [
      "\n",
      "##############################################\n",
      "#                                            #\n",
      "# This program gives the letter equivalent   # \n",
      "# of the grade entered by the student.       #\n",
      "#                                            #\n",
      "##############################################\n",
      "\n",
      "\n",
      "Enter your note:1\n",
      "You Failed the Course\n"
     ]
    }
   ],
   "source": [
    "print(\"\"\"\n",
    "##############################################\n",
    "#                                            #\n",
    "# This program gives the letter equivalent   # \n",
    "# of the grade entered by the student.       #\n",
    "#                                            #\n",
    "##############################################\n",
    "\n",
    "\"\"\")\n",
    "note = float(input(\"Enter your note:\"))\n",
    "\n",
    "if note >= 90:\n",
    "    print(\"AA\")\n",
    "elif note >= 85:\n",
    "    print(\"BA\")\n",
    "elif note >= 90:\n",
    "    print(\"BA\")\n",
    "elif note >= 80:\n",
    "    print(\"BB\")\n",
    "elif note >= 75:\n",
    "    print(\"CB\")\n",
    "elif note >= 70:\n",
    "    print(\"CC\")\n",
    "elif note >= 65:\n",
    "    print(\"DC\")\n",
    "elif note >= 60:\n",
    "    print(\"DD\")\n",
    "else:\n",
    "    print(\"You Failed the Course\")"
   ]
  },
  {
   "cell_type": "code",
   "execution_count": null,
   "id": "grateful-developer",
   "metadata": {},
   "outputs": [],
   "source": []
  }
 ],
 "metadata": {
  "kernelspec": {
   "display_name": "Python 3 (ipykernel)",
   "language": "python",
   "name": "python3"
  },
  "language_info": {
   "codemirror_mode": {
    "name": "ipython",
    "version": 3
   },
   "file_extension": ".py",
   "mimetype": "text/x-python",
   "name": "python",
   "nbconvert_exporter": "python",
   "pygments_lexer": "ipython3",
   "version": "3.11.4"
  },
  "nbTranslate": {
   "displayLangs": [],
   "hotkey": "alt-t",
   "langInMainMenu": true,
   "sourceLang": "tr",
   "targetLang": "en",
   "useGoogleTranslate": true
  }
 },
 "nbformat": 4,
 "nbformat_minor": 5
}

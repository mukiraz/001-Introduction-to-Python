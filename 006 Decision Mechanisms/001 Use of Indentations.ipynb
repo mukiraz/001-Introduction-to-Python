{
 "cells": [
  {
   "cell_type": "markdown",
   "id": "e901e08b",
   "metadata": {
    "lang": "en"
   },
   "source": [
    "# Python Programming Logic"
   ]
  },
  {
   "cell_type": "markdown",
   "id": "eb029d22",
   "metadata": {
    "lang": "en"
   },
   "source": [
    "So far, we have seen the basic data structures in Python. Now we will start performing operations with these data structures."
   ]
  },
  {
   "cell_type": "markdown",
   "id": "385de4b8",
   "metadata": {
    "lang": "en"
   },
   "source": [
    "## Working logic of Python Programs\n",
    "\n",
    "When Python programs start running, our codes are executed one by one, starting from the top, and our program ends when there is no more code to run."
   ]
  },
  {
   "cell_type": "code",
   "execution_count": 1,
   "id": "sound-level",
   "metadata": {
    "lang": "tr"
   },
   "outputs": [
    {
     "name": "stdout",
     "output_type": "stream",
     "text": [
      "9\n"
     ]
    }
   ],
   "source": [
    "a = 2\n",
    "b = 3\n",
    "c = 4\n",
    "print(a + b + c)"
   ]
  },
  {
   "cell_type": "markdown",
   "id": "f8e1aead",
   "metadata": {
    "lang": "en"
   },
   "source": [
    "In the code above, the program executed each line and statement, and when there was no more code to execute, the program terminated.\n",
    "\n",
    "However, not every program in Python may be this simple. Most of the time, our Python programs consist of certain blocks, and these blocks do not always have to run.\n",
    "\n",
    "So how are these blocks defined?\n",
    "\n",
    "Defining a block in Python is done through Indentations. For example;"
   ]
  },
  {
   "cell_type": "code",
   "execution_count": null,
   "id": "ef245310",
   "metadata": {
    "lang": "en"
   },
   "outputs": [],
   "source": [
    "a = 2 # Code for block 1\n",
    "\n",
    "if (a == 2):\n",
    "    print(a) # Code for block 2\n",
    "print(\"Hello\") # Code of Block 1"
   ]
  },
  {
   "cell_type": "markdown",
   "id": "66d71dad",
   "metadata": {
    "lang": "en"
   },
   "source": [
    "If you pay attention, we have indented the **print** operation by one tab in the line after **if**. As we see here, **tabs** is used to create a block in Python, and not every block needs to be executed.\n",
    "\n",
    "For example, in our example above, the **2 print** operation also worked. However, if we had written our code like this, the first **print** operation (*block 2*) would not work."
   ]
  },
  {
   "cell_type": "code",
   "execution_count": null,
   "id": "1be3e6cf",
   "metadata": {
    "lang": "en"
   },
   "outputs": [],
   "source": [
    "a = 2 # Code for block 1\n",
    "\n",
    "if (a == 3):\n",
    "    print(a) # Code for block 2\n",
    "print(\"Hello\") # Code of Block 1"
   ]
  },
  {
   "cell_type": "markdown",
   "id": "b3323917",
   "metadata": {
    "lang": "en"
   },
   "source": [
    "Our block definition operations here will appear constantly from now on."
   ]
  }
 ],
 "metadata": {
  "kernelspec": {
   "display_name": "Python 3 (ipykernel)",
   "language": "python",
   "name": "python3"
  },
  "language_info": {
   "codemirror_mode": {
    "name": "ipython",
    "version": 3
   },
   "file_extension": ".py",
   "mimetype": "text/x-python",
   "name": "python",
   "nbconvert_exporter": "python",
   "pygments_lexer": "ipython3",
   "version": "3.11.4"
  },
  "nbTranslate": {
   "displayLangs": [],
   "hotkey": "alt-t",
   "langInMainMenu": true,
   "sourceLang": "tr",
   "targetLang": "en",
   "useGoogleTranslate": true
  }
 },
 "nbformat": 4,
 "nbformat_minor": 5
}

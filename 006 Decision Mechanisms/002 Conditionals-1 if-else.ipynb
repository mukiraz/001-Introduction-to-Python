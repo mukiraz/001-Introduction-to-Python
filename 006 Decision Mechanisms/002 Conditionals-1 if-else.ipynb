{
 "cells": [
  {
   "cell_type": "markdown",
   "id": "075fc256",
   "metadata": {
    "lang": "en"
   },
   "source": [
    "# Conditionals-1\n",
    "\n",
    "# if - else"
   ]
  },
  {
   "cell_type": "markdown",
   "id": "9c21747f",
   "metadata": {
    "lang": "en"
   },
   "source": [
    "Conditional situations are actually situations that we constantly encounter in daily life. For example, we take our umbrella depending on whether the weather is rainy or sleep depending on how sleepy we feel. In fact, we encounter many conditional situations in programming. For example, we perform certain actions according to certain conditions, but not according to certain conditions. These form the basis of conditional situations. If you want, let's start writing conditional situations with **if** blocks."
   ]
  },
  {
   "cell_type": "markdown",
   "id": "5a44a2fe",
   "metadata": {
    "lang": "en"
   },
   "source": [
    "## if Block\n",
    "\n",
    "The if block is used to check a certain condition in our program. Its writing is as follows;\n",
    "\n",
    "           if (condition):\n",
    "               # if block - Runs when the condition is met (True). Every operation in this line belongs to this if block.\n",
    "               # if block - Created with indentation.\n",
    "               get_something()\n",
    "               \n",
    "**if block** carries the meaning *if the condition is met*. If the condition in the *if* pattern is met (True), the codes in the block are executed; if the condition is not met (False), they are not executed.\n",
    "            \n",
    "Let's try to understand conditional situations with an example."
   ]
  },
  {
   "cell_type": "code",
   "execution_count": null,
   "id": "af9fcf3a",
   "metadata": {
    "lang": "en"
   },
   "outputs": [],
   "source": [
    "if True:\n",
    "    print(\"Hello\")"
   ]
  },
  {
   "cell_type": "markdown",
   "id": "a6cecb1f",
   "metadata": {
    "lang": "en"
   },
   "source": [
    "We have seen the Boolean concept in our previous lessons. Therefore, there will be a True or False, that is, boolean expression, opposite the if word."
   ]
  },
  {
   "cell_type": "code",
   "execution_count": null,
   "id": "dfe7964b",
   "metadata": {
    "lang": "en"
   },
   "outputs": [],
   "source": [
    "age = 18\n",
    "\n",
    "#if the age variable is 18 or older;\n",
    "if age >= 18:\n",
    "    # if block - Provided with indentation.\n",
    "    print(\"You are of legal age\")"
   ]
  },
  {
   "cell_type": "code",
   "execution_count": null,
   "id": "3ca740ce",
   "metadata": {
    "lang": "en"
   },
   "outputs": [],
   "source": [
    "# Now let's get the value from the user and do this.\n",
    "age = int(input(\"Please enter your age\"))\n",
    "\n",
    "# if the age variable is 18 or older;\n",
    "if age >= 18:\n",
    "    # if block - Provided with indentation.\n",
    "    print(\"You are of legal age\"),\n",
    "print(\"Program terminated\")"
   ]
  },
  {
   "cell_type": "markdown",
   "id": "4c22b9a1",
   "metadata": {
    "lang": "en"
   },
   "source": [
    "Now let's see whether a number entered by the user is negative or positive."
   ]
  },
  {
   "cell_type": "code",
   "execution_count": null,
   "id": "fbe29384",
   "metadata": {
    "lang": "en"
   },
   "outputs": [],
   "source": [
    "# Negative or not?\n",
    "int_1 = int (input(\"Enter the number:\"))\n",
    "\n",
    "if (int_1 < 0):\n",
    "    print(\"Negative Number\")"
   ]
  },
  {
   "cell_type": "markdown",
   "id": "8c5ae459",
   "metadata": {
    "lang": "en"
   },
   "source": [
    "## else Block\n",
    "\n",
    "When we look at an event logically, there will be the concept of \"if it is not so\" as well as the concept \"if it is so\". This happens with **else**.\n",
    "\n",
    "else blocks are blocks that run when **if condition** is not met (False). Its usage is as follows;\n",
    "            \n",
    "\n",
    "           else:\n",
    "               # else block - If any if block above (or elif block we will see later) does not work\n",
    "               # time works.\n",
    "               #else block - Created with indentation.\n",
    "               get_something()\n",
    "               \n",
    "If you notice, we did not write any conditions next to the **else** condition here. Because the operation of the **else** block depends on the other conditions that precede it not being met."
   ]
  },
  {
   "cell_type": "markdown",
   "id": "e25cb4bc",
   "metadata": {
    "lang": "en"
   },
   "source": [
    "Now let's ask again whether the person is of legal age or not."
   ]
  },
  {
   "cell_type": "code",
   "execution_count": null,
   "id": "c662267b",
   "metadata": {
    "lang": "en"
   },
   "outputs": [],
   "source": [
    "# 18 age check\n",
    "age = int(input(\"Enter your age:\"))\n",
    "\n",
    "if (age >= 18):\n",
    "    # if block - Provided with indentation.\n",
    "    print(\"You are of legal age.\")\n",
    "else:\n",
    "    # else block - will run if the if condition is not met.\n",
    "    print(\"You are not of legal age yet\")"
   ]
  },
  {
   "cell_type": "markdown",
   "id": "b52b7403",
   "metadata": {
    "lang": "en"
   },
   "source": [
    "**NOTE:** You cannot use the else block alone."
   ]
  },
  {
   "cell_type": "code",
   "execution_count": null,
   "id": "27a838b7",
   "metadata": {
    "lang": "en"
   },
   "outputs": [],
   "source": [
    "else:\n",
    "    print(Hello)\n",
    "# This code gives an error"
   ]
  }
 ],
 "metadata": {
  "kernelspec": {
   "display_name": "Python 3 (ipykernel)",
   "language": "python",
   "name": "python3"
  },
  "language_info": {
   "codemirror_mode": {
    "name": "ipython",
    "version": 3
   },
   "file_extension": ".py",
   "mimetype": "text/x-python",
   "name": "python",
   "nbconvert_exporter": "python",
   "pygments_lexer": "ipython3",
   "version": "3.11.4"
  },
  "nbTranslate": {
   "displayLangs": [],
   "hotkey": "alt-t",
   "langInMainMenu": true,
   "sourceLang": "tr",
   "targetLang": "en",
   "useGoogleTranslate": true
  }
 },
 "nbformat": 4,
 "nbformat_minor": 5
}

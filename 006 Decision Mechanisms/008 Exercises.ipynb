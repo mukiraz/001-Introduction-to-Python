{
 "cells": [
  {
   "cell_type": "markdown",
   "id": "43e5a528",
   "metadata": {},
   "source": [
    "# Egzersizler\n",
    "\n",
    "## 1. Egzersiz\n",
    "\n",
    "Python'daki karşılaştırma operatörlerinden birini kullanarak, girdi olarak n parametresini (bir tamsayı) alan ve n 100'den küçükse False, n 100'den büyük veya 100'e eşitse True yazdıran iki satırlı basit bir program yazın. .\n",
    "\n",
    "Herhangi bir if bloğu oluşturmayın (bunlardan çok yakında bahsedeceğiz). Size sağladığımız verileri kullanarak kodunuzu test edin.\n",
    "\n",
    "Test verisi\n",
    "\n",
    "Örnek giriş: 55\n",
    "\n",
    "Beklenen çıktı: False\n",
    "\n",
    "Örnek giriş: 99\n",
    "\n",
    "Beklenen çıktı: False\n",
    "\n",
    "Örnek girişi: 100\n",
    "\n",
    "Beklenen çıktı: True\n",
    "\n",
    "Örnek giriş: 101\n",
    "\n",
    "Beklenen çıktı: True\n",
    "\n",
    "Örnek giriş: -5\n",
    "\n",
    "Beklenen çıktı: False\n",
    "\n",
    "Örnek girişi: +123\n",
    "\n",
    "Beklenen çıktı: True"
   ]
  },
  {
   "cell_type": "code",
   "execution_count": null,
   "id": "7b722618",
   "metadata": {},
   "outputs": [],
   "source": [
    "# Kodunuzu buraya yazın\n"
   ]
  },
  {
   "cell_type": "markdown",
   "id": "673fe92c",
   "metadata": {},
   "source": [
    "## 2. Egzersiz\n",
    "\n",
    "Bilgisayar programınızın \"Python\" sözcüğünü duyduğunda heyecanlanmasını istiyoruz. Ne zaman Python sözcüğü biçiminde bir girdi alsa, bize şöyle sesleniyor: \"Python şimdiye kadarki en iyi programlama dilidir!\"\n",
    "\n",
    "Kullanıcıdan girdi alın.\n",
    "if -else sözcüklerini kullanın\n",
    "\n",
    "* Girilen kelime \"Python\" ise, \"Python şimdiye kadarki en iyi programlama dilidir!\" yazsın.\n",
    "\n",
    "* Girilen kelime \"python\" ise, \"Bu yanlış Python. Bana doğru olanı ver\" yazsın.\n",
    "\n",
    "* Girilen kelime \"Java\" ise, \"Ben sadece Python programlama dilini kabul ederim\" yazsın.\n"
   ]
  },
  {
   "cell_type": "code",
   "execution_count": 1,
   "id": "e3e29e83",
   "metadata": {},
   "outputs": [],
   "source": [
    "# Kodunuzu buraya yazın\n"
   ]
  },
  {
   "cell_type": "markdown",
   "id": "7ada9bc5",
   "metadata": {},
   "source": [
    "## 3. Egzersiz\n",
    "\n",
    "Bir zamanlar mutlu ve müreffeh insanların yaşadığı bir süt ve bal ülkesi vardı. İnsanlar elbette vergi ödüyorlardı; mutluluklarının sınırları vardı. Kişisel Gelir Vergisi (kısaca KGV) olarak adlandırılan en önemli verginin yılda bir kez ödenmesi gerekiyordu ve aşağıdaki kurala göre değerlendiriliyordu:\n",
    "\n",
    "* Vatandaşın geliri 85.528 duka'dan yüksek değilse, vergi gelirin %18'i eksi 556 duka ve 2 kronttu (buna vergi indirimi deniyordu)\n",
    "* Gelir bu miktardan yüksekse vergi, 85.528 duka üzerindeki fazlalığın %32'si + 14.839 duka 2 kronta artı eşit olacaktı.\n",
    "* Eğer hesaplanan vergi negatifse, kişi gelir vergisi ödemeyecektir.\n",
    "\n",
    "Göreviniz bir vergi hesaplayıcısı yazmaktır.\n",
    "\n",
    "Kullanıcıdan senelik gelirini alınız.\n",
    "Vergiyi hesaplayıp sonucu yazdırın.\n",
    "\n",
    "Test için aşağıdaki değerleri kullanın:\n",
    "\n",
    "#### Test verisi\n",
    "Örnek giriş: 10000\n",
    "Beklenen çıktı: Vergi: 1244,0 duka\n",
    "\n",
    "Örnek giriş: 100000\n",
    "Beklenen çıktı: Vergi: 19470,0 duka\n",
    "\n",
    "Örnek girişi: 1000\n",
    "Beklenen çıktı: Vergi: 0,0 duka\n",
    "\n",
    "Örnek girişi: -100\n",
    "Beklenen çıktı: Vergi: 0,0 duka"
   ]
  },
  {
   "cell_type": "code",
   "execution_count": null,
   "id": "448cc67e",
   "metadata": {},
   "outputs": [],
   "source": [
    "income = float(input(\"Yıllık gelirinizi belirtiniz: \"))\n",
    "\n",
    "#\n",
    "# Kodunuzu buraya yazın\n",
    "#\n",
    "\n",
    "tax = round(tax, 0)\n",
    "print(\"Vergi:\", tax, \"duka\")"
   ]
  },
  {
   "cell_type": "markdown",
   "id": "8067e0ad",
   "metadata": {},
   "source": [
    "## 4. Egzersiz\n",
    "\n",
    "Bildiğiniz gibi bazı astronomik sebeplerden dolayı yıllar artık ya da sıradan olabilir. İlki 366 gün, ikincisi ise 365 gün sürüyor.\n",
    "\n",
    "Gregoryen takviminin (1582) kullanılmaya başlanmasından bu yana, yılın türünü belirlemek için aşağıdaki kural kullanılmıştır:\n",
    "\n",
    "eğer yıl sayısı dörde bölünemiyorsa, bu sıradan bir yıldır;\n",
    "aksi takdirde, eğer yıl sayısı 100'e bölünemiyorsa, bu artık yıldır;\n",
    "aksi halde, eğer yıl sayısı 400'e bölünemiyorsa, bu sıradan bir yıldır;\n",
    "aksi takdirde bu bir artık yıldır.\n",
    "Düzenleyicideki koda bakın; yalnızca bir yıl sayısını okuyor ve az önce tanımladığımız testi uygulayan talimatlarla tamamlanması gerekiyor.\n",
    "\n",
    "Kodun, girilen değere bağlı olarak \"Artık yıl\" veya \"Artık Olmayan yıl\" olan iki olası mesajdan birini vermesi gerekir.\n",
    "\n",
    "İpucu: != ve % operatörlerini kullanın.\n",
    "\n",
    "Sağladığımız verileri kullanarak kodunuzu test edin.\n",
    "\n",
    "#### Test verisi\n",
    "Örnek giriş: 2000\n",
    "Beklenen çıktı: Artık yıl\n",
    "\n",
    "Örnek girdi: 2015\n",
    "Beklenen çıktı: Artık Olmayan yıl\n",
    "\n",
    "Örnek girdi: 1999\n",
    "Beklenen çıktı: Artık Olmayan yıl\n",
    "\n",
    "Örnek girdi: 1996\n",
    "Beklenen çıktı: Artık yıl\n",
    "\n",
    "Örnek giriş: 1580\n",
    "Beklenen çıktı: Gregoryen takvim dönemi içinde değil"
   ]
  },
  {
   "cell_type": "code",
   "execution_count": null,
   "id": "40c0a825",
   "metadata": {},
   "outputs": [],
   "source": [
    "year = int(input(\"Bir yıl giriniz: \"))\n",
    "\n",
    "#\n",
    "# Write your code here.\n",
    "#\n"
   ]
  }
 ],
 "metadata": {
  "kernelspec": {
   "display_name": "Python 3 (ipykernel)",
   "language": "python",
   "name": "python3"
  },
  "language_info": {
   "codemirror_mode": {
    "name": "ipython",
    "version": 3
   },
   "file_extension": ".py",
   "mimetype": "text/x-python",
   "name": "python",
   "nbconvert_exporter": "python",
   "pygments_lexer": "ipython3",
   "version": "3.11.5"
  },
  "nbTranslate": {
   "displayLangs": [
    "en",
    "tr"
   ],
   "hotkey": "alt-t",
   "langInMainMenu": true,
   "sourceLang": "tr",
   "targetLang": "en",
   "useGoogleTranslate": true
  }
 },
 "nbformat": 4,
 "nbformat_minor": 5
}

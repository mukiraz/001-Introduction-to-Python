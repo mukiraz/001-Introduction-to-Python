{
 "cells": [
  {
   "cell_type": "markdown",
   "id": "00605fd6",
   "metadata": {
    "lang": "en"
   },
   "source": [
    "# TR Identity Number Verification"
   ]
  },
  {
   "cell_type": "markdown",
   "id": "770afd15",
   "metadata": {
    "lang": "en"
   },
   "source": [
    "This algorithm has 5 steps, so there are 5 conditions. All 5 conditions must be met.\n",
    "\n",
    "1. TR Identity Numbers must be 11 characters.\n",
    "\n",
    "2. Each digit must be a number.\n",
    "\n",
    "3. The first digit cannot be 0 (zero).\n",
    "\n",
    "4. When we subtract the sum of the digits 2, 4, 6, 8 from 7 times the sum of the digits 1, 3, 5, 7, 9, the result we obtain and divide by 10, the remaining number (MOD10) should give the number in the 10th digit.\n",
    "\n",
    "5. The number remaining from the sum of the first 10 digits and dividing by 10 (MOD10) should give the number in the 11th digit.\n",
    "\n",
    "As you can see, if one of the 5 conditions is not met, the relevant TR ID Number is not correct, that is, it is a number that has not been given to any citizen in Turkey."
   ]
  },
  {
   "cell_type": "code",
   "execution_count": 5,
   "id": "551f72a2",
   "metadata": {
    "lang": "en"
   },
   "outputs": [
    {
     "name": "stdout",
     "output_type": "stream",
     "text": [
      "\n",
      "This program uses the TR Identity Number entered by the user.\n",
      "It reveals whether it is true or not.\n",
      "\n",
      "\n",
      "Please enter your 11-digit TR ID Number: 28409564558\n",
      "28409564558 The number is a correct TR ID Number\n"
     ]
    }
   ],
   "source": [
    "print(\"\"\"\n",
    "This program uses the TR Identity Number entered by the user.\n",
    "It reveals whether it is true or not.\n",
    "\n",
    "\"\"\")\n",
    "\n",
    "tc_id_number = input(\"Please enter your 11-digit TR ID Number: \")\n",
    "\n",
    "if len(tc_id_number) != 11:\n",
    "    print(\"/nTC Identity Number Must Consist of 11 Digits.\")\n",
    "elif not tc_id_number.isdigit():\n",
    "    print(\"/nTC ID Number Must Consist of Numbers.\")\n",
    "else:\n",
    "    \n",
    "    tc_id_list = list(tc_id_number)\n",
    "\n",
    "    odd_step_sum_seven = (int(tc_id_list[0]) + int(tc_id_list[2]) + int(tc_id_list[4]) + int(tc_id_list[6]) + int(tc_id_list[8])) * 7\n",
    "    even_step_sum = int(tc_id_list[1]) + int(tc_id_list[3]) + int(tc_id_list[5]) + int(tc_id_list[7])\n",
    "    tenth_number = (odd_step_sum_seven-even_step_sum) % 10\n",
    "    eleventh_number = (int(tc_id_list[0]) + int(tc_id_list[1]) + int(tc_id_list [2]) + int(tc_id_list[3]) + int(tc_id_list[4]) + int(tc_id_list[5 ]) + int(tc_id_list[6]) + int(tc_id_list[7]) + int(tc_id_list[8]) + int(tc_id_list[9])) % 10\n",
    "    \n",
    "    if tc_id_list[0] == 0:\n",
    "        print(\"TR ID Number cannot start with the number 0.\")\n",
    "    elif int(tc_id_list[9]) != tenth_number:\n",
    "        print(\"You did not enter a correct TR ID Number\")\n",
    "    elif int(tc_id_list[10]) != eleventh_number:\n",
    "        print(\"You did not enter a correct TR ID Number\")\n",
    "    else:\n",
    "        print(tc_id_number, \"The number is a correct TR ID Number\")"
   ]
  },
  {
   "cell_type": "markdown",
   "id": "b60e9643",
   "metadata": {
    "lang": "en"
   },
   "source": [
    "Note: The above code will be more \"readable\" when using a loop. This is not a correct example of clean code."
   ]
  }
 ],
 "metadata": {
  "kernelspec": {
   "display_name": "Python 3 (ipykernel)",
   "language": "python",
   "name": "python3"
  },
  "language_info": {
   "codemirror_mode": {
    "name": "ipython",
    "version": 3
   },
   "file_extension": ".py",
   "mimetype": "text/x-python",
   "name": "python",
   "nbconvert_exporter": "python",
   "pygments_lexer": "ipython3",
   "version": "3.11.4"
  },
  "nbTranslate": {
   "displayLangs": [
    "*"
   ],
   "hotkey": "alt-t",
   "langInMainMenu": true,
   "sourceLang": "tr",
   "targetLang": "en",
   "useGoogleTranslate": true
  }
 },
 "nbformat": 4,
 "nbformat_minor": 5
}

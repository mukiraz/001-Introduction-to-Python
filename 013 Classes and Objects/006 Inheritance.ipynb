{
 "cells": [
  {
   "cell_type": "markdown",
   "id": "726150b8",
   "metadata": {
    "lang": "en"
   },
   "source": [
    "# Object Oriented Programming - Inheritance\n",
    "\n",
    "Inheritance or inheritance is when a class inherits properties (**attribute**) and methods from another class.\n",
    "\n",
    "We can think of this as genetic inheritance in biology.\n",
    "\n",
    "So where does inheritance come in handy? For example, we create classes to design employees of a company. For this, we need to create classes such as Manager, Project Director, Worker. In fact, when we look at it, all of these classes have certain common methods and features. Then, instead of defining these common properties and methods over and over again in these classes, we can define a main class and ensure that these classes receive the properties and methods of this class. **This is the basic logic of Inheritance or Inheritance**.\n",
    "\n",
    "The way to inherit is as follows."
   ]
  },
  {
   "cell_type": "raw",
   "id": "f890872c",
   "metadata": {
    "lang": "en"
   },
   "source": [
    "class BaseClass(object):\n",
    "    pass\n",
    "    \n",
    "class DerivedClass(BaseClass):\n",
    "    pass"
   ]
  },
  {
   "cell_type": "markdown",
   "id": "1a92bc84",
   "metadata": {
    "lang": "en"
   },
   "source": [
    "BaseClass is the already existing (parent) class and Derivedclass is the new (child) class that inherits (or subclasses) attributes from BaseClass.\n",
    "\n",
    "Let's create a rectangle class."
   ]
  },
  {
   "cell_type": "code",
   "execution_count": 1,
   "id": "linear-progress",
   "metadata": {},
   "outputs": [],
   "source": [
    "class Rectangle():\n",
    "    def __init__(self, height, length):\n",
    "        self.height = height\n",
    "        self.length = length\n",
    "        \n",
    "    def area(self):\n",
    "        return self.height * self.length\n",
    "    \n",
    "    def perimeter(self):\n",
    "        return 2 * (self.height + self.length)"
   ]
  },
  {
   "cell_type": "markdown",
   "id": "12351851",
   "metadata": {
    "lang": "en"
   },
   "source": [
    "A \"square\" is, mathematically speaking, a rectangle with all sides equal."
   ]
  },
  {
   "cell_type": "code",
   "execution_count": 2,
   "id": "local-sheffield",
   "metadata": {},
   "outputs": [],
   "source": [
    "class Square(Rectangle):\n",
    "    def __init__(self, height):\n",
    "        super ().__init__(height, height)\n",
    "        self.height = height"
   ]
  },
  {
   "cell_type": "markdown",
   "id": "c502bd86",
   "metadata": {
    "lang": "en"
   },
   "source": [
    "The Square class automatically inherits all the attributes of the object class as well as the Rectangle class. super() is used to call the __init__() method of the Rectangle class, essentially calling any overridden method of the base class."
   ]
  },
  {
   "cell_type": "code",
   "execution_count": 4,
   "id": "equal-pierce",
   "metadata": {},
   "outputs": [
    {
     "name": "stdout",
     "output_type": "stream",
     "text": [
      "9\n"
     ]
    }
   ],
   "source": [
    "s = Square(3)\n",
    "print(s.area())\n"
   ]
  },
  {
   "cell_type": "code",
   "execution_count": 26,
   "id": "mechanical-amplifier",
   "metadata": {},
   "outputs": [],
   "source": [
    "class Personnel():\n",
    "    def __init__(self, name, salary, department):        \n",
    "        self.name = name\n",
    "        self.salary = salary\n",
    "        self.department = department\n",
    "        \n",
    "    def __str__(self):        \n",
    "        \n",
    "        return \"\"\"\n",
    "Name : {}\n",
    "Salary: {}\n",
    "Department: {}\"\"\".format(self.name,\n",
    "                        self.salary,\n",
    "                        self.department)\n",
    "    \n",
    "    def change_department(self, new_department):\n",
    "        self.department = new_department"
   ]
  },
  {
   "cell_type": "code",
   "execution_count": 27,
   "id": "touched-longer",
   "metadata": {},
   "outputs": [],
   "source": [
    "class Manager(Personnel): # The Personnel class is inherited.\n",
    "    pass "
   ]
  },
  {
   "cell_type": "markdown",
   "id": "26ec2f24",
   "metadata": {
    "lang": "en"
   },
   "source": [
    "All the features of the Employee class have also transferred to the Manager class."
   ]
  },
  {
   "cell_type": "code",
   "execution_count": 28,
   "id": "level-lottery",
   "metadata": {},
   "outputs": [],
   "source": [
    "manager1 = Manager(\"Esra ALTINOK\", 3000, \"Accountant\") # manager object;"
   ]
  },
  {
   "cell_type": "code",
   "execution_count": 29,
   "id": "personalized-myrtle",
   "metadata": {},
   "outputs": [
    {
     "name": "stdout",
     "output_type": "stream",
     "text": [
      "\n",
      "Name : Esra ALTINOK\n",
      "Salary: 3000\n",
      "Department: Accountant\n"
     ]
    }
   ],
   "source": [
    "print(manager1)"
   ]
  },
  {
   "cell_type": "code",
   "execution_count": 31,
   "id": "honest-friend",
   "metadata": {},
   "outputs": [],
   "source": [
    "manager1.change_department(\"Human resources\")"
   ]
  },
  {
   "cell_type": "code",
   "execution_count": 32,
   "id": "detailed-reaction",
   "metadata": {},
   "outputs": [
    {
     "name": "stdout",
     "output_type": "stream",
     "text": [
      "\n",
      "Name : Esra ALTINOK\n",
      "Salary: 3000\n",
      "Department: Human resources\n"
     ]
    }
   ],
   "source": [
    "print(manager1)"
   ]
  },
  {
   "cell_type": "markdown",
   "id": "9a726543",
   "metadata": {
    "lang": "en"
   },
   "source": [
    "As we see here, we can use all the features and methods because we inherited them from the Employee class. We can also see this with the dir() function."
   ]
  },
  {
   "cell_type": "code",
   "execution_count": 33,
   "id": "intended-highlight",
   "metadata": {
    "scrolled": true
   },
   "outputs": [
    {
     "data": {
      "text/plain": [
       "['__class__',\n",
       " '__delattr__',\n",
       " '__dict__',\n",
       " '__dir__',\n",
       " '__doc__',\n",
       " '__eq__',\n",
       " '__format__',\n",
       " '__ge__',\n",
       " '__getattribute__',\n",
       " '__getstate__',\n",
       " '__gt__',\n",
       " '__hash__',\n",
       " '__init__',\n",
       " '__init_subclass__',\n",
       " '__le__',\n",
       " '__lt__',\n",
       " '__module__',\n",
       " '__ne__',\n",
       " '__new__',\n",
       " '__reduce__',\n",
       " '__reduce_ex__',\n",
       " '__repr__',\n",
       " '__setattr__',\n",
       " '__sizeof__',\n",
       " '__str__',\n",
       " '__subclasshook__',\n",
       " '__weakref__',\n",
       " 'change_department',\n",
       " 'department',\n",
       " 'name',\n",
       " 'salary']"
      ]
     },
     "execution_count": 33,
     "metadata": {},
     "output_type": "execute_result"
    }
   ],
   "source": [
    "dir(manager1)"
   ]
  },
  {
   "cell_type": "markdown",
   "id": "bfc955cc",
   "metadata": {
    "lang": "en"
   },
   "source": [
    "So, can we add extra functions and features to the Administrator class? For the sake of example, let's add a method named **increase_salary**."
   ]
  },
  {
   "cell_type": "code",
   "execution_count": 36,
   "id": "eight-webmaster",
   "metadata": {},
   "outputs": [],
   "source": [
    "class Manager(Personnel):\n",
    "    def increase_salary(self, increase_amount):\n",
    "        self.salary += increase_amount"
   ]
  },
  {
   "cell_type": "code",
   "execution_count": 37,
   "id": "charged-morning",
   "metadata": {},
   "outputs": [],
   "source": [
    "manager2 = Manager(\"Murat Uğur KİRAZ\", 3000, \"IT\") # manager object"
   ]
  },
  {
   "cell_type": "code",
   "execution_count": 38,
   "id": "piano-glasgow",
   "metadata": {},
   "outputs": [
    {
     "name": "stdout",
     "output_type": "stream",
     "text": [
      "\n",
      "Name : Murat Uğur KİRAZ\n",
      "Salary: 3000\n",
      "Department: IT\n"
     ]
    }
   ],
   "source": [
    "print(manager2)"
   ]
  },
  {
   "cell_type": "markdown",
   "id": "2af30709",
   "metadata": {
    "lang": "en"
   },
   "source": [
    "### Overriding\n",
    "\n",
    "If the inherited methods are defined again in the **class with the same name**, then when the method is called**the specified method in the class will run.** This is called overriding a method in Object Oriented Programming.\n",
    "\n",
    "For example, instead of using the **init** method of the Employee class, we can now override the **init** method in the Manager class. Thus, we can add extra attributes (**attribute**) to the Administrator class."
   ]
  },
  {
   "cell_type": "code",
   "execution_count": 39,
   "id": "agricultural-consideration",
   "metadata": {},
   "outputs": [],
   "source": [
    "class Personnel():\n",
    "    def __init__(self, name, salary, department):        \n",
    "        self.name = name\n",
    "        self.salary = salary\n",
    "        self.department = department\n",
    "        \n",
    "    def __str__(self):        \n",
    "        \n",
    "        return \"\"\"\n",
    "Name : {}\n",
    "Salary: {}\n",
    "Department: {}\"\"\".format(self.name,\n",
    "                        self.salary,\n",
    "                        self.department)\n",
    "    \n",
    "    def change_department(self, new_department):\n",
    "        self.department = new_department"
   ]
  },
  {
   "cell_type": "code",
   "execution_count": 43,
   "id": "elder-intake",
   "metadata": {},
   "outputs": [],
   "source": [
    "class Manager(Personnel):\n",
    "    \n",
    "    def __init__(self, name, salary, department, personnel_number): \n",
    "        print(\"Init function of manager class\")\n",
    "        self.name = name\n",
    "        self.salary = salary\n",
    "        self.department = department\n",
    "        self.personnel_number = personnel_number # New attribute\n",
    "    \n",
    "    def increase_salary(self, increase_amount):\n",
    "        self.maaş += increase_amount"
   ]
  },
  {
   "cell_type": "code",
   "execution_count": 44,
   "id": "criminal-windsor",
   "metadata": {},
   "outputs": [
    {
     "name": "stdout",
     "output_type": "stream",
     "text": [
      "Init function of manager class\n"
     ]
    }
   ],
   "source": [
    "a = Manager(\"Murat Uğur KİRAZ\", 3000, \"IT\",10) # Init function of the administrator class. Overridden."
   ]
  },
  {
   "cell_type": "code",
   "execution_count": 45,
   "id": "stuck-tuition",
   "metadata": {},
   "outputs": [
    {
     "data": {
      "text/plain": [
       "['__class__',\n",
       " '__delattr__',\n",
       " '__dict__',\n",
       " '__dir__',\n",
       " '__doc__',\n",
       " '__eq__',\n",
       " '__format__',\n",
       " '__ge__',\n",
       " '__getattribute__',\n",
       " '__getstate__',\n",
       " '__gt__',\n",
       " '__hash__',\n",
       " '__init__',\n",
       " '__init_subclass__',\n",
       " '__le__',\n",
       " '__lt__',\n",
       " '__module__',\n",
       " '__ne__',\n",
       " '__new__',\n",
       " '__reduce__',\n",
       " '__reduce_ex__',\n",
       " '__repr__',\n",
       " '__setattr__',\n",
       " '__sizeof__',\n",
       " '__str__',\n",
       " '__subclasshook__',\n",
       " '__weakref__',\n",
       " 'change_department',\n",
       " 'department',\n",
       " 'increase_salary',\n",
       " 'name',\n",
       " 'personnel_number',\n",
       " 'salary']"
      ]
     },
     "execution_count": 45,
     "metadata": {},
     "output_type": "execute_result"
    }
   ],
   "source": [
    "dir(a)"
   ]
  },
  {
   "cell_type": "markdown",
   "id": "according-hearing",
   "metadata": {},
   "source": [
    "Overriding the **give_information** method."
   ]
  },
  {
   "cell_type": "code",
   "execution_count": 46,
   "id": "dressed-belly",
   "metadata": {},
   "outputs": [],
   "source": [
    "class Personnel():\n",
    "    def __init__(self, name, salary, department):        \n",
    "        self.name = name\n",
    "        self.salary = salary\n",
    "        self.department = department\n",
    "        \n",
    "    def give_information(self):\n",
    "        return self.name, self.salary, self.department\n",
    "        \n",
    "    def __str__(self):        \n",
    "        \n",
    "        return \"\"\"\n",
    "Name : {}\n",
    "Salary: {}\n",
    "Department: {}\"\"\".format(self.name,\n",
    "                        self.salary,\n",
    "                        self.department)\n",
    "    \n",
    "    def change_department(self, new_department):\n",
    "        self.department = new_department"
   ]
  },
  {
   "cell_type": "code",
   "execution_count": 47,
   "id": "industrial-hampshire",
   "metadata": {},
   "outputs": [],
   "source": [
    "class Manager(Personnel):\n",
    "    \n",
    "    def __init__(self, name, salary, department, personnel_number): \n",
    "        print(\"Yönetici sınıfının init fonksiyonu\")\n",
    "        self.name = name\n",
    "        self.salary = salary\n",
    "        self.department = department\n",
    "        self.personnel_number = personnel_number # New attribute\n",
    "    \n",
    "    def give_information(self):\n",
    "        return self.name, self.salary, self.department, self.personnel_number\n",
    "    \n",
    "    def increase_salary(self, increase_amount):\n",
    "        self.maaş += increase_amount"
   ]
  },
  {
   "cell_type": "code",
   "execution_count": 48,
   "id": "dimensional-telephone",
   "metadata": {},
   "outputs": [
    {
     "name": "stdout",
     "output_type": "stream",
     "text": [
      "Yönetici sınıfının init fonksiyonu\n"
     ]
    }
   ],
   "source": [
    "b =  Manager(\"Ahmet AKIN\", 2500, \"Commertial\", 5)"
   ]
  },
  {
   "cell_type": "code",
   "execution_count": 57,
   "id": "welcome-debate",
   "metadata": {},
   "outputs": [
    {
     "data": {
      "text/plain": [
       "('Ahmet AKIN', 2500, 'Commertial', 5)"
      ]
     },
     "execution_count": 57,
     "metadata": {},
     "output_type": "execute_result"
    }
   ],
   "source": [
    "b.give_information() # overrided"
   ]
  },
  {
   "cell_type": "markdown",
   "id": "c7966211",
   "metadata": {
    "lang": "en"
   },
   "source": [
    "# Super Keyword\n",
    "\n",
    "The **super** keyword can be used especially if we want to use a method we inherited within a method we override. In other words, **super**, in the most general sense, allows us to use the methods of the class we inherit from subclasses. Let's try to understand it through an example."
   ]
  },
  {
   "cell_type": "code",
   "execution_count": 52,
   "id": "compound-development",
   "metadata": {},
   "outputs": [],
   "source": [
    "class Personnel():\n",
    "    def __init__(self, name, salary, department):        \n",
    "        self.name = name\n",
    "        self.salary = salary\n",
    "        self.department = department\n",
    "        \n",
    "    def give_information(self):\n",
    "        return self.name, self.salary, self.department\n",
    "        \n",
    "    def __str__(self):        \n",
    "        \n",
    "        return \"\"\"\n",
    "Name : {}\n",
    "Salary: {}\n",
    "Department: {}\"\"\".format(self.name,\n",
    "                        self.salary,\n",
    "                        self.department)\n",
    "    \n",
    "    def change_department(self, new_department):\n",
    "        self.department = new_department"
   ]
  },
  {
   "cell_type": "code",
   "execution_count": 53,
   "id": "sudden-squad",
   "metadata": {},
   "outputs": [],
   "source": [
    "class Manager(Personnel):\n",
    "    \n",
    "    def __init__(self, name, salary, department, personnel_number): \n",
    "        super().__init__(name, salary, department)\n",
    "        self.personnel_number = personnel_number # New attribute\n",
    "    \n",
    "    def give_information(self):\n",
    "        return self.name, self.salary, self.department, self.personnel_number\n",
    "    \n",
    "    def increase_salary(self, increase_amount):\n",
    "        self.maaş += increase_amount"
   ]
  },
  {
   "cell_type": "markdown",
   "id": "9ca8d7ec",
   "metadata": {
    "lang": "en"
   },
   "source": [
    "Here, we determined the name, salary and department properties by **specially calling** the method of the Employee class by saying **super().\\__init\\__()**"
   ]
  },
  {
   "cell_type": "code",
   "execution_count": 56,
   "id": "regulated-sense",
   "metadata": {},
   "outputs": [
    {
     "data": {
      "text/plain": [
       "('Oğuz Artıran', 3000, 'İnsan Kaynakları', 4)"
      ]
     },
     "execution_count": 56,
     "metadata": {},
     "output_type": "execute_result"
    }
   ],
   "source": [
    "c = Manager(\"Oğuz Artıran\", 3000, \"Human resources\", 4)\n",
    "c.give_information()"
   ]
  }
 ],
 "metadata": {
  "kernelspec": {
   "display_name": "Python 3 (ipykernel)",
   "language": "python",
   "name": "python3"
  },
  "language_info": {
   "codemirror_mode": {
    "name": "ipython",
    "version": 3
   },
   "file_extension": ".py",
   "mimetype": "text/x-python",
   "name": "python",
   "nbconvert_exporter": "python",
   "pygments_lexer": "ipython3",
   "version": "3.11.5"
  },
  "nbTranslate": {
   "displayLangs": [
    "en",
    "tr"
   ],
   "hotkey": "alt-t",
   "langInMainMenu": true,
   "sourceLang": "tr",
   "targetLang": "en",
   "useGoogleTranslate": true
  }
 },
 "nbformat": 4,
 "nbformat_minor": 5
}

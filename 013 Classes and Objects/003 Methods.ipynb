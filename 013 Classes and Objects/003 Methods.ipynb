{
 "cells": [
  {
   "cell_type": "markdown",
   "id": "9c712320",
   "metadata": {
    "lang": "en"
   },
   "source": [
    "# Methods\n",
    "\n",
    "Functions defined within classes are called **method**.\n",
    "\n",
    "Let's redefine the person class."
   ]
  },
  {
   "cell_type": "code",
   "execution_count": 1,
   "id": "democratic-bunch",
   "metadata": {},
   "outputs": [],
   "source": [
    "class Person():\n",
    "    def __init__(self, name, surname, departmant, salary):\n",
    "        self.name = name\n",
    "        self.surname = surname\n",
    "        self.departmant = departmant\n",
    "        self.salary = salary\n",
    "        print(name, surname, \"named person created.\")"
   ]
  },
  {
   "cell_type": "code",
   "execution_count": 2,
   "id": "colonial-vegetation",
   "metadata": {},
   "outputs": [
    {
     "name": "stdout",
     "output_type": "stream",
     "text": [
      "Ali TÜRKOĞLU named person created.\n"
     ]
    }
   ],
   "source": [
    "# Let's create a person\n",
    "ali = Person(\"Ali\", \"TÜRKOĞLU\", \"İK\", 1000)"
   ]
  },
  {
   "cell_type": "code",
   "execution_count": 3,
   "id": "eight-packaging",
   "metadata": {},
   "outputs": [
    {
     "name": "stdout",
     "output_type": "stream",
     "text": [
      "Mahmut TUNCER named person created.\n"
     ]
    }
   ],
   "source": [
    "# Let's create one more person\n",
    "mahmut = Person(\"Mahmut\",\"TUNCER\",\"Halay\",2000)"
   ]
  },
  {
   "cell_type": "markdown",
   "id": "16b29ff0",
   "metadata": {
    "lang": "en"
   },
   "source": [
    "We want to see the information of the person concerned. For this, we can define a method to display information on the screen."
   ]
  },
  {
   "cell_type": "code",
   "execution_count": 7,
   "id": "intelligent-harrison",
   "metadata": {},
   "outputs": [],
   "source": [
    "class Person():\n",
    "    def __init__(self, name, surname, departmant, salary):\n",
    "        self.name = name\n",
    "        self.surname = surname\n",
    "        self.departmant = departmant\n",
    "        self.salary = salary\n",
    "        print(name, surname, \"named person created.\")\n",
    "        \n",
    "    def show_information(self):\n",
    "        print(\"\"\"\n",
    "        Person Information:\n",
    "        \n",
    "        Name :  {}\n",
    "        \n",
    "        Surname : {}\n",
    "        \n",
    "        Department: {}\n",
    "        \n",
    "        Salary :  {}\n",
    "        \"\"\".format(self.name, self.surname, self.salary, self.surname))"
   ]
  },
  {
   "cell_type": "code",
   "execution_count": 8,
   "id": "greenhouse-enlargement",
   "metadata": {},
   "outputs": [
    {
     "name": "stdout",
     "output_type": "stream",
     "text": [
      "Ali TÜRKOĞLU named person created.\n"
     ]
    }
   ],
   "source": [
    "# Let's create one more person\n",
    "ali = Person(\"Ali\",\"TÜRKOĞLU\",\"İK\",1000)"
   ]
  },
  {
   "cell_type": "code",
   "execution_count": 9,
   "id": "representative-queensland",
   "metadata": {},
   "outputs": [
    {
     "name": "stdout",
     "output_type": "stream",
     "text": [
      "\n",
      "        Person Information:\n",
      "        \n",
      "        Name :  Ali\n",
      "        \n",
      "        Surname : TÜRKOĞLU\n",
      "        \n",
      "        Department: 1000\n",
      "        \n",
      "        Salary :  TÜRKOĞLU\n",
      "        \n"
     ]
    }
   ],
   "source": [
    "ali.show_information()"
   ]
  },
  {
   "cell_type": "code",
   "execution_count": 10,
   "id": "peaceful-assurance",
   "metadata": {},
   "outputs": [
    {
     "name": "stdout",
     "output_type": "stream",
     "text": [
      "Mahmut TUNCER named person created.\n",
      "\n",
      "        Person Information:\n",
      "        \n",
      "        Name :  Mahmut\n",
      "        \n",
      "        Surname : TUNCER\n",
      "        \n",
      "        Department: 2000\n",
      "        \n",
      "        Salary :  TUNCER\n",
      "        \n"
     ]
    }
   ],
   "source": [
    "# Bir kişi daha oluşturalım.\n",
    "mahmut = Person(\"Mahmut\",\"TUNCER\",\"Halay\",2000)\n",
    "mahmut.show_information()"
   ]
  },
  {
   "cell_type": "markdown",
   "id": "2e6fc613",
   "metadata": {
    "lang": "en"
   },
   "source": [
    "Let's write a method that increases the salary."
   ]
  },
  {
   "cell_type": "code",
   "execution_count": 14,
   "id": "asian-machinery",
   "metadata": {},
   "outputs": [],
   "source": [
    "class Person():\n",
    "    def __init__(self, name, surname, departmant, salary):\n",
    "        self.name = name\n",
    "        self.surname = surname\n",
    "        self.departmant = departmant\n",
    "        self.salary = salary\n",
    "        print(name, surname, \"named person created.\")\n",
    "        \n",
    "    def show_information(self):\n",
    "        print(\"\"\"\n",
    "        Person Information:\n",
    "        \n",
    "        Name :  {}\n",
    "        \n",
    "        Surname : {}\n",
    "        \n",
    "        Department: {}\n",
    "        \n",
    "        Salary :  {}\n",
    "        \"\"\".format(self.name, self.surname, self.salary, self.surname))\n",
    "        \n",
    "    def increase_salary(self, increase_amount):      \n",
    "        self.salary += increase_amount\n",
    "        print(\"Salary have been increased, new salary :\", self.salary)\n",
    "    "
   ]
  },
  {
   "cell_type": "code",
   "execution_count": 15,
   "id": "improved-bones",
   "metadata": {},
   "outputs": [
    {
     "name": "stdout",
     "output_type": "stream",
     "text": [
      "Mahmut TUNCER named person created.\n",
      "Salary have been increased, new salary : 2200\n",
      "\n",
      "        Person Information:\n",
      "        \n",
      "        Name :  Mahmut\n",
      "        \n",
      "        Surname : TUNCER\n",
      "        \n",
      "        Department: 2200\n",
      "        \n",
      "        Salary :  TUNCER\n",
      "        \n"
     ]
    }
   ],
   "source": [
    "# Let's create another person.\n",
    "mahmut = Person(\"Mahmut\",\"TUNCER\",\"Halay\",2000)\n",
    "mahmut.increase_salary(200)\n",
    "mahmut.show_information()"
   ]
  },
  {
   "cell_type": "markdown",
   "id": "9a999a94",
   "metadata": {
    "lang": "en"
   },
   "source": [
    "There are a few things to note when looking at the example above.\n",
    "1. Class consists of attributes (data) and methods (function).\n",
    "2. Attributes and methods are simply defined as regular variables and functions.\n",
    "3. <span>__init__ ()</span> method is called initializer. It is equivalent to the constructor in other object-oriented languages ​​and is the first method invoked when you create a new instance of a new object or class.\n",
    "4. Attributes that apply to the entire class are first defined and these are called class attributes.\n",
    "5. Attributes that apply to a specific instance of a class (an object) are called instance attributes. They are usually defined in <span>__init__ ()</span>; this is not required, but is recommended <span>__init__()attributes defined outside of </span> run the risk of being accessed before they are defined).\n",
    "6. Every method included in the class definition passes the object in question as its first parameter. The word self is used for this parameter (it is actually used by convention, as the word self has no inherent meaning in Python, but it is one of Python's most respected conventions and you should always follow it).\n",
    "7. Those accustomed to object-oriented programming in other languages ​​may be surprised by a few things. The first is that Python has no real concept of private elements, so everything mimics the behavior of the C++/Java public keyword by default.\n",
    "8. Some of the methods of the class have the following format: <span>__functionname__ (self, other things)</span>. All such methods are called \"magic methods\" and are an important part of classes in Python. For example, in Python, operator overloading is accomplished by magical means."
   ]
  }
 ],
 "metadata": {
  "kernelspec": {
   "display_name": "Python 3 (ipykernel)",
   "language": "python",
   "name": "python3"
  },
  "language_info": {
   "codemirror_mode": {
    "name": "ipython",
    "version": 3
   },
   "file_extension": ".py",
   "mimetype": "text/x-python",
   "name": "python",
   "nbconvert_exporter": "python",
   "pygments_lexer": "ipython3",
   "version": "3.11.5"
  },
  "nbTranslate": {
   "displayLangs": [
    "en",
    "tr"
   ],
   "hotkey": "alt-t",
   "langInMainMenu": true,
   "sourceLang": "tr",
   "targetLang": "en",
   "useGoogleTranslate": true
  }
 },
 "nbformat": 4,
 "nbformat_minor": 5
}

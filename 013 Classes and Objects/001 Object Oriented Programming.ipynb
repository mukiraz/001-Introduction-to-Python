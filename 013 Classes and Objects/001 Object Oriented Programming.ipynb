{
 "cells": [
  {
   "cell_type": "markdown",
   "id": "aee4caf2",
   "metadata": {
    "lang": "en"
   },
   "source": [
    "# Object Oriented Programming\n",
    "\n",
    "As the projects we do grow, the functions, variables and data types in them increase. Even code duplication occurs after a certain period of time. After a certain time, we may have difficulty understanding even the code we wrote ourselves. Or when we add a new feature to the code, we want the code to extend without changing existing features. This problem emerged much earlier, and the **Object Oriented Programming** logic emerged to overcome this problem.\n",
    "\n",
    "With object-oriented programming, it is possible to program close to human perception. With this method, we can create classes and derive objects from these classes.\n",
    "\n",
    "Let's remember Plato's teaching from high school philosophy classes. Plato introduced the concept of two worlds: \"The World of Objects\" and \"The World of Ideas\". In the world of ideas, there is an \"ideal\" image, a definition of the world of objects. This perfect world consisting of ideas is not directly related to the physical world, it is completely independent. We can explain this idea with a cat example. According to Plato, when we say cat, we are talking about a single cat created by God. However, there may be thousands of different cat species living in the world. However, their existence, birth and death are independent of the concept of that ideal cat. The cat in the world of ideas is the real cat, while those in the world are just images.\n",
    "\n",
    "In summary, according to Plato, the physical world is just a bad copy of the universe of ideas.\n",
    "\n",
    "I liken Object Oriented Programming to this. Classes represent the \"world of ideas\". Objects represent the \"world of objects\". We create classes in **Object Oriented Programming** and create an ideal entity with this class. Then we derive objects from this ideal entity.\n",
    "\n",
    "With object-oriented programming,\n",
    "\n",
    "<ul>\n",
    "<li>close to human perception,</li>\n",
    "<li> is more understandable, </li>\n",
    "<li> is easier to design, </li>\n",
    "<li>manageable,</li>\n",
    "<li>suitable for teamwork,</li>\n",
    "<li>can be updated and expanded more easily</li>\n",
    "</ul>\n",
    "\n",
    "It is possible to write code.\n",
    "\n",
    "\n",
    "Object-oriented programming allows us to create any object we see around us. For example, there is an object \"car\". Cars basically have the same features, some cars may also have different features. For example, each car has many features such as color, brand, model, year of production, horsepower, number of gears, etc. The color, brand, model, year of production, horsepower and number of gears of a Volvo brand car and a Doğan car can be defined with the same variables.\n",
    "\n",
    "Likewise, there are employees in a company. These employees show basic similarities with each other. Employee **class** has name, surname, date of birth, mother's name, father's name, duty and salary. The general manager, accountant, turner and data processor in the company also have the same characteristics.\n",
    "\n",
    "Let's code the above issue with the information we have learned so far;"
   ]
  },
  {
   "cell_type": "code",
   "execution_count": 1,
   "id": "interstate-hurricane",
   "metadata": {},
   "outputs": [],
   "source": [
    "ad1=\"Murat Uğur\"\n",
    "soyad1=\"KİRAZ\"\n",
    "doğum_tarihi1=\"1984\"\n",
    "anne_adi1=\"Mehtap\"\n",
    "baba_adi1=\"Mehmet\"\n",
    "gorevi1=\"Programcı\"\n",
    "maasi1=1000\n",
    "\n",
    "ad2=\"Mehmet\"\n",
    "soyad2=\"ÇALIŞKAN\"\n",
    "doğum_tarihi2=\"1994\"\n",
    "anne_adi2=\"Ayşe\"\n",
    "baba_adi2=\"Mahmut\"\n",
    "gorevi2=\"Genel Müdür\"\n",
    "maasi2=2000"
   ]
  },
  {
   "cell_type": "markdown",
   "id": "a2937869",
   "metadata": {
    "lang": "en"
   },
   "source": [
    "Unfortunately, we cannot create different variables for each employee. For this we need the concept of class.\n",
    "\n",
    "It is possible to write well-functioning codes without knowing or using object-oriented programming. But if you want to be a good programmer, it will be beneficial for you to learn object-oriented programming.\n",
    "\n",
    "Object-oriented programming approach is a widely used method in the field of program development. There are many codes around that are written using the object-oriented programming approach. In order to understand these codes, it is important to know and recognize object-oriented programming."
   ]
  }
 ],
 "metadata": {
  "kernelspec": {
   "display_name": "Python 3 (ipykernel)",
   "language": "python",
   "name": "python3"
  },
  "language_info": {
   "codemirror_mode": {
    "name": "ipython",
    "version": 3
   },
   "file_extension": ".py",
   "mimetype": "text/x-python",
   "name": "python",
   "nbconvert_exporter": "python",
   "pygments_lexer": "ipython3",
   "version": "3.11.5"
  },
  "nbTranslate": {
   "displayLangs": [
    "en",
    "tr"
   ],
   "hotkey": "alt-t",
   "langInMainMenu": true,
   "sourceLang": "tr",
   "targetLang": "en",
   "useGoogleTranslate": true
  }
 },
 "nbformat": 4,
 "nbformat_minor": 5
}

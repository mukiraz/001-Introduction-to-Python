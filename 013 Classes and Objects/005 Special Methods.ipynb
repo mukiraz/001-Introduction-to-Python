{
 "cells": [
  {
   "cell_type": "markdown",
   "id": "7e9e733f",
   "metadata": {
    "lang": "en"
   },
   "source": [
    "# Special Methods\n",
    "\n",
    "Private methods, as mentioned before, are methods that are not called specifically but belong to each class. **most** of these are defined by default by Python, even if they are not. However, some of these methods need to be **specifically defined**. The __init__ method seen previously is an example of these methods."
   ]
  },
  {
   "cell_type": "code",
   "execution_count": 3,
   "id": "acoustic-flour",
   "metadata": {},
   "outputs": [],
   "source": [
    "class Notebook():\n",
    "    pass"
   ]
  },
  {
   "cell_type": "code",
   "execution_count": 4,
   "id": "embedded-spouse",
   "metadata": {},
   "outputs": [],
   "source": [
    "notebook1 = Notebook()"
   ]
  },
  {
   "cell_type": "code",
   "execution_count": 6,
   "id": "bottom-chemical",
   "metadata": {},
   "outputs": [
    {
     "ename": "TypeError",
     "evalue": "object of type 'Notebook' has no len()",
     "output_type": "error",
     "traceback": [
      "\u001b[1;31m---------------------------------------------------------------------------\u001b[0m",
      "\u001b[1;31mTypeError\u001b[0m                                 Traceback (most recent call last)",
      "Cell \u001b[1;32mIn[6], line 1\u001b[0m\n\u001b[1;32m----> 1\u001b[0m \u001b[38;5;28mlen\u001b[39m(notebook1)\n",
      "\u001b[1;31mTypeError\u001b[0m: object of type 'Notebook' has no len()"
     ]
    }
   ],
   "source": [
    "len(notebook1) # The __len__ method cannot be called because it is not defined. We need to define this specifically."
   ]
  },
  {
   "cell_type": "code",
   "execution_count": 7,
   "id": "established-porcelain",
   "metadata": {},
   "outputs": [
    {
     "name": "stdout",
     "output_type": "stream",
     "text": [
      "<__main__.Notebook object at 0x0000024E17193C50>\n"
     ]
    }
   ],
   "source": [
    "print(notebook1) # __str__ method called"
   ]
  },
  {
   "cell_type": "code",
   "execution_count": 8,
   "id": "tender-heavy",
   "metadata": {},
   "outputs": [],
   "source": [
    "del notebook1 # The del keyword deletes an object and the __del__ method is called."
   ]
  },
  {
   "cell_type": "code",
   "execution_count": 9,
   "id": "aggregate-swing",
   "metadata": {},
   "outputs": [
    {
     "ename": "NameError",
     "evalue": "name 'notebook1' is not defined",
     "output_type": "error",
     "traceback": [
      "\u001b[1;31m---------------------------------------------------------------------------\u001b[0m",
      "\u001b[1;31mNameError\u001b[0m                                 Traceback (most recent call last)",
      "Cell \u001b[1;32mIn[9], line 1\u001b[0m\n\u001b[1;32m----> 1\u001b[0m notebook1\n",
      "\u001b[1;31mNameError\u001b[0m: name 'notebook1' is not defined"
     ]
    }
   ],
   "source": [
    "notebook1"
   ]
  },
  {
   "cell_type": "markdown",
   "id": "af777d8b",
   "metadata": {
    "lang": "en"
   },
   "source": [
    "## __init__ method\n",
    "\n",
    "If we define the init method ourselves, our own init function will now run."
   ]
  },
  {
   "cell_type": "code",
   "execution_count": 12,
   "id": "healthy-farming",
   "metadata": {},
   "outputs": [],
   "source": [
    "class Book():\n",
    "    def __init__(self, name, author, page_number, typ): \n",
    "        print(\"Book object is being created....\")\n",
    "        self.name = name\n",
    "        self.author = author\n",
    "        self.page_number = page_number\n",
    "        self.typ = typ\n",
    "        print(\"Book object was created....\")"
   ]
  },
  {
   "cell_type": "code",
   "execution_count": 13,
   "id": "correct-boston",
   "metadata": {},
   "outputs": [
    {
     "name": "stdout",
     "output_type": "stream",
     "text": [
      "Book object is being created....\n",
      "Book object was created....\n"
     ]
    }
   ],
   "source": [
    "book1 = Book(\"Benim Adım Kırmızı\",\"Orhan Pamuk\",356,\"Roman\") # Our own methodz "
   ]
  },
  {
   "cell_type": "markdown",
   "id": "9b7af607",
   "metadata": {
    "lang": "en"
   },
   "source": [
    "## __str__ method\n",
    "\n",
    "Normally, the **print(book1)** statement prints something like this on the screen."
   ]
  },
  {
   "cell_type": "code",
   "execution_count": 14,
   "id": "adjusted-checklist",
   "metadata": {},
   "outputs": [
    {
     "name": "stdout",
     "output_type": "stream",
     "text": [
      "<__main__.Book object at 0x0000024E17193C50>\n"
     ]
    }
   ],
   "source": [
    "print(book1)"
   ]
  },
  {
   "cell_type": "markdown",
   "id": "db027fb9",
   "metadata": {
    "lang": "en"
   },
   "source": [
    "However, if we define the __str__ method ourselves, we will be able to write the content of **book1** to the screen more clearly."
   ]
  },
  {
   "cell_type": "code",
   "execution_count": 15,
   "id": "suitable-following",
   "metadata": {},
   "outputs": [],
   "source": [
    "class Book():\n",
    "    def __init__(self, name, author, page_number, typ):        \n",
    "        self.name = name\n",
    "        self.author = author\n",
    "        self.page_number = page_number\n",
    "        self.typ = typ\n",
    "        \n",
    "    def __str__(self):\n",
    "        # We need to use return\n",
    "        return \"Name: {}\\Author: {}\\nPage number: {}\\nType: {}\".format(self.name, self.author, self.page_number, self.typ)"
   ]
  },
  {
   "cell_type": "code",
   "execution_count": 18,
   "id": "african-defendant",
   "metadata": {},
   "outputs": [
    {
     "name": "stdout",
     "output_type": "stream",
     "text": [
      "Book object is being created....\n",
      "Book object was created....\n",
      "Name: Benim Adım Kırmızı\\Author: Orhan Pamuk\n",
      "Page number: 356\n",
      "Type: Roman\n"
     ]
    }
   ],
   "source": [
    "book1 = Book(\"Benim Adım Kırmızı\",\"Orhan Pamuk\",356,\"Roman\")\n",
    "print(book1)"
   ]
  },
  {
   "cell_type": "markdown",
   "id": "0769a946",
   "metadata": {
    "lang": "en"
   },
   "source": [
    "## len method\n",
    "\n",
    "The len method is normally a method defined by the specific programmer."
   ]
  },
  {
   "cell_type": "code",
   "execution_count": 19,
   "id": "rubber-education",
   "metadata": {},
   "outputs": [
    {
     "ename": "TypeError",
     "evalue": "object of type 'Book' has no len()",
     "output_type": "error",
     "traceback": [
      "\u001b[1;31m---------------------------------------------------------------------------\u001b[0m",
      "\u001b[1;31mTypeError\u001b[0m                                 Traceback (most recent call last)",
      "Cell \u001b[1;32mIn[19], line 1\u001b[0m\n\u001b[1;32m----> 1\u001b[0m \u001b[38;5;28mlen\u001b[39m(book1)\n",
      "\u001b[1;31mTypeError\u001b[0m: object of type 'Book' has no len()"
     ]
    }
   ],
   "source": [
    "len(book1)"
   ]
  },
  {
   "cell_type": "code",
   "execution_count": 20,
   "id": "missing-china",
   "metadata": {},
   "outputs": [],
   "source": [
    "class Book():\n",
    "    def __init__(self, name, author, page_number, typ):        \n",
    "        self.name = name\n",
    "        self.author = author\n",
    "        self.page_number = page_number\n",
    "        self.typ = typ\n",
    "        \n",
    "    def __str__(self):\n",
    "        # We need to use return\n",
    "        return \"Name: {}\\Author: {}\\nPage number: {}\\nType: {}\".format(self.name, self.author, self.page_number, self.typ)\n",
    "    \n",
    "    def __len__(self):\n",
    "        return self.page_number"
   ]
  },
  {
   "cell_type": "code",
   "execution_count": 23,
   "id": "north-generation",
   "metadata": {},
   "outputs": [
    {
     "data": {
      "text/plain": [
       "356"
      ]
     },
     "execution_count": 23,
     "metadata": {},
     "output_type": "execute_result"
    }
   ],
   "source": [
    "book1 = Book(\"Benim Adım Kırmızı\",\"Orhan Pamuk\",356,\"Roman\")\n",
    "len(book1)"
   ]
  },
  {
   "cell_type": "markdown",
   "id": "78f17275",
   "metadata": {
    "lang": "en"
   },
   "source": [
    "## del method\n",
    "\n",
    "The del method is the method that is run when we delete an object in Python with the **del** keyword. We can add extra features by defining this method ourselves."
   ]
  },
  {
   "cell_type": "code",
   "execution_count": 27,
   "id": "periodic-mechanics",
   "metadata": {},
   "outputs": [],
   "source": [
    "book2 = Book(\"Inrealistic\",\"Arthur George\", 561, \"Action\")"
   ]
  },
  {
   "cell_type": "code",
   "execution_count": 28,
   "id": "drawn-subscriber",
   "metadata": {},
   "outputs": [],
   "source": [
    "del book2"
   ]
  },
  {
   "cell_type": "code",
   "execution_count": 29,
   "id": "electoral-installation",
   "metadata": {},
   "outputs": [
    {
     "ename": "NameError",
     "evalue": "name 'book2' is not defined",
     "output_type": "error",
     "traceback": [
      "\u001b[1;31m---------------------------------------------------------------------------\u001b[0m",
      "\u001b[1;31mNameError\u001b[0m                                 Traceback (most recent call last)",
      "Cell \u001b[1;32mIn[29], line 1\u001b[0m\n\u001b[1;32m----> 1\u001b[0m book2\n",
      "\u001b[1;31mNameError\u001b[0m: name 'book2' is not defined"
     ]
    }
   ],
   "source": [
    "book2"
   ]
  },
  {
   "cell_type": "code",
   "execution_count": 1,
   "id": "sought-kidney",
   "metadata": {},
   "outputs": [],
   "source": [
    "class Book():\n",
    "    def __init__(self, name, author, page_number, typ):        \n",
    "        self.name = name\n",
    "        self.author = author\n",
    "        self.page_number = page_number\n",
    "        self.typ = typ\n",
    "        \n",
    "    def __str__(self):\n",
    "        # We need to use return\n",
    "        return \"Name: {}\\nAuthor: {}\\nPage number: {}\\nType: {}\".format(self.name, self.author, self.page_number, self.typ)\n",
    "    \n",
    "    def __len__(self):\n",
    "        return self.page_number\n",
    "    \n",
    "    def __del__(self):\n",
    "        print(\"Book object deleted.......\")"
   ]
  },
  {
   "cell_type": "code",
   "execution_count": 2,
   "id": "minimal-danger",
   "metadata": {},
   "outputs": [],
   "source": [
    "book2 = Book(\"Inrealistic\",\"Arthur George\", 561, \"Action\")"
   ]
  },
  {
   "cell_type": "code",
   "execution_count": 3,
   "id": "therapeutic-library",
   "metadata": {},
   "outputs": [
    {
     "name": "stdout",
     "output_type": "stream",
     "text": [
      "Name: Inrealistic\n",
      "Author: Arthur George\n",
      "Page number: 561\n",
      "Type: Action\n"
     ]
    }
   ],
   "source": [
    "print(book2 )"
   ]
  },
  {
   "cell_type": "code",
   "execution_count": 34,
   "id": "suffering-companion",
   "metadata": {},
   "outputs": [
    {
     "name": "stdout",
     "output_type": "stream",
     "text": [
      "Book object deleted.......\n"
     ]
    }
   ],
   "source": [
    "del book2"
   ]
  },
  {
   "cell_type": "code",
   "execution_count": 35,
   "id": "ethical-result",
   "metadata": {
    "scrolled": true
   },
   "outputs": [
    {
     "ename": "NameError",
     "evalue": "name 'book2' is not defined",
     "output_type": "error",
     "traceback": [
      "\u001b[1;31m---------------------------------------------------------------------------\u001b[0m",
      "\u001b[1;31mNameError\u001b[0m                                 Traceback (most recent call last)",
      "Cell \u001b[1;32mIn[35], line 1\u001b[0m\n\u001b[1;32m----> 1\u001b[0m \u001b[38;5;28mprint\u001b[39m(book2)\n",
      "\u001b[1;31mNameError\u001b[0m: name 'book2' is not defined"
     ]
    }
   ],
   "source": [
    "print(book2)"
   ]
  }
 ],
 "metadata": {
  "kernelspec": {
   "display_name": "Python 3 (ipykernel)",
   "language": "python",
   "name": "python3"
  },
  "language_info": {
   "codemirror_mode": {
    "name": "ipython",
    "version": 3
   },
   "file_extension": ".py",
   "mimetype": "text/x-python",
   "name": "python",
   "nbconvert_exporter": "python",
   "pygments_lexer": "ipython3",
   "version": "3.11.5"
  },
  "nbTranslate": {
   "displayLangs": [
    "en",
    "tr"
   ],
   "hotkey": "alt-t",
   "langInMainMenu": true,
   "sourceLang": "tr",
   "targetLang": "en",
   "useGoogleTranslate": true
  }
 },
 "nbformat": 4,
 "nbformat_minor": 5
}

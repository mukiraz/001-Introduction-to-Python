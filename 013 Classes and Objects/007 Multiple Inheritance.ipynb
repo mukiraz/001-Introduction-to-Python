{
 "cells": [
  {
   "cell_type": "markdown",
   "id": "6706a246",
   "metadata": {},
   "source": [
    "# Multiple Inheritance\n",
    "\n",
    "Multiple inheritance in Python refers to a feature where a class can inherit attributes and methods from more than one base class. This means that a new class can be derived by inheriting from multiple parent classes. Python supports multiple inheritance, and it can be a powerful tool when used carefully, allowing a class to inherit and combine features from different classes.\n",
    "\n",
    "Here's a basic example to illustrate multiple inheritance:"
   ]
  },
  {
   "cell_type": "code",
   "execution_count": 1,
   "id": "842f9ab0",
   "metadata": {},
   "outputs": [
    {
     "name": "stdout",
     "output_type": "stream",
     "text": [
      "Method from ClassA\n",
      "Method from ClassB\n",
      "Method from ClassC\n"
     ]
    }
   ],
   "source": [
    "class ClassA:\n",
    "    def method_A(self):\n",
    "        print(\"Method from ClassA\")\n",
    "\n",
    "class ClassB:\n",
    "    def method_B(self):\n",
    "        print(\"Method from ClassB\")\n",
    "\n",
    "class ClassC(ClassA, ClassB):\n",
    "    def method_C(self):\n",
    "        print(\"Method from ClassC\")\n",
    "\n",
    "# Creating an instance of ClassC\n",
    "obj_C = ClassC()\n",
    "\n",
    "# Accessing methods from multiple parent classes\n",
    "obj_C.method_A()  # Output: Method from ClassA\n",
    "obj_C.method_B()  # Output: Method from ClassB\n",
    "obj_C.method_C()  # Output: Method from ClassC"
   ]
  },
  {
   "cell_type": "markdown",
   "id": "0fa8efb6",
   "metadata": {},
   "source": [
    "In this example, **ClassC** is derived from both **ClassA** and **ClassB**. As a result, an object of **ClassC** can access methods from both **ClassA** and **ClassB**. This demonstrates the basic idea of multiple inheritance.\n",
    "\n",
    "However, multiple inheritance can lead to challenges such as the diamond problem, where the same method is inherited from multiple paths in the inheritance hierarchy. Python provides a mechanism called method resolution order (MRO) to determine the order in which base classes are considered when looking for a method in a derived class. The **super()** function can be used to call methods from the parent classes in a way that respects the MRO.\n",
    "\n",
    "It's important to use multiple inheritance judiciously, considering code readability, potential conflicts, and the principle of favoring composition over inheritance when designing complex systems.\n",
    "\n",
    "\n",
    "\n",
    "\n"
   ]
  }
 ],
 "metadata": {
  "kernelspec": {
   "display_name": "Python 3 (ipykernel)",
   "language": "python",
   "name": "python3"
  },
  "language_info": {
   "codemirror_mode": {
    "name": "ipython",
    "version": 3
   },
   "file_extension": ".py",
   "mimetype": "text/x-python",
   "name": "python",
   "nbconvert_exporter": "python",
   "pygments_lexer": "ipython3",
   "version": "3.11.5"
  },
  "nbTranslate": {
   "displayLangs": [
    "en",
    "tr"
   ],
   "hotkey": "alt-t",
   "langInMainMenu": true,
   "sourceLang": "tr",
   "targetLang": "en",
   "useGoogleTranslate": true
  }
 },
 "nbformat": 4,
 "nbformat_minor": 5
}

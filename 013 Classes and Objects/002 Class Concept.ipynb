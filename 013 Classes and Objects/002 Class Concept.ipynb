{
 "cells": [
  {
   "cell_type": "markdown",
   "id": "a1f1c5c0",
   "metadata": {
    "lang": "en"
   },
   "source": [
    "# Concept of Class\n",
    "\n",
    "In our previous lessons, we saw that every entity in Python is an object and that these objects have ID numbers and that these ID numbers can be displayed with the id() function.\n",
    "\n",
    "We will be able to create our own objects in Python with classes.\n",
    "\n",
    "We use the \"class\" keyword to create our own data types and produce objects from these data types.\n",
    "\n",
    "**Classes or Classes** is a structure in which we define the properties and methods of our objects while creating them, and we produce each object according to this structure.\n",
    "\n",
    "Let's create a person data type."
   ]
  },
  {
   "cell_type": "code",
   "execution_count": 1,
   "id": "continuous-engineering",
   "metadata": {},
   "outputs": [],
   "source": [
    "class Person():\n",
    "    name = \"Mehmet\"\n",
    "    surname = \"ÇALIŞKAN\"\n",
    "    departmant = \"IT\"\n",
    "    salary = 1000    "
   ]
  },
  {
   "cell_type": "markdown",
   "id": "633d98f4",
   "metadata": {
    "lang": "en"
   },
   "source": [
    "We created our ideal object by defining the person class. Now we will derive new objects from this ideal object. We can do this this way.\n",
    "\n",
    "**-------------------------------------------------- -------------------------------------------------- ----------------------------**\n",
    "\n",
    "         object_name = Class_Name(parameters(optional))\n",
    "         \n",
    "**-------------------------------------------------- -------------------------------------------------- ----------------------------**"
   ]
  },
  {
   "cell_type": "code",
   "execution_count": 2,
   "id": "musical-spoke",
   "metadata": {},
   "outputs": [],
   "source": [
    "mehmet = Person() # We created a \"mehmet\" object from the person data type."
   ]
  },
  {
   "cell_type": "code",
   "execution_count": 3,
   "id": "handed-tobacco",
   "metadata": {},
   "outputs": [
    {
     "data": {
      "text/plain": [
       "<__main__.Person at 0x184f8f68f10>"
      ]
     },
     "execution_count": 3,
     "metadata": {},
     "output_type": "execute_result"
    }
   ],
   "source": [
    "mehmet # The data type of our object is Person"
   ]
  },
  {
   "cell_type": "markdown",
   "id": "247b0ed3",
   "metadata": {
    "lang": "en"
   },
   "source": [
    "The **mehmet** object now has all the attributes we defined in the class. We can see the attributes of this object as follows.\n",
    "\n",
    "**---------------------------------------------------------------------------------------------------- --------------------------**\n",
    "\n",
    "            object_name.property_name\n",
    "**---------------------------------------------------------------------------------------------------- --------------------------**"
   ]
  },
  {
   "cell_type": "code",
   "execution_count": 6,
   "id": "induced-great",
   "metadata": {},
   "outputs": [
    {
     "data": {
      "text/plain": [
       "'Mehmet'"
      ]
     },
     "execution_count": 6,
     "metadata": {},
     "output_type": "execute_result"
    }
   ],
   "source": [
    "mehmet.name"
   ]
  },
  {
   "cell_type": "code",
   "execution_count": 7,
   "id": "rising-comparison",
   "metadata": {},
   "outputs": [
    {
     "data": {
      "text/plain": [
       "'IT'"
      ]
     },
     "execution_count": 7,
     "metadata": {},
     "output_type": "execute_result"
    }
   ],
   "source": [
    "mehmet.departmant"
   ]
  },
  {
   "cell_type": "code",
   "execution_count": 8,
   "id": "wound-terrorist",
   "metadata": {},
   "outputs": [
    {
     "data": {
      "text/plain": [
       "1000"
      ]
     },
     "execution_count": 8,
     "metadata": {},
     "output_type": "execute_result"
    }
   ],
   "source": [
    "mehmet.salary"
   ]
  },
  {
   "cell_type": "code",
   "execution_count": 9,
   "id": "naval-enemy",
   "metadata": {},
   "outputs": [
    {
     "data": {
      "text/plain": [
       "'ÇALIŞKAN'"
      ]
     },
     "execution_count": 9,
     "metadata": {},
     "output_type": "execute_result"
    }
   ],
   "source": [
    "mehmet.surname"
   ]
  },
  {
   "cell_type": "markdown",
   "id": "25afd09b",
   "metadata": {
    "lang": "en"
   },
   "source": [
    "Now let's create the person \"Ahmet\""
   ]
  },
  {
   "cell_type": "code",
   "execution_count": 10,
   "id": "crucial-tulsa",
   "metadata": {},
   "outputs": [],
   "source": [
    "ahmet = Person()"
   ]
  },
  {
   "cell_type": "code",
   "execution_count": 11,
   "id": "serial-occupation",
   "metadata": {},
   "outputs": [
    {
     "data": {
      "text/plain": [
       "'Mehmet'"
      ]
     },
     "execution_count": 11,
     "metadata": {},
     "output_type": "execute_result"
    }
   ],
   "source": [
    "ahmet.name"
   ]
  },
  {
   "cell_type": "code",
   "execution_count": 12,
   "id": "aging-friend",
   "metadata": {},
   "outputs": [
    {
     "data": {
      "text/plain": [
       "'IT'"
      ]
     },
     "execution_count": 12,
     "metadata": {},
     "output_type": "execute_result"
    }
   ],
   "source": [
    "ahmet.departmant"
   ]
  },
  {
   "cell_type": "code",
   "execution_count": 13,
   "id": "familiar-stewart",
   "metadata": {},
   "outputs": [
    {
     "data": {
      "text/plain": [
       "1000"
      ]
     },
     "execution_count": 13,
     "metadata": {},
     "output_type": "execute_result"
    }
   ],
   "source": [
    "ahmet.salary"
   ]
  },
  {
   "cell_type": "code",
   "execution_count": 14,
   "id": "adequate-turning",
   "metadata": {},
   "outputs": [
    {
     "data": {
      "text/plain": [
       "'ÇALIŞKAN'"
      ]
     },
     "execution_count": 14,
     "metadata": {},
     "output_type": "execute_result"
    }
   ],
   "source": [
    "ahmet.surname"
   ]
  },
  {
   "cell_type": "markdown",
   "id": "317537b1",
   "metadata": {
    "lang": "en"
   },
   "source": [
    "Here, the properties of the Ahmet and Mehmet objects are the same. Because in fact, the **features** we define here are each class **features.** In other words, when we create an object, the values ​​of these features come by default. We can access the values ​​of these properties without creating any <**>object. We can do this this way."
   ]
  },
  {
   "cell_type": "code",
   "execution_count": 15,
   "id": "instrumental-situation",
   "metadata": {},
   "outputs": [
    {
     "data": {
      "text/plain": [
       "'Mehmet'"
      ]
     },
     "execution_count": 15,
     "metadata": {},
     "output_type": "execute_result"
    }
   ],
   "source": [
    "Person.name"
   ]
  },
  {
   "cell_type": "code",
   "execution_count": 16,
   "id": "logical-jimmy",
   "metadata": {},
   "outputs": [
    {
     "data": {
      "text/plain": [
       "'IT'"
      ]
     },
     "execution_count": 16,
     "metadata": {},
     "output_type": "execute_result"
    }
   ],
   "source": [
    "Person.departmant"
   ]
  },
  {
   "cell_type": "markdown",
   "id": "bb6a2ecf",
   "metadata": {
    "lang": "en"
   },
   "source": [
    "We could not create a new contact with the above method. Now let's try to assign these values.;"
   ]
  },
  {
   "cell_type": "code",
   "execution_count": 17,
   "id": "accessible-commercial",
   "metadata": {},
   "outputs": [],
   "source": [
    "ahmet.name = \"Ahmet\""
   ]
  },
  {
   "cell_type": "markdown",
   "id": "0795f3c0",
   "metadata": {
    "lang": "en"
   },
   "source": [
    "Now let's look at Mehmet's name."
   ]
  },
  {
   "cell_type": "code",
   "execution_count": 18,
   "id": "innovative-george",
   "metadata": {},
   "outputs": [
    {
     "data": {
      "text/plain": [
       "'Mehmet'"
      ]
     },
     "execution_count": 18,
     "metadata": {},
     "output_type": "execute_result"
    }
   ],
   "source": [
    "mehmet.name"
   ]
  },
  {
   "cell_type": "code",
   "execution_count": 19,
   "id": "unable-praise",
   "metadata": {},
   "outputs": [
    {
     "data": {
      "text/plain": [
       "'Ahmet'"
      ]
     },
     "execution_count": 19,
     "metadata": {},
     "output_type": "execute_result"
    }
   ],
   "source": [
    "ahmet.name"
   ]
  },
  {
   "cell_type": "markdown",
   "id": "a2c9c303",
   "metadata": {
    "lang": "en"
   },
   "source": [
    "These two features have received different names. In other words, we will be able to produce as many people as we want with a single Person class."
   ]
  },
  {
   "cell_type": "code",
   "execution_count": 29,
   "id": "clinical-lighting",
   "metadata": {},
   "outputs": [
    {
     "name": "stdout",
     "output_type": "stream",
     "text": [
      "init function worked\n"
     ]
    }
   ],
   "source": [
    "ali = Person()\n",
    "ali.name = \"Ali\"\n",
    "ali.departmant = \"Muhasebe\"\n",
    "ali.salary = 1000\n",
    "ali.surname = \"ÇELİK\""
   ]
  },
  {
   "cell_type": "code",
   "execution_count": 30,
   "id": "palestinian-sympathy",
   "metadata": {},
   "outputs": [
    {
     "data": {
      "text/plain": [
       "'Ali'"
      ]
     },
     "execution_count": 30,
     "metadata": {},
     "output_type": "execute_result"
    }
   ],
   "source": [
    "ali.name"
   ]
  },
  {
   "cell_type": "code",
   "execution_count": 31,
   "id": "antique-shadow",
   "metadata": {},
   "outputs": [
    {
     "data": {
      "text/plain": [
       "'Muhasebe'"
      ]
     },
     "execution_count": 31,
     "metadata": {},
     "output_type": "execute_result"
    }
   ],
   "source": [
    "ali.departmant"
   ]
  },
  {
   "cell_type": "code",
   "execution_count": 32,
   "id": "talented-edwards",
   "metadata": {},
   "outputs": [
    {
     "data": {
      "text/plain": [
       "1000"
      ]
     },
     "execution_count": 32,
     "metadata": {},
     "output_type": "execute_result"
    }
   ],
   "source": [
    "ali.salary"
   ]
  },
  {
   "cell_type": "code",
   "execution_count": 33,
   "id": "buried-newfoundland",
   "metadata": {},
   "outputs": [
    {
     "data": {
      "text/plain": [
       "'ÇELİK'"
      ]
     },
     "execution_count": 33,
     "metadata": {},
     "output_type": "execute_result"
    }
   ],
   "source": [
    "ali.surname"
   ]
  },
  {
   "cell_type": "markdown",
   "id": "76eabce2",
   "metadata": {
    "lang": "en"
   },
   "source": [
    "But there is a problem here. Even though I derived a class, we need to send the values of the objects when creating each object so that we can create each object with different values at the beginning. For this, we need to use the __init__ method.\n",
    "\n",
    "So what does this method mean? If you want, let's first see what is in our **Person** object with the help of the <**>*dir()<**>* function."
   ]
  },
  {
   "cell_type": "code",
   "execution_count": 23,
   "id": "advanced-final",
   "metadata": {},
   "outputs": [
    {
     "data": {
      "text/plain": [
       "['__class__',\n",
       " '__delattr__',\n",
       " '__dict__',\n",
       " '__dir__',\n",
       " '__doc__',\n",
       " '__eq__',\n",
       " '__format__',\n",
       " '__ge__',\n",
       " '__getattribute__',\n",
       " '__gt__',\n",
       " '__hash__',\n",
       " '__init__',\n",
       " '__init_subclass__',\n",
       " '__le__',\n",
       " '__lt__',\n",
       " '__module__',\n",
       " '__ne__',\n",
       " '__new__',\n",
       " '__reduce__',\n",
       " '__reduce_ex__',\n",
       " '__repr__',\n",
       " '__setattr__',\n",
       " '__sizeof__',\n",
       " '__str__',\n",
       " '__subclasshook__',\n",
       " '__weakref__',\n",
       " 'adi',\n",
       " 'departman',\n",
       " 'maasi',\n",
       " 'soyadi']"
      ]
     },
     "execution_count": 23,
     "metadata": {},
     "output_type": "execute_result"
    }
   ],
   "source": [
    "dir(Person)"
   ]
  },
  {
   "cell_type": "markdown",
   "id": "3c9e1b26",
   "metadata": {
    "lang": "en"
   },
   "source": [
    "Here we see all the properties and methods of our object. However, we did not define any method. The methods here are specially defined by Python when an object is created, and if we do not specifically define them, Python itself defines them by default. Here we also see the **init** method. If we define this method ourselves, we can initialize our objects with different values.\n",
    "\n",
    "\n",
    "In fact, the **init** method is defined as **constructor function** in Python. This method **is the first function that is automatically called when our objects are created.** By defining this method specifically, we can create our objects with different values.\n",
    "\n",
    "**Important** functions used within classes are called \"methods\"."
   ]
  },
  {
   "cell_type": "code",
   "execution_count": 27,
   "id": "biological-twenty",
   "metadata": {},
   "outputs": [],
   "source": [
    "class Person():\n",
    "    def __init__(self):\n",
    "        print(\"init function worked\")"
   ]
  },
  {
   "cell_type": "code",
   "execution_count": 34,
   "id": "generous-session",
   "metadata": {},
   "outputs": [
    {
     "name": "stdout",
     "output_type": "stream",
     "text": [
      "init function worked\n"
     ]
    }
   ],
   "source": [
    "mehmet = Person()"
   ]
  },
  {
   "cell_type": "markdown",
   "id": "d4774fe8",
   "metadata": {
    "lang": "en"
   },
   "source": [
    "So what does **self** mean here? The **self** keyword is a reference to the object when we create it, and it is a parameter that must be included first in our methods. In other words, we can use all the properties and methods of an object through this reference.\n",
    "\n",
    "**When objects are created, Python automatically sends this reference to the methods. We don't need to send the self reference specifically.**\n",
    "\n",
    "\n",
    "**Let's add properties to our objects to better understand the init method and self**."
   ]
  },
  {
   "cell_type": "code",
   "execution_count": 35,
   "id": "advanced-produce",
   "metadata": {},
   "outputs": [
    {
     "name": "stdout",
     "output_type": "stream",
     "text": [
      "init function worked\n"
     ]
    }
   ],
   "source": [
    "class Person():\n",
    "    def __init__(self, adi, soyadi, departman, maasi):\n",
    "        print(\"init function worked\")\n",
    "        self.name = adi\n",
    "        self.surname = soyadi\n",
    "        self.departmant = departman\n",
    "        self.salary = maasi\n",
    "        \n",
    "        \n",
    "ali = Person(\"Ali\", \"TÜRKOĞLU\", \"İK\", 1000)"
   ]
  }
 ],
 "metadata": {
  "kernelspec": {
   "display_name": "Python 3 (ipykernel)",
   "language": "python",
   "name": "python3"
  },
  "language_info": {
   "codemirror_mode": {
    "name": "ipython",
    "version": 3
   },
   "file_extension": ".py",
   "mimetype": "text/x-python",
   "name": "python",
   "nbconvert_exporter": "python",
   "pygments_lexer": "ipython3",
   "version": "3.11.5"
  },
  "nbTranslate": {
   "displayLangs": [
    "en",
    "tr"
   ],
   "hotkey": "alt-t",
   "langInMainMenu": true,
   "sourceLang": "tr",
   "targetLang": "en",
   "useGoogleTranslate": true
  }
 },
 "nbformat": 4,
 "nbformat_minor": 5
}

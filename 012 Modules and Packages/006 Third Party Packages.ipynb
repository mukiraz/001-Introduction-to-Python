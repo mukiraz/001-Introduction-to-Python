{
 "cells": [
  {
   "cell_type": "markdown",
   "id": "3a0b6c7f",
   "metadata": {
    "lang": "en"
   },
   "source": [
    "# Third Party Packages\n",
    "\n",
    "Since Python is an open source software, we can add modules and packages made by other people to our projects. These modules and packages are available on github or in python's own remote repo.\n",
    "\n",
    "To add modules, a .py file can be added directly to the folder where the project is located.\n",
    "\n",
    "However, if the packages in the remote repo are to be retrieved, the \"pip\" software must be installed first. Afterwards, the relevant package is downloaded via pip.\n",
    "\n",
    "In Anaconda software, this is done with the conda keyword instead of pip."
   ]
  }
 ],
 "metadata": {
  "kernelspec": {
   "display_name": "Python 3 (ipykernel)",
   "language": "python",
   "name": "python3"
  },
  "language_info": {
   "codemirror_mode": {
    "name": "ipython",
    "version": 3
   },
   "file_extension": ".py",
   "mimetype": "text/x-python",
   "name": "python",
   "nbconvert_exporter": "python",
   "pygments_lexer": "ipython3",
   "version": "3.11.5"
  },
  "nbTranslate": {
   "displayLangs": [
    "en",
    "tr"
   ],
   "hotkey": "alt-t",
   "langInMainMenu": true,
   "sourceLang": "tr",
   "targetLang": "en",
   "useGoogleTranslate": true
  }
 },
 "nbformat": 4,
 "nbformat_minor": 5
}

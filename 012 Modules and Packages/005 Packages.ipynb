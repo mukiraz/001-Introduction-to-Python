{
 "cells": [
  {
   "cell_type": "markdown",
   "id": "fbe4e448",
   "metadata": {
    "lang": "en"
   },
   "source": [
    "# Packets\n",
    "\n",
    "A package consists of multiple Python modules and may even include libraries written in C or C++.\n",
    "Instead of being a single file, it is an entire folder structure.\n",
    "\n",
    "Again, the package folder has been added to the folder where this jupyter file is located.\n",
    "\n",
    "The \"package\" folder contains the modules cats.py, dogs.pi, keci.py, and insan.py. The folder structure is given below."
   ]
  },
  {
   "cell_type": "raw",
   "id": "missing-basin",
   "metadata": {},
   "source": [
    "/ package\n",
    "|--cat.py\n",
    "|      def meaw():\n",
    "|          print(\"Meaw...\")\n",
    "|--dog.py\n",
    "|      def bark():\n",
    "|          print(\"bark bark bark\")\n",
    "|--goat.py\n",
    "|      def yell():\n",
    "|          print(\"Mmmmmeeeeee\")\n",
    "|--human.py\n",
    "|      def greet():\n",
    "|          print(\"Hello\")"
   ]
  },
  {
   "cell_type": "markdown",
   "id": "77f43046",
   "metadata": {
    "lang": "en"
   },
   "source": [
    "Now let's access the rewards in the package."
   ]
  },
  {
   "cell_type": "code",
   "execution_count": 1,
   "id": "friendly-refund",
   "metadata": {},
   "outputs": [],
   "source": [
    "from package import dog\n",
    "from package.cat import meaw"
   ]
  },
  {
   "cell_type": "code",
   "execution_count": 2,
   "id": "enabling-miami",
   "metadata": {},
   "outputs": [
    {
     "name": "stdout",
     "output_type": "stream",
     "text": [
      "bark bark bark\n"
     ]
    }
   ],
   "source": [
    "dog.bark()"
   ]
  },
  {
   "cell_type": "code",
   "execution_count": 3,
   "id": "partial-toyota",
   "metadata": {},
   "outputs": [
    {
     "name": "stdout",
     "output_type": "stream",
     "text": [
      "Meaw...\n"
     ]
    }
   ],
   "source": [
    "meaw()"
   ]
  },
  {
   "cell_type": "code",
   "execution_count": 4,
   "id": "recorded-error",
   "metadata": {},
   "outputs": [
    {
     "data": {
      "text/plain": [
       "['__builtins__',\n",
       " '__cached__',\n",
       " '__doc__',\n",
       " '__file__',\n",
       " '__loader__',\n",
       " '__name__',\n",
       " '__package__',\n",
       " '__spec__',\n",
       " 'bark']"
      ]
     },
     "execution_count": 4,
     "metadata": {},
     "output_type": "execute_result"
    }
   ],
   "source": [
    "dir(dog)"
   ]
  },
  {
   "cell_type": "code",
   "execution_count": null,
   "id": "17345929",
   "metadata": {},
   "outputs": [],
   "source": []
  }
 ],
 "metadata": {
  "kernelspec": {
   "display_name": "Python 3 (ipykernel)",
   "language": "python",
   "name": "python3"
  },
  "language_info": {
   "codemirror_mode": {
    "name": "ipython",
    "version": 3
   },
   "file_extension": ".py",
   "mimetype": "text/x-python",
   "name": "python",
   "nbconvert_exporter": "python",
   "pygments_lexer": "ipython3",
   "version": "3.11.5"
  },
  "nbTranslate": {
   "displayLangs": [
    "tr"
   ],
   "hotkey": "alt-t",
   "langInMainMenu": true,
   "sourceLang": "tr",
   "targetLang": "en",
   "useGoogleTranslate": true
  }
 },
 "nbformat": 4,
 "nbformat_minor": 5
}

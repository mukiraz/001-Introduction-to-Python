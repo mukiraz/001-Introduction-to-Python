{
 "cells": [
  {
   "cell_type": "markdown",
   "id": "872143ca",
   "metadata": {
    "lang": "en"
   },
   "source": [
    "# User Defined Modules\n",
    "\n",
    "User-defined modules are modules that we write ourselves. To create our own modules we must follow the following steps:\n",
    "\n",
    "1. Any folder is created. The module we will use and our main program should be in this folder.\n",
    "2. The module file is created, functions and other parameters are written into it.\n",
    "3. The main python file is created and the module file is imported into this file.\n",
    "4. The actual file is run.\n",
    "\n",
    "**Important** In order to use a module we wrote from anywhere, we need to put the module file under the folder where Python is running. Thus, we can use this module in every file, just like the **math** module.\n",
    "\n",
    "A module named fibo.py has been created in the folder where this jupyter file is located. The content of the module is below."
   ]
  },
  {
   "cell_type": "raw",
   "id": "mobile-opening",
   "metadata": {},
   "source": [
    "def fib(n):    # write Fibonacci series up to n\n",
    "    a, b = 0, 1\n",
    "    while a < n:\n",
    "        print(a, end=' ')\n",
    "        a, b = b, a+b\n",
    "    print()\n",
    "\n",
    "def fib2(n):   # return Fibonacci series up to n\n",
    "    result = []\n",
    "    a, b = 0, 1\n",
    "    while a < n:\n",
    "        result.append(a)\n",
    "        a, b = b, a+b\n",
    "    return result"
   ]
  },
  {
   "cell_type": "markdown",
   "id": "c63756e6",
   "metadata": {
    "lang": "en"
   },
   "source": [
    "Let's add the module to the project with our import keyword."
   ]
  },
  {
   "cell_type": "code",
   "execution_count": 1,
   "id": "removable-darwin",
   "metadata": {},
   "outputs": [],
   "source": [
    "import fibo"
   ]
  },
  {
   "cell_type": "markdown",
   "id": "1fba97fe",
   "metadata": {
    "lang": "en"
   },
   "source": [
    "Let's print the Fibonacci series of the first 20 numbers"
   ]
  },
  {
   "cell_type": "code",
   "execution_count": 2,
   "id": "dedicated-superior",
   "metadata": {
    "scrolled": true
   },
   "outputs": [
    {
     "data": {
      "text/plain": [
       "[0, 1, 1, 2, 3, 5, 8, 13]"
      ]
     },
     "execution_count": 2,
     "metadata": {},
     "output_type": "execute_result"
    }
   ],
   "source": [
    "fibo.fib2(20)"
   ]
  },
  {
   "cell_type": "markdown",
   "id": "5b96315d",
   "metadata": {
    "lang": "en"
   },
   "source": [
    "Let's see what names exist with the dir() function."
   ]
  },
  {
   "cell_type": "code",
   "execution_count": 3,
   "id": "colonial-madrid",
   "metadata": {
    "scrolled": true
   },
   "outputs": [
    {
     "data": {
      "text/plain": [
       "['__builtins__',\n",
       " '__cached__',\n",
       " '__doc__',\n",
       " '__file__',\n",
       " '__loader__',\n",
       " '__name__',\n",
       " '__package__',\n",
       " '__spec__',\n",
       " 'fib',\n",
       " 'fib2']"
      ]
     },
     "execution_count": 3,
     "metadata": {},
     "output_type": "execute_result"
    }
   ],
   "source": [
    "dir(fibo)"
   ]
  },
  {
   "cell_type": "markdown",
   "id": "07d52a0d",
   "metadata": {
    "lang": "en"
   },
   "source": [
    "with help function"
   ]
  },
  {
   "cell_type": "code",
   "execution_count": null,
   "id": "f16159db",
   "metadata": {},
   "outputs": [],
   "source": [
    "help(fibo)"
   ]
  },
  {
   "cell_type": "markdown",
   "id": "e3d04108",
   "metadata": {
    "lang": "en"
   },
   "source": [
    "Again, if we want, we can only include certain functions in our project."
   ]
  },
  {
   "cell_type": "code",
   "execution_count": 5,
   "id": "sophisticated-reporter",
   "metadata": {},
   "outputs": [],
   "source": [
    "from fibo import fib"
   ]
  },
  {
   "cell_type": "code",
   "execution_count": 10,
   "id": "august-newspaper",
   "metadata": {},
   "outputs": [
    {
     "name": "stdout",
     "output_type": "stream",
     "text": [
      "0 1 1 2 3 5 8 13 21 34 55 89 144 233 377 \n"
     ]
    }
   ],
   "source": [
    "fibo.fib(500)"
   ]
  }
 ],
 "metadata": {
  "kernelspec": {
   "display_name": "Python 3 (ipykernel)",
   "language": "python",
   "name": "python3"
  },
  "language_info": {
   "codemirror_mode": {
    "name": "ipython",
    "version": 3
   },
   "file_extension": ".py",
   "mimetype": "text/x-python",
   "name": "python",
   "nbconvert_exporter": "python",
   "pygments_lexer": "ipython3",
   "version": "3.11.5"
  },
  "nbTranslate": {
   "displayLangs": [],
   "hotkey": "alt-t",
   "langInMainMenu": true,
   "sourceLang": "tr",
   "targetLang": "en",
   "useGoogleTranslate": true
  }
 },
 "nbformat": 4,
 "nbformat_minor": 5
}
